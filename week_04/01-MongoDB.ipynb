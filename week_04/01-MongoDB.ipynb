{
 "cells": [
  {
   "cell_type": "markdown",
   "id": "mighty-crowd",
   "metadata": {},
   "source": [
    "# MongoDB"
   ]
  },
  {
   "cell_type": "markdown",
   "id": "incoming-mortgage",
   "metadata": {},
   "source": [
    "![memesmongo](../images/mongo.png)"
   ]
  },
  {
   "cell_type": "markdown",
   "id": "greatest-neighborhood",
   "metadata": {
    "toc": true
   },
   "source": [
    "<h1>Table of Contents<span class=\"tocSkip\"></span></h1>\n",
    "<div class=\"toc\"><ul class=\"toc-item\"><li><span><a href=\"#¿Qué-es-MongoDB?\" data-toc-modified-id=\"¿Qué-es-MongoDB?-1\"><span class=\"toc-item-num\">1&nbsp;&nbsp;</span>¿Qué es MongoDB?</a></span></li><li><span><a href=\"#¿Qué-es-la-base-de-datos-MongoDB?\" data-toc-modified-id=\"¿Qué-es-la-base-de-datos-MongoDB?-2\"><span class=\"toc-item-num\">2&nbsp;&nbsp;</span>¿Qué es la base de datos MongoDB?</a></span><ul class=\"toc-item\"><li><span><a href=\"#Pequeña-explicación-animada-🤔\" data-toc-modified-id=\"Pequeña-explicación-animada-🤔-2.1\"><span class=\"toc-item-num\">2.1&nbsp;&nbsp;</span>Pequeña explicación animada 🤔</a></span></li></ul></li><li><span><a href=\"#Instalaciones\" data-toc-modified-id=\"Instalaciones-3\"><span class=\"toc-item-num\">3&nbsp;&nbsp;</span>Instalaciones</a></span></li><li><span><a href=\"#Creación-de-bases-de-datos\" data-toc-modified-id=\"Creación-de-bases-de-datos-4\"><span class=\"toc-item-num\">4&nbsp;&nbsp;</span>Creación de bases de datos</a></span></li><li><span><a href=\"#Conexión-con-Python\" data-toc-modified-id=\"Conexión-con-Python-5\"><span class=\"toc-item-num\">5&nbsp;&nbsp;</span>Conexión con Python</a></span><ul class=\"toc-item\"><li><span><a href=\"#Nos-conectamos-al-servidor\" data-toc-modified-id=\"Nos-conectamos-al-servidor-5.1\"><span class=\"toc-item-num\">5.1&nbsp;&nbsp;</span>Nos conectamos al servidor</a></span></li><li><span><a href=\"#Nos-conectamos-con-la-base-de-datos\" data-toc-modified-id=\"Nos-conectamos-con-la-base-de-datos-5.2\"><span class=\"toc-item-num\">5.2&nbsp;&nbsp;</span>Nos conectamos con la base de datos</a></span></li></ul></li><li><span><a href=\"#Operaciones-básicas-de-gestión-de-bases-de-datos\" data-toc-modified-id=\"Operaciones-básicas-de-gestión-de-bases-de-datos-6\"><span class=\"toc-item-num\">6&nbsp;&nbsp;</span>Operaciones básicas de gestión de bases de datos</a></span><ul class=\"toc-item\"><li><span><a href=\"#Creamos-y-borramos-colecciones-desde-python\" data-toc-modified-id=\"Creamos-y-borramos-colecciones-desde-python-6.1\"><span class=\"toc-item-num\">6.1&nbsp;&nbsp;</span>Creamos y borramos colecciones desde python</a></span></li><li><span><a href=\"#Nos-conectamos-a-una-colección-en-concreto-para-hacer-las-consultas\" data-toc-modified-id=\"Nos-conectamos-a-una-colección-en-concreto-para-hacer-las-consultas-6.2\"><span class=\"toc-item-num\">6.2&nbsp;&nbsp;</span>Nos conectamos a una colección en concreto para hacer las consultas</a></span></li></ul></li><li><span><a href=\"#Consultas-en-Mongo\" data-toc-modified-id=\"Consultas-en-Mongo-7\"><span class=\"toc-item-num\">7&nbsp;&nbsp;</span>Consultas en Mongo</a></span><ul class=\"toc-item\"><li><span><a href=\"#Método-find_one\" data-toc-modified-id=\"Método-find_one-7.1\"><span class=\"toc-item-num\">7.1&nbsp;&nbsp;</span>Método <code>find_one</code></a></span></li><li><span><a href=\"#Método-find\" data-toc-modified-id=\"Método-find-7.2\"><span class=\"toc-item-num\">7.2&nbsp;&nbsp;</span>Método <code>find</code></a></span></li></ul></li><li><span><a href=\"#Proyección\" data-toc-modified-id=\"Proyección-8\"><span class=\"toc-item-num\">8&nbsp;&nbsp;</span>Proyección</a></span></li><li><span><a href=\"#Otros-métodos\" data-toc-modified-id=\"Otros-métodos-9\"><span class=\"toc-item-num\">9&nbsp;&nbsp;</span>Otros métodos</a></span><ul class=\"toc-item\"><li><span><a href=\"#distinct\" data-toc-modified-id=\"distinct-9.1\"><span class=\"toc-item-num\">9.1&nbsp;&nbsp;</span><code>distinct</code></a></span></li><li><span><a href=\"#count\" data-toc-modified-id=\"count-9.2\"><span class=\"toc-item-num\">9.2&nbsp;&nbsp;</span><code>count</code></a></span></li><li><span><a href=\"#sort\" data-toc-modified-id=\"sort-9.3\"><span class=\"toc-item-num\">9.3&nbsp;&nbsp;</span><code>sort</code></a></span></li><li><span><a href=\"#limit\" data-toc-modified-id=\"limit-9.4\"><span class=\"toc-item-num\">9.4&nbsp;&nbsp;</span><code>limit</code></a></span></li><li><span><a href=\"#skip\" data-toc-modified-id=\"skip-9.5\"><span class=\"toc-item-num\">9.5&nbsp;&nbsp;</span><code>skip</code></a></span></li></ul></li><li><span><a href=\"#Operadores-de-consulta-típicos\" data-toc-modified-id=\"Operadores-de-consulta-típicos-10\"><span class=\"toc-item-num\">10&nbsp;&nbsp;</span>Operadores de consulta típicos</a></span><ul class=\"toc-item\"><li><span><a href=\"#Mayor-que-/-Menor-que\" data-toc-modified-id=\"Mayor-que-/-Menor-que-10.1\"><span class=\"toc-item-num\">10.1&nbsp;&nbsp;</span>Mayor que / Menor que</a></span></li><li><span><a href=\"#exists\" data-toc-modified-id=\"exists-10.2\"><span class=\"toc-item-num\">10.2&nbsp;&nbsp;</span><code>exists</code></a></span></li><li><span><a href=\"#regex\" data-toc-modified-id=\"regex-10.3\"><span class=\"toc-item-num\">10.3&nbsp;&nbsp;</span><code>regex</code></a></span></li><li><span><a href=\"#and\" data-toc-modified-id=\"and-10.4\"><span class=\"toc-item-num\">10.4&nbsp;&nbsp;</span><code>and</code></a></span></li><li><span><a href=\"#or\" data-toc-modified-id=\"or-10.5\"><span class=\"toc-item-num\">10.5&nbsp;&nbsp;</span><code>or</code></a></span></li><li><span><a href=\"#ne\" data-toc-modified-id=\"ne-10.6\"><span class=\"toc-item-num\">10.6&nbsp;&nbsp;</span><code>ne</code></a></span></li><li><span><a href=\"#in\" data-toc-modified-id=\"in-10.7\"><span class=\"toc-item-num\">10.7&nbsp;&nbsp;</span><code>in</code></a></span></li><li><span><a href=\"#nin\" data-toc-modified-id=\"nin-10.8\"><span class=\"toc-item-num\">10.8&nbsp;&nbsp;</span><code>nin</code></a></span></li></ul></li><li><span><a href=\"#Update\" data-toc-modified-id=\"Update-11\"><span class=\"toc-item-num\">11&nbsp;&nbsp;</span>Update</a></span></li><li><span><a href=\"#Delete\" data-toc-modified-id=\"Delete-12\"><span class=\"toc-item-num\">12&nbsp;&nbsp;</span>Delete</a></span></li><li><span><a href=\"#Info-extra\" data-toc-modified-id=\"Info-extra-13\"><span class=\"toc-item-num\">13&nbsp;&nbsp;</span>Info extra</a></span></li><li><span><a href=\"#Summary\" data-toc-modified-id=\"Summary-14\"><span class=\"toc-item-num\">14&nbsp;&nbsp;</span>Summary</a></span></li><li><span><a href=\"#Further-Materials\" data-toc-modified-id=\"Further-Materials-15\"><span class=\"toc-item-num\">15&nbsp;&nbsp;</span>Further Materials</a></span></li></ul></div>"
   ]
  },
  {
   "cell_type": "markdown",
   "id": "logical-pattern",
   "metadata": {},
   "source": [
    "## ¿Qué es MongoDB?    \n",
    "   \n",
    "MongoDB (del inglés humongous, \"enorme\") es un sistema de base de datos NoSQL, orientado a documentos y de código abierto.\n",
    "En lugar de guardar los datos en tablas, tal y como se hace en las bases de datos relacionales, MongoDB guarda estructuras de datos BSON (una especificación similar a JSON) con un esquema dinámico, haciendo que la integración de los datos en ciertas aplicaciones sea más fácil y rápida.\n",
    "MongoDB es una base de datos adecuada para su uso en producción y con múltiples funcionalidades. Esta base de datos se utiliza mucho en la industria, contando con implantaciones en empresas como MTV Network,  Craiglist, Foursquare.       \n",
    "El código fuente está disponible para los sistemas operativos --> Windows, GNU/Linux, OS X y Solaris."
   ]
  },
  {
   "cell_type": "markdown",
   "id": "classified-answer",
   "metadata": {},
   "source": [
    "## ¿Qué es la base de datos MongoDB?\n",
    "\n",
    "Una base de datos, es decir, una forma estructurada de almacenar y acceder a los datos, más específicamente, es una base de datos NoSQL.\n",
    "NoSQL es un término muy genérico que se utiliza para describir cualquier almacén de datos que no utiliza el enfoque heredado de tablas de datos relacionadas.\n",
    "Esto significa que está almacenando sus datos de una manera organizada, pero no en filas y columnas Un ejemplo de bases de datos NoSQL puede ser cualquier cosa, desde un catálogo de tarjetas de biblioteca, a un almacén de datos más sofisticado como MongoDB.\n",
    "Dado que el rango de lo que significa NoSQL es tan amplio, debemos acotar más nuestra definición.\n",
    "MongoDB es una base de datos de documentos NoSQL.\n",
    "Esto significa que los datos en MongoDB se almacenan como documentos, estos documentos se almacenan a su vez en lo que llamamos colecciones de documentos, Por eso MongoDB se clasifica como una base de datos de documentos NoSQL.\n",
    "\n",
    "En conclusión, la base de datos MongoDB es una base de datos de documentos NoSQL."
   ]
  },
  {
   "cell_type": "markdown",
   "id": "checked-sigma",
   "metadata": {},
   "source": [
    "### Pequeña explicación animada 🤔\n",
    "Veamos juntas [este](https://www.youtube.com/watch?v=DM4gD6Z5zFU) vídeo"
   ]
  },
  {
   "cell_type": "markdown",
   "id": "dominican-proposal",
   "metadata": {},
   "source": [
    "## Instalaciones\n",
    "Encontrarás todo lo referente a las instalaciones [AQUÍ](https://github.com/Ironhack-Data-Madrid-Marzo-2021/Classroom-Materials-FT/blob/main/week_04/00-mongoDB-installation.ipynb)"
   ]
  },
  {
   "cell_type": "markdown",
   "id": "surgical-graduation",
   "metadata": {},
   "source": [
    "## Creación de bases de datos\n",
    "Hemos visto que a través de MongoDB compass podíamos crear una base de datos, una colección e importar los datos en formato JSON de manera sencilla. \n",
    "También podemos hacerlo mediante la interfaz de comandos o CLI de mongo."
   ]
  },
  {
   "cell_type": "code",
   "execution_count": null,
   "id": "emotional-pharmacy",
   "metadata": {},
   "outputs": [],
   "source": [
    "#$ mongoimport --db ironhack --collection companies --file companies.json"
   ]
  },
  {
   "cell_type": "markdown",
   "id": "electronic-inclusion",
   "metadata": {},
   "source": [
    "Nos ubicamos en la terminal en la carpeta donde hayamos descargado el json de \"companies\". El comando lo que hace es importar a la base de daatos de ironhack, dentro de la colección companies, ese json. Si introducimos un nombre de base de datos que no existe o de colección que no existe, MongoDB lo crea por nosotras automáticamente. "
   ]
  },
  {
   "cell_type": "markdown",
   "id": "another-neutral",
   "metadata": {},
   "source": [
    "## Conexión con Python"
   ]
  },
  {
   "cell_type": "markdown",
   "id": "tired-portal",
   "metadata": {},
   "source": [
    "Lo primero que vamos a necesitar para conectar python con el servidor de bases de datos de MongoDB es instalar la siguiente librería\n",
    "```python\n",
    "#!pip install pymongo\n",
    "```\n",
    "Y recuerda: Tienes que [leer la documentación](https://pymongo.readthedocs.io/en/stable/)"
   ]
  },
  {
   "cell_type": "code",
   "execution_count": 1,
   "id": "medieval-venue",
   "metadata": {},
   "outputs": [],
   "source": [
    "from pymongo import MongoClient"
   ]
  },
  {
   "cell_type": "markdown",
   "id": "solved-crisis",
   "metadata": {},
   "source": [
    "### Nos conectamos al servidor\n",
    "El servidor de Mongo tiene que estar activo y normalmente está corriendo en el puerto 27017, siempre se conecta a este puerto por defecto"
   ]
  },
  {
   "cell_type": "code",
   "execution_count": 2,
   "id": "material-mexican",
   "metadata": {},
   "outputs": [],
   "source": [
    "# Con el comando MongoClient establecemos conexión con el servidor\n",
    "client = MongoClient(\"localhost:27017\")"
   ]
  },
  {
   "cell_type": "code",
   "execution_count": 3,
   "id": "electrical-shopper",
   "metadata": {},
   "outputs": [
    {
     "data": {
      "text/plain": [
       "MongoClient(host=['localhost:27017'], document_class=dict, tz_aware=False, connect=True)"
      ]
     },
     "execution_count": 3,
     "metadata": {},
     "output_type": "execute_result"
    }
   ],
   "source": [
    "client"
   ]
  },
  {
   "cell_type": "code",
   "execution_count": 4,
   "id": "equivalent-privacy",
   "metadata": {},
   "outputs": [],
   "source": [
    "#client.*list*?"
   ]
  },
  {
   "cell_type": "code",
   "execution_count": 7,
   "id": "linear-latin",
   "metadata": {},
   "outputs": [
    {
     "data": {
      "text/plain": [
       "['admin', 'config', 'ironhack', 'ironhack2', 'local']"
      ]
     },
     "execution_count": 7,
     "metadata": {},
     "output_type": "execute_result"
    }
   ],
   "source": [
    "# Mostrar los nombres de las bases de datos existentes\n",
    "client.list_database_names()"
   ]
  },
  {
   "cell_type": "markdown",
   "id": "exterior-ecuador",
   "metadata": {},
   "source": [
    "### Nos conectamos con la base de datos"
   ]
  },
  {
   "cell_type": "code",
   "execution_count": 8,
   "id": "civilian-bankruptcy",
   "metadata": {},
   "outputs": [],
   "source": [
    "# Para crear una conexión con la base de datos en la que vayamos a trabajar\n",
    "db = client.get_database(\"ironhack\")"
   ]
  },
  {
   "cell_type": "code",
   "execution_count": 9,
   "id": "level-fantasy",
   "metadata": {},
   "outputs": [
    {
     "data": {
      "text/plain": [
       "Database(MongoClient(host=['localhost:27017'], document_class=dict, tz_aware=False, connect=True), 'ironhack')"
      ]
     },
     "execution_count": 9,
     "metadata": {},
     "output_type": "execute_result"
    }
   ],
   "source": [
    "db"
   ]
  },
  {
   "cell_type": "markdown",
   "id": "primary-vertical",
   "metadata": {},
   "source": [
    "## Operaciones básicas de gestión de bases de datos"
   ]
  },
  {
   "cell_type": "code",
   "execution_count": 10,
   "id": "thousand-subsection",
   "metadata": {},
   "outputs": [
    {
     "data": {
      "text/plain": [
       "['countries_small', 'restaurants', 'prueba', 'books', 'companies']"
      ]
     },
     "execution_count": 10,
     "metadata": {},
     "output_type": "execute_result"
    }
   ],
   "source": [
    "db.list_collection_names()"
   ]
  },
  {
   "cell_type": "markdown",
   "id": "monetary-patch",
   "metadata": {},
   "source": [
    "### Creamos y borramos colecciones desde python"
   ]
  },
  {
   "cell_type": "code",
   "execution_count": null,
   "id": "artificial-allen",
   "metadata": {},
   "outputs": [],
   "source": [
    "# Podemos crear colecciones como hemos visto antes con la GUI de MongoDB (Mongo Compass) o desde aquí mismo"
   ]
  },
  {
   "cell_type": "code",
   "execution_count": 11,
   "id": "temporal-arcade",
   "metadata": {},
   "outputs": [
    {
     "data": {
      "text/plain": [
       "Collection(Database(MongoClient(host=['localhost:27017'], document_class=dict, tz_aware=False, connect=True), 'ironhack'), 'prueba2')"
      ]
     },
     "execution_count": 11,
     "metadata": {},
     "output_type": "execute_result"
    }
   ],
   "source": [
    "# Creamos la colección\n",
    "db.create_collection(\"prueba2\")"
   ]
  },
  {
   "cell_type": "code",
   "execution_count": 12,
   "id": "proud-undergraduate",
   "metadata": {},
   "outputs": [
    {
     "data": {
      "text/plain": [
       "['countries_small', 'prueba2', 'restaurants', 'prueba', 'books', 'companies']"
      ]
     },
     "execution_count": 12,
     "metadata": {},
     "output_type": "execute_result"
    }
   ],
   "source": [
    "# Listamos las colecciones y vemos si se ha creado la colección\n",
    "db.list_collection_names()"
   ]
  },
  {
   "cell_type": "code",
   "execution_count": 13,
   "id": "superb-harassment",
   "metadata": {},
   "outputs": [
    {
     "data": {
      "text/plain": [
       "{'nIndexesWas': 1, 'ns': 'ironhack.prueba2', 'ok': 1.0}"
      ]
     },
     "execution_count": 13,
     "metadata": {},
     "output_type": "execute_result"
    }
   ],
   "source": [
    "# Borramos la colección que acabamos de crear\n",
    "db.drop_collection(\"prueba2\")"
   ]
  },
  {
   "cell_type": "code",
   "execution_count": 14,
   "id": "critical-fruit",
   "metadata": {},
   "outputs": [
    {
     "data": {
      "text/plain": [
       "['countries_small', 'restaurants', 'prueba', 'books', 'companies']"
      ]
     },
     "execution_count": 14,
     "metadata": {},
     "output_type": "execute_result"
    }
   ],
   "source": [
    "# Comprobamos de nuevo\n",
    "db.list_collection_names()"
   ]
  },
  {
   "cell_type": "markdown",
   "id": "beginning-mechanics",
   "metadata": {},
   "source": [
    "### Nos conectamos a una colección en concreto para hacer las consultas"
   ]
  },
  {
   "cell_type": "code",
   "execution_count": 15,
   "id": "turkish-advantage",
   "metadata": {},
   "outputs": [],
   "source": [
    "# Elegimos la colección con la que vamos a trabajar\n",
    "collection = db.get_collection(\"restaurants\")"
   ]
  },
  {
   "cell_type": "markdown",
   "id": "deadly-aurora",
   "metadata": {},
   "source": [
    "## Consultas en Mongo"
   ]
  },
  {
   "cell_type": "markdown",
   "id": "generous-being",
   "metadata": {},
   "source": [
    "Para explorar cómo son los documentos en mi colección, qué forma y qué campos tienen, puedo irme a Mongo Compass y explorar la colección, o puedo elegir un documento sin filtrar. "
   ]
  },
  {
   "cell_type": "markdown",
   "id": "metric-information",
   "metadata": {},
   "source": [
    "![undocumento](../images/compass1.png)"
   ]
  },
  {
   "cell_type": "code",
   "execution_count": null,
   "id": "satisfied-syntax",
   "metadata": {},
   "outputs": [],
   "source": [
    "## Hagámoslo en Mongo"
   ]
  },
  {
   "cell_type": "markdown",
   "id": "dietary-musician",
   "metadata": {},
   "source": [
    "### Método `find_one` \n",
    "`collection.find_one(filter)`"
   ]
  },
  {
   "cell_type": "code",
   "execution_count": 17,
   "id": "double-gabriel",
   "metadata": {},
   "outputs": [
    {
     "data": {
      "text/plain": [
       "{'_id': ObjectId('55f14312c7447c3da7051b26'),\n",
       " 'URL': 'http://www.just-eat.co.uk/restaurants-cn-chinese-cardiff/menu',\n",
       " 'address': '228 City Road',\n",
       " 'address line 2': 'Cardiff',\n",
       " 'name': '.CN Chinese',\n",
       " 'outcode': 'CF24',\n",
       " 'postcode': '3JH',\n",
       " 'rating': 5,\n",
       " 'type_of_food': 'Chinese'}"
      ]
     },
     "execution_count": 17,
     "metadata": {},
     "output_type": "execute_result"
    }
   ],
   "source": [
    "# Si no pongo ningún filtro, me dará el primer documento\n",
    "collection.find_one()"
   ]
  },
  {
   "cell_type": "code",
   "execution_count": 18,
   "id": "worldwide-spectacular",
   "metadata": {},
   "outputs": [
    {
     "data": {
      "text/plain": [
       "dict_keys(['_id', 'URL', 'address', 'address line 2', 'name', 'outcode', 'postcode', 'rating', 'type_of_food'])"
      ]
     },
     "execution_count": 18,
     "metadata": {},
     "output_type": "execute_result"
    }
   ],
   "source": [
    "# Ojo, porque no todos los documentos tienen por qué tener las mismas keys, Mongo es flexible para esto\n",
    "collection.find_one().keys()"
   ]
  },
  {
   "cell_type": "code",
   "execution_count": 21,
   "id": "every-jurisdiction",
   "metadata": {},
   "outputs": [
    {
     "data": {
      "text/plain": [
       "{'_id': ObjectId('55f14312c7447c3da7051b26'),\n",
       " 'URL': 'http://www.just-eat.co.uk/restaurants-cn-chinese-cardiff/menu',\n",
       " 'address': '228 City Road',\n",
       " 'address line 2': 'Cardiff',\n",
       " 'name': '.CN Chinese',\n",
       " 'outcode': 'CF24',\n",
       " 'postcode': '3JH',\n",
       " 'rating': 5,\n",
       " 'type_of_food': 'Chinese'}"
      ]
     },
     "execution_count": 21,
     "metadata": {},
     "output_type": "execute_result"
    }
   ],
   "source": [
    "collection.find_one({\"rating\":5})"
   ]
  },
  {
   "cell_type": "markdown",
   "id": "forty-challenge",
   "metadata": {},
   "source": [
    "### Método `find` \n",
    "`collection.find(filter)`"
   ]
  },
  {
   "cell_type": "code",
   "execution_count": 22,
   "id": "adolescent-pricing",
   "metadata": {},
   "outputs": [],
   "source": [
    "documentos = collection.find()"
   ]
  },
  {
   "cell_type": "code",
   "execution_count": 23,
   "id": "gentle-pantyhose",
   "metadata": {},
   "outputs": [
    {
     "data": {
      "text/plain": [
       "<pymongo.cursor.Cursor at 0x7fdf2987d400>"
      ]
     },
     "execution_count": 23,
     "metadata": {},
     "output_type": "execute_result"
    }
   ],
   "source": [
    "documentos"
   ]
  },
  {
   "cell_type": "code",
   "execution_count": 24,
   "id": "creative-setting",
   "metadata": {},
   "outputs": [
    {
     "data": {
      "text/plain": [
       "pymongo.cursor.Cursor"
      ]
     },
     "execution_count": 24,
     "metadata": {},
     "output_type": "execute_result"
    }
   ],
   "source": [
    "type(documentos)"
   ]
  },
  {
   "cell_type": "markdown",
   "id": "animated-surfing",
   "metadata": {},
   "source": [
    "El método de colección `pymongo` devuelve un Cursor:\n",
    " * un Cursor es un iterador\n",
    " * un Cursor tiene el método `__next__` (la función `next` devuelve el siguiente elemento en el flujo)\n",
    " * `pymongo` no trae información a la memoria hasta que se necesita\n",
    " * un Cursor no tiene `len`."
   ]
  },
  {
   "cell_type": "code",
   "execution_count": 25,
   "id": "global-gathering",
   "metadata": {},
   "outputs": [
    {
     "ename": "TypeError",
     "evalue": "object of type 'Cursor' has no len()",
     "output_type": "error",
     "traceback": [
      "\u001b[0;31m---------------------------------------------------------------------------\u001b[0m",
      "\u001b[0;31mTypeError\u001b[0m                                 Traceback (most recent call last)",
      "\u001b[0;32m<ipython-input-25-a31fe995dc8c>\u001b[0m in \u001b[0;36m<module>\u001b[0;34m\u001b[0m\n\u001b[0;32m----> 1\u001b[0;31m \u001b[0mlen\u001b[0m\u001b[0;34m(\u001b[0m\u001b[0mdocumentos\u001b[0m\u001b[0;34m)\u001b[0m\u001b[0;34m\u001b[0m\u001b[0;34m\u001b[0m\u001b[0m\n\u001b[0m",
      "\u001b[0;31mTypeError\u001b[0m: object of type 'Cursor' has no len()"
     ]
    }
   ],
   "source": [
    "len(documentos)"
   ]
  },
  {
   "cell_type": "code",
   "execution_count": 31,
   "id": "assigned-passenger",
   "metadata": {},
   "outputs": [
    {
     "data": {
      "text/plain": [
       "{'_id': ObjectId('55f14312c7447c3da7051b2a'),\n",
       " 'URL': 'http://www.just-eat.co.uk/restaurants-indiancom-ch4/menu',\n",
       " 'address': '9 Broughton Hall Road',\n",
       " 'address line 2': 'Broughton',\n",
       " 'name': '@Indian.com',\n",
       " 'outcode': 'CH4',\n",
       " 'postcode': '0QR',\n",
       " 'rating': 6,\n",
       " 'type_of_food': 'Curry'}"
      ]
     },
     "execution_count": 31,
     "metadata": {},
     "output_type": "execute_result"
    }
   ],
   "source": [
    "documentos.next()"
   ]
  },
  {
   "cell_type": "code",
   "execution_count": 32,
   "id": "extended-duncan",
   "metadata": {},
   "outputs": [],
   "source": [
    "# Cinco estrellas rating\n",
    "cincoestrellas = list(collection.find({\"rating\":5}))"
   ]
  },
  {
   "cell_type": "code",
   "execution_count": 34,
   "id": "concerned-copyright",
   "metadata": {},
   "outputs": [],
   "source": [
    "#cincoestrellas"
   ]
  },
  {
   "cell_type": "code",
   "execution_count": 35,
   "id": "extended-cologne",
   "metadata": {},
   "outputs": [],
   "source": [
    "import pandas as pd"
   ]
  },
  {
   "cell_type": "code",
   "execution_count": 36,
   "id": "israeli-hydrogen",
   "metadata": {},
   "outputs": [
    {
     "data": {
      "text/html": [
       "<div>\n",
       "<style scoped>\n",
       "    .dataframe tbody tr th:only-of-type {\n",
       "        vertical-align: middle;\n",
       "    }\n",
       "\n",
       "    .dataframe tbody tr th {\n",
       "        vertical-align: top;\n",
       "    }\n",
       "\n",
       "    .dataframe thead th {\n",
       "        text-align: right;\n",
       "    }\n",
       "</style>\n",
       "<table border=\"1\" class=\"dataframe\">\n",
       "  <thead>\n",
       "    <tr style=\"text-align: right;\">\n",
       "      <th></th>\n",
       "      <th>_id</th>\n",
       "      <th>URL</th>\n",
       "      <th>address</th>\n",
       "      <th>address line 2</th>\n",
       "      <th>name</th>\n",
       "      <th>outcode</th>\n",
       "      <th>postcode</th>\n",
       "      <th>rating</th>\n",
       "      <th>type_of_food</th>\n",
       "    </tr>\n",
       "  </thead>\n",
       "  <tbody>\n",
       "    <tr>\n",
       "      <th>0</th>\n",
       "      <td>55f14312c7447c3da7051b26</td>\n",
       "      <td>http://www.just-eat.co.uk/restaurants-cn-chine...</td>\n",
       "      <td>228 City Road</td>\n",
       "      <td>Cardiff</td>\n",
       "      <td>.CN Chinese</td>\n",
       "      <td>CF24</td>\n",
       "      <td>3JH</td>\n",
       "      <td>5</td>\n",
       "      <td>Chinese</td>\n",
       "    </tr>\n",
       "    <tr>\n",
       "      <th>1</th>\n",
       "      <td>55f14312c7447c3da7051b31</td>\n",
       "      <td>http://www.just-eat.co.uk/restaurants-100-degr...</td>\n",
       "      <td>67 Park Street</td>\n",
       "      <td>Treforest</td>\n",
       "      <td>100 Degrees Chinese Restaurant</td>\n",
       "      <td>CF37</td>\n",
       "      <td>1SN</td>\n",
       "      <td>5</td>\n",
       "      <td>Chinese</td>\n",
       "    </tr>\n",
       "    <tr>\n",
       "      <th>2</th>\n",
       "      <td>55f14312c7447c3da7051b32</td>\n",
       "      <td>http://www.just-eat.co.uk/restaurants-100menu-...</td>\n",
       "      <td>50 Wallgate</td>\n",
       "      <td>Wigan</td>\n",
       "      <td>100 Menu</td>\n",
       "      <td>WN1</td>\n",
       "      <td>1JU</td>\n",
       "      <td>5</td>\n",
       "      <td>Chinese</td>\n",
       "    </tr>\n",
       "    <tr>\n",
       "      <th>3</th>\n",
       "      <td>55f14312c7447c3da7051b33</td>\n",
       "      <td>http://www.just-eat.co.uk/restaurants-104-turk...</td>\n",
       "      <td>104 Tanners Lane</td>\n",
       "      <td>Essex</td>\n",
       "      <td>104 Turkish BBQ</td>\n",
       "      <td>IG6</td>\n",
       "      <td>1QE</td>\n",
       "      <td>5</td>\n",
       "      <td>Turkish</td>\n",
       "    </tr>\n",
       "    <tr>\n",
       "      <th>4</th>\n",
       "      <td>55f14312c7447c3da7051b34</td>\n",
       "      <td>http://www.just-eat.co.uk/restaurants-109resta...</td>\n",
       "      <td>109 Westbourne Park Road</td>\n",
       "      <td>London</td>\n",
       "      <td>109 Ristorante</td>\n",
       "      <td>W2</td>\n",
       "      <td>5QL</td>\n",
       "      <td>5</td>\n",
       "      <td>Pizza</td>\n",
       "    </tr>\n",
       "  </tbody>\n",
       "</table>\n",
       "</div>"
      ],
      "text/plain": [
       "                        _id  \\\n",
       "0  55f14312c7447c3da7051b26   \n",
       "1  55f14312c7447c3da7051b31   \n",
       "2  55f14312c7447c3da7051b32   \n",
       "3  55f14312c7447c3da7051b33   \n",
       "4  55f14312c7447c3da7051b34   \n",
       "\n",
       "                                                 URL  \\\n",
       "0  http://www.just-eat.co.uk/restaurants-cn-chine...   \n",
       "1  http://www.just-eat.co.uk/restaurants-100-degr...   \n",
       "2  http://www.just-eat.co.uk/restaurants-100menu-...   \n",
       "3  http://www.just-eat.co.uk/restaurants-104-turk...   \n",
       "4  http://www.just-eat.co.uk/restaurants-109resta...   \n",
       "\n",
       "                    address address line 2                            name  \\\n",
       "0             228 City Road        Cardiff                     .CN Chinese   \n",
       "1            67 Park Street      Treforest  100 Degrees Chinese Restaurant   \n",
       "2               50 Wallgate          Wigan                        100 Menu   \n",
       "3          104 Tanners Lane          Essex                 104 Turkish BBQ   \n",
       "4  109 Westbourne Park Road         London                  109 Ristorante   \n",
       "\n",
       "  outcode postcode  rating type_of_food  \n",
       "0    CF24      3JH       5      Chinese  \n",
       "1    CF37      1SN       5      Chinese  \n",
       "2     WN1      1JU       5      Chinese  \n",
       "3     IG6      1QE       5      Turkish  \n",
       "4      W2      5QL       5        Pizza  "
      ]
     },
     "execution_count": 36,
     "metadata": {},
     "output_type": "execute_result"
    }
   ],
   "source": [
    "df = pd.DataFrame(cincoestrellas)\n",
    "df.head()"
   ]
  },
  {
   "cell_type": "markdown",
   "id": "determined-premiere",
   "metadata": {},
   "source": [
    "## Proyección\n",
    "Cuando se realiza una consulta en MongoDB usando .find() lo que retorna dicha consulta es el conjunto de documentos correspondientes a la consulta. Se devolverán por defecto los documentos completos con todos sus campos. Aunque podemos seleccionar los campos de un documento que queremos devuelva la consulta, o lo que es lo mismo hacer una MongoDB Projection.    \n",
    "Si queremos seleccionar varios campos, simplemente tenemos que indicar el nombre del campo seguido de un 1. O bien usar un 0 para eliminar los campos a mostrar:\n",
    "\n",
    "El campo `_id` se devuelve por defecto\n",
    "\n",
    "Sintaxis:    \n",
    "`collection.find(filtro, proyección)`"
   ]
  },
  {
   "cell_type": "code",
   "execution_count": 37,
   "id": "postal-burning",
   "metadata": {},
   "outputs": [],
   "source": [
    "proj = {\"rating\": 1, \"name\": 1}"
   ]
  },
  {
   "cell_type": "code",
   "execution_count": 39,
   "id": "conditional-syria",
   "metadata": {},
   "outputs": [
    {
     "data": {
      "text/plain": [
       "{'_id': ObjectId('55f14312c7447c3da7051b26'),\n",
       " 'name': '.CN Chinese',\n",
       " 'rating': 5}"
      ]
     },
     "execution_count": 39,
     "metadata": {},
     "output_type": "execute_result"
    }
   ],
   "source": [
    "list(collection.find({\"rating\":5}, proj))[0]"
   ]
  },
  {
   "cell_type": "code",
   "execution_count": 40,
   "id": "several-floor",
   "metadata": {},
   "outputs": [],
   "source": [
    "# Si queremos que no nos muesrtre el ObjectId\n",
    "proj = {\"_id\": 0,\"rating\": 1, \"name\": 1}"
   ]
  },
  {
   "cell_type": "code",
   "execution_count": 46,
   "id": "frank-recording",
   "metadata": {},
   "outputs": [
    {
     "data": {
      "text/plain": [
       "{'name': '.CN Chinese', 'rating': 5}"
      ]
     },
     "execution_count": 46,
     "metadata": {},
     "output_type": "execute_result"
    }
   ],
   "source": [
    "list(collection.find({\"rating\":5}, {\"_id\": 0,\"rating\": 1, \"name\": 1}))[0]"
   ]
  },
  {
   "cell_type": "code",
   "execution_count": 42,
   "id": "trying-external",
   "metadata": {},
   "outputs": [],
   "source": [
    "filtro = {\"rating\":5}\n",
    "proj = {\"_id\": 0,\"rating\": 1, \"name\": 1}"
   ]
  },
  {
   "cell_type": "code",
   "execution_count": 47,
   "id": "working-sunrise",
   "metadata": {},
   "outputs": [],
   "source": [
    "#list(collection.find(filtro,proj))"
   ]
  },
  {
   "cell_type": "markdown",
   "id": "arbitrary-opening",
   "metadata": {},
   "source": [
    "## Otros métodos "
   ]
  },
  {
   "cell_type": "markdown",
   "id": "structural-competition",
   "metadata": {},
   "source": [
    "### `distinct`\n",
    "¿Cuántos valores distintos tiene un campo en toda la colección?"
   ]
  },
  {
   "cell_type": "code",
   "execution_count": 48,
   "id": "scenic-characteristic",
   "metadata": {},
   "outputs": [
    {
     "data": {
      "text/plain": [
       "[1, 1.5, 2, 2.5, 3, 3.5, 4, 4.5, 5, 5.5, 6, 'Not yet rated']"
      ]
     },
     "execution_count": 48,
     "metadata": {},
     "output_type": "execute_result"
    }
   ],
   "source": [
    "collection.distinct(\"rating\")"
   ]
  },
  {
   "cell_type": "code",
   "execution_count": 49,
   "id": "bulgarian-doctor",
   "metadata": {},
   "outputs": [
    {
     "data": {
      "text/plain": [
       "['*NEW*',\n",
       " 'Afghan',\n",
       " 'African',\n",
       " 'American',\n",
       " 'Arabic',\n",
       " 'Azerbaijan',\n",
       " 'Bagels',\n",
       " 'Bangladeshi',\n",
       " 'Breakfast',\n",
       " 'Burgers',\n",
       " 'Cakes',\n",
       " 'Caribbean',\n",
       " 'Chicken',\n",
       " 'Chinese',\n",
       " 'Curry',\n",
       " 'Desserts',\n",
       " 'English',\n",
       " 'Ethiopian',\n",
       " 'Fish & Chips',\n",
       " 'Greek',\n",
       " 'Grill',\n",
       " 'Healthy',\n",
       " 'Ice Cream',\n",
       " 'Japanese',\n",
       " 'Kebab',\n",
       " 'Korean',\n",
       " 'Lebanese',\n",
       " 'Mediterranean',\n",
       " 'Mexican',\n",
       " 'Middle Eastern',\n",
       " 'Milkshakes',\n",
       " 'Moroccan',\n",
       " 'Nigerian',\n",
       " 'Pakistani',\n",
       " 'Pasta',\n",
       " 'Peri Peri',\n",
       " 'Persian',\n",
       " 'Pick n Mix',\n",
       " 'Pizza',\n",
       " 'Polish',\n",
       " 'Portuguese',\n",
       " 'Punjabi',\n",
       " 'Russian',\n",
       " 'Sandwiches',\n",
       " 'South Curry',\n",
       " 'Spanish',\n",
       " 'Sri-lankan',\n",
       " 'Sushi',\n",
       " 'Thai',\n",
       " 'Turkish',\n",
       " 'Vegetarian',\n",
       " 'Vietnamese']"
      ]
     },
     "execution_count": 49,
     "metadata": {},
     "output_type": "execute_result"
    }
   ],
   "source": [
    "collection.distinct(\"type_of_food\")"
   ]
  },
  {
   "cell_type": "markdown",
   "id": "fatty-province",
   "metadata": {},
   "source": [
    "### `count`\n",
    "Devuelve el recuento de documentos que coincidirían con una consulta find() para la colección o vista. El método db.collection.count() no realiza la operación find() sino que cuenta y devuelve el número de resultados que coinciden con una consulta.\n",
    "Sintaxis:    \n",
    "     \n",
    "`collection.count_documents(filtro)`"
   ]
  },
  {
   "cell_type": "code",
   "execution_count": 50,
   "id": "handy-desert",
   "metadata": {},
   "outputs": [
    {
     "data": {
      "text/plain": [
       "2548"
      ]
     },
     "execution_count": 50,
     "metadata": {},
     "output_type": "execute_result"
    }
   ],
   "source": [
    "collection.count_documents({})"
   ]
  },
  {
   "cell_type": "code",
   "execution_count": 52,
   "id": "consistent-kennedy",
   "metadata": {},
   "outputs": [
    {
     "data": {
      "text/plain": [
       "1107"
      ]
     },
     "execution_count": 52,
     "metadata": {},
     "output_type": "execute_result"
    }
   ],
   "source": [
    "collection.count_documents({\"rating\":5})"
   ]
  },
  {
   "cell_type": "code",
   "execution_count": 188,
   "id": "bronze-senator",
   "metadata": {},
   "outputs": [],
   "source": [
    "import time"
   ]
  },
  {
   "cell_type": "code",
   "execution_count": 204,
   "id": "rocky-confidence",
   "metadata": {},
   "outputs": [
    {
     "name": "stdout",
     "output_type": "stream",
     "text": [
      "CPU times: user 3 µs, sys: 1 µs, total: 4 µs\n",
      "Wall time: 6.91 µs\n"
     ]
    },
    {
     "data": {
      "text/plain": [
       "49"
      ]
     },
     "execution_count": 204,
     "metadata": {},
     "output_type": "execute_result"
    }
   ],
   "source": [
    "# Directamente me cuenta los documentos en mongo que cumplen con el filtro y no necesito traerlos \n",
    "%time\n",
    "collection.count_documents({\"rating\":6})"
   ]
  },
  {
   "cell_type": "code",
   "execution_count": 202,
   "id": "micro-proposition",
   "metadata": {},
   "outputs": [
    {
     "name": "stdout",
     "output_type": "stream",
     "text": [
      "CPU times: user 4 µs, sys: 1 µs, total: 5 µs\n",
      "Wall time: 10 µs\n"
     ]
    },
    {
     "data": {
      "text/plain": [
       "49"
      ]
     },
     "execution_count": 202,
     "metadata": {},
     "output_type": "execute_result"
    }
   ],
   "source": [
    "#Equivalente pero cargando todo en memoria al extraer con list la información del cursor\n",
    "%time\n",
    "len(list(collection.find({\"rating\":6})))"
   ]
  },
  {
   "cell_type": "markdown",
   "id": "neural-speaker",
   "metadata": {},
   "source": [
    "### `sort`\n",
    "Podemos `ordenar` el resultado de un `find`\n",
    "\n",
    "`1` --> Orden ascendente     \n",
    "`-1` --> Orden desdendente"
   ]
  },
  {
   "cell_type": "code",
   "execution_count": 58,
   "id": "average-symbol",
   "metadata": {},
   "outputs": [],
   "source": [
    "proj = {\"_id\": 0,\"rating\": 1, \"name\": 1, \"type_of_food\": 1}"
   ]
  },
  {
   "cell_type": "code",
   "execution_count": 62,
   "id": "sudden-ending",
   "metadata": {},
   "outputs": [],
   "source": [
    "chinos = list(collection.find({\"type_of_food\":\"Chinese\"}, proj).sort(\"rating\",1))"
   ]
  },
  {
   "cell_type": "code",
   "execution_count": 186,
   "id": "outer-radio",
   "metadata": {},
   "outputs": [
    {
     "name": "stdout",
     "output_type": "stream",
     "text": [
      "CPU times: user 5 µs, sys: 1 µs, total: 6 µs\n",
      "Wall time: 10 µs\n"
     ]
    }
   ],
   "source": [
    "import time\n",
    "chinos = len(list(collection.find({\"type_of_food\":\"Chinese\"}, proj).sort(\"rating\",1)))"
   ]
  },
  {
   "cell_type": "code",
   "execution_count": 64,
   "id": "involved-arrangement",
   "metadata": {},
   "outputs": [
    {
     "data": {
      "text/plain": [
       "[{'name': 'Asia Asia', 'rating': 3.5, 'type_of_food': 'Chinese'},\n",
       " {'name': 'Bamboo Garden Chinese Takeaway',\n",
       "  'rating': 3.5,\n",
       "  'type_of_food': 'Chinese'},\n",
       " {'name': '88 Noodle Bar', 'rating': 4, 'type_of_food': 'Chinese'},\n",
       " {'name': 'Amazing', 'rating': 4, 'type_of_food': 'Chinese'}]"
      ]
     },
     "execution_count": 64,
     "metadata": {},
     "output_type": "execute_result"
    }
   ],
   "source": [
    "chinos[0:4]"
   ]
  },
  {
   "cell_type": "code",
   "execution_count": 65,
   "id": "inappropriate-malta",
   "metadata": {},
   "outputs": [],
   "source": [
    "chinos_des = list(collection.find({\"type_of_food\":\"Chinese\"}, proj).sort(\"rating\",-1))"
   ]
  },
  {
   "cell_type": "code",
   "execution_count": 67,
   "id": "placed-calibration",
   "metadata": {},
   "outputs": [
    {
     "data": {
      "text/plain": [
       "[{'name': '113 Fish Bar', 'rating': 5.5, 'type_of_food': 'Chinese'},\n",
       " {'name': '168 Chinese & Cantonese Takeaway',\n",
       "  'rating': 5.5,\n",
       "  'type_of_food': 'Chinese'},\n",
       " {'name': '350 Wok', 'rating': 5.5, 'type_of_food': 'Chinese'},\n",
       " {'name': '350 Wok', 'rating': 5.5, 'type_of_food': 'Chinese'}]"
      ]
     },
     "execution_count": 67,
     "metadata": {},
     "output_type": "execute_result"
    }
   ],
   "source": [
    "chinos_des[0:4]"
   ]
  },
  {
   "cell_type": "code",
   "execution_count": 71,
   "id": "brazilian-manufacturer",
   "metadata": {},
   "outputs": [
    {
     "data": {
      "text/plain": [
       "[{'name': 'Asia Asia', 'rating': 3.5, 'type_of_food': 'Chinese'},\n",
       " {'name': 'Bamboo Garden Chinese Takeaway',\n",
       "  'rating': 3.5,\n",
       "  'type_of_food': 'Chinese'},\n",
       " {'name': '88 Noodle Bar', 'rating': 4, 'type_of_food': 'Chinese'},\n",
       " {'name': 'Amazing', 'rating': 4, 'type_of_food': 'Chinese'}]"
      ]
     },
     "execution_count": 71,
     "metadata": {},
     "output_type": "execute_result"
    }
   ],
   "source": [
    "filtro = {\"type_of_food\":\"Chinese\"}\n",
    "proj = {\"_id\": 0,\"rating\": 1, \"name\": 1, \"type_of_food\": 1}\n",
    "chinos = list(collection.find(filtro,proj).sort(\"rating\",1))\n",
    "chinos[0:4]"
   ]
  },
  {
   "cell_type": "markdown",
   "id": "subject-rates",
   "metadata": {},
   "source": [
    "### `limit`\n",
    "\n",
    "Podemos `limitar` el resultado de un `find`"
   ]
  },
  {
   "cell_type": "code",
   "execution_count": 75,
   "id": "behavioral-saying",
   "metadata": {},
   "outputs": [
    {
     "data": {
      "text/plain": [
       "[{'name': '168 Chinese & Cantonese Takeaway',\n",
       "  'rating': 5.5,\n",
       "  'type_of_food': 'Chinese'},\n",
       " {'name': '350 Wok', 'rating': 5.5, 'type_of_food': 'Chinese'},\n",
       " {'name': '350 Wok', 'rating': 5.5, 'type_of_food': 'Chinese'},\n",
       " {'name': '7 & One', 'rating': 5.5, 'type_of_food': 'Chinese'},\n",
       " {'name': '4 in Love', 'rating': 5.5, 'type_of_food': 'Chinese'},\n",
       " {'name': '350 Wok', 'rating': 5.5, 'type_of_food': 'Chinese'},\n",
       " {'name': '113 Fish Bar', 'rating': 5.5, 'type_of_food': 'Chinese'}]"
      ]
     },
     "execution_count": 75,
     "metadata": {},
     "output_type": "execute_result"
    }
   ],
   "source": [
    "list(collection.find({\"type_of_food\":\"Chinese\"}, proj).sort(\"rating\",-1).limit(7))"
   ]
  },
  {
   "cell_type": "markdown",
   "id": "welsh-uncertainty",
   "metadata": {},
   "source": [
    "### `skip`\n",
    "Podemos `omitir` algunos resultados de un `find`    \n",
    "Llame al método skip() en un cursor para controlar dónde empieza MongoDB a devolver resultados. Este enfoque puede ser útil para implementar resultados paginados."
   ]
  },
  {
   "cell_type": "code",
   "execution_count": 79,
   "id": "empirical-mongolia",
   "metadata": {},
   "outputs": [
    {
     "data": {
      "text/plain": [
       "[{'name': '350 Wok', 'rating': 5.5, 'type_of_food': 'Chinese'},\n",
       " {'name': '168 Chinese & Cantonese Takeaway',\n",
       "  'rating': 5.5,\n",
       "  'type_of_food': 'Chinese'},\n",
       " {'name': '113 Fish Bar', 'rating': 5.5, 'type_of_food': 'Chinese'}]"
      ]
     },
     "execution_count": 79,
     "metadata": {},
     "output_type": "execute_result"
    }
   ],
   "source": [
    "list(collection.find({\"type_of_food\":\"Chinese\"}, proj).sort(\"rating\",-1).skip(2).limit(3))"
   ]
  },
  {
   "cell_type": "markdown",
   "id": "north-mining",
   "metadata": {},
   "source": [
    "## Operadores de consulta típicos\n",
    "Los operadores de consulta van precedidos del signo de dólar `$`."
   ]
  },
  {
   "cell_type": "code",
   "execution_count": 80,
   "id": "capable-seeking",
   "metadata": {},
   "outputs": [],
   "source": [
    "c = collection"
   ]
  },
  {
   "cell_type": "markdown",
   "id": "literary-manitoba",
   "metadata": {},
   "source": [
    "### Mayor que / Menor que\n",
    "Es un campo numérico mayor o menor que un valor determinado"
   ]
  },
  {
   "cell_type": "code",
   "execution_count": 81,
   "id": "false-analysis",
   "metadata": {},
   "outputs": [
    {
     "data": {
      "text/plain": [
       "<pymongo.cursor.Cursor at 0x7fdf2aeefd90>"
      ]
     },
     "execution_count": 81,
     "metadata": {},
     "output_type": "execute_result"
    }
   ],
   "source": [
    "# Menor que: less than\n",
    "c.find({\"rating\": {\"$lt\": 2}})"
   ]
  },
  {
   "cell_type": "code",
   "execution_count": 83,
   "id": "extra-extreme",
   "metadata": {},
   "outputs": [],
   "source": [
    "#list(c.find({\"rating\": {\"$lt\": 2}}))"
   ]
  },
  {
   "cell_type": "code",
   "execution_count": 84,
   "id": "treated-effectiveness",
   "metadata": {},
   "outputs": [
    {
     "data": {
      "text/plain": [
       "<pymongo.cursor.Cursor at 0x7fdf2bba5970>"
      ]
     },
     "execution_count": 84,
     "metadata": {},
     "output_type": "execute_result"
    }
   ],
   "source": [
    "# Mayor que: greater than\n",
    "c.find({\"rating\": {\"$gt\": 2}})"
   ]
  },
  {
   "cell_type": "code",
   "execution_count": 86,
   "id": "exempt-comedy",
   "metadata": {},
   "outputs": [],
   "source": [
    "#list(c.find({\"rating\": {\"$gt\": 2}}))"
   ]
  },
  {
   "cell_type": "code",
   "execution_count": 87,
   "id": "finite-colors",
   "metadata": {},
   "outputs": [
    {
     "data": {
      "text/plain": [
       "<pymongo.cursor.Cursor at 0x7fdf2aeef6d0>"
      ]
     },
     "execution_count": 87,
     "metadata": {},
     "output_type": "execute_result"
    }
   ],
   "source": [
    "# Mayor o igual / Menor o igual añadimos la e\n",
    "c.find({\"rating\": {\"$lte\": 2}})"
   ]
  },
  {
   "cell_type": "code",
   "execution_count": 89,
   "id": "floppy-formation",
   "metadata": {},
   "outputs": [],
   "source": [
    "#list(c.find({\"rating\": {\"$lte\": 2}}))"
   ]
  },
  {
   "cell_type": "code",
   "execution_count": 90,
   "id": "standing-january",
   "metadata": {},
   "outputs": [
    {
     "data": {
      "text/plain": [
       "<pymongo.cursor.Cursor at 0x7fdf2aeef8b0>"
      ]
     },
     "execution_count": 90,
     "metadata": {},
     "output_type": "execute_result"
    }
   ],
   "source": [
    "c.find({\"rating\": {\"$gte\": 2}})"
   ]
  },
  {
   "cell_type": "code",
   "execution_count": 93,
   "id": "confident-assignment",
   "metadata": {},
   "outputs": [
    {
     "data": {
      "text/plain": [
       "[{'_id': ObjectId('55f14312c7447c3da7051b26'),\n",
       "  'URL': 'http://www.just-eat.co.uk/restaurants-cn-chinese-cardiff/menu',\n",
       "  'address': '228 City Road',\n",
       "  'address line 2': 'Cardiff',\n",
       "  'name': '.CN Chinese',\n",
       "  'outcode': 'CF24',\n",
       "  'postcode': '3JH',\n",
       "  'rating': 5,\n",
       "  'type_of_food': 'Chinese'}]"
      ]
     },
     "execution_count": 93,
     "metadata": {},
     "output_type": "execute_result"
    }
   ],
   "source": [
    "list(c.find({\"rating\": {\"$gte\": 2}}).limit(1))"
   ]
  },
  {
   "cell_type": "markdown",
   "id": "nonprofit-operator",
   "metadata": {},
   "source": [
    "### `exists`    \n",
    "Cuando <boolean> es verdadero, $exists coincide con los documentos que contienen el campo, incluidos los documentos en los que el valor del campo es nulo. Si <boolean> es falso, la consulta devuelve sólo los documentos que no contienen el campo\n"
   ]
  },
  {
   "cell_type": "code",
   "execution_count": 97,
   "id": "breathing-county",
   "metadata": {},
   "outputs": [
    {
     "data": {
      "text/plain": [
       "[{'_id': ObjectId('55f14312c7447c3da7051b26'),\n",
       "  'URL': 'http://www.just-eat.co.uk/restaurants-cn-chinese-cardiff/menu',\n",
       "  'address': '228 City Road',\n",
       "  'address line 2': 'Cardiff',\n",
       "  'name': '.CN Chinese',\n",
       "  'outcode': 'CF24',\n",
       "  'postcode': '3JH',\n",
       "  'rating': 5,\n",
       "  'type_of_food': 'Chinese'},\n",
       " {'_id': ObjectId('55f14312c7447c3da7051b27'),\n",
       "  'URL': 'http://www.just-eat.co.uk/restaurants-atthai-ss9/menu',\n",
       "  'address': '376 Rayleigh Road',\n",
       "  'address line 2': 'Essex',\n",
       "  'name': '@ Thai',\n",
       "  'outcode': 'SS9',\n",
       "  'postcode': '5PT',\n",
       "  'rating': 5.5,\n",
       "  'type_of_food': 'Thai'}]"
      ]
     },
     "execution_count": 97,
     "metadata": {},
     "output_type": "execute_result"
    }
   ],
   "source": [
    "list(c.find({'address line 2': {\"$exists\": True}}).limit(2))"
   ]
  },
  {
   "cell_type": "code",
   "execution_count": 98,
   "id": "consolidated-sensitivity",
   "metadata": {},
   "outputs": [
    {
     "data": {
      "text/plain": [
       "[]"
      ]
     },
     "execution_count": 98,
     "metadata": {},
     "output_type": "execute_result"
    }
   ],
   "source": [
    "# No hay ningún documento  que no tenga el campo \"address line 2\"\n",
    "# Comprobamos los registros a los que les falta un campo con false\n",
    "list(c.find({'address line 2': {\"$exists\": False}}).limit(2))"
   ]
  },
  {
   "cell_type": "code",
   "execution_count": 99,
   "id": "little-ethics",
   "metadata": {},
   "outputs": [
    {
     "data": {
      "text/plain": [
       "[]"
      ]
     },
     "execution_count": 99,
     "metadata": {},
     "output_type": "execute_result"
    }
   ],
   "source": [
    "list(c.find({'hola': {\"$exists\": True}}).limit(2))"
   ]
  },
  {
   "cell_type": "markdown",
   "id": "pointed-agreement",
   "metadata": {},
   "source": [
    "### `regex`     \n",
    "Ofrece la posibilidad de utilizar expresiones regulares para la búsqueda de patrones en las consultas."
   ]
  },
  {
   "cell_type": "code",
   "execution_count": 100,
   "id": "tested-liberal",
   "metadata": {},
   "outputs": [],
   "source": [
    "query = {\"name\": {\"$regex\": \".*Halal.*\"}}\n",
    "proj = {\"_id\":0, \"name\":1}"
   ]
  },
  {
   "cell_type": "code",
   "execution_count": 101,
   "id": "occupied-resort",
   "metadata": {},
   "outputs": [
    {
     "data": {
      "text/plain": [
       "[{'name': 'Acha Halal Chinese Cuisine'},\n",
       " {'name': 'Beirut Lebanese Halal Restaurant'},\n",
       " {'name': 'Beirut Lebanese Halal Restaurant'}]"
      ]
     },
     "execution_count": 101,
     "metadata": {},
     "output_type": "execute_result"
    }
   ],
   "source": [
    "list(c.find(query,proj))"
   ]
  },
  {
   "cell_type": "code",
   "execution_count": 102,
   "id": "narrow-convergence",
   "metadata": {},
   "outputs": [],
   "source": [
    "query = {\"name\": {\"$regex\": \".*\\d.*\"}}"
   ]
  },
  {
   "cell_type": "code",
   "execution_count": 104,
   "id": "finite-pennsylvania",
   "metadata": {},
   "outputs": [
    {
     "data": {
      "text/plain": [
       "[{'name': '007 Takeaway'},\n",
       " {'name': '042 Restaurant & Bar'},\n",
       " {'name': '042 Restaurant & Bar'}]"
      ]
     },
     "execution_count": 104,
     "metadata": {},
     "output_type": "execute_result"
    }
   ],
   "source": [
    "list(c.find(query,proj).limit(3))"
   ]
  },
  {
   "cell_type": "markdown",
   "id": "widespread-incident",
   "metadata": {},
   "source": [
    "### `and`      \n",
    "Realiza una operación lógica AND en una matriz de una o más expresiones (por ejemplo, <expresión1>, <expresión2>, etc.) y selecciona los documentos que satisfacen todas las expresiones de la matriz. El operador $and utiliza la evaluación en circuito corto. Si la primera expresión (por ejemplo, <expresión1>) se evalúa como falsa, MongoDB no evaluará las expresiones restantes."
   ]
  },
  {
   "cell_type": "code",
   "execution_count": 109,
   "id": "freelance-reduction",
   "metadata": {},
   "outputs": [
    {
     "data": {
      "text/plain": [
       "[{'_id': ObjectId('55f14312c7447c3da7051b26'),\n",
       "  'URL': 'http://www.just-eat.co.uk/restaurants-cn-chinese-cardiff/menu',\n",
       "  'address': '228 City Road',\n",
       "  'address line 2': 'Cardiff',\n",
       "  'name': '.CN Chinese',\n",
       "  'outcode': 'CF24',\n",
       "  'postcode': '3JH',\n",
       "  'rating': 5,\n",
       "  'type_of_food': 'Chinese'},\n",
       " {'_id': ObjectId('55f14312c7447c3da7051b31'),\n",
       "  'URL': 'http://www.just-eat.co.uk/restaurants-100-degrees-chinese-restaurant-pontypridd/menu',\n",
       "  'address': '67 Park Street',\n",
       "  'address line 2': 'Treforest',\n",
       "  'name': '100 Degrees Chinese Restaurant',\n",
       "  'outcode': 'CF37',\n",
       "  'postcode': '1SN',\n",
       "  'rating': 5,\n",
       "  'type_of_food': 'Chinese'}]"
      ]
     },
     "execution_count": 109,
     "metadata": {},
     "output_type": "execute_result"
    }
   ],
   "source": [
    "list(c.find({\"type_of_food\": \"Chinese\",  \"rating\":5}).limit(2))"
   ]
  },
  {
   "cell_type": "code",
   "execution_count": 110,
   "id": "bizarre-valley",
   "metadata": {},
   "outputs": [
    {
     "data": {
      "text/plain": [
       "[{'name': '.CN Chinese'}, {'name': '100 Degrees Chinese Restaurant'}]"
      ]
     },
     "execution_count": 110,
     "metadata": {},
     "output_type": "execute_result"
    }
   ],
   "source": [
    "list(c.find({\"type_of_food\": \"Chinese\",  \"rating\":5},proj).limit(2))"
   ]
  },
  {
   "cell_type": "markdown",
   "id": "restricted-glass",
   "metadata": {},
   "source": [
    "Sintaxis alternativa del AND  \n",
    "`find({\"$and\": [cond1, cond2]})`"
   ]
  },
  {
   "cell_type": "code",
   "execution_count": 114,
   "id": "ignored-visitor",
   "metadata": {},
   "outputs": [
    {
     "data": {
      "text/plain": [
       "[{'_id': ObjectId('55f14312c7447c3da7051b26'),\n",
       "  'URL': 'http://www.just-eat.co.uk/restaurants-cn-chinese-cardiff/menu',\n",
       "  'address': '228 City Road',\n",
       "  'address line 2': 'Cardiff',\n",
       "  'name': '.CN Chinese',\n",
       "  'outcode': 'CF24',\n",
       "  'postcode': '3JH',\n",
       "  'rating': 5,\n",
       "  'type_of_food': 'Chinese'},\n",
       " {'_id': ObjectId('55f14312c7447c3da7051b31'),\n",
       "  'URL': 'http://www.just-eat.co.uk/restaurants-100-degrees-chinese-restaurant-pontypridd/menu',\n",
       "  'address': '67 Park Street',\n",
       "  'address line 2': 'Treforest',\n",
       "  'name': '100 Degrees Chinese Restaurant',\n",
       "  'outcode': 'CF37',\n",
       "  'postcode': '1SN',\n",
       "  'rating': 5,\n",
       "  'type_of_food': 'Chinese'}]"
      ]
     },
     "execution_count": 114,
     "metadata": {},
     "output_type": "execute_result"
    }
   ],
   "source": [
    "list(c.find({\"$and\": [{\"type_of_food\": \"Chinese\"}, {\"rating\":5}]}).limit(2))"
   ]
  },
  {
   "cell_type": "code",
   "execution_count": 117,
   "id": "focused-feature",
   "metadata": {},
   "outputs": [
    {
     "data": {
      "text/plain": [
       "[{'_id': ObjectId('55f14312c7447c3da7051b26'),\n",
       "  'URL': 'http://www.just-eat.co.uk/restaurants-cn-chinese-cardiff/menu',\n",
       "  'address': '228 City Road',\n",
       "  'address line 2': 'Cardiff',\n",
       "  'name': '.CN Chinese',\n",
       "  'outcode': 'CF24',\n",
       "  'postcode': '3JH',\n",
       "  'rating': 5,\n",
       "  'type_of_food': 'Chinese'},\n",
       " {'_id': ObjectId('55f14312c7447c3da7051b31'),\n",
       "  'URL': 'http://www.just-eat.co.uk/restaurants-100-degrees-chinese-restaurant-pontypridd/menu',\n",
       "  'address': '67 Park Street',\n",
       "  'address line 2': 'Treforest',\n",
       "  'name': '100 Degrees Chinese Restaurant',\n",
       "  'outcode': 'CF37',\n",
       "  'postcode': '1SN',\n",
       "  'rating': 5,\n",
       "  'type_of_food': 'Chinese'}]"
      ]
     },
     "execution_count": 117,
     "metadata": {},
     "output_type": "execute_result"
    }
   ],
   "source": [
    "#CONDICIONES ILIMITADAS\n",
    "condicion1 = {\"rating\":5}\n",
    "condicion2 = {\"type_of_food\": \"Chinese\"}\n",
    "list(c.find({\"$and\": [condicion1,condicion2]}).limit(2))"
   ]
  },
  {
   "cell_type": "code",
   "execution_count": 118,
   "id": "neutral-burton",
   "metadata": {},
   "outputs": [
    {
     "data": {
      "text/plain": [
       "[{'_id': ObjectId('55f14312c7447c3da7051b26'),\n",
       "  'URL': 'http://www.just-eat.co.uk/restaurants-cn-chinese-cardiff/menu',\n",
       "  'address': '228 City Road',\n",
       "  'address line 2': 'Cardiff',\n",
       "  'name': '.CN Chinese',\n",
       "  'outcode': 'CF24',\n",
       "  'postcode': '3JH',\n",
       "  'rating': 5,\n",
       "  'type_of_food': 'Chinese'},\n",
       " {'_id': ObjectId('55f14312c7447c3da7051b31'),\n",
       "  'URL': 'http://www.just-eat.co.uk/restaurants-100-degrees-chinese-restaurant-pontypridd/menu',\n",
       "  'address': '67 Park Street',\n",
       "  'address line 2': 'Treforest',\n",
       "  'name': '100 Degrees Chinese Restaurant',\n",
       "  'outcode': 'CF37',\n",
       "  'postcode': '1SN',\n",
       "  'rating': 5,\n",
       "  'type_of_food': 'Chinese'}]"
      ]
     },
     "execution_count": 118,
     "metadata": {},
     "output_type": "execute_result"
    }
   ],
   "source": [
    "condicion1 = {\"rating\":5}\n",
    "condicion2 = {\"type_of_food\": \"Chinese\"}\n",
    "condicion3 = {\"postcode\": {\"$exists\":True}}\n",
    "list(c.find({\"$and\": [condicion1,condicion2]}).limit(2))"
   ]
  },
  {
   "cell_type": "markdown",
   "id": "hundred-messenger",
   "metadata": {},
   "source": [
    "### `or`     \n",
    "El operador or realiza una operación lógica OR en una matriz de dos o más <expresiones> y selecciona los documentos que satisfacen al menos una de las <expresiones>. El operador $or tiene la siguiente sintaxis:"
   ]
  },
  {
   "cell_type": "code",
   "execution_count": 124,
   "id": "special-daniel",
   "metadata": {},
   "outputs": [
    {
     "data": {
      "text/plain": [
       "[{'_id': ObjectId('55f14312c7447c3da7051b26'),\n",
       "  'URL': 'http://www.just-eat.co.uk/restaurants-cn-chinese-cardiff/menu',\n",
       "  'address': '228 City Road',\n",
       "  'address line 2': 'Cardiff',\n",
       "  'name': '.CN Chinese',\n",
       "  'outcode': 'CF24',\n",
       "  'postcode': '3JH',\n",
       "  'rating': 5,\n",
       "  'type_of_food': 'Chinese'},\n",
       " {'_id': ObjectId('55f14312c7447c3da7051b2a'),\n",
       "  'URL': 'http://www.just-eat.co.uk/restaurants-indiancom-ch4/menu',\n",
       "  'address': '9 Broughton Hall Road',\n",
       "  'address line 2': 'Broughton',\n",
       "  'name': '@Indian.com',\n",
       "  'outcode': 'CH4',\n",
       "  'postcode': '0QR',\n",
       "  'rating': 6,\n",
       "  'type_of_food': 'Curry'}]"
      ]
     },
     "execution_count": 124,
     "metadata": {},
     "output_type": "execute_result"
    }
   ],
   "source": [
    "list(c.find({\"$or\": [{\"type_of_food\": \"Chinese\"}, {\"rating\":6}]}).limit(2))"
   ]
  },
  {
   "cell_type": "markdown",
   "id": "announced-italic",
   "metadata": {},
   "source": [
    "### `ne`    \n",
    "Not equal  \n",
    "Selecciona los documentos en los que el valor del campo no es igual al valor especificado. Esto incluye los documentos que no contienen el campo."
   ]
  },
  {
   "cell_type": "code",
   "execution_count": 130,
   "id": "interim-operations",
   "metadata": {},
   "outputs": [
    {
     "data": {
      "text/plain": [
       "[{'_id': ObjectId('55f14312c7447c3da7051b2a'),\n",
       "  'URL': 'http://www.just-eat.co.uk/restaurants-indiancom-ch4/menu',\n",
       "  'address': '9 Broughton Hall Road',\n",
       "  'address line 2': 'Broughton',\n",
       "  'name': '@Indian.com',\n",
       "  'outcode': 'CH4',\n",
       "  'postcode': '0QR',\n",
       "  'rating': 6,\n",
       "  'type_of_food': 'Curry'},\n",
       " {'_id': ObjectId('55f14312c7447c3da7051b2b'),\n",
       "  'URL': 'http://www.just-eat.co.uk/restaurants-007takeaway-s65/menu',\n",
       "  'address': '6 Drummond Street',\n",
       "  'address line 2': 'Rotherham',\n",
       "  'name': '007 Takeaway',\n",
       "  'outcode': 'S65',\n",
       "  'postcode': '1HY',\n",
       "  'rating': 6,\n",
       "  'type_of_food': 'Pizza'}]"
      ]
     },
     "execution_count": 130,
     "metadata": {},
     "output_type": "execute_result"
    }
   ],
   "source": [
    "list(c.find({\"type_of_food\": {\"$ne\": \"Chinese\"}, \"rating\":  6}).limit(2))"
   ]
  },
  {
   "cell_type": "markdown",
   "id": "buried-despite",
   "metadata": {},
   "source": [
    "### `in`     \n",
    "El operador in selecciona los documentos en los que el valor de un campo es igual a cualquier valor de la matriz especificada. Para especificar una expresión $in, utilice el siguiente prototipo:     \n",
    "```python\n",
    "{ field: { $in: [<value1>, <value2>, ... <valueN> ] } }\n",
    " ```"
   ]
  },
  {
   "cell_type": "code",
   "execution_count": 134,
   "id": "dietary-office",
   "metadata": {},
   "outputs": [
    {
     "data": {
      "text/plain": [
       "[{'name': '042 Restaurant & Bar'},\n",
       " {'name': '042 Restaurant & Bar'},\n",
       " {'name': '042 Restaurant & Bar'}]"
      ]
     },
     "execution_count": 134,
     "metadata": {},
     "output_type": "execute_result"
    }
   ],
   "source": [
    "list(c.find({\"rating\": {\"$in\": [1,2,3]}},proj).limit(3))"
   ]
  },
  {
   "cell_type": "markdown",
   "id": "general-baseball",
   "metadata": {},
   "source": [
    "### `nin`     \n",
    "\n",
    "Sintaxis: \n",
    "```python\n",
    "{ campo: { $nin: [ <valor1>, <valor2> ... <valorN> ]} }\n",
    "```\n",
    "\n",
    "not in selecciona los documentos en los que\n",
    "\n",
    "- el valor del campo no está en la matriz especificada \n",
    "- el campo no existe."
   ]
  },
  {
   "cell_type": "code",
   "execution_count": 136,
   "id": "supposed-synthetic",
   "metadata": {},
   "outputs": [
    {
     "data": {
      "text/plain": [
       "[{'_id': ObjectId('55f14312c7447c3da7051b26'),\n",
       "  'URL': 'http://www.just-eat.co.uk/restaurants-cn-chinese-cardiff/menu',\n",
       "  'address': '228 City Road',\n",
       "  'address line 2': 'Cardiff',\n",
       "  'name': '.CN Chinese',\n",
       "  'outcode': 'CF24',\n",
       "  'postcode': '3JH',\n",
       "  'rating': 5,\n",
       "  'type_of_food': 'Chinese'},\n",
       " {'_id': ObjectId('55f14312c7447c3da7051b27'),\n",
       "  'URL': 'http://www.just-eat.co.uk/restaurants-atthai-ss9/menu',\n",
       "  'address': '376 Rayleigh Road',\n",
       "  'address line 2': 'Essex',\n",
       "  'name': '@ Thai',\n",
       "  'outcode': 'SS9',\n",
       "  'postcode': '5PT',\n",
       "  'rating': 5.5,\n",
       "  'type_of_food': 'Thai'},\n",
       " {'_id': ObjectId('55f14312c7447c3da7051b28'),\n",
       "  'URL': 'http://www.just-eat.co.uk/restaurants-atthairestaurant/menu',\n",
       "  'address': '30 Greyhound Road Hammersmith',\n",
       "  'address line 2': 'London',\n",
       "  'name': '@ Thai Restaurant',\n",
       "  'outcode': 'W6',\n",
       "  'postcode': '8NX',\n",
       "  'rating': 4.5,\n",
       "  'type_of_food': 'Thai'}]"
      ]
     },
     "execution_count": 136,
     "metadata": {},
     "output_type": "execute_result"
    }
   ],
   "source": [
    "list(c.find({\"rating\": {\"$nin\": [1,2,3]}}).limit(3))"
   ]
  },
  {
   "cell_type": "code",
   "execution_count": 137,
   "id": "hazardous-utilization",
   "metadata": {},
   "outputs": [],
   "source": [
    "lista = [\"Thai\", \"Chinese\"]"
   ]
  },
  {
   "cell_type": "code",
   "execution_count": 138,
   "id": "innovative-depression",
   "metadata": {},
   "outputs": [
    {
     "data": {
      "text/plain": [
       "[{'_id': ObjectId('55f14312c7447c3da7051b2a'),\n",
       "  'URL': 'http://www.just-eat.co.uk/restaurants-indiancom-ch4/menu',\n",
       "  'address': '9 Broughton Hall Road',\n",
       "  'address line 2': 'Broughton',\n",
       "  'name': '@Indian.com',\n",
       "  'outcode': 'CH4',\n",
       "  'postcode': '0QR',\n",
       "  'rating': 6,\n",
       "  'type_of_food': 'Curry'},\n",
       " {'_id': ObjectId('55f14312c7447c3da7051b2b'),\n",
       "  'URL': 'http://www.just-eat.co.uk/restaurants-007takeaway-s65/menu',\n",
       "  'address': '6 Drummond Street',\n",
       "  'address line 2': 'Rotherham',\n",
       "  'name': '007 Takeaway',\n",
       "  'outcode': 'S65',\n",
       "  'postcode': '1HY',\n",
       "  'rating': 6,\n",
       "  'type_of_food': 'Pizza'},\n",
       " {'_id': ObjectId('55f14312c7447c3da7051b2c'),\n",
       "  'URL': 'http://www.just-eat.co.uk/restaurants-042-restaurant-e11/menu',\n",
       "  'address': '885 High Road Leytonstone',\n",
       "  'address line 2': 'London',\n",
       "  'name': '042 Restaurant & Bar',\n",
       "  'outcode': 'E11',\n",
       "  'postcode': '1HR',\n",
       "  'rating': 3,\n",
       "  'type_of_food': 'African'}]"
      ]
     },
     "execution_count": 138,
     "metadata": {},
     "output_type": "execute_result"
    }
   ],
   "source": [
    "list(c.find({\"type_of_food\": {\"$nin\": lista}}).limit(3))"
   ]
  },
  {
   "cell_type": "code",
   "execution_count": 144,
   "id": "marine-tiffany",
   "metadata": {},
   "outputs": [],
   "source": [
    "chinos = {\"type_of_food\": \"Chinese\"}\n",
    "rating = {\"rating\": 5}\n",
    "african = {\"type_of_food\": \"African\"}\n",
    "rating_ = {\"rating\": 3}\n",
    "and1= {\"$and\":[chinos,rating]}\n",
    "and2 = {\"$and\":[african,rating_]}"
   ]
  },
  {
   "cell_type": "code",
   "execution_count": 150,
   "id": "spatial-indicator",
   "metadata": {},
   "outputs": [
    {
     "data": {
      "text/plain": [
       "[{'_id': ObjectId('55f14312c7447c3da7051b26'),\n",
       "  'URL': 'http://www.just-eat.co.uk/restaurants-cn-chinese-cardiff/menu',\n",
       "  'address': '228 City Road',\n",
       "  'address line 2': 'Cardiff',\n",
       "  'name': '.CN Chinese',\n",
       "  'outcode': 'CF24',\n",
       "  'postcode': '3JH',\n",
       "  'rating': 5,\n",
       "  'type_of_food': 'Chinese'},\n",
       " {'_id': ObjectId('55f14312c7447c3da7051b2c'),\n",
       "  'URL': 'http://www.just-eat.co.uk/restaurants-042-restaurant-e11/menu',\n",
       "  'address': '885 High Road Leytonstone',\n",
       "  'address line 2': 'London',\n",
       "  'name': '042 Restaurant & Bar',\n",
       "  'outcode': 'E11',\n",
       "  'postcode': '1HR',\n",
       "  'rating': 3,\n",
       "  'type_of_food': 'African'}]"
      ]
     },
     "execution_count": 150,
     "metadata": {},
     "output_type": "execute_result"
    }
   ],
   "source": [
    "list(c.find({\"$or\": [and1,and2]}).limit(2))"
   ]
  },
  {
   "cell_type": "markdown",
   "id": "greater-thumb",
   "metadata": {},
   "source": [
    "## Update    \n",
    "Modifica un documento o documentos existentes en una colección. El método puede modificar campos específicos de un documento o documentos existentes o reemplazar un documento existente por completo, dependiendo del parámetro de actualización.   \n",
    "Cuidado, esta acción no se puede deshacer.     \n",
    "Sintaxis:\n",
    "```python\n",
    "colección.update_many(condición/filtro, actualización)\n",
    "```\n",
    "\n",
    "Podemos actualizar un campo con `$set` y con `$unset` lo borramos"
   ]
  },
  {
   "cell_type": "code",
   "execution_count": 152,
   "id": "subjective-headquarters",
   "metadata": {},
   "outputs": [
    {
     "data": {
      "text/plain": [
       "[{'_id': ObjectId('55f14312c7447c3da7051ceb'),\n",
       "  'URL': 'http://www.just-eat.co.uk/restaurants-aldixifriedchicken-b21/menu',\n",
       "  'address': '343 Soho Road',\n",
       "  'address line 2': 'Birmingham',\n",
       "  'name': 'Al Dixi Fried Chicken & Grill House',\n",
       "  'outcode': 'B21',\n",
       "  'postcode': '9SE',\n",
       "  'rating': 1,\n",
       "  'type_of_food': 'Chicken'},\n",
       " {'_id': ObjectId('55f14312c7447c3da7051cec'),\n",
       "  'URL': 'http://www.just-eat.co.uk/restaurants-aldixifriedchicken-b21/menu',\n",
       "  'address': '343 Soho Road',\n",
       "  'address line 2': 'Birmingham',\n",
       "  'name': 'Al Dixi Fried Chicken & Grill House',\n",
       "  'outcode': 'B21',\n",
       "  'postcode': '9SE',\n",
       "  'rating': 1,\n",
       "  'type_of_food': 'Chicken'}]"
      ]
     },
     "execution_count": 152,
     "metadata": {},
     "output_type": "execute_result"
    }
   ],
   "source": [
    "list(c.find({\"rating\":1}).limit(2))"
   ]
  },
  {
   "cell_type": "code",
   "execution_count": 153,
   "id": "finished-syracuse",
   "metadata": {},
   "outputs": [
    {
     "data": {
      "text/plain": [
       "<pymongo.results.UpdateResult at 0x7fdf2c526800>"
      ]
     },
     "execution_count": 153,
     "metadata": {},
     "output_type": "execute_result"
    }
   ],
   "source": [
    "c.update_many(\n",
    "    {\"rating\":1},\n",
    "    {\"$set\": {\"rating\":0}}\n",
    ")"
   ]
  },
  {
   "cell_type": "code",
   "execution_count": 156,
   "id": "flush-titanium",
   "metadata": {},
   "outputs": [
    {
     "data": {
      "text/plain": [
       "['_id',\n",
       " 'URL',\n",
       " 'address',\n",
       " 'address line 2',\n",
       " 'name',\n",
       " 'outcode',\n",
       " 'postcode',\n",
       " 'rating',\n",
       " 'type_of_food']"
      ]
     },
     "execution_count": 156,
     "metadata": {},
     "output_type": "execute_result"
    }
   ],
   "source": [
    "list(c.find_one({\"rating\":0}))"
   ]
  },
  {
   "cell_type": "code",
   "execution_count": 157,
   "id": "unauthorized-paint",
   "metadata": {},
   "outputs": [
    {
     "data": {
      "text/plain": [
       "<pymongo.results.UpdateResult at 0x7fdf2c52acc0>"
      ]
     },
     "execution_count": 157,
     "metadata": {},
     "output_type": "execute_result"
    }
   ],
   "source": [
    "c.update_many(\n",
    "    {\"rating\":0},\n",
    "    {\"$unset\": {\"postcode\": \"\"}}\n",
    ")"
   ]
  },
  {
   "cell_type": "code",
   "execution_count": 158,
   "id": "involved-gather",
   "metadata": {},
   "outputs": [
    {
     "data": {
      "text/plain": [
       "['_id',\n",
       " 'URL',\n",
       " 'address',\n",
       " 'address line 2',\n",
       " 'name',\n",
       " 'outcode',\n",
       " 'rating',\n",
       " 'type_of_food']"
      ]
     },
     "execution_count": 158,
     "metadata": {},
     "output_type": "execute_result"
    }
   ],
   "source": [
    "list(c.find_one({\"rating\":0}))"
   ]
  },
  {
   "cell_type": "code",
   "execution_count": 164,
   "id": "transparent-campus",
   "metadata": {},
   "outputs": [
    {
     "ename": "TypeError",
     "evalue": "update_many() missing 1 required positional argument: 'update'",
     "output_type": "error",
     "traceback": [
      "\u001b[0;31m---------------------------------------------------------------------------\u001b[0m",
      "\u001b[0;31mTypeError\u001b[0m                                 Traceback (most recent call last)",
      "\u001b[0;32m<ipython-input-164-7e68205c83e3>\u001b[0m in \u001b[0;36m<module>\u001b[0;34m\u001b[0m\n\u001b[0;32m----> 1\u001b[0;31m \u001b[0mc\u001b[0m\u001b[0;34m.\u001b[0m\u001b[0mupdate_many\u001b[0m\u001b[0;34m(\u001b[0m\u001b[0;34m{\u001b[0m\u001b[0;34m\"$unset\"\u001b[0m\u001b[0;34m:\u001b[0m \u001b[0;34m{\u001b[0m\u001b[0;34m\"type_of_food\"\u001b[0m\u001b[0;34m:\u001b[0m \u001b[0;34m\"\"\u001b[0m\u001b[0;34m}\u001b[0m\u001b[0;34m}\u001b[0m\u001b[0;34m)\u001b[0m\u001b[0;34m\u001b[0m\u001b[0;34m\u001b[0m\u001b[0m\n\u001b[0m",
      "\u001b[0;31mTypeError\u001b[0m: update_many() missing 1 required positional argument: 'update'"
     ]
    }
   ],
   "source": [
    "c.update_many({},{\"$unset\": {\"type_of_food\": \"\"}})"
   ]
  },
  {
   "cell_type": "markdown",
   "id": "processed-toronto",
   "metadata": {},
   "source": [
    "## Delete     \n",
    "Elimina de una colección todos los documentos que coinciden con el filtro.\n",
    "Sintaxis:\n",
    "```python\n",
    "c.delete_many(condition/filtro)\n",
    "```"
   ]
  },
  {
   "cell_type": "code",
   "execution_count": 159,
   "id": "regular-milton",
   "metadata": {},
   "outputs": [
    {
     "data": {
      "text/plain": [
       "<pymongo.results.DeleteResult at 0x7fdf2c52cd80>"
      ]
     },
     "execution_count": 159,
     "metadata": {},
     "output_type": "execute_result"
    }
   ],
   "source": [
    "c.delete_many({\"rating\":0})"
   ]
  },
  {
   "cell_type": "code",
   "execution_count": 165,
   "id": "hydraulic-acoustic",
   "metadata": {},
   "outputs": [
    {
     "ename": "TypeError",
     "evalue": "'NoneType' object is not iterable",
     "output_type": "error",
     "traceback": [
      "\u001b[0;31m---------------------------------------------------------------------------\u001b[0m",
      "\u001b[0;31mTypeError\u001b[0m                                 Traceback (most recent call last)",
      "\u001b[0;32m<ipython-input-165-6ce736a4d7c7>\u001b[0m in \u001b[0;36m<module>\u001b[0;34m\u001b[0m\n\u001b[0;32m----> 1\u001b[0;31m \u001b[0mlist\u001b[0m\u001b[0;34m(\u001b[0m\u001b[0mc\u001b[0m\u001b[0;34m.\u001b[0m\u001b[0mfind_one\u001b[0m\u001b[0;34m(\u001b[0m\u001b[0;34m{\u001b[0m\u001b[0;34m\"rating\"\u001b[0m\u001b[0;34m:\u001b[0m\u001b[0;36m0\u001b[0m\u001b[0;34m}\u001b[0m\u001b[0;34m)\u001b[0m\u001b[0;34m)\u001b[0m\u001b[0;34m\u001b[0m\u001b[0;34m\u001b[0m\u001b[0m\n\u001b[0m",
      "\u001b[0;31mTypeError\u001b[0m: 'NoneType' object is not iterable"
     ]
    }
   ],
   "source": [
    "list(c.find_one({\"rating\":0}))"
   ]
  },
  {
   "cell_type": "markdown",
   "id": "confirmed-concrete",
   "metadata": {},
   "source": [
    "## Info extra \n",
    "Campos de consulta anidados"
   ]
  },
  {
   "cell_type": "code",
   "execution_count": 166,
   "id": "pending-learning",
   "metadata": {},
   "outputs": [],
   "source": [
    "comp = db.get_collection(\"companies\")"
   ]
  },
  {
   "cell_type": "code",
   "execution_count": 167,
   "id": "banner-treaty",
   "metadata": {},
   "outputs": [],
   "source": [
    "filtro = {\"acquisition.acquired_month\": {\"$lte\": 5}}"
   ]
  },
  {
   "cell_type": "code",
   "execution_count": 173,
   "id": "choice-particular",
   "metadata": {},
   "outputs": [],
   "source": [
    "#list(comp.find(filtro).limit(2))"
   ]
  },
  {
   "cell_type": "code",
   "execution_count": 170,
   "id": "wanted-simulation",
   "metadata": {},
   "outputs": [],
   "source": [
    "filtro = {\"products.0.name\": \"Wikison Wetpaint\"}"
   ]
  },
  {
   "cell_type": "code",
   "execution_count": 172,
   "id": "precise-aquatic",
   "metadata": {},
   "outputs": [],
   "source": [
    "#list(comp.find(filtro))"
   ]
  },
  {
   "cell_type": "markdown",
   "id": "eight-conference",
   "metadata": {},
   "source": [
    "## Summary"
   ]
  },
  {
   "cell_type": "markdown",
   "id": "cooperative-communications",
   "metadata": {},
   "source": [
    "- Nos conectamos a mongo a través de  pymongo con python (tenemos que instalarla) \n",
    "- Siempre localhost y puerto 27017\n",
    "- Mongo almacena json \n",
    "- Las bases de datos se distribuyen en colecciones y no tablas\n",
    "- Las colecciones tienen  documentos (objetos) que equivaldrían a los \"registros\" de SQL\n",
    "- podemos crear colecciones con mongo compass o con la terminal  \"mongoimport\" importamos  datos.\n",
    "- Sintaxis de filtro tiene forma de diccionario\n",
    "- Nos devuelve un iterable que hay que pasar a lista\n",
    "- distinct es parecido al unique() de pandas\n",
    "- sort para ordenar\n",
    "- $ cuando queremos utilizar los operadores de consulta\n",
    "- {\"rating\": 5} / con operadores hay que hacer otro diccionario {\"rating\": {\"$lte\": 5}}\n",
    "- Métodos de pymongo para conectarnos:  get_database() / get_collection()\n",
    "- Almaceno en variables las colecciones para hacer queries en ellas\n",
    "- Acciones Update, Drop no se pueden deshacer. "
   ]
  },
  {
   "cell_type": "markdown",
   "id": "incomplete-scotland",
   "metadata": {},
   "source": [
    "## Further Materials\n",
    "- Cursos de mongo desarrollados directamente por MongoDB (gratis y MUY COMPLETOS) [AQUÍ](https://university.mongodb.com/)\n",
    "- Artículo tutorial [primeros pasos](https://www.ionos.es/digitalguide/paginas-web/desarrollo-web/tutorial-de-mongodb-primeros-pasos/)\n",
    "\n",
    "- Qué es mongo: [conceptos interesantes avanzados no vistos en clase](https://openwebinars.net/blog/que-es-mongodb/) \n",
    "- Beginner`s guide mongo con [python](https://www.analyticsvidhya.com/blog/2020/02/mongodb-in-python-tutorial-for-beginners-using-pymongo/)"
   ]
  }
 ],
 "metadata": {
  "kernelspec": {
   "display_name": "Python 3",
   "language": "python",
   "name": "python3"
  },
  "language_info": {
   "codemirror_mode": {
    "name": "ipython",
    "version": 3
   },
   "file_extension": ".py",
   "mimetype": "text/x-python",
   "name": "python",
   "nbconvert_exporter": "python",
   "pygments_lexer": "ipython3",
   "version": "3.8.5"
  },
  "toc": {
   "base_numbering": 1,
   "nav_menu": {},
   "number_sections": true,
   "sideBar": true,
   "skip_h1_title": true,
   "title_cell": "Table of Contents",
   "title_sidebar": "Contents",
   "toc_cell": true,
   "toc_position": {
    "height": "calc(100% - 180px)",
    "left": "10px",
    "top": "150px",
    "width": "307px"
   },
   "toc_section_display": true,
   "toc_window_display": true
  }
 },
 "nbformat": 4,
 "nbformat_minor": 5
}
