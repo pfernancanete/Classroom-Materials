{
 "cells": [
  {
   "cell_type": "markdown",
   "id": "nominated-holmes",
   "metadata": {},
   "source": [
    "# Geoqueries en Mongo"
   ]
  },
  {
   "cell_type": "markdown",
   "id": "supported-dividend",
   "metadata": {
    "toc": true
   },
   "source": [
    "<h1>Table of Contents<span class=\"tocSkip\"></span></h1>\n",
    "<div class=\"toc\"><ul class=\"toc-item\"><li><span><a href=\"#¿Qué-podemos-hacer-con-las-geoqueries?\" data-toc-modified-id=\"¿Qué-podemos-hacer-con-las-geoqueries?-1\"><span class=\"toc-item-num\">1&nbsp;&nbsp;</span>¿Qué podemos hacer con las geoqueries?</a></span></li><li><span><a href=\"#Generamos-la-conexión-con-Mongo\" data-toc-modified-id=\"Generamos-la-conexión-con-Mongo-2\"><span class=\"toc-item-num\">2&nbsp;&nbsp;</span>Generamos la conexión con Mongo</a></span></li><li><span><a href=\"#Importar-colecciones\" data-toc-modified-id=\"Importar-colecciones-3\"><span class=\"toc-item-num\">3&nbsp;&nbsp;</span>Importar colecciones</a></span></li><li><span><a href=\"#Crear-indexes\" data-toc-modified-id=\"Crear-indexes-4\"><span class=\"toc-item-num\">4&nbsp;&nbsp;</span>Crear indexes</a></span></li><li><span><a href=\"#Generamos-lasconexionescon-la-base-de-datos\" data-toc-modified-id=\"Generamos-lasconexionescon-la-base-de-datos-5\"><span class=\"toc-item-num\">5&nbsp;&nbsp;</span>Generamos lasconexionescon la base de datos</a></span></li><li><span><a href=\"#Empezamos-con-las-Geoqueries\" data-toc-modified-id=\"Empezamos-con-las-Geoqueries-6\"><span class=\"toc-item-num\">6&nbsp;&nbsp;</span>Empezamos con las Geoqueries</a></span></li><li><span><a href=\"#Intersects\" data-toc-modified-id=\"Intersects-7\"><span class=\"toc-item-num\">7&nbsp;&nbsp;</span>Intersects</a></span></li><li><span><a href=\"#GeoWithin\" data-toc-modified-id=\"GeoWithin-8\"><span class=\"toc-item-num\">8&nbsp;&nbsp;</span>GeoWithin</a></span></li><li><span><a href=\"#Near\" data-toc-modified-id=\"Near-9\"><span class=\"toc-item-num\">9&nbsp;&nbsp;</span>Near</a></span></li><li><span><a href=\"#Extra,-extra!!-mis-datos-extraídos-de-Foursquare-en-Mongo\" data-toc-modified-id=\"Extra,-extra!!-mis-datos-extraídos-de-Foursquare-en-Mongo-10\"><span class=\"toc-item-num\">10&nbsp;&nbsp;</span>Extra, extra!! mis datos extraídos de Foursquare en Mongo</a></span><ul class=\"toc-item\"><li><span><a href=\"#Voy-a-traerme-todas-las-fruterías-de-Madrid\" data-toc-modified-id=\"Voy-a-traerme-todas-las-fruterías-de-Madrid-10.1\"><span class=\"toc-item-num\">10.1&nbsp;&nbsp;</span>Voy a traerme todas las fruterías de Madrid</a></span></li></ul></li><li><span><a href=\"#Vamos-a-buscar-a-cuántos-km-están-las-fruterías-de-mi-casa\" data-toc-modified-id=\"Vamos-a-buscar-a-cuántos-km-están-las-fruterías-de-mi-casa-11\"><span class=\"toc-item-num\">11&nbsp;&nbsp;</span>Vamos a buscar a cuántos km están las fruterías de mi casa</a></span></li></ul></div>"
   ]
  },
  {
   "cell_type": "markdown",
   "id": "bridal-strategy",
   "metadata": {},
   "source": [
    "## ¿Qué podemos hacer con las geoqueries?\n",
    "Con las geoquerías podemos responder a preguntas como las siguientes\n",
    " * ¿Dónde están las farmacias más cercanas a mi ubicación?\n",
    " * ¿Qué restaurantes hay en esta poligonal?"
   ]
  },
  {
   "cell_type": "markdown",
   "id": "selective-discharge",
   "metadata": {},
   "source": [
    "Cada punto de la Tierra se caracteriza por dos números:\n",
    " * Longitud: ángulo respecto al meridiano de Greenwich. Va de -180° (antiGreenwich) a +180° (también antiGreenwich)\n",
    " * Latitud: ángulo con respecto al ecuador. Va de -90° (sur) a +90° (norte)"
   ]
  },
  {
   "cell_type": "markdown",
   "id": "sized-cartridge",
   "metadata": {},
   "source": [
    "![latierra](../images/latlon.gif)"
   ]
  },
  {
   "cell_type": "markdown",
   "id": "located-slovak",
   "metadata": {},
   "source": [
    "## Generamos la conexión con Mongo"
   ]
  },
  {
   "cell_type": "code",
   "execution_count": 2,
   "id": "early-affiliate",
   "metadata": {},
   "outputs": [],
   "source": [
    "from pymongo import MongoClient\n",
    "conn = MongoClient(\"localhost:27017\")\n",
    "db = conn.get_database(\"ironhack\")"
   ]
  },
  {
   "cell_type": "markdown",
   "id": "selected-closer",
   "metadata": {},
   "source": [
    "## Importar colecciones     \n",
    "Sigamos la documentación oficial de Mongo: [Mongo Geo Example](https://docs.mongodb.com/manual/tutorial/geospatial-tutorial/)\n",
    "Creamos estas dos colecciones nuevas:\n",
    " * `restaurants2`\n",
    " * `neighborhoods`"
   ]
  },
  {
   "cell_type": "markdown",
   "id": "private-kenya",
   "metadata": {},
   "source": [
    "## Crear indexes\n",
    "La indexación geoespacial de MongoDB permite   \n",
    "ejecutar eficientemente **consultas espaciales** sobre una colección que contiene formas y puntos geoespaciales.\n",
    "Vamos a crear un índice geográfico para que Mongo sepa que queremos hacer geo-consultas en esta colección.  \n",
    "Esto sólo debe hacerse una vez, y ahora la colección de Mongo está correctamente indexada para siempre."
   ]
  },
  {
   "cell_type": "code",
   "execution_count": 3,
   "id": "marked-offset",
   "metadata": {},
   "outputs": [],
   "source": [
    "from pymongo import GEOSPHERE"
   ]
  },
  {
   "cell_type": "code",
   "execution_count": 6,
   "id": "northern-tender",
   "metadata": {},
   "outputs": [
    {
     "data": {
      "text/plain": [
       "'location_2dsphere'"
      ]
     },
     "execution_count": 6,
     "metadata": {},
     "output_type": "execute_result"
    }
   ],
   "source": [
    "# Creamos el  index 2dsphere desde pymongo\n",
    "db.restaurants2.create_index([(\"location\", GEOSPHERE)])"
   ]
  },
  {
   "cell_type": "code",
   "execution_count": 7,
   "id": "thrown-hopkins",
   "metadata": {},
   "outputs": [
    {
     "data": {
      "text/plain": [
       "{'_id': ObjectId('55cba2476c522cafdb053add'),\n",
       " 'location': {'coordinates': [-73.856077, 40.848447], 'type': 'Point'},\n",
       " 'name': 'Morris Park Bake Shop'}"
      ]
     },
     "execution_count": 7,
     "metadata": {},
     "output_type": "execute_result"
    }
   ],
   "source": [
    "db.restaurants2.find_one({})"
   ]
  },
  {
   "cell_type": "markdown",
   "id": "final-discount",
   "metadata": {},
   "source": [
    "Es importante indicarle el campo donde  tenemo tanto el tipo de elemento (polígonos o  puntos (point)) como las coordenadas."
   ]
  },
  {
   "cell_type": "code",
   "execution_count": 11,
   "id": "described-flight",
   "metadata": {},
   "outputs": [
    {
     "data": {
      "text/plain": [
       "'geometry_2dsphere'"
      ]
     },
     "execution_count": 11,
     "metadata": {},
     "output_type": "execute_result"
    }
   ],
   "source": [
    "db.neighborhoods.create_index([(\"geometry\", GEOSPHERE)])"
   ]
  },
  {
   "cell_type": "code",
   "execution_count": 13,
   "id": "printable-shareware",
   "metadata": {},
   "outputs": [],
   "source": [
    "#db.neighborhoods.find_one({})"
   ]
  },
  {
   "cell_type": "markdown",
   "id": "divine-native",
   "metadata": {},
   "source": [
    "## Generamos lasconexionescon la base de datos"
   ]
  },
  {
   "cell_type": "code",
   "execution_count": 14,
   "id": "broadband-hygiene",
   "metadata": {},
   "outputs": [],
   "source": [
    "n = db.get_collection(\"neighborhoods\")\n",
    "r = db.get_collection(\"restaurants2\")"
   ]
  },
  {
   "cell_type": "markdown",
   "id": "another-pricing",
   "metadata": {},
   "source": [
    "## Empezamos con las Geoqueries   \n",
    "¿En qué barrio estoy?      \n",
    "¿Qué elementos **intersecan** el elemento dado?"
   ]
  },
  {
   "cell_type": "markdown",
   "id": "consolidated-personality",
   "metadata": {},
   "source": [
    "## Intersects"
   ]
  },
  {
   "cell_type": "markdown",
   "id": "compound-smooth",
   "metadata": {},
   "source": [
    "Necesitamos tener los datos  con tipo polígono en este caso tenemos una colección con barrios donde cada barrio  tiene dentro  el polígono que lo delimita. Y cada barrio es un documento, por eso cuando  intersecta me devuelve el documento y yo veo  que es el barrio  en concreto."
   ]
  },
  {
   "cell_type": "code",
   "execution_count": 15,
   "id": "alternative-tactics",
   "metadata": {},
   "outputs": [],
   "source": [
    "coordenadas = [-73.93, 40.82]"
   ]
  },
  {
   "cell_type": "code",
   "execution_count": 22,
   "id": "russian-berlin",
   "metadata": {},
   "outputs": [],
   "source": [
    "coord_buscar = {\"type\":\"Point\", \"coordinates\": coordenadas}"
   ]
  },
  {
   "cell_type": "code",
   "execution_count": 17,
   "id": "indoor-anthropology",
   "metadata": {},
   "outputs": [],
   "source": [
    "proj = {\"_id\":0, \"name\": 1}"
   ]
  },
  {
   "cell_type": "code",
   "execution_count": 19,
   "id": "descending-cloud",
   "metadata": {},
   "outputs": [
    {
     "data": {
      "text/plain": [
       "dict_keys(['_id', 'geometry', 'name'])"
      ]
     },
     "execution_count": 19,
     "metadata": {},
     "output_type": "execute_result"
    }
   ],
   "source": [
    "n.find_one().keys()"
   ]
  },
  {
   "cell_type": "code",
   "execution_count": 23,
   "id": "sophisticated-kitty",
   "metadata": {},
   "outputs": [
    {
     "data": {
      "text/plain": [
       "{'name': 'West Concourse'}"
      ]
     },
     "execution_count": 23,
     "metadata": {},
     "output_type": "execute_result"
    }
   ],
   "source": [
    "n.find_one({\"geometry\": {\"$geoIntersects\": {\"$geometry\":coord_buscar}}},proj)"
   ]
  },
  {
   "cell_type": "markdown",
   "id": "historical-worry",
   "metadata": {},
   "source": [
    "## GeoWithin"
   ]
  },
  {
   "cell_type": "markdown",
   "id": "indirect-plymouth",
   "metadata": {},
   "source": [
    "¿Qué elementos están **contenidos** en el elemento dado?     \n",
    "¿Qué restaurantes hay en este barrio (polígono)?"
   ]
  },
  {
   "cell_type": "code",
   "execution_count": 29,
   "id": "outside-partition",
   "metadata": {},
   "outputs": [
    {
     "data": {
      "text/plain": [
       "dict_keys(['_id', 'geometry', 'name'])"
      ]
     },
     "execution_count": 29,
     "metadata": {},
     "output_type": "execute_result"
    }
   ],
   "source": [
    "# Vemos la estructura de los documentos sacando uno y viendo sus keys\n",
    "n.find_one({}).keys()"
   ]
  },
  {
   "cell_type": "code",
   "execution_count": 25,
   "id": "touched-witch",
   "metadata": {},
   "outputs": [],
   "source": [
    "#bUSCAMOS UN barrio en  concreto\n",
    "barrio = n.find_one({\"name\": \"West Concourse\"})\n",
    "#barrio"
   ]
  },
  {
   "cell_type": "code",
   "execution_count": 38,
   "id": "minimal-breed",
   "metadata": {},
   "outputs": [],
   "source": [
    "#Extraigo las coordenadas\n",
    "geo = barrio.get(\"geometry\")\n",
    "#geo"
   ]
  },
  {
   "cell_type": "code",
   "execution_count": 31,
   "id": "gentle-method",
   "metadata": {},
   "outputs": [
    {
     "data": {
      "text/plain": [
       "dict_keys(['_id', 'location', 'name'])"
      ]
     },
     "execution_count": 31,
     "metadata": {},
     "output_type": "execute_result"
    }
   ],
   "source": [
    "#Saco las keys de un documento d e la coleccción  de restaurantes\n",
    "r.find_one({}).keys()"
   ]
  },
  {
   "cell_type": "code",
   "execution_count": 39,
   "id": "discrete-heating",
   "metadata": {},
   "outputs": [],
   "source": [
    "query = r.find({\"location\": {\"$geoWithin\": {\"$geometry\": geo}}})"
   ]
  },
  {
   "cell_type": "code",
   "execution_count": null,
   "id": "informational-vector",
   "metadata": {},
   "outputs": [],
   "source": [
    "# ER FIRTRO\n",
    "filtro = {\"location\": {\"$geoWithin\": {\"$geometry\": geo}}}"
   ]
  },
  {
   "cell_type": "code",
   "execution_count": 40,
   "id": "brilliant-reduction",
   "metadata": {},
   "outputs": [
    {
     "data": {
      "text/html": [
       "<div>\n",
       "<style scoped>\n",
       "    .dataframe tbody tr th:only-of-type {\n",
       "        vertical-align: middle;\n",
       "    }\n",
       "\n",
       "    .dataframe tbody tr th {\n",
       "        vertical-align: top;\n",
       "    }\n",
       "\n",
       "    .dataframe thead th {\n",
       "        text-align: right;\n",
       "    }\n",
       "</style>\n",
       "<table border=\"1\" class=\"dataframe\">\n",
       "  <thead>\n",
       "    <tr style=\"text-align: right;\">\n",
       "      <th></th>\n",
       "      <th>_id</th>\n",
       "      <th>location</th>\n",
       "      <th>name</th>\n",
       "    </tr>\n",
       "  </thead>\n",
       "  <tbody>\n",
       "    <tr>\n",
       "      <th>0</th>\n",
       "      <td>55cba2476c522cafdb056004</td>\n",
       "      <td>{'coordinates': [-73.9259201, 40.8278293], 'ty...</td>\n",
       "      <td>Hard Rock Cafe</td>\n",
       "    </tr>\n",
       "    <tr>\n",
       "      <th>1</th>\n",
       "      <td>55cba2476c522cafdb056005</td>\n",
       "      <td>{'coordinates': [-73.9259201, 40.8278293], 'ty...</td>\n",
       "      <td>Nyy Steak</td>\n",
       "    </tr>\n",
       "    <tr>\n",
       "      <th>2</th>\n",
       "      <td>55cba2476c522cafdb058ae9</td>\n",
       "      <td>{'coordinates': [-73.9259245, 40.827435], 'typ...</td>\n",
       "      <td>Dunkin Donuts</td>\n",
       "    </tr>\n",
       "    <tr>\n",
       "      <th>3</th>\n",
       "      <td>55cba2476c522cafdb0543cb</td>\n",
       "      <td>{'coordinates': [-73.92594439999999, 40.827212...</td>\n",
       "      <td>Billy'S Sport Bar Restaurant &amp; Lounge</td>\n",
       "    </tr>\n",
       "    <tr>\n",
       "      <th>4</th>\n",
       "      <td>55cba2476c522cafdb056784</td>\n",
       "      <td>{'coordinates': [-73.9262845, 40.8266956999999...</td>\n",
       "      <td>Stan'S Sports Bar</td>\n",
       "    </tr>\n",
       "  </tbody>\n",
       "</table>\n",
       "</div>"
      ],
      "text/plain": [
       "                        _id  \\\n",
       "0  55cba2476c522cafdb056004   \n",
       "1  55cba2476c522cafdb056005   \n",
       "2  55cba2476c522cafdb058ae9   \n",
       "3  55cba2476c522cafdb0543cb   \n",
       "4  55cba2476c522cafdb056784   \n",
       "\n",
       "                                            location  \\\n",
       "0  {'coordinates': [-73.9259201, 40.8278293], 'ty...   \n",
       "1  {'coordinates': [-73.9259201, 40.8278293], 'ty...   \n",
       "2  {'coordinates': [-73.9259245, 40.827435], 'typ...   \n",
       "3  {'coordinates': [-73.92594439999999, 40.827212...   \n",
       "4  {'coordinates': [-73.9262845, 40.8266956999999...   \n",
       "\n",
       "                                    name  \n",
       "0                         Hard Rock Cafe  \n",
       "1                              Nyy Steak  \n",
       "2                          Dunkin Donuts  \n",
       "3  Billy'S Sport Bar Restaurant & Lounge  \n",
       "4                      Stan'S Sports Bar  "
      ]
     },
     "execution_count": 40,
     "metadata": {},
     "output_type": "execute_result"
    }
   ],
   "source": [
    "import pandas as pd\n",
    "df = pd.DataFrame(list(query))\n",
    "df.head()"
   ]
  },
  {
   "cell_type": "markdown",
   "id": "powerful-wesley",
   "metadata": {},
   "source": [
    "## Near"
   ]
  },
  {
   "cell_type": "markdown",
   "id": "confident-stereo",
   "metadata": {},
   "source": [
    "¿Qué elementos se encuentran a una distancia de una geometría determinada?     \n",
    "`$nearSphere`/`$near` y `$maxDistance` nos ayudan a encontrar todos los elementos dentro de `maxDistance` metros de la geometría deseada, **ordenados** de más cercano a más lejano."
   ]
  },
  {
   "cell_type": "code",
   "execution_count": 88,
   "id": "perceived-prague",
   "metadata": {},
   "outputs": [],
   "source": [
    "#  Mi posición, voy a buscar restaurantes cercanos a  ESTE punto\n",
    "coordenadas2 = [-73.93, 40.82]\n",
    "coord_point = {\"type\":\"Point\", \"coordinates\": coordenadas2}"
   ]
  },
  {
   "cell_type": "code",
   "execution_count": 89,
   "id": "usual-purchase",
   "metadata": {},
   "outputs": [],
   "source": [
    "# Km que quiero  caminar\n",
    "metros = 3000"
   ]
  },
  {
   "cell_type": "code",
   "execution_count": 99,
   "id": "distinguished-sense",
   "metadata": {},
   "outputs": [],
   "source": [
    "query = {\"location\": {\"$near\": {\"$geometry\": coord_point,\"$minDistance\": 500  , \"$maxDistance\": metros}}}"
   ]
  },
  {
   "cell_type": "code",
   "execution_count": 100,
   "id": "laden-capitol",
   "metadata": {},
   "outputs": [],
   "source": [
    "query_final = r.find(query,proj)"
   ]
  },
  {
   "cell_type": "code",
   "execution_count": 101,
   "id": "continuing-liability",
   "metadata": {},
   "outputs": [],
   "source": [
    "df = pd.DataFrame(list(query_final))"
   ]
  },
  {
   "cell_type": "code",
   "execution_count": 102,
   "id": "modified-prince",
   "metadata": {},
   "outputs": [
    {
     "data": {
      "text/html": [
       "<div>\n",
       "<style scoped>\n",
       "    .dataframe tbody tr th:only-of-type {\n",
       "        vertical-align: middle;\n",
       "    }\n",
       "\n",
       "    .dataframe tbody tr th {\n",
       "        vertical-align: top;\n",
       "    }\n",
       "\n",
       "    .dataframe thead th {\n",
       "        text-align: right;\n",
       "    }\n",
       "</style>\n",
       "<table border=\"1\" class=\"dataframe\">\n",
       "  <thead>\n",
       "    <tr style=\"text-align: right;\">\n",
       "      <th></th>\n",
       "      <th>name</th>\n",
       "    </tr>\n",
       "  </thead>\n",
       "  <tbody>\n",
       "    <tr>\n",
       "      <th>0</th>\n",
       "      <td>Jo Jo Pizza</td>\n",
       "    </tr>\n",
       "    <tr>\n",
       "      <th>1</th>\n",
       "      <td>Kentucky Fried Chicken</td>\n",
       "    </tr>\n",
       "    <tr>\n",
       "      <th>2</th>\n",
       "      <td>Papa John'S</td>\n",
       "    </tr>\n",
       "    <tr>\n",
       "      <th>3</th>\n",
       "      <td>Jimbo'S Hamburgers</td>\n",
       "    </tr>\n",
       "    <tr>\n",
       "      <th>4</th>\n",
       "      <td>Sweet Mama'S Soul Food</td>\n",
       "    </tr>\n",
       "  </tbody>\n",
       "</table>\n",
       "</div>"
      ],
      "text/plain": [
       "                     name\n",
       "0             Jo Jo Pizza\n",
       "1  Kentucky Fried Chicken\n",
       "2             Papa John'S\n",
       "3      Jimbo'S Hamburgers\n",
       "4  Sweet Mama'S Soul Food"
      ]
     },
     "execution_count": 102,
     "metadata": {},
     "output_type": "execute_result"
    }
   ],
   "source": [
    "df.head()"
   ]
  },
  {
   "cell_type": "markdown",
   "id": "toxic-convention",
   "metadata": {},
   "source": [
    "## Extra, extra!! mis datos extraídos de Foursquare en Mongo"
   ]
  },
  {
   "cell_type": "markdown",
   "id": "published-processor",
   "metadata": {},
   "source": [
    "### Voy a traerme todas las fruterías de Madrid"
   ]
  },
  {
   "cell_type": "code",
   "execution_count": null,
   "id": "colored-grave",
   "metadata": {},
   "outputs": [],
   "source": [
    "import requests\n",
    "import json\n",
    "from dotenv import load_dotenv\n",
    "import os\n",
    "import pandas as pd\n",
    "load_dotenv()"
   ]
  },
  {
   "cell_type": "code",
   "execution_count": null,
   "id": "contained-frontier",
   "metadata": {},
   "outputs": [],
   "source": [
    "tok1= os.getenv(\"tok1\")\n",
    "tok2= os.getenv(\"tok2\")"
   ]
  },
  {
   "cell_type": "code",
   "execution_count": null,
   "id": "direct-papua",
   "metadata": {},
   "outputs": [],
   "source": [
    "madrid = {'type': 'Point', 'coordinates': [-3.6793, 40.42955]}"
   ]
  },
  {
   "cell_type": "code",
   "execution_count": null,
   "id": "western-pleasure",
   "metadata": {},
   "outputs": [],
   "source": [
    "url_query = 'https://api.foursquare.com/v2/venues/explore'"
   ]
  },
  {
   "cell_type": "code",
   "execution_count": null,
   "id": "neural-islam",
   "metadata": {},
   "outputs": [],
   "source": [
    "parametros = {\n",
    "    \"client_id\": tok1,\n",
    "    \"client_secret\": tok2,\n",
    "    \"v\": \"20180323\",\n",
    "    \"ll\": f\"{madrid.get('coordinates')[1]},{madrid.get('coordinates')[0]}\",\n",
    "    \"query\": \"frutería\", \n",
    "    \"limit\": 100    \n",
    "}"
   ]
  },
  {
   "cell_type": "code",
   "execution_count": null,
   "id": "detected-nitrogen",
   "metadata": {},
   "outputs": [],
   "source": [
    "resp = requests.get(url= url_query, params = parametros).json()"
   ]
  },
  {
   "cell_type": "code",
   "execution_count": null,
   "id": "abandoned-penetration",
   "metadata": {},
   "outputs": [],
   "source": [
    "data = resp.get(\"response\").get(\"groups\")[0].get(\"items\")"
   ]
  },
  {
   "cell_type": "code",
   "execution_count": null,
   "id": "separated-venture",
   "metadata": {},
   "outputs": [],
   "source": [
    "from functools import reduce\n",
    "import operator"
   ]
  },
  {
   "cell_type": "code",
   "execution_count": null,
   "id": "oriental-stadium",
   "metadata": {},
   "outputs": [],
   "source": [
    "# Mis fuentes --stackoverflow\n",
    "def getFromDict(diccionario,mapa):\n",
    "    return reduce(operator.getitem,mapa,diccionario)"
   ]
  },
  {
   "cell_type": "code",
   "execution_count": null,
   "id": "injured-morning",
   "metadata": {},
   "outputs": [],
   "source": [
    "mapa_nombre =  [\"venue\", \"name\"]\n",
    "mapa_latitud = [\"venue\", \"location\", \"lat\"]\n",
    "mapa_longitud = [\"venue\", \"location\", \"lng\"]"
   ]
  },
  {
   "cell_type": "code",
   "execution_count": null,
   "id": "continuous-hawaii",
   "metadata": {},
   "outputs": [],
   "source": [
    "lista_frutas = []\n",
    "for dic in data:\n",
    "    paralista = {}\n",
    "    paralista[\"name\"] = getFromDict(dic, mapa_nombre)\n",
    "    paralista[\"latitud\"]= getFromDict(dic, mapa_latitud)\n",
    "    paralista[\"longitud\"] = getFromDict(dic,mapa_longitud)\n",
    "    lista_frutas.append(paralista)"
   ]
  },
  {
   "cell_type": "code",
   "execution_count": null,
   "id": "armed-scale",
   "metadata": {},
   "outputs": [],
   "source": [
    "df = pd.DataFrame(lista_frutas)\n",
    "df.head()"
   ]
  },
  {
   "cell_type": "markdown",
   "id": "hearing-metallic",
   "metadata": {},
   "source": [
    "Vamos a manipular los datos para tener esta misma estructura en tipo point y poder hacer un index en Mongo para realizar geoqueries"
   ]
  },
  {
   "cell_type": "code",
   "execution_count": null,
   "id": "metallic-scanning",
   "metadata": {},
   "outputs": [],
   "source": [
    "lista_frutas[0]"
   ]
  },
  {
   "cell_type": "code",
   "execution_count": null,
   "id": "familiar-launch",
   "metadata": {},
   "outputs": [],
   "source": []
  },
  {
   "cell_type": "code",
   "execution_count": null,
   "id": "embedded-format",
   "metadata": {},
   "outputs": [],
   "source": []
  },
  {
   "cell_type": "code",
   "execution_count": null,
   "id": "tribal-border",
   "metadata": {},
   "outputs": [],
   "source": []
  },
  {
   "cell_type": "code",
   "execution_count": null,
   "id": "juvenile-tourism",
   "metadata": {},
   "outputs": [],
   "source": []
  },
  {
   "cell_type": "markdown",
   "id": "educated-observation",
   "metadata": {},
   "source": [
    "## Vamos a buscar a cuántos km están las fruterías de mi casa"
   ]
  },
  {
   "cell_type": "code",
   "execution_count": null,
   "id": "fitting-rider",
   "metadata": {},
   "outputs": [],
   "source": []
  },
  {
   "cell_type": "code",
   "execution_count": null,
   "id": "waiting-milton",
   "metadata": {},
   "outputs": [],
   "source": []
  },
  {
   "cell_type": "code",
   "execution_count": null,
   "id": "rolled-thomson",
   "metadata": {},
   "outputs": [],
   "source": []
  }
 ],
 "metadata": {
  "kernelspec": {
   "display_name": "Python 3",
   "language": "python",
   "name": "python3"
  },
  "language_info": {
   "codemirror_mode": {
    "name": "ipython",
    "version": 3
   },
   "file_extension": ".py",
   "mimetype": "text/x-python",
   "name": "python",
   "nbconvert_exporter": "python",
   "pygments_lexer": "ipython3",
   "version": "3.8.5"
  },
  "toc": {
   "base_numbering": 1,
   "nav_menu": {},
   "number_sections": true,
   "sideBar": true,
   "skip_h1_title": true,
   "title_cell": "Table of Contents",
   "title_sidebar": "Contents",
   "toc_cell": true,
   "toc_position": {
    "height": "calc(100% - 180px)",
    "left": "10px",
    "top": "150px",
    "width": "288px"
   },
   "toc_section_display": true,
   "toc_window_display": true
  }
 },
 "nbformat": 4,
 "nbformat_minor": 5
}
