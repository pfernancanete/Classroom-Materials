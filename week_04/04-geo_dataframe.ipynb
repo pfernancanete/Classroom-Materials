{
 "cells": [
  {
   "cell_type": "markdown",
   "metadata": {
    "toc": true
   },
   "source": [
    "<h1>Table of Contents<span class=\"tocSkip\"></span></h1>\n",
    "<div class=\"toc\"><ul class=\"toc-item\"><li><span><a href=\"#GeoDataframe-/-Carto\" data-toc-modified-id=\"GeoDataframe-/-Carto-1\"><span class=\"toc-item-num\">1&nbsp;&nbsp;</span>GeoDataframe / Carto</a></span></li></ul></div>"
   ]
  },
  {
   "cell_type": "markdown",
   "metadata": {},
   "source": [
    "### GeoDataframe / Carto"
   ]
  },
  {
   "cell_type": "markdown",
   "metadata": {},
   "source": [
    "![mapa](../images/geo_portada.jpg)"
   ]
  },
  {
   "cell_type": "code",
   "execution_count": 19,
   "metadata": {},
   "outputs": [],
   "source": [
    "import requests\n",
    "import json\n",
    "from dotenv import load_dotenv\n",
    "import os\n",
    "import pandas as pd\n"
   ]
  },
  {
   "cell_type": "code",
   "execution_count": 20,
   "metadata": {},
   "outputs": [
    {
     "data": {
      "text/plain": [
       "True"
      ]
     },
     "execution_count": 20,
     "metadata": {},
     "output_type": "execute_result"
    }
   ],
   "source": [
    "load_dotenv()"
   ]
  },
  {
   "cell_type": "markdown",
   "metadata": {},
   "source": [
    "Hay APIS para un montón de cosas, aquí os dejo GEOCODE\n",
    "- https://geocode.xyz/"
   ]
  },
  {
   "cell_type": "code",
   "execution_count": 3,
   "metadata": {},
   "outputs": [],
   "source": [
    "donde = \"madrid\"\n",
    "def geocode(address):\n",
    "    \"\"\"\n",
    "    Saca las coordenadas de una dirección que le des.\n",
    "    \"\"\"\n",
    "    data = requests.get(f\"https://geocode.xyz/{address}?json=1\").json()\n",
    "    try:\n",
    "        return {\n",
    "            \"type\":\"Point\",\n",
    "            \"coordinates\":[float(data[\"longt\"]),float(data[\"latt\"])]}\n",
    "    except:\n",
    "        return data"
   ]
  },
  {
   "cell_type": "code",
   "execution_count": 4,
   "metadata": {},
   "outputs": [
    {
     "data": {
      "text/plain": [
       "{'standard': {'addresst': {},\n",
       "  'city': 'Madrid',\n",
       "  'prov': 'ES',\n",
       "  'countryname': 'Spain',\n",
       "  'postal': {},\n",
       "  'confidence': '0.90'},\n",
       " 'longt': '-3.67930',\n",
       " 'alt': {'loc': {'longt': '-3.64539',\n",
       "   'prov': 'ES',\n",
       "   'city': 'Madrid',\n",
       "   'countryname': 'Spain',\n",
       "   'postal': '28017',\n",
       "   'region': {},\n",
       "   'latt': '40.42882'}},\n",
       " 'elevation': {},\n",
       " 'latt': '40.42955'}"
      ]
     },
     "execution_count": 4,
     "metadata": {},
     "output_type": "execute_result"
    }
   ],
   "source": [
    "datos = requests.get(f\"https://geocode.xyz/{donde}?json=1\").json()\n",
    "datos"
   ]
  },
  {
   "cell_type": "code",
   "execution_count": 5,
   "metadata": {},
   "outputs": [
    {
     "data": {
      "text/plain": [
       "'40.42955'"
      ]
     },
     "execution_count": 5,
     "metadata": {},
     "output_type": "execute_result"
    }
   ],
   "source": [
    "datos[\"latt\"]"
   ]
  },
  {
   "cell_type": "code",
   "execution_count": 6,
   "metadata": {},
   "outputs": [
    {
     "data": {
      "text/plain": [
       "'-3.67930'"
      ]
     },
     "execution_count": 6,
     "metadata": {},
     "output_type": "execute_result"
    }
   ],
   "source": [
    "datos[\"longt\"]"
   ]
  },
  {
   "cell_type": "code",
   "execution_count": 7,
   "metadata": {},
   "outputs": [],
   "source": [
    "madrid = geocode(donde)"
   ]
  },
  {
   "cell_type": "code",
   "execution_count": 8,
   "metadata": {},
   "outputs": [
    {
     "data": {
      "text/plain": [
       "{'type': 'Point', 'coordinates': [-3.6793, 40.42955]}"
      ]
     },
     "execution_count": 8,
     "metadata": {},
     "output_type": "execute_result"
    }
   ],
   "source": [
    "#longitud - latitud\n",
    "madrid"
   ]
  },
  {
   "cell_type": "markdown",
   "metadata": {},
   "source": [
    "A veces Geocode Falla, así que plan es sacar las coordenadas de la web"
   ]
  },
  {
   "cell_type": "code",
   "execution_count": 13,
   "metadata": {},
   "outputs": [],
   "source": [
    "madrid = {'type': 'Point', 'coordinates': [-3.6793, 40.42955]}"
   ]
  },
  {
   "cell_type": "markdown",
   "metadata": {},
   "source": [
    "¿Queremos hacernos una base de datos con todos los restaurantes Veganos de Madrid que hay en Foursquare? \n",
    "EEEEAAAASSSSYYYY (¡¡Somos programadoras!!) 🚀🙃🐭🔥🐼🤯"
   ]
  },
  {
   "cell_type": "markdown",
   "metadata": {},
   "source": [
    "Lamento deciros que lo primerito es leer la documentación de la API. \n",
    "- https://developer.foursquare.com/docs/api-reference/venues/search/"
   ]
  },
  {
   "cell_type": "markdown",
   "metadata": {},
   "source": [
    "#QUEYOYAESTABAREGISTRADA así que ya tengo token ...."
   ]
  },
  {
   "cell_type": "code",
   "execution_count": 10,
   "metadata": {},
   "outputs": [],
   "source": [
    "#Pero lo he guardado en un .env para que no me llegue ningún e-mail BOMBA 💌💣"
   ]
  },
  {
   "cell_type": "code",
   "execution_count": 21,
   "metadata": {},
   "outputs": [],
   "source": [
    "tok1 = os.getenv(\"tok1\")\n",
    "tok2 = os.getenv(\"tok2\")"
   ]
  },
  {
   "cell_type": "code",
   "execution_count": 22,
   "metadata": {},
   "outputs": [
    {
     "data": {
      "text/plain": [
       "'1UO1CCM0MHA3AK15FPNUZ5QNYLZ11P0UATF4TBSCKHHJO15B'"
      ]
     },
     "execution_count": 22,
     "metadata": {},
     "output_type": "execute_result"
    }
   ],
   "source": [
    "tok1"
   ]
  },
  {
   "cell_type": "code",
   "execution_count": 23,
   "metadata": {},
   "outputs": [],
   "source": [
    "#url = \"https://favqs.com/api/session\"\n",
    "url_query = 'https://api.foursquare.com/v2/venues/explore'\n",
    "vegan = \"4bf58dd8d48988d1d3941735\""
   ]
  },
  {
   "cell_type": "code",
   "execution_count": 24,
   "metadata": {},
   "outputs": [],
   "source": [
    "\"\"\"\n",
    "Ojo con cómo ponemos la latitud y la longitud que \n",
    "\n",
    "\"\"\"\n",
    "\n",
    "parametros = {\n",
    "    \n",
    "    \"client_id\": tok1,\n",
    "    \"client_secret\": tok2,\n",
    "    \"v\": \"20180323\",\n",
    "    \"ll\": f\"{madrid.get('coordinates')[0]},{madrid.get('coordinates')[1]}\",\n",
    "    \"query\": f\"{vegan}\", \n",
    "    \"limit\": 100    \n",
    "}"
   ]
  },
  {
   "cell_type": "code",
   "execution_count": 26,
   "metadata": {},
   "outputs": [],
   "source": [
    "resp = requests.get(url= url_query, params = parametros).json()\n",
    "#resp"
   ]
  },
  {
   "cell_type": "code",
   "execution_count": 27,
   "metadata": {},
   "outputs": [
    {
     "data": {
      "text/plain": [
       "dict_keys(['meta', 'response'])"
      ]
     },
     "execution_count": 27,
     "metadata": {},
     "output_type": "execute_result"
    }
   ],
   "source": [
    "resp.keys()"
   ]
  },
  {
   "cell_type": "code",
   "execution_count": 28,
   "metadata": {},
   "outputs": [],
   "source": [
    "data = resp.get(\"response\")"
   ]
  },
  {
   "cell_type": "code",
   "execution_count": 35,
   "metadata": {},
   "outputs": [
    {
     "name": "stdout",
     "output_type": "stream",
     "text": [
      "key suggestedFilters ---> value {'header': 'Tap to show:', 'filters': [{'name': 'Open now', 'key': 'openNow'}]} \n",
      "\n",
      "key suggestedRadius ---> value 30000 \n",
      "\n",
      "key headerLocation ---> value Current map view \n",
      "\n",
      "key headerFullLocation ---> value Current map view \n",
      "\n",
      "key headerLocationGranularity ---> value unknown \n",
      "\n",
      "key query ---> value 4bf58dd8d48988d1d3941735 \n",
      "\n",
      "key totalResults ---> value 12 \n",
      "\n",
      "key suggestedBounds ---> value {'ne': {'lat': -3.1740837600355443, 'lng': 40.1503059001387}, 'sw': {'lat': -4.121438105395224, 'lng': 39.647388018330595}} \n",
      "\n",
      "key groups ---> value [{'type': 'Recommended Places', 'name': 'recommended', 'items': [{'reasons': {'count': 0, 'items': [{'summary': 'This spot is popular', 'type': 'general', 'reasonName': 'globalInteractionReason'}]}, 'venue': {'id': '4ebd82f75c5c279833136481', 'name': 'Come Back Disco Lounge Bar Watamu', 'contact': {}, 'location': {'lat': -3.3545077926688673, 'lng': 40.01987952122293, 'labeledLatLngs': [{'label': 'display', 'lat': -3.3545077926688673, 'lng': 40.01987952122293}], 'distance': 58130, 'cc': 'KE', 'state': 'Provincia Costiera', 'country': 'Kenya', 'formattedAddress': ['Kenya']}, 'categories': [{'id': '4bf58dd8d48988d11f941735', 'name': 'Nightclub', 'pluralName': 'Nightclubs', 'shortName': 'Nightclub', 'icon': {'prefix': 'https://ss3.4sqi.net/img/categories_v2/nightlife/nightclub_', 'suffix': '.png'}, 'primary': True}], 'verified': False, 'stats': {'tipCount': 0, 'usersCount': 0, 'checkinsCount': 0, 'visitsCount': 0}, 'beenHere': {'count': 0, 'lastCheckinExpiredAt': 0, 'marked': False, 'unconfirmedCount': 0}, 'photos': {'count': 0, 'groups': []}, 'hereNow': {'count': 0, 'summary': 'Nobody here', 'groups': []}}, 'flags': {'outsideRadius': True}, 'referralId': 'e-0-4ebd82f75c5c279833136481-0'}, {'reasons': {'count': 0, 'items': [{'summary': 'This spot is popular', 'type': 'general', 'reasonName': 'globalInteractionReason'}]}, 'venue': {'id': '5495d1ef498eac4fe258560f', 'name': 'Osteria del Chianti, Malindi', 'contact': {}, 'location': {'address': 'Mama Ngina Road', 'lat': -3.2195142019032255, 'lng': 40.125945765473276, 'labeledLatLngs': [{'label': 'display', 'lat': -3.2195142019032255, 'lng': 40.125945765473276}], 'distance': 61300, 'cc': 'KE', 'city': 'Malindi', 'state': 'Coast', 'country': 'Kenya', 'formattedAddress': ['Mama Ngina Road', 'Malindi', 'Kenya']}, 'categories': [{'id': '4bf58dd8d48988d110941735', 'name': 'Italian Restaurant', 'pluralName': 'Italian Restaurants', 'shortName': 'Italian', 'icon': {'prefix': 'https://ss3.4sqi.net/img/categories_v2/food/italian_', 'suffix': '.png'}, 'primary': True}], 'verified': False, 'stats': {'tipCount': 0, 'usersCount': 0, 'checkinsCount': 0, 'visitsCount': 0}, 'beenHere': {'count': 0, 'lastCheckinExpiredAt': 0, 'marked': False, 'unconfirmedCount': 0}, 'photos': {'count': 0, 'groups': []}, 'hereNow': {'count': 0, 'summary': 'Nobody here', 'groups': []}}, 'flags': {'outsideRadius': True}, 'referralId': 'e-0-5495d1ef498eac4fe258560f-1'}, {'reasons': {'count': 0, 'items': [{'summary': 'This spot is popular', 'type': 'general', 'reasonName': 'globalInteractionReason'}]}, 'venue': {'id': '4ee1ef0693ad88a6be529963', 'name': 'Simba Dishes Malindi', 'contact': {}, 'location': {'lat': -3.217145321188257, 'lng': 40.118822821412216, 'labeledLatLngs': [{'label': 'display', 'lat': -3.217145321188257, 'lng': 40.118822821412216}], 'distance': 61958, 'cc': 'KE', 'city': 'Malindi', 'state': 'Kilifi', 'country': 'Kenya', 'formattedAddress': ['Malindi', 'Kenya']}, 'categories': [{'id': '4bf58dd8d48988d1c8941735', 'name': 'African Restaurant', 'pluralName': 'African Restaurants', 'shortName': 'African', 'icon': {'prefix': 'https://ss3.4sqi.net/img/categories_v2/food/african_', 'suffix': '.png'}, 'primary': True}], 'verified': False, 'stats': {'tipCount': 0, 'usersCount': 0, 'checkinsCount': 0, 'visitsCount': 0}, 'beenHere': {'count': 0, 'lastCheckinExpiredAt': 0, 'marked': False, 'unconfirmedCount': 0}, 'photos': {'count': 0, 'groups': []}, 'hereNow': {'count': 0, 'summary': 'Nobody here', 'groups': []}}, 'flags': {'outsideRadius': True}, 'referralId': 'e-0-4ee1ef0693ad88a6be529963-2'}, {'reasons': {'count': 0, 'items': [{'summary': 'This spot is popular', 'type': 'general', 'reasonName': 'globalInteractionReason'}]}, 'venue': {'id': '5218848111d2a62ff21e7c58', 'name': 'Driftwood Club', 'contact': {}, 'location': {'lat': -3.2360390182131513, 'lng': 40.12744599642015, 'labeledLatLngs': [{'label': 'display', 'lat': -3.2360390182131513, 'lng': 40.12744599642015}], 'distance': 59679, 'cc': 'KE', 'country': 'Kenya', 'formattedAddress': ['Kenya']}, 'categories': [{'id': '4bf58dd8d48988d1c4941735', 'name': 'Restaurant', 'pluralName': 'Restaurants', 'shortName': 'Restaurant', 'icon': {'prefix': 'https://ss3.4sqi.net/img/categories_v2/food/default_', 'suffix': '.png'}, 'primary': True}], 'verified': False, 'stats': {'tipCount': 0, 'usersCount': 0, 'checkinsCount': 0, 'visitsCount': 0}, 'beenHere': {'count': 0, 'lastCheckinExpiredAt': 0, 'marked': False, 'unconfirmedCount': 0}, 'photos': {'count': 0, 'groups': []}, 'hereNow': {'count': 0, 'summary': 'Nobody here', 'groups': []}}, 'flags': {'outsideRadius': True}, 'referralId': 'e-0-5218848111d2a62ff21e7c58-3'}, {'reasons': {'count': 0, 'items': [{'summary': 'This spot is popular', 'type': 'general', 'reasonName': 'globalInteractionReason'}]}, 'venue': {'id': '4dbe51251e72b351cade8a3e', 'name': 'Diamonds Dreams Of Africa', 'contact': {}, 'location': {'lat': -3.2396198715134283, 'lng': 40.1266908848839, 'labeledLatLngs': [{'label': 'display', 'lat': -3.2396198715134283, 'lng': 40.1266908848839}], 'distance': 59397, 'cc': 'KE', 'city': 'Malindi', 'state': 'Coast', 'country': 'Kenya', 'formattedAddress': ['Malindi', 'Kenya']}, 'categories': [{'id': '4bf58dd8d48988d1fa931735', 'name': 'Hotel', 'pluralName': 'Hotels', 'shortName': 'Hotel', 'icon': {'prefix': 'https://ss3.4sqi.net/img/categories_v2/travel/hotel_', 'suffix': '.png'}, 'primary': True}], 'verified': False, 'stats': {'tipCount': 0, 'usersCount': 0, 'checkinsCount': 0, 'visitsCount': 0}, 'beenHere': {'count': 0, 'lastCheckinExpiredAt': 0, 'marked': False, 'unconfirmedCount': 0}, 'photos': {'count': 0, 'groups': []}, 'hereNow': {'count': 0, 'summary': 'Nobody here', 'groups': []}}, 'flags': {'outsideRadius': True}, 'referralId': 'e-0-4dbe51251e72b351cade8a3e-4'}, {'reasons': {'count': 0, 'items': [{'summary': 'This spot is popular', 'type': 'general', 'reasonName': 'globalInteractionReason'}]}, 'venue': {'id': '4e5397ea091acfabd6375d09', 'name': 'Cafesserie - Maison de qualitè', 'contact': {}, 'location': {'address': 'Nakumatt nyali', 'crossStreet': 'Mombasa-malindi road', 'lat': -4.019841357052213, 'lng': 39.7207805809334, 'labeledLatLngs': [{'label': 'display', 'lat': -4.019841357052213, 'lng': 39.7207805809334}], 'distance': 87373, 'postalCode': '80101', 'cc': 'KE', 'city': 'Mombasa', 'state': 'Mombasa', 'country': 'Kenya', 'formattedAddress': ['Nakumatt nyali (Mombasa-malindi road)', 'Mombasa', '80101', 'Kenya']}, 'categories': [{'id': '4bf58dd8d48988d16d941735', 'name': 'Café', 'pluralName': 'Cafés', 'shortName': 'Café', 'icon': {'prefix': 'https://ss3.4sqi.net/img/categories_v2/food/cafe_', 'suffix': '.png'}, 'primary': True}], 'verified': False, 'stats': {'tipCount': 0, 'usersCount': 0, 'checkinsCount': 0, 'visitsCount': 0}, 'beenHere': {'count': 0, 'lastCheckinExpiredAt': 0, 'marked': False, 'unconfirmedCount': 0}, 'photos': {'count': 0, 'groups': []}, 'hereNow': {'count': 0, 'summary': 'Nobody here', 'groups': []}}, 'flags': {'outsideRadius': True}, 'referralId': 'e-0-4e5397ea091acfabd6375d09-5'}, {'reasons': {'count': 0, 'items': [{'summary': 'This spot is popular', 'type': 'general', 'reasonName': 'globalInteractionReason'}]}, 'venue': {'id': '4f845c28e4b0f13eb5659a15', 'name': 'Dormans Coffee House', 'contact': {}, 'location': {'lat': -4.0193429254899105, 'lng': 39.72079940875729, 'labeledLatLngs': [{'label': 'display', 'lat': -4.0193429254899105, 'lng': 39.72079940875729}], 'distance': 87347, 'cc': 'KE', 'country': 'Kenya', 'formattedAddress': ['Kenya']}, 'categories': [{'id': '4bf58dd8d48988d1e0931735', 'name': 'Coffee Shop', 'pluralName': 'Coffee Shops', 'shortName': 'Coffee Shop', 'icon': {'prefix': 'https://ss3.4sqi.net/img/categories_v2/food/coffeeshop_', 'suffix': '.png'}, 'primary': True}], 'verified': False, 'stats': {'tipCount': 0, 'usersCount': 0, 'checkinsCount': 0, 'visitsCount': 0}, 'beenHere': {'count': 0, 'lastCheckinExpiredAt': 0, 'marked': False, 'unconfirmedCount': 0}, 'photos': {'count': 0, 'groups': []}, 'hereNow': {'count': 0, 'summary': 'Nobody here', 'groups': []}}, 'flags': {'outsideRadius': True}, 'referralId': 'e-0-4f845c28e4b0f13eb5659a15-6'}, {'reasons': {'count': 0, 'items': [{'summary': 'This spot is popular', 'type': 'general', 'reasonName': 'globalInteractionReason'}]}, 'venue': {'id': '4f3d236de4b0fa28e0d6eed9', 'name': 'Tamarind Dhow', 'contact': {}, 'location': {'address': 'P.O. Box 85785', 'lat': -4.049301151432841, 'lng': 39.681443205762484, 'labeledLatLngs': [{'label': 'display', 'lat': -4.049301151432841, 'lng': 39.681443205762484}], 'distance': 92737, 'cc': 'KE', 'city': 'Mombasa', 'state': 'Coast', 'country': 'Kenya', 'formattedAddress': ['P.O. Box 85785', 'Mombasa', 'Kenya']}, 'categories': [{'id': '4bf58dd8d48988d1ce941735', 'name': 'Seafood Restaurant', 'pluralName': 'Seafood Restaurants', 'shortName': 'Seafood', 'icon': {'prefix': 'https://ss3.4sqi.net/img/categories_v2/food/seafood_', 'suffix': '.png'}, 'primary': True}], 'verified': False, 'stats': {'tipCount': 0, 'usersCount': 0, 'checkinsCount': 0, 'visitsCount': 0}, 'beenHere': {'count': 0, 'lastCheckinExpiredAt': 0, 'marked': False, 'unconfirmedCount': 0}, 'photos': {'count': 0, 'groups': []}, 'hereNow': {'count': 0, 'summary': 'Nobody here', 'groups': []}}, 'flags': {'outsideRadius': True}, 'referralId': 'e-0-4f3d236de4b0fa28e0d6eed9-7'}, {'reasons': {'count': 0, 'items': [{'summary': 'This spot is popular', 'type': 'general', 'reasonName': 'globalInteractionReason'}]}, 'venue': {'id': '4c53fbd730f92d7f7e0daeb9', 'name': 'Mama ngina drive', 'contact': {}, 'location': {'address': 'Mombasa Island', 'lat': -4.078376544242511, 'lng': 39.67024792204915, 'labeledLatLngs': [{'label': 'display', 'lat': -4.078376544242511, 'lng': 39.67024792204915}], 'distance': 95316, 'cc': 'KE', 'city': 'Mombasa', 'state': 'Mombasa', 'country': 'Kenya', 'formattedAddress': ['Mombasa Island', 'Mombasa', 'Kenya']}, 'categories': [{'id': '4bf58dd8d48988d165941735', 'name': 'Scenic Lookout', 'pluralName': 'Scenic Lookouts', 'shortName': 'Scenic Lookout', 'icon': {'prefix': 'https://ss3.4sqi.net/img/categories_v2/parks_outdoors/sceniclookout_', 'suffix': '.png'}, 'primary': True}], 'verified': False, 'stats': {'tipCount': 0, 'usersCount': 0, 'checkinsCount': 0, 'visitsCount': 0}, 'beenHere': {'count': 0, 'lastCheckinExpiredAt': 0, 'marked': False, 'unconfirmedCount': 0}, 'photos': {'count': 0, 'groups': []}, 'hereNow': {'count': 0, 'summary': 'Nobody here', 'groups': []}}, 'flags': {'outsideRadius': True}, 'referralId': 'e-0-4c53fbd730f92d7f7e0daeb9-8'}, {'reasons': {'count': 0, 'items': [{'summary': 'This spot is popular', 'type': 'general', 'reasonName': 'globalInteractionReason'}]}, 'venue': {'id': '4e78acd6ae60e5ae005ec910', 'name': 'Bella Vista Sports Bar Dg Rd', 'contact': {}, 'location': {'crossStreet': 'Digo Road', 'lat': -4.060614691686987, 'lng': 39.6717631638616, 'labeledLatLngs': [{'label': 'display', 'lat': -4.060614691686987, 'lng': 39.6717631638616}], 'distance': 94261, 'postalCode': '80100', 'cc': 'KE', 'city': 'Mombasa', 'state': 'Mombasa', 'country': 'Kenya', 'formattedAddress': ['Digo Road', 'Mombasa', '80100', 'Kenya']}, 'categories': [{'id': '4bf58dd8d48988d11d941735', 'name': 'Sports Bar', 'pluralName': 'Sports Bars', 'shortName': 'Sports Bar', 'icon': {'prefix': 'https://ss3.4sqi.net/img/categories_v2/nightlife/sportsbar_', 'suffix': '.png'}, 'primary': True}], 'verified': False, 'stats': {'tipCount': 0, 'usersCount': 0, 'checkinsCount': 0, 'visitsCount': 0}, 'beenHere': {'count': 0, 'lastCheckinExpiredAt': 0, 'marked': False, 'unconfirmedCount': 0}, 'photos': {'count': 0, 'groups': []}, 'hereNow': {'count': 0, 'summary': 'Nobody here', 'groups': []}}, 'flags': {'outsideRadius': True}, 'referralId': 'e-0-4e78acd6ae60e5ae005ec910-9'}, {'reasons': {'count': 0, 'items': [{'summary': 'This spot is popular', 'type': 'general', 'reasonName': 'globalInteractionReason'}]}, 'venue': {'id': '4cbf3f5bca4aa1cd8f0619b4', 'name': 'mama ngina drive', 'contact': {}, 'location': {'lat': -4.077597396564343, 'lng': 39.672978776510185, 'labeledLatLngs': [{'label': 'display', 'lat': -4.077597396564343, 'lng': 39.672978776510185}], 'distance': 95007, 'cc': 'KE', 'city': 'Mombasa', 'state': 'Mombasa', 'country': 'Kenya', 'formattedAddress': ['Mombasa', 'Kenya']}, 'categories': [{'id': '4bf58dd8d48988d15d941735', 'name': 'Lighthouse', 'pluralName': 'Lighthouses', 'shortName': 'Lighthouse', 'icon': {'prefix': 'https://ss3.4sqi.net/img/categories_v2/parks_outdoors/lighthouse_', 'suffix': '.png'}, 'primary': True}], 'verified': False, 'stats': {'tipCount': 0, 'usersCount': 0, 'checkinsCount': 0, 'visitsCount': 0}, 'beenHere': {'count': 0, 'lastCheckinExpiredAt': 0, 'marked': False, 'unconfirmedCount': 0}, 'photos': {'count': 0, 'groups': []}, 'hereNow': {'count': 0, 'summary': 'Nobody here', 'groups': []}}, 'flags': {'outsideRadius': True}, 'referralId': 'e-0-4cbf3f5bca4aa1cd8f0619b4-10'}, {'reasons': {'count': 0, 'items': [{'summary': 'This spot is popular', 'type': 'general', 'reasonName': 'globalInteractionReason'}]}, 'venue': {'id': '50043c3de4b064414235cd45', 'name': 'Budget Supermarket- Digo Rd', 'contact': {}, 'location': {'lat': -4.062259087728801, 'lng': 39.67165871073332, 'labeledLatLngs': [{'label': 'display', 'lat': -4.062259087728801, 'lng': 39.67165871073332}], 'distance': 94354, 'cc': 'KE', 'country': 'Kenya', 'formattedAddress': ['Kenya']}, 'categories': [{'id': '4bf58dd8d48988d1fd941735', 'name': 'Shopping Mall', 'pluralName': 'Shopping Malls', 'shortName': 'Mall', 'icon': {'prefix': 'https://ss3.4sqi.net/img/categories_v2/shops/mall_', 'suffix': '.png'}, 'primary': True}], 'verified': False, 'stats': {'tipCount': 0, 'usersCount': 0, 'checkinsCount': 0, 'visitsCount': 0}, 'beenHere': {'count': 0, 'lastCheckinExpiredAt': 0, 'marked': False, 'unconfirmedCount': 0}, 'photos': {'count': 0, 'groups': []}, 'hereNow': {'count': 0, 'summary': 'Nobody here', 'groups': []}}, 'flags': {'outsideRadius': True}, 'referralId': 'e-0-50043c3de4b064414235cd45-11'}]}] \n",
      "\n"
     ]
    }
   ],
   "source": [
    "for k,v in data.items():\n",
    "    print(\"key\",k, \"---> value\", v,\"\\n\")"
   ]
  },
  {
   "cell_type": "code",
   "execution_count": 64,
   "metadata": {},
   "outputs": [],
   "source": [
    "#El value de la key groups del diccionario anterior está en tipo lista con un solo elemento\n",
    "#Por eso nos quedamos con el elemento cero 👇🏻\n",
    "decode = data.get(\"groups\")[0]"
   ]
  },
  {
   "cell_type": "code",
   "execution_count": 66,
   "metadata": {},
   "outputs": [
    {
     "data": {
      "text/html": [
       "<div>\n",
       "<style scoped>\n",
       "    .dataframe tbody tr th:only-of-type {\n",
       "        vertical-align: middle;\n",
       "    }\n",
       "\n",
       "    .dataframe tbody tr th {\n",
       "        vertical-align: top;\n",
       "    }\n",
       "\n",
       "    .dataframe thead th {\n",
       "        text-align: right;\n",
       "    }\n",
       "</style>\n",
       "<table border=\"1\" class=\"dataframe\">\n",
       "  <thead>\n",
       "    <tr style=\"text-align: right;\">\n",
       "      <th></th>\n",
       "      <th>type</th>\n",
       "      <th>name</th>\n",
       "      <th>items</th>\n",
       "    </tr>\n",
       "  </thead>\n",
       "  <tbody>\n",
       "    <tr>\n",
       "      <th>0</th>\n",
       "      <td>Recommended Places</td>\n",
       "      <td>recommended</td>\n",
       "      <td>[{'reasons': {'count': 0, 'items': [{'summary'...</td>\n",
       "    </tr>\n",
       "  </tbody>\n",
       "</table>\n",
       "</div>"
      ],
      "text/plain": [
       "                 type         name  \\\n",
       "0  Recommended Places  recommended   \n",
       "\n",
       "                                               items  \n",
       "0  [{'reasons': {'count': 0, 'items': [{'summary'...  "
      ]
     },
     "execution_count": 66,
     "metadata": {},
     "output_type": "execute_result"
    }
   ],
   "source": [
    "from pandas import json_normalize\n",
    "json_normalize(decode)"
   ]
  },
  {
   "cell_type": "code",
   "execution_count": 67,
   "metadata": {},
   "outputs": [
    {
     "data": {
      "text/plain": [
       "'\\nfor k,v in decode.items():\\n    print(\"key\",k, \"---> value\", v,\"\\n\")\\n'"
      ]
     },
     "execution_count": 67,
     "metadata": {},
     "output_type": "execute_result"
    }
   ],
   "source": [
    "#vamos a visualizar de forma \"amigable\"  las keys y los values del diccionario para encontrar los datitos\n",
    "#Echad un ojo a librería pprint\n",
    "\"\"\"\n",
    "for k,v in decode.items():\n",
    "    print(\"key\",k, \"---> value\", v,\"\\n\")\n",
    "\"\"\""
   ]
  },
  {
   "cell_type": "code",
   "execution_count": 68,
   "metadata": {},
   "outputs": [],
   "source": [
    "#Esto ya es la lista de diccionarios de la que tenemos que extraer el nombre y las coordenadas\n",
    "decode_otravez = decode.get(\"items\")\n",
    "#decode_otravez"
   ]
  },
  {
   "cell_type": "code",
   "execution_count": 69,
   "metadata": {},
   "outputs": [
    {
     "data": {
      "text/plain": [
       "'\\nfor k,v in decode_otravez[0].items():\\n    print(\"key\",k, \"---> value\", v,\"\\n\")\\n'"
      ]
     },
     "execution_count": 69,
     "metadata": {},
     "output_type": "execute_result"
    }
   ],
   "source": [
    "\"\"\"\n",
    "for k,v in decode_otravez[0].items():\n",
    "    print(\"key\",k, \"---> value\", v,\"\\n\")\n",
    "\"\"\""
   ]
  },
  {
   "cell_type": "code",
   "execution_count": 70,
   "metadata": {},
   "outputs": [],
   "source": [
    "from functools import reduce\n",
    "import operator"
   ]
  },
  {
   "cell_type": "code",
   "execution_count": 71,
   "metadata": {},
   "outputs": [],
   "source": [
    "mapa_nombre =  [\"venue\", \"name\"]\n",
    "mapa_latitud = [\"venue\", \"location\", \"lat\"]\n",
    "mapa_longitud = [\"venue\", \"location\", \"lng\"]"
   ]
  },
  {
   "cell_type": "code",
   "execution_count": 74,
   "metadata": {},
   "outputs": [],
   "source": [
    "# Mis fuentes --stackoverflow\n",
    "def getFromDict(diccionario,mapa):\n",
    "    return reduce(operator.getitem,mapa,diccionario)"
   ]
  },
  {
   "cell_type": "code",
   "execution_count": 75,
   "metadata": {},
   "outputs": [],
   "source": [
    "lovemosclaro = []\n",
    "for dic in decode_otravez:\n",
    "    paralista = {}\n",
    "    paralista[\"name\"] = getFromDict(dic, mapa_nombre)\n",
    "    paralista[\"latitud\"]= getFromDict(dic, mapa_latitud)\n",
    "    paralista[\"longitud\"] = getFromDict(dic,mapa_longitud)\n",
    "    lovemosclaro.append(paralista)"
   ]
  },
  {
   "cell_type": "code",
   "execution_count": 76,
   "metadata": {},
   "outputs": [
    {
     "data": {
      "text/html": [
       "<div>\n",
       "<style scoped>\n",
       "    .dataframe tbody tr th:only-of-type {\n",
       "        vertical-align: middle;\n",
       "    }\n",
       "\n",
       "    .dataframe tbody tr th {\n",
       "        vertical-align: top;\n",
       "    }\n",
       "\n",
       "    .dataframe thead th {\n",
       "        text-align: right;\n",
       "    }\n",
       "</style>\n",
       "<table border=\"1\" class=\"dataframe\">\n",
       "  <thead>\n",
       "    <tr style=\"text-align: right;\">\n",
       "      <th></th>\n",
       "      <th>name</th>\n",
       "      <th>latitud</th>\n",
       "      <th>longitud</th>\n",
       "    </tr>\n",
       "  </thead>\n",
       "  <tbody>\n",
       "    <tr>\n",
       "      <th>0</th>\n",
       "      <td>Come Back Disco Lounge Bar Watamu</td>\n",
       "      <td>-3.354508</td>\n",
       "      <td>40.019880</td>\n",
       "    </tr>\n",
       "    <tr>\n",
       "      <th>1</th>\n",
       "      <td>Osteria del Chianti, Malindi</td>\n",
       "      <td>-3.219514</td>\n",
       "      <td>40.125946</td>\n",
       "    </tr>\n",
       "    <tr>\n",
       "      <th>2</th>\n",
       "      <td>Simba Dishes Malindi</td>\n",
       "      <td>-3.217145</td>\n",
       "      <td>40.118823</td>\n",
       "    </tr>\n",
       "    <tr>\n",
       "      <th>3</th>\n",
       "      <td>Driftwood Club</td>\n",
       "      <td>-3.236039</td>\n",
       "      <td>40.127446</td>\n",
       "    </tr>\n",
       "    <tr>\n",
       "      <th>4</th>\n",
       "      <td>Diamonds Dreams Of Africa</td>\n",
       "      <td>-3.239620</td>\n",
       "      <td>40.126691</td>\n",
       "    </tr>\n",
       "  </tbody>\n",
       "</table>\n",
       "</div>"
      ],
      "text/plain": [
       "                                name   latitud   longitud\n",
       "0  Come Back Disco Lounge Bar Watamu -3.354508  40.019880\n",
       "1       Osteria del Chianti, Malindi -3.219514  40.125946\n",
       "2               Simba Dishes Malindi -3.217145  40.118823\n",
       "3                     Driftwood Club -3.236039  40.127446\n",
       "4          Diamonds Dreams Of Africa -3.239620  40.126691"
      ]
     },
     "execution_count": 76,
     "metadata": {},
     "output_type": "execute_result"
    }
   ],
   "source": [
    "dataframe = pd.DataFrame(lovemosclaro)\n",
    "dataframe.head()"
   ]
  },
  {
   "cell_type": "markdown",
   "metadata": {},
   "source": [
    "Al final hacemos un mapita con Cartoframes (quemegusta) y os dejo la DOC para que investiguéis porque no hay tiempo pa todo.\n",
    "- https://carto.com/developers/cartoframes/"
   ]
  },
  {
   "cell_type": "code",
   "execution_count": 77,
   "metadata": {},
   "outputs": [],
   "source": [
    "#!pip3 install cartoframes"
   ]
  },
  {
   "cell_type": "code",
   "execution_count": null,
   "metadata": {},
   "outputs": [],
   "source": []
  }
 ],
 "metadata": {
  "kernelspec": {
   "display_name": "Python 3",
   "language": "python",
   "name": "python3"
  },
  "language_info": {
   "codemirror_mode": {
    "name": "ipython",
    "version": 3
   },
   "file_extension": ".py",
   "mimetype": "text/x-python",
   "name": "python",
   "nbconvert_exporter": "python",
   "pygments_lexer": "ipython3",
   "version": "3.8.5"
  },
  "toc": {
   "base_numbering": 1,
   "nav_menu": {},
   "number_sections": true,
   "sideBar": true,
   "skip_h1_title": true,
   "title_cell": "Table of Contents",
   "title_sidebar": "Contents",
   "toc_cell": true,
   "toc_position": {},
   "toc_section_display": true,
   "toc_window_display": false
  }
 },
 "nbformat": 4,
 "nbformat_minor": 4
}
