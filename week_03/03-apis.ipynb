{
 "cells": [
  {
   "cell_type": "markdown",
   "id": "looking-favor",
   "metadata": {},
   "source": [
    "# APIS "
   ]
  },
  {
   "cell_type": "markdown",
   "id": "aggregate-occurrence",
   "metadata": {},
   "source": [
    "![apis_gif](https://media.giphy.com/media/wepUQluC5smgEd4Qz4/giphy.gif)"
   ]
  },
  {
   "cell_type": "markdown",
   "id": "ceramic-advocate",
   "metadata": {
    "toc": true
   },
   "source": [
    "<h1>Table of Contents<span class=\"tocSkip\"></span></h1>\n",
    "<div class=\"toc\"><ul class=\"toc-item\"><li><span><a href=\"#Resumen-de-librerías\" data-toc-modified-id=\"Resumen-de-librerías-1\"><span class=\"toc-item-num\">1&nbsp;&nbsp;</span>Resumen de librerías</a></span></li><li><span><a href=\"#Internet,-DNS,-IPs\" data-toc-modified-id=\"Internet,-DNS,-IPs-2\"><span class=\"toc-item-num\">2&nbsp;&nbsp;</span>Internet, DNS, IPs</a></span></li><li><span><a href=\"#HTTP\" data-toc-modified-id=\"HTTP-3\"><span class=\"toc-item-num\">3&nbsp;&nbsp;</span>HTTP</a></span><ul class=\"toc-item\"><li><span><a href=\"#URL\" data-toc-modified-id=\"URL-3.1\"><span class=\"toc-item-num\">3.1&nbsp;&nbsp;</span>URL</a></span></li><li><span><a href=\"#HTTP-vs-HTTPS\" data-toc-modified-id=\"HTTP-vs-HTTPS-3.2\"><span class=\"toc-item-num\">3.2&nbsp;&nbsp;</span>HTTP vs HTTPS</a></span></li><li><span><a href=\"#Requests\" data-toc-modified-id=\"Requests-3.3\"><span class=\"toc-item-num\">3.3&nbsp;&nbsp;</span>Requests</a></span></li><li><span><a href=\"#Response\" data-toc-modified-id=\"Response-3.4\"><span class=\"toc-item-num\">3.4&nbsp;&nbsp;</span>Response</a></span></li></ul></li><li><span><a href=\"#API\" data-toc-modified-id=\"API-4\"><span class=\"toc-item-num\">4&nbsp;&nbsp;</span>API</a></span><ul class=\"toc-item\"><li><span><a href=\"#RESTful-APIs\" data-toc-modified-id=\"RESTful-APIs-4.1\"><span class=\"toc-item-num\">4.1&nbsp;&nbsp;</span>RESTful APIs</a></span></li></ul></li><li><span><a href=\"#Let's-go\" data-toc-modified-id=\"Let's-go-5\"><span class=\"toc-item-num\">5&nbsp;&nbsp;</span>Let's go</a></span><ul class=\"toc-item\"><li><span><a href=\"#Requests-in-Python\" data-toc-modified-id=\"Requests-in-Python-5.1\"><span class=\"toc-item-num\">5.1&nbsp;&nbsp;</span>Requests in Python</a></span></li><li><span><a href=\"#HTML-response\" data-toc-modified-id=\"HTML-response-5.2\"><span class=\"toc-item-num\">5.2&nbsp;&nbsp;</span>HTML response</a></span></li><li><span><a href=\"#JSON-response\" data-toc-modified-id=\"JSON-response-5.3\"><span class=\"toc-item-num\">5.3&nbsp;&nbsp;</span>JSON response</a></span></li><li><span><a href=\"#Managing-data-in-pandas\" data-toc-modified-id=\"Managing-data-in-pandas-5.4\"><span class=\"toc-item-num\">5.4&nbsp;&nbsp;</span>Managing data in pandas</a></span></li><li><span><a href=\"#Parameters\" data-toc-modified-id=\"Parameters-5.5\"><span class=\"toc-item-num\">5.5&nbsp;&nbsp;</span>Parameters</a></span></li></ul></li><li><span><a href=\"#Try-Yourself!\" data-toc-modified-id=\"Try-Yourself!-6\"><span class=\"toc-item-num\">6&nbsp;&nbsp;</span>Try Yourself!</a></span></li><li><span><a href=\"#Headers\" data-toc-modified-id=\"Headers-7\"><span class=\"toc-item-num\">7&nbsp;&nbsp;</span>Headers</a></span></li><li><span><a href=\"#API-Keys\" data-toc-modified-id=\"API-Keys-8\"><span class=\"toc-item-num\">8&nbsp;&nbsp;</span>API Keys</a></span></li><li><span><a href=\"#API-Wrappers\" data-toc-modified-id=\"API-Wrappers-9\"><span class=\"toc-item-num\">9&nbsp;&nbsp;</span>API Wrappers</a></span><ul class=\"toc-item\"><li><span><a href=\"#Acceder-a-la-API-de-Twitter-con-Python\" data-toc-modified-id=\"Acceder-a-la-API-de-Twitter-con-Python-9.1\"><span class=\"toc-item-num\">9.1&nbsp;&nbsp;</span>Acceder a la API de Twitter con Python</a></span></li></ul></li><li><span><a href=\"#Clientes-API\" data-toc-modified-id=\"Clientes-API-10\"><span class=\"toc-item-num\">10&nbsp;&nbsp;</span>Clientes API</a></span></li><li><span><a href=\"#Summary\" data-toc-modified-id=\"Summary-11\"><span class=\"toc-item-num\">11&nbsp;&nbsp;</span>Summary</a></span><ul class=\"toc-item\"><li><span><a href=\"#Recorrido:\" data-toc-modified-id=\"Recorrido:-11.1\"><span class=\"toc-item-num\">11.1&nbsp;&nbsp;</span>Recorrido:</a></span></li></ul></li><li><span><a href=\"#Further-materials\" data-toc-modified-id=\"Further-materials-12\"><span class=\"toc-item-num\">12&nbsp;&nbsp;</span>Further materials</a></span></li></ul></div>"
   ]
  },
  {
   "cell_type": "markdown",
   "id": "special-extraction",
   "metadata": {},
   "source": [
    "## Resumen de librerías"
   ]
  },
  {
   "cell_type": "code",
   "execution_count": 203,
   "id": "basic-absolute",
   "metadata": {},
   "outputs": [],
   "source": [
    "import requests \n",
    "import json\n",
    "import os\n",
    "from dotenv import load_dotenv\n",
    "import pandas as pd\n",
    "from pandas import json_normalize\n",
    "import tweepy\n",
    "import time"
   ]
  },
  {
   "cell_type": "markdown",
   "id": "satellite-relations",
   "metadata": {},
   "source": [
    "PAR FAVAAAA ACORDAOS DE \n",
    "\n",
    "\n",
    "```python\n",
    "load_dotenv()\n",
    "````\n"
   ]
  },
  {
   "cell_type": "markdown",
   "id": "cosmetic-creator",
   "metadata": {},
   "source": [
    "## Internet, DNS, IPs"
   ]
  },
  {
   "cell_type": "markdown",
   "id": "suspended-macedonia",
   "metadata": {},
   "source": [
    "![enjuto](https://www.publico.es/files/article_main/uploads//2014/12/13/548bb18f1d9ef.jpg)"
   ]
  },
  {
   "cell_type": "markdown",
   "id": "postal-disco",
   "metadata": {},
   "source": [
    "[How do we connect to www.google.com?](https://www.youtube.com/watch?v=sUhEqT_HSBI&ab_channel=ProfeSang)"
   ]
  },
  {
   "cell_type": "markdown",
   "id": "suspected-coordinator",
   "metadata": {},
   "source": [
    " * DNS (domain name server): maps internet address www.google.com to server IP: 216.58.222.196\n",
    " * IP: server identification. |code that allow information to be sent and received by the correct parties   \n",
    " * Domain providers: they sell and buy internet domains"
   ]
  },
  {
   "cell_type": "markdown",
   "id": "virtual-uniform",
   "metadata": {},
   "source": [
    "![arte](../images/arte.png)"
   ]
  },
  {
   "cell_type": "markdown",
   "id": "oriented-bride",
   "metadata": {},
   "source": [
    "## HTTP"
   ]
  },
  {
   "cell_type": "markdown",
   "id": "actual-baseball",
   "metadata": {},
   "source": [
    "**H**yper **T**ext **T**ransfer **P**rotocol   \n",
    "HTTP is a communications protocol that provides a structure for requests between client and server in a network.    \n",
    "For example, the Web browser in the user's computer (the client) employs the HTTP protocol to request information from a website on a server. "
   ]
  },
  {
   "cell_type": "markdown",
   "id": "aquatic-forty",
   "metadata": {},
   "source": [
    "### URL"
   ]
  },
  {
   "cell_type": "markdown",
   "id": "optical-robert",
   "metadata": {},
   "source": [
    "Contains information of which resource whe are asking the SERVER for."
   ]
  },
  {
   "cell_type": "markdown",
   "id": "marine-audience",
   "metadata": {},
   "source": [
    "Examples:\n",
    "\n",
    "- https://www.google.com/webhp?authuser=2\n",
    "- https://www.towardsdatascience.com"
   ]
  },
  {
   "cell_type": "markdown",
   "id": "chief-weight",
   "metadata": {},
   "source": [
    "- https://www.ironhack.com/\n",
    "- Protocol: https (https == http but https is encrypted)\n",
    "- Domain Name --> IRONHACK\n",
    "- TLD --> .com"
   ]
  },
  {
   "cell_type": "markdown",
   "id": "apart-romantic",
   "metadata": {},
   "source": [
    "### HTTP vs HTTPS\n",
    "\n",
    "- HTTP transfers data in plain text while HTTPS transfers data in cipher text (encrypt text). \n",
    "- HTTP is fast as compared to HTTPS because HTTPS consumes computation power to encrypt the communication channel."
   ]
  },
  {
   "cell_type": "markdown",
   "id": "elegant-british",
   "metadata": {},
   "source": [
    "### Requests"
   ]
  },
  {
   "cell_type": "markdown",
   "id": "based-paintball",
   "metadata": {},
   "source": [
    "**Requests** are questions we formulate to a SERVER in order to receive a piece of information (a **response**)."
   ]
  },
  {
   "cell_type": "markdown",
   "id": "presidential-apparatus",
   "metadata": {},
   "source": [
    "Type of requests:\n",
    " * GET: read information from resource, and not to modify it in any way. Webpage access from browser **gets** info.\n",
    " * POST\n",
    " * PUT\n",
    " * DELETE\n",
    " * PATCH\n",
    " * ..."
   ]
  },
  {
   "cell_type": "markdown",
   "id": "painted-retrieval",
   "metadata": {},
   "source": [
    "### Response"
   ]
  },
  {
   "cell_type": "markdown",
   "id": "unlimited-representative",
   "metadata": {},
   "source": [
    "Responses can be of several types:\n",
    " * a JSON (similar to Python dictionary)\n",
    " * an image\n",
    " * a video\n",
    " * a HTML page\n",
    " * a PDF file\n",
    " * ..."
   ]
  },
  {
   "cell_type": "markdown",
   "id": "casual-contributor",
   "metadata": {},
   "source": [
    "Responses follow the following structure. They have:\n",
    " * a HEADER section: contains metadata about the behaviour of the server\n",
    " * a BODY: contains the desired piece of information\n",
    "One important part of the HEADER is the **status code**. This code is a numerical code indicating the result of the server. There are different status codes depending if the server succedded to perform the REQUEST or didn't manage to do anything at all. This are some groups of status codes:\n",
    "\n",
    "- **2xx** successful__: the request was successfully received, understood and accepted\n",
    "- **3xx** redirection__: further action needs to be taken in order to complete the request\n",
    "- **4xx** client error__: the request contains bad syntax or cannot be fulfilled\n",
    "- **5xx** server error__: the server failed to fulfill an apparently valid request\n",
    "\n",
    "Complete list:    \n",
    "https://en.wikipedia.org/wiki/List_of_HTTP_status_codes    \n",
    "More funny:    \n",
    "https://http.cat/   "
   ]
  },
  {
   "cell_type": "markdown",
   "id": "going-question",
   "metadata": {},
   "source": [
    "## API"
   ]
  },
  {
   "cell_type": "markdown",
   "id": "retained-success",
   "metadata": {},
   "source": [
    "**A**pplication **P**rogramming **I**nterface\n",
    "* Cloud era, softwares need to communicate through internet.\n",
    "* Inside a project, backend might want to share with frontend information without ddbb access.\n",
    "* It is a contract between software products. \n",
    "* It is an instruction manual to use some software.\n",
    "* Client calls server through an API, server responds."
   ]
  },
  {
   "cell_type": "markdown",
   "id": "headed-quarterly",
   "metadata": {},
   "source": [
    "### RESTful APIs"
   ]
  },
  {
   "cell_type": "markdown",
   "id": "geographic-implement",
   "metadata": {},
   "source": [
    "Most interactive APIs follow REST logic, a series of rules   \n",
    "- [Guiding Principles of REST](https://restfulapi.net/)   \n",
    "- [What is a RESTful API (Video)](https://www.youtube.com/watch?v=JD6VNRdGl98&ab_channel=LeonardoKuffo)   \n",
    "\n",
    "Who does what:  \n",
    "* we (client) send a request\n",
    "* they (server) send back a response, generally in JSON format      \n",
    "\n",
    "APIs always have to offer documentation of their different services: **endpoints**  \n",
    "Each endpoint is a different URL"
   ]
  },
  {
   "cell_type": "markdown",
   "id": "respiratory-settle",
   "metadata": {},
   "source": [
    "## Let's go"
   ]
  },
  {
   "cell_type": "markdown",
   "id": "empty-prediction",
   "metadata": {},
   "source": [
    "### Requests in Python"
   ]
  },
  {
   "cell_type": "code",
   "execution_count": 2,
   "id": "expected-yemen",
   "metadata": {},
   "outputs": [],
   "source": [
    "# Remember, you must read the doc  --> Request, HTTP for Humans."
   ]
  },
  {
   "cell_type": "markdown",
   "id": "parallel-makeup",
   "metadata": {},
   "source": [
    "https://requests.readthedocs.io/en/master/"
   ]
  },
  {
   "cell_type": "code",
   "execution_count": null,
   "id": "immediate-headset",
   "metadata": {},
   "outputs": [],
   "source": [
    "#!pip3 install requests"
   ]
  },
  {
   "cell_type": "code",
   "execution_count": 4,
   "id": "lesser-customs",
   "metadata": {},
   "outputs": [],
   "source": [
    "import requests"
   ]
  },
  {
   "cell_type": "markdown",
   "id": "opponent-missouri",
   "metadata": {},
   "source": [
    "### HTML response"
   ]
  },
  {
   "cell_type": "markdown",
   "id": "emotional-norway",
   "metadata": {},
   "source": [
    "I can call a url and have all the html, all the response from the server."
   ]
  },
  {
   "cell_type": "code",
   "execution_count": 102,
   "id": "active-intelligence",
   "metadata": {},
   "outputs": [],
   "source": [
    "response_pais = requests.get(\"https://www.elpais.com\")"
   ]
  },
  {
   "cell_type": "code",
   "execution_count": 6,
   "id": "sacred-perspective",
   "metadata": {},
   "outputs": [
    {
     "name": "stdout",
     "output_type": "stream",
     "text": [
      "<Response [200]>\n"
     ]
    }
   ],
   "source": [
    "print(response)"
   ]
  },
  {
   "cell_type": "code",
   "execution_count": 103,
   "id": "varying-tissue",
   "metadata": {},
   "outputs": [
    {
     "data": {
      "text/plain": [
       "{'Content-Type': 'text/html; charset=utf-8', 'Server': 'openresty', 'x-aws-lambda-call-status': '200', 'Content-Encoding': 'gzip', 'ETag': 'W/\"fbdc7-05gvsOl4A8lyQsXDIrm+arvfZCg\"', 'Last-Modified': 'Thu, 08 Apr 2021 09:32:09 GMT', 'X-Origin-Cache-Key': 'clientpfGET/', 'Vary': 'Accept-Encoding', 'X-Akamai-Transformed': '9 - 0 pmb=mRUM,2', 'Cache-Control': 'private, max-age=60', 'Expires': 'Thu, 08 Apr 2021 09:34:53 GMT', 'Date': 'Thu, 08 Apr 2021 09:33:53 GMT', 'Transfer-Encoding': 'chunked', 'Connection': 'keep-alive, Transfer-Encoding', 'Set-Cookie': 'arc-geo={\"georegion\":\"200\",\"countrycode\":\"ES\",\"regioncode\":\"\",\"timezone\":\"GMT+1\",\"continent\":\"EU\"}; expires=Thu, 08-Apr-2021 09:48:53 GMT; path=/', 'Server-Timing': 'cdn-cache; desc=HIT, edge; dur=1'}"
      ]
     },
     "execution_count": 103,
     "metadata": {},
     "output_type": "execute_result"
    }
   ],
   "source": [
    "response_pais.headers"
   ]
  },
  {
   "cell_type": "code",
   "execution_count": 104,
   "id": "verbal-argentina",
   "metadata": {},
   "outputs": [
    {
     "data": {
      "text/plain": [
       "200"
      ]
     },
     "execution_count": 104,
     "metadata": {},
     "output_type": "execute_result"
    }
   ],
   "source": [
    "response_pais.status_code"
   ]
  },
  {
   "cell_type": "code",
   "execution_count": 204,
   "id": "realistic-converter",
   "metadata": {},
   "outputs": [],
   "source": [
    "#response_pais.content"
   ]
  },
  {
   "cell_type": "code",
   "execution_count": 108,
   "id": "direct-handling",
   "metadata": {},
   "outputs": [],
   "source": [
    "html = str(response_pais.content)"
   ]
  },
  {
   "cell_type": "code",
   "execution_count": 109,
   "id": "documentary-raise",
   "metadata": {},
   "outputs": [
    {
     "data": {
      "text/plain": [
       "True"
      ]
     },
     "execution_count": 109,
     "metadata": {},
     "output_type": "execute_result"
    }
   ],
   "source": [
    "\"AstraZeneca\" in html"
   ]
  },
  {
   "cell_type": "markdown",
   "id": "northern-indian",
   "metadata": {},
   "source": [
    "### JSON response"
   ]
  },
  {
   "cell_type": "markdown",
   "id": "appointed-ready",
   "metadata": {},
   "source": [
    "JSON: Java Script Object Notation"
   ]
  },
  {
   "cell_type": "markdown",
   "id": "automotive-muslim",
   "metadata": {},
   "source": [
    "Let's get information from ISS (international space station)!"
   ]
  },
  {
   "cell_type": "markdown",
   "id": "biblical-consultation",
   "metadata": {},
   "source": [
    "[ISS API documentation](https://wheretheiss.at/w/developer)"
   ]
  },
  {
   "cell_type": "code",
   "execution_count": 37,
   "id": "civic-banana",
   "metadata": {},
   "outputs": [],
   "source": [
    "url = \"https://api.wheretheiss.at/v1/satellites/\""
   ]
  },
  {
   "cell_type": "code",
   "execution_count": 43,
   "id": "mature-principal",
   "metadata": {},
   "outputs": [],
   "source": [
    "response = requests.get(\"https://api.wheretheiss.at/v1/satellites/\")"
   ]
  },
  {
   "cell_type": "code",
   "execution_count": 44,
   "id": "apart-liquid",
   "metadata": {},
   "outputs": [
    {
     "data": {
      "text/plain": [
       "<Response [200]>"
      ]
     },
     "execution_count": 44,
     "metadata": {},
     "output_type": "execute_result"
    }
   ],
   "source": [
    "response"
   ]
  },
  {
   "cell_type": "code",
   "execution_count": 45,
   "id": "sacred-jersey",
   "metadata": {},
   "outputs": [
    {
     "data": {
      "text/plain": [
       "b'[{\"name\":\"iss\",\"id\":25544}]'"
      ]
     },
     "execution_count": 45,
     "metadata": {},
     "output_type": "execute_result"
    }
   ],
   "source": [
    "response.content"
   ]
  },
  {
   "cell_type": "code",
   "execution_count": 46,
   "id": "differential-might",
   "metadata": {},
   "outputs": [
    {
     "data": {
      "text/plain": [
       "{'Date': 'Thu, 08 Apr 2021 08:20:01 GMT', 'Server': 'Apache/2.2.22 (Ubuntu)', 'X-Powered-By': 'PHP/5.3.10-1ubuntu3.26', 'X-Rate-Limit-Limit': '350', 'X-Rate-Limit-Remaining': '346', 'X-Rate-Limit-Interval': '5 minutes', 'Access-Control-Allow-Origin': '*', 'X-Apache-Time': 'D=25965', 'Cache-Control': 'max-age=0, no-cache', 'Content-Length': '27', 'Keep-Alive': 'timeout=15, max=100', 'Connection': 'Keep-Alive', 'Content-Type': 'application/json'}"
      ]
     },
     "execution_count": 46,
     "metadata": {},
     "output_type": "execute_result"
    }
   ],
   "source": [
    "response.headers"
   ]
  },
  {
   "cell_type": "code",
   "execution_count": 84,
   "id": "funky-cooper",
   "metadata": {},
   "outputs": [],
   "source": [
    "prueba = requests.get(\"https://api.wheretheiss.at/v1/satellites/\")"
   ]
  },
  {
   "cell_type": "markdown",
   "id": "cognitive-christopher",
   "metadata": {},
   "source": [
    "If response Content-Type is json, we can access it with `.json()`"
   ]
  },
  {
   "cell_type": "code",
   "execution_count": 21,
   "id": "raised-lightweight",
   "metadata": {},
   "outputs": [],
   "source": [
    "# https://docs.python.org/3/library/json.html\n",
    "import json"
   ]
  },
  {
   "cell_type": "code",
   "execution_count": 22,
   "id": "interesting-colony",
   "metadata": {},
   "outputs": [],
   "source": [
    "info = response.json()"
   ]
  },
  {
   "cell_type": "code",
   "execution_count": 23,
   "id": "cognitive-coaching",
   "metadata": {},
   "outputs": [
    {
     "data": {
      "text/plain": [
       "[{'name': 'iss', 'id': 25544}]"
      ]
     },
     "execution_count": 23,
     "metadata": {},
     "output_type": "execute_result"
    }
   ],
   "source": [
    "info"
   ]
  },
  {
   "cell_type": "code",
   "execution_count": 24,
   "id": "veterinary-terry",
   "metadata": {},
   "outputs": [
    {
     "data": {
      "text/plain": [
       "list"
      ]
     },
     "execution_count": 24,
     "metadata": {},
     "output_type": "execute_result"
    }
   ],
   "source": [
    "type(info)"
   ]
  },
  {
   "cell_type": "code",
   "execution_count": 26,
   "id": "egyptian-completion",
   "metadata": {},
   "outputs": [
    {
     "data": {
      "text/plain": [
       "'iss'"
      ]
     },
     "execution_count": 26,
     "metadata": {},
     "output_type": "execute_result"
    }
   ],
   "source": [
    "info[0][\"name\"]"
   ]
  },
  {
   "cell_type": "code",
   "execution_count": 28,
   "id": "legislative-acoustic",
   "metadata": {},
   "outputs": [
    {
     "data": {
      "text/plain": [
       "dict_items([('name', 'iss'), ('id', 25544)])"
      ]
     },
     "execution_count": 28,
     "metadata": {},
     "output_type": "execute_result"
    }
   ],
   "source": [
    "info[0].items()"
   ]
  },
  {
   "cell_type": "code",
   "execution_count": 35,
   "id": "liable-flashing",
   "metadata": {},
   "outputs": [
    {
     "data": {
      "text/plain": [
       "'25544'"
      ]
     },
     "execution_count": 35,
     "metadata": {},
     "output_type": "execute_result"
    }
   ],
   "source": [
    "id_ = str(info[0][\"id\"])\n",
    "id_"
   ]
  },
  {
   "cell_type": "code",
   "execution_count": 38,
   "id": "imposed-shanghai",
   "metadata": {},
   "outputs": [
    {
     "data": {
      "text/plain": [
       "'https://api.wheretheiss.at/v1/satellites/25544'"
      ]
     },
     "execution_count": 38,
     "metadata": {},
     "output_type": "execute_result"
    }
   ],
   "source": [
    "url + id_"
   ]
  },
  {
   "cell_type": "code",
   "execution_count": 41,
   "id": "small-webcam",
   "metadata": {},
   "outputs": [],
   "source": [
    "estacion = requests.get(url+id_).json()"
   ]
  },
  {
   "cell_type": "code",
   "execution_count": 42,
   "id": "photographic-romance",
   "metadata": {},
   "outputs": [
    {
     "data": {
      "text/plain": [
       "{'name': 'iss',\n",
       " 'id': 25544,\n",
       " 'latitude': 19.757107508624,\n",
       " 'longitude': 22.877060386594,\n",
       " 'altitude': 422.30219768175,\n",
       " 'velocity': 27575.442191404,\n",
       " 'visibility': 'daylight',\n",
       " 'footprint': 4519.1575125709,\n",
       " 'timestamp': 1617869971,\n",
       " 'daynum': 2459312.8468866,\n",
       " 'solar_lat': 7.3380997829907,\n",
       " 'solar_lon': 55.583515684307,\n",
       " 'units': 'kilometers'}"
      ]
     },
     "execution_count": 42,
     "metadata": {},
     "output_type": "execute_result"
    }
   ],
   "source": [
    "estacion"
   ]
  },
  {
   "cell_type": "code",
   "execution_count": 47,
   "id": "increasing-portfolio",
   "metadata": {},
   "outputs": [],
   "source": [
    "#Vamos a hacer una request mal para ver el código de error"
   ]
  },
  {
   "cell_type": "code",
   "execution_count": 48,
   "id": "administrative-length",
   "metadata": {},
   "outputs": [],
   "source": [
    "url_mal = \"https://api.wheretheiss.at/v1/satellites/36\""
   ]
  },
  {
   "cell_type": "code",
   "execution_count": 49,
   "id": "greenhouse-chapel",
   "metadata": {},
   "outputs": [],
   "source": [
    "response_mal = requests.get(url_mal)"
   ]
  },
  {
   "cell_type": "code",
   "execution_count": 50,
   "id": "meaningful-tract",
   "metadata": {},
   "outputs": [
    {
     "data": {
      "text/plain": [
       "<Response [404]>"
      ]
     },
     "execution_count": 50,
     "metadata": {},
     "output_type": "execute_result"
    }
   ],
   "source": [
    "response_mal"
   ]
  },
  {
   "cell_type": "code",
   "execution_count": 51,
   "id": "printable-drama",
   "metadata": {},
   "outputs": [
    {
     "data": {
      "text/plain": [
       "{'error': 'satellite not found', 'status': 404}"
      ]
     },
     "execution_count": 51,
     "metadata": {},
     "output_type": "execute_result"
    }
   ],
   "source": [
    "response_mal.json()"
   ]
  },
  {
   "cell_type": "markdown",
   "id": "anticipated-native",
   "metadata": {},
   "source": [
    "### Managing data in pandas"
   ]
  },
  {
   "cell_type": "code",
   "execution_count": 52,
   "id": "small-movie",
   "metadata": {},
   "outputs": [],
   "source": [
    "# Vamos a convertir a dataframe los datos que nos devuelve una API"
   ]
  },
  {
   "cell_type": "code",
   "execution_count": 53,
   "id": "ongoing-georgia",
   "metadata": {},
   "outputs": [],
   "source": [
    "import pandas as pd"
   ]
  },
  {
   "cell_type": "code",
   "execution_count": 65,
   "id": "higher-county",
   "metadata": {},
   "outputs": [],
   "source": [
    "#df = pd.DataFrame.from_dict(estacion, orient = \"columns\")"
   ]
  },
  {
   "cell_type": "code",
   "execution_count": null,
   "id": "urban-composite",
   "metadata": {},
   "outputs": [],
   "source": [
    "# Primero lo hemos hecho a lo loco... y evidentemente, no es el camino"
   ]
  },
  {
   "cell_type": "code",
   "execution_count": 66,
   "id": "efficient-terror",
   "metadata": {},
   "outputs": [
    {
     "data": {
      "text/plain": [
       "{'name': 'iss',\n",
       " 'id': 25544,\n",
       " 'latitude': 19.757107508624,\n",
       " 'longitude': 22.877060386594,\n",
       " 'altitude': 422.30219768175,\n",
       " 'velocity': 27575.442191404,\n",
       " 'visibility': 'daylight',\n",
       " 'footprint': 4519.1575125709,\n",
       " 'timestamp': 1617869971,\n",
       " 'daynum': 2459312.8468866,\n",
       " 'solar_lat': 7.3380997829907,\n",
       " 'solar_lon': 55.583515684307,\n",
       " 'units': 'kilometers'}"
      ]
     },
     "execution_count": 66,
     "metadata": {},
     "output_type": "execute_result"
    }
   ],
   "source": [
    "estacion"
   ]
  },
  {
   "cell_type": "code",
   "execution_count": null,
   "id": "deluxe-yorkshire",
   "metadata": {},
   "outputs": [],
   "source": [
    "# Hacemos una lista vacía y añadimos la response para tener una lista con un diccionario y que pandas lo parsee"
   ]
  },
  {
   "cell_type": "code",
   "execution_count": 67,
   "id": "statewide-surname",
   "metadata": {},
   "outputs": [],
   "source": [
    "lista = []"
   ]
  },
  {
   "cell_type": "code",
   "execution_count": 68,
   "id": "solved-mexico",
   "metadata": {},
   "outputs": [],
   "source": [
    "lista.append(estacion)"
   ]
  },
  {
   "cell_type": "code",
   "execution_count": 69,
   "id": "military-capitol",
   "metadata": {},
   "outputs": [],
   "source": [
    "df = pd.DataFrame(lista)"
   ]
  },
  {
   "cell_type": "code",
   "execution_count": 71,
   "id": "specified-drain",
   "metadata": {},
   "outputs": [
    {
     "data": {
      "text/html": [
       "<div>\n",
       "<style scoped>\n",
       "    .dataframe tbody tr th:only-of-type {\n",
       "        vertical-align: middle;\n",
       "    }\n",
       "\n",
       "    .dataframe tbody tr th {\n",
       "        vertical-align: top;\n",
       "    }\n",
       "\n",
       "    .dataframe thead th {\n",
       "        text-align: right;\n",
       "    }\n",
       "</style>\n",
       "<table border=\"1\" class=\"dataframe\">\n",
       "  <thead>\n",
       "    <tr style=\"text-align: right;\">\n",
       "      <th></th>\n",
       "      <th>name</th>\n",
       "      <th>id</th>\n",
       "      <th>latitude</th>\n",
       "      <th>longitude</th>\n",
       "      <th>altitude</th>\n",
       "      <th>velocity</th>\n",
       "      <th>visibility</th>\n",
       "      <th>footprint</th>\n",
       "      <th>timestamp</th>\n",
       "      <th>daynum</th>\n",
       "      <th>solar_lat</th>\n",
       "      <th>solar_lon</th>\n",
       "      <th>units</th>\n",
       "    </tr>\n",
       "  </thead>\n",
       "  <tbody>\n",
       "    <tr>\n",
       "      <th>0</th>\n",
       "      <td>iss</td>\n",
       "      <td>25544</td>\n",
       "      <td>19.757108</td>\n",
       "      <td>22.87706</td>\n",
       "      <td>422.302198</td>\n",
       "      <td>27575.442191</td>\n",
       "      <td>daylight</td>\n",
       "      <td>4519.157513</td>\n",
       "      <td>1617869971</td>\n",
       "      <td>2.459313e+06</td>\n",
       "      <td>7.3381</td>\n",
       "      <td>55.583516</td>\n",
       "      <td>kilometers</td>\n",
       "    </tr>\n",
       "  </tbody>\n",
       "</table>\n",
       "</div>"
      ],
      "text/plain": [
       "  name     id   latitude  longitude    altitude      velocity visibility  \\\n",
       "0  iss  25544  19.757108   22.87706  422.302198  27575.442191   daylight   \n",
       "\n",
       "     footprint   timestamp        daynum  solar_lat  solar_lon       units  \n",
       "0  4519.157513  1617869971  2.459313e+06     7.3381  55.583516  kilometers  "
      ]
     },
     "execution_count": 71,
     "metadata": {},
     "output_type": "execute_result"
    }
   ],
   "source": [
    "df.head()"
   ]
  },
  {
   "cell_type": "code",
   "execution_count": 72,
   "id": "aquatic-healthcare",
   "metadata": {},
   "outputs": [],
   "source": [
    "# Pandas hace esto por nosotras con json normalize🐼"
   ]
  },
  {
   "cell_type": "code",
   "execution_count": 73,
   "id": "artistic-bristol",
   "metadata": {},
   "outputs": [],
   "source": [
    "from pandas import json_normalize"
   ]
  },
  {
   "cell_type": "code",
   "execution_count": 92,
   "id": "agreed-thriller",
   "metadata": {},
   "outputs": [],
   "source": [
    "para_json = requests.get(\"https://api.wheretheiss.at/v1/satellites/25544\").json()"
   ]
  },
  {
   "cell_type": "code",
   "execution_count": 93,
   "id": "exact-oliver",
   "metadata": {},
   "outputs": [
    {
     "data": {
      "text/plain": [
       "{'name': 'iss',\n",
       " 'id': 25544,\n",
       " 'latitude': 14.846889058517,\n",
       " 'longitude': 165.5348651989,\n",
       " 'altitude': 418.41072942017,\n",
       " 'velocity': 27588.931252684,\n",
       " 'visibility': 'eclipsed',\n",
       " 'footprint': 4499.369111369,\n",
       " 'timestamp': 1617872069,\n",
       " 'daynum': 2459312.871169,\n",
       " 'solar_lat': 7.3471641215713,\n",
       " 'solar_lon': 46.840177897872,\n",
       " 'units': 'kilometers'}"
      ]
     },
     "execution_count": 93,
     "metadata": {},
     "output_type": "execute_result"
    }
   ],
   "source": [
    "para_json"
   ]
  },
  {
   "cell_type": "code",
   "execution_count": 94,
   "id": "needed-universe",
   "metadata": {},
   "outputs": [
    {
     "data": {
      "text/html": [
       "<div>\n",
       "<style scoped>\n",
       "    .dataframe tbody tr th:only-of-type {\n",
       "        vertical-align: middle;\n",
       "    }\n",
       "\n",
       "    .dataframe tbody tr th {\n",
       "        vertical-align: top;\n",
       "    }\n",
       "\n",
       "    .dataframe thead th {\n",
       "        text-align: right;\n",
       "    }\n",
       "</style>\n",
       "<table border=\"1\" class=\"dataframe\">\n",
       "  <thead>\n",
       "    <tr style=\"text-align: right;\">\n",
       "      <th></th>\n",
       "      <th>name</th>\n",
       "      <th>id</th>\n",
       "      <th>latitude</th>\n",
       "      <th>longitude</th>\n",
       "      <th>altitude</th>\n",
       "      <th>velocity</th>\n",
       "      <th>visibility</th>\n",
       "      <th>footprint</th>\n",
       "      <th>timestamp</th>\n",
       "      <th>daynum</th>\n",
       "      <th>solar_lat</th>\n",
       "      <th>solar_lon</th>\n",
       "      <th>units</th>\n",
       "    </tr>\n",
       "  </thead>\n",
       "  <tbody>\n",
       "    <tr>\n",
       "      <th>0</th>\n",
       "      <td>iss</td>\n",
       "      <td>25544</td>\n",
       "      <td>14.846889</td>\n",
       "      <td>165.534865</td>\n",
       "      <td>418.410729</td>\n",
       "      <td>27588.931253</td>\n",
       "      <td>eclipsed</td>\n",
       "      <td>4499.369111</td>\n",
       "      <td>1617872069</td>\n",
       "      <td>2.459313e+06</td>\n",
       "      <td>7.347164</td>\n",
       "      <td>46.840178</td>\n",
       "      <td>kilometers</td>\n",
       "    </tr>\n",
       "  </tbody>\n",
       "</table>\n",
       "</div>"
      ],
      "text/plain": [
       "  name     id   latitude   longitude    altitude      velocity visibility  \\\n",
       "0  iss  25544  14.846889  165.534865  418.410729  27588.931253   eclipsed   \n",
       "\n",
       "     footprint   timestamp        daynum  solar_lat  solar_lon       units  \n",
       "0  4499.369111  1617872069  2.459313e+06   7.347164  46.840178  kilometers  "
      ]
     },
     "execution_count": 94,
     "metadata": {},
     "output_type": "execute_result"
    }
   ],
   "source": [
    "json_normalize(para_json)"
   ]
  },
  {
   "cell_type": "code",
   "execution_count": null,
   "id": "occupational-dublin",
   "metadata": {},
   "outputs": [],
   "source": [
    "#Vamos a hacer varias requests seguidas para obtener más información, ponemos el time sleep para que la ISS se mueva"
   ]
  },
  {
   "cell_type": "code",
   "execution_count": 96,
   "id": "beneficial-stomach",
   "metadata": {},
   "outputs": [
    {
     "name": "stdout",
     "output_type": "stream",
     "text": [
      "0\n",
      "[{'name': 'iss', 'id': 25544, 'latitude': 4.5007695284143, 'longitude': 173.15513666651, 'altitude': 418.43773972643, 'velocity': 27586.013622087, 'visibility': 'eclipsed', 'footprint': 4499.506826344, 'timestamp': 1617872274, 'daynum': 2459312.8735417, 'solar_lat': 7.348049751705, 'solar_lon': 45.985847900045, 'units': 'kilometers'}]\n",
      "1\n",
      "[{'name': 'iss', 'id': 25544, 'latitude': 4.5007695284143, 'longitude': 173.15513666651, 'altitude': 418.43773972643, 'velocity': 27586.013622087, 'visibility': 'eclipsed', 'footprint': 4499.506826344, 'timestamp': 1617872274, 'daynum': 2459312.8735417, 'solar_lat': 7.348049751705, 'solar_lon': 45.985847900045, 'units': 'kilometers'}, {'name': 'iss', 'id': 25544, 'latitude': 4.4498778394293, 'longitude': 173.19126811386, 'altitude': 418.44098272181, 'velocity': 27585.993939204, 'visibility': 'eclipsed', 'footprint': 4499.5233607625, 'timestamp': 1617872275, 'daynum': 2459312.8735532, 'solar_lat': 7.3480540717997, 'solar_lon': 45.981680459556, 'units': 'kilometers'}]\n",
      "2\n",
      "[{'name': 'iss', 'id': 25544, 'latitude': 4.5007695284143, 'longitude': 173.15513666651, 'altitude': 418.43773972643, 'velocity': 27586.013622087, 'visibility': 'eclipsed', 'footprint': 4499.506826344, 'timestamp': 1617872274, 'daynum': 2459312.8735417, 'solar_lat': 7.348049751705, 'solar_lon': 45.985847900045, 'units': 'kilometers'}, {'name': 'iss', 'id': 25544, 'latitude': 4.4498778394293, 'longitude': 173.19126811386, 'altitude': 418.44098272181, 'velocity': 27585.993939204, 'visibility': 'eclipsed', 'footprint': 4499.5233607625, 'timestamp': 1617872275, 'daynum': 2459312.8735532, 'solar_lat': 7.3480540717997, 'solar_lon': 45.981680459556, 'units': 'kilometers'}, {'name': 'iss', 'id': 25544, 'latitude': 4.3480878749922, 'longitude': 173.2635143433, 'altitude': 418.44756197403, 'velocity': 27585.954414826, 'visibility': 'eclipsed', 'footprint': 4499.5569048656, 'timestamp': 1617872277, 'daynum': 2459312.8735764, 'solar_lat': 7.3480627119885, 'solar_lon': 45.97334557858, 'units': 'kilometers'}]\n",
      "3\n",
      "[{'name': 'iss', 'id': 25544, 'latitude': 4.5007695284143, 'longitude': 173.15513666651, 'altitude': 418.43773972643, 'velocity': 27586.013622087, 'visibility': 'eclipsed', 'footprint': 4499.506826344, 'timestamp': 1617872274, 'daynum': 2459312.8735417, 'solar_lat': 7.348049751705, 'solar_lon': 45.985847900045, 'units': 'kilometers'}, {'name': 'iss', 'id': 25544, 'latitude': 4.4498778394293, 'longitude': 173.19126811386, 'altitude': 418.44098272181, 'velocity': 27585.993939204, 'visibility': 'eclipsed', 'footprint': 4499.5233607625, 'timestamp': 1617872275, 'daynum': 2459312.8735532, 'solar_lat': 7.3480540717997, 'solar_lon': 45.981680459556, 'units': 'kilometers'}, {'name': 'iss', 'id': 25544, 'latitude': 4.3480878749922, 'longitude': 173.2635143433, 'altitude': 418.44756197403, 'velocity': 27585.954414826, 'visibility': 'eclipsed', 'footprint': 4499.5569048656, 'timestamp': 1617872277, 'daynum': 2459312.8735764, 'solar_lat': 7.3480627119885, 'solar_lon': 45.97334557858, 'units': 'kilometers'}, {'name': 'iss', 'id': 25544, 'latitude': 4.2971876049463, 'longitude': 173.29963070577, 'altitude': 418.45089837601, 'velocity': 27585.934572554, 'visibility': 'eclipsed', 'footprint': 4499.5739152861, 'timestamp': 1617872278, 'daynum': 2459312.873588, 'solar_lat': 7.348067032256, 'solar_lon': 45.969177970422, 'units': 'kilometers'}]\n",
      "4\n",
      "[{'name': 'iss', 'id': 25544, 'latitude': 4.5007695284143, 'longitude': 173.15513666651, 'altitude': 418.43773972643, 'velocity': 27586.013622087, 'visibility': 'eclipsed', 'footprint': 4499.506826344, 'timestamp': 1617872274, 'daynum': 2459312.8735417, 'solar_lat': 7.348049751705, 'solar_lon': 45.985847900045, 'units': 'kilometers'}, {'name': 'iss', 'id': 25544, 'latitude': 4.4498778394293, 'longitude': 173.19126811386, 'altitude': 418.44098272181, 'velocity': 27585.993939204, 'visibility': 'eclipsed', 'footprint': 4499.5233607625, 'timestamp': 1617872275, 'daynum': 2459312.8735532, 'solar_lat': 7.3480540717997, 'solar_lon': 45.981680459556, 'units': 'kilometers'}, {'name': 'iss', 'id': 25544, 'latitude': 4.3480878749922, 'longitude': 173.2635143433, 'altitude': 418.44756197403, 'velocity': 27585.954414826, 'visibility': 'eclipsed', 'footprint': 4499.5569048656, 'timestamp': 1617872277, 'daynum': 2459312.8735764, 'solar_lat': 7.3480627119885, 'solar_lon': 45.97334557858, 'units': 'kilometers'}, {'name': 'iss', 'id': 25544, 'latitude': 4.2971876049463, 'longitude': 173.29963070577, 'altitude': 418.45089837601, 'velocity': 27585.934572554, 'visibility': 'eclipsed', 'footprint': 4499.5739152861, 'timestamp': 1617872278, 'daynum': 2459312.873588, 'solar_lat': 7.348067032256, 'solar_lon': 45.969177970422, 'units': 'kilometers'}, {'name': 'iss', 'id': 25544, 'latitude': 4.2462872581595, 'longitude': 173.33574022993, 'altitude': 418.45426574501, 'velocity': 27585.914678241, 'visibility': 'eclipsed', 'footprint': 4499.5910835105, 'timestamp': 1617872279, 'daynum': 2459312.8735995, 'solar_lat': 7.3480713523497, 'solar_lon': 45.965010529933, 'units': 'kilometers'}]\n",
      "5\n",
      "[{'name': 'iss', 'id': 25544, 'latitude': 4.5007695284143, 'longitude': 173.15513666651, 'altitude': 418.43773972643, 'velocity': 27586.013622087, 'visibility': 'eclipsed', 'footprint': 4499.506826344, 'timestamp': 1617872274, 'daynum': 2459312.8735417, 'solar_lat': 7.348049751705, 'solar_lon': 45.985847900045, 'units': 'kilometers'}, {'name': 'iss', 'id': 25544, 'latitude': 4.4498778394293, 'longitude': 173.19126811386, 'altitude': 418.44098272181, 'velocity': 27585.993939204, 'visibility': 'eclipsed', 'footprint': 4499.5233607625, 'timestamp': 1617872275, 'daynum': 2459312.8735532, 'solar_lat': 7.3480540717997, 'solar_lon': 45.981680459556, 'units': 'kilometers'}, {'name': 'iss', 'id': 25544, 'latitude': 4.3480878749922, 'longitude': 173.2635143433, 'altitude': 418.44756197403, 'velocity': 27585.954414826, 'visibility': 'eclipsed', 'footprint': 4499.5569048656, 'timestamp': 1617872277, 'daynum': 2459312.8735764, 'solar_lat': 7.3480627119885, 'solar_lon': 45.97334557858, 'units': 'kilometers'}, {'name': 'iss', 'id': 25544, 'latitude': 4.2971876049463, 'longitude': 173.29963070577, 'altitude': 418.45089837601, 'velocity': 27585.934572554, 'visibility': 'eclipsed', 'footprint': 4499.5739152861, 'timestamp': 1617872278, 'daynum': 2459312.873588, 'solar_lat': 7.348067032256, 'solar_lon': 45.969177970422, 'units': 'kilometers'}, {'name': 'iss', 'id': 25544, 'latitude': 4.2462872581595, 'longitude': 173.33574022993, 'altitude': 418.45426574501, 'velocity': 27585.914678241, 'visibility': 'eclipsed', 'footprint': 4499.5910835105, 'timestamp': 1617872279, 'daynum': 2459312.8735995, 'solar_lat': 7.3480713523497, 'solar_lon': 45.965010529933, 'units': 'kilometers'}, {'name': 'iss', 'id': 25544, 'latitude': 4.1953848134669, 'longitude': 173.37184443259, 'altitude': 418.45766421942, 'velocity': 27585.894731102, 'visibility': 'eclipsed', 'footprint': 4499.608410242, 'timestamp': 1617872280, 'daynum': 2459312.8736111, 'solar_lat': 7.3480756724431, 'solar_lon': 45.960843089446, 'units': 'kilometers'}]\n",
      "6\n",
      "[{'name': 'iss', 'id': 25544, 'latitude': 4.5007695284143, 'longitude': 173.15513666651, 'altitude': 418.43773972643, 'velocity': 27586.013622087, 'visibility': 'eclipsed', 'footprint': 4499.506826344, 'timestamp': 1617872274, 'daynum': 2459312.8735417, 'solar_lat': 7.348049751705, 'solar_lon': 45.985847900045, 'units': 'kilometers'}, {'name': 'iss', 'id': 25544, 'latitude': 4.4498778394293, 'longitude': 173.19126811386, 'altitude': 418.44098272181, 'velocity': 27585.993939204, 'visibility': 'eclipsed', 'footprint': 4499.5233607625, 'timestamp': 1617872275, 'daynum': 2459312.8735532, 'solar_lat': 7.3480540717997, 'solar_lon': 45.981680459556, 'units': 'kilometers'}, {'name': 'iss', 'id': 25544, 'latitude': 4.3480878749922, 'longitude': 173.2635143433, 'altitude': 418.44756197403, 'velocity': 27585.954414826, 'visibility': 'eclipsed', 'footprint': 4499.5569048656, 'timestamp': 1617872277, 'daynum': 2459312.8735764, 'solar_lat': 7.3480627119885, 'solar_lon': 45.97334557858, 'units': 'kilometers'}, {'name': 'iss', 'id': 25544, 'latitude': 4.2971876049463, 'longitude': 173.29963070577, 'altitude': 418.45089837601, 'velocity': 27585.934572554, 'visibility': 'eclipsed', 'footprint': 4499.5739152861, 'timestamp': 1617872278, 'daynum': 2459312.873588, 'solar_lat': 7.348067032256, 'solar_lon': 45.969177970422, 'units': 'kilometers'}, {'name': 'iss', 'id': 25544, 'latitude': 4.2462872581595, 'longitude': 173.33574022993, 'altitude': 418.45426574501, 'velocity': 27585.914678241, 'visibility': 'eclipsed', 'footprint': 4499.5910835105, 'timestamp': 1617872279, 'daynum': 2459312.8735995, 'solar_lat': 7.3480713523497, 'solar_lon': 45.965010529933, 'units': 'kilometers'}, {'name': 'iss', 'id': 25544, 'latitude': 4.1953848134669, 'longitude': 173.37184443259, 'altitude': 418.45766421942, 'velocity': 27585.894731102, 'visibility': 'eclipsed', 'footprint': 4499.608410242, 'timestamp': 1617872280, 'daynum': 2459312.8736111, 'solar_lat': 7.3480756724431, 'solar_lon': 45.960843089446, 'units': 'kilometers'}, {'name': 'iss', 'id': 25544, 'latitude': 4.1444802974534, 'longitude': 173.40794337739, 'altitude': 418.46109380385, 'velocity': 27585.87473115, 'visibility': 'eclipsed', 'footprint': 4499.625895502, 'timestamp': 1617872281, 'daynum': 2459312.8736227, 'solar_lat': 7.3480799925362, 'solar_lon': 45.956675648959, 'units': 'kilometers'}]\n"
     ]
    },
    {
     "name": "stdout",
     "output_type": "stream",
     "text": [
      "7\n",
      "[{'name': 'iss', 'id': 25544, 'latitude': 4.5007695284143, 'longitude': 173.15513666651, 'altitude': 418.43773972643, 'velocity': 27586.013622087, 'visibility': 'eclipsed', 'footprint': 4499.506826344, 'timestamp': 1617872274, 'daynum': 2459312.8735417, 'solar_lat': 7.348049751705, 'solar_lon': 45.985847900045, 'units': 'kilometers'}, {'name': 'iss', 'id': 25544, 'latitude': 4.4498778394293, 'longitude': 173.19126811386, 'altitude': 418.44098272181, 'velocity': 27585.993939204, 'visibility': 'eclipsed', 'footprint': 4499.5233607625, 'timestamp': 1617872275, 'daynum': 2459312.8735532, 'solar_lat': 7.3480540717997, 'solar_lon': 45.981680459556, 'units': 'kilometers'}, {'name': 'iss', 'id': 25544, 'latitude': 4.3480878749922, 'longitude': 173.2635143433, 'altitude': 418.44756197403, 'velocity': 27585.954414826, 'visibility': 'eclipsed', 'footprint': 4499.5569048656, 'timestamp': 1617872277, 'daynum': 2459312.8735764, 'solar_lat': 7.3480627119885, 'solar_lon': 45.97334557858, 'units': 'kilometers'}, {'name': 'iss', 'id': 25544, 'latitude': 4.2971876049463, 'longitude': 173.29963070577, 'altitude': 418.45089837601, 'velocity': 27585.934572554, 'visibility': 'eclipsed', 'footprint': 4499.5739152861, 'timestamp': 1617872278, 'daynum': 2459312.873588, 'solar_lat': 7.348067032256, 'solar_lon': 45.969177970422, 'units': 'kilometers'}, {'name': 'iss', 'id': 25544, 'latitude': 4.2462872581595, 'longitude': 173.33574022993, 'altitude': 418.45426574501, 'velocity': 27585.914678241, 'visibility': 'eclipsed', 'footprint': 4499.5910835105, 'timestamp': 1617872279, 'daynum': 2459312.8735995, 'solar_lat': 7.3480713523497, 'solar_lon': 45.965010529933, 'units': 'kilometers'}, {'name': 'iss', 'id': 25544, 'latitude': 4.1953848134669, 'longitude': 173.37184443259, 'altitude': 418.45766421942, 'velocity': 27585.894731102, 'visibility': 'eclipsed', 'footprint': 4499.608410242, 'timestamp': 1617872280, 'daynum': 2459312.8736111, 'solar_lat': 7.3480756724431, 'solar_lon': 45.960843089446, 'units': 'kilometers'}, {'name': 'iss', 'id': 25544, 'latitude': 4.1444802974534, 'longitude': 173.40794337739, 'altitude': 418.46109380385, 'velocity': 27585.87473115, 'visibility': 'eclipsed', 'footprint': 4499.625895502, 'timestamp': 1617872281, 'daynum': 2459312.8736227, 'solar_lat': 7.3480799925362, 'solar_lon': 45.956675648959, 'units': 'kilometers'}, {'name': 'iss', 'id': 25544, 'latitude': 4.0935737366912, 'longitude': 173.44403712797, 'altitude': 418.4645545028, 'velocity': 27585.854678398, 'visibility': 'eclipsed', 'footprint': 4499.6435393112, 'timestamp': 1617872282, 'daynum': 2459312.8736343, 'solar_lat': 7.3480843126291, 'solar_lon': 45.952508208471, 'units': 'kilometers'}]\n",
      "8\n",
      "[{'name': 'iss', 'id': 25544, 'latitude': 4.5007695284143, 'longitude': 173.15513666651, 'altitude': 418.43773972643, 'velocity': 27586.013622087, 'visibility': 'eclipsed', 'footprint': 4499.506826344, 'timestamp': 1617872274, 'daynum': 2459312.8735417, 'solar_lat': 7.348049751705, 'solar_lon': 45.985847900045, 'units': 'kilometers'}, {'name': 'iss', 'id': 25544, 'latitude': 4.4498778394293, 'longitude': 173.19126811386, 'altitude': 418.44098272181, 'velocity': 27585.993939204, 'visibility': 'eclipsed', 'footprint': 4499.5233607625, 'timestamp': 1617872275, 'daynum': 2459312.8735532, 'solar_lat': 7.3480540717997, 'solar_lon': 45.981680459556, 'units': 'kilometers'}, {'name': 'iss', 'id': 25544, 'latitude': 4.3480878749922, 'longitude': 173.2635143433, 'altitude': 418.44756197403, 'velocity': 27585.954414826, 'visibility': 'eclipsed', 'footprint': 4499.5569048656, 'timestamp': 1617872277, 'daynum': 2459312.8735764, 'solar_lat': 7.3480627119885, 'solar_lon': 45.97334557858, 'units': 'kilometers'}, {'name': 'iss', 'id': 25544, 'latitude': 4.2971876049463, 'longitude': 173.29963070577, 'altitude': 418.45089837601, 'velocity': 27585.934572554, 'visibility': 'eclipsed', 'footprint': 4499.5739152861, 'timestamp': 1617872278, 'daynum': 2459312.873588, 'solar_lat': 7.348067032256, 'solar_lon': 45.969177970422, 'units': 'kilometers'}, {'name': 'iss', 'id': 25544, 'latitude': 4.2462872581595, 'longitude': 173.33574022993, 'altitude': 418.45426574501, 'velocity': 27585.914678241, 'visibility': 'eclipsed', 'footprint': 4499.5910835105, 'timestamp': 1617872279, 'daynum': 2459312.8735995, 'solar_lat': 7.3480713523497, 'solar_lon': 45.965010529933, 'units': 'kilometers'}, {'name': 'iss', 'id': 25544, 'latitude': 4.1953848134669, 'longitude': 173.37184443259, 'altitude': 418.45766421942, 'velocity': 27585.894731102, 'visibility': 'eclipsed', 'footprint': 4499.608410242, 'timestamp': 1617872280, 'daynum': 2459312.8736111, 'solar_lat': 7.3480756724431, 'solar_lon': 45.960843089446, 'units': 'kilometers'}, {'name': 'iss', 'id': 25544, 'latitude': 4.1444802974534, 'longitude': 173.40794337739, 'altitude': 418.46109380385, 'velocity': 27585.87473115, 'visibility': 'eclipsed', 'footprint': 4499.625895502, 'timestamp': 1617872281, 'daynum': 2459312.8736227, 'solar_lat': 7.3480799925362, 'solar_lon': 45.956675648959, 'units': 'kilometers'}, {'name': 'iss', 'id': 25544, 'latitude': 4.0935737366912, 'longitude': 173.44403712797, 'altitude': 418.4645545028, 'velocity': 27585.854678398, 'visibility': 'eclipsed', 'footprint': 4499.6435393112, 'timestamp': 1617872282, 'daynum': 2459312.8736343, 'solar_lat': 7.3480843126291, 'solar_lon': 45.952508208471, 'units': 'kilometers'}, {'name': 'iss', 'id': 25544, 'latitude': 4.0426651577448, 'longitude': 173.48012574794, 'altitude': 418.46804632058, 'velocity': 27585.834572859, 'visibility': 'eclipsed', 'footprint': 4499.6613416893, 'timestamp': 1617872283, 'daynum': 2459312.8736458, 'solar_lat': 7.3480886327189, 'solar_lon': 45.948340767978, 'units': 'kilometers'}]\n",
      "9\n",
      "[{'name': 'iss', 'id': 25544, 'latitude': 4.5007695284143, 'longitude': 173.15513666651, 'altitude': 418.43773972643, 'velocity': 27586.013622087, 'visibility': 'eclipsed', 'footprint': 4499.506826344, 'timestamp': 1617872274, 'daynum': 2459312.8735417, 'solar_lat': 7.348049751705, 'solar_lon': 45.985847900045, 'units': 'kilometers'}, {'name': 'iss', 'id': 25544, 'latitude': 4.4498778394293, 'longitude': 173.19126811386, 'altitude': 418.44098272181, 'velocity': 27585.993939204, 'visibility': 'eclipsed', 'footprint': 4499.5233607625, 'timestamp': 1617872275, 'daynum': 2459312.8735532, 'solar_lat': 7.3480540717997, 'solar_lon': 45.981680459556, 'units': 'kilometers'}, {'name': 'iss', 'id': 25544, 'latitude': 4.3480878749922, 'longitude': 173.2635143433, 'altitude': 418.44756197403, 'velocity': 27585.954414826, 'visibility': 'eclipsed', 'footprint': 4499.5569048656, 'timestamp': 1617872277, 'daynum': 2459312.8735764, 'solar_lat': 7.3480627119885, 'solar_lon': 45.97334557858, 'units': 'kilometers'}, {'name': 'iss', 'id': 25544, 'latitude': 4.2971876049463, 'longitude': 173.29963070577, 'altitude': 418.45089837601, 'velocity': 27585.934572554, 'visibility': 'eclipsed', 'footprint': 4499.5739152861, 'timestamp': 1617872278, 'daynum': 2459312.873588, 'solar_lat': 7.348067032256, 'solar_lon': 45.969177970422, 'units': 'kilometers'}, {'name': 'iss', 'id': 25544, 'latitude': 4.2462872581595, 'longitude': 173.33574022993, 'altitude': 418.45426574501, 'velocity': 27585.914678241, 'visibility': 'eclipsed', 'footprint': 4499.5910835105, 'timestamp': 1617872279, 'daynum': 2459312.8735995, 'solar_lat': 7.3480713523497, 'solar_lon': 45.965010529933, 'units': 'kilometers'}, {'name': 'iss', 'id': 25544, 'latitude': 4.1953848134669, 'longitude': 173.37184443259, 'altitude': 418.45766421942, 'velocity': 27585.894731102, 'visibility': 'eclipsed', 'footprint': 4499.608410242, 'timestamp': 1617872280, 'daynum': 2459312.8736111, 'solar_lat': 7.3480756724431, 'solar_lon': 45.960843089446, 'units': 'kilometers'}, {'name': 'iss', 'id': 25544, 'latitude': 4.1444802974534, 'longitude': 173.40794337739, 'altitude': 418.46109380385, 'velocity': 27585.87473115, 'visibility': 'eclipsed', 'footprint': 4499.625895502, 'timestamp': 1617872281, 'daynum': 2459312.8736227, 'solar_lat': 7.3480799925362, 'solar_lon': 45.956675648959, 'units': 'kilometers'}, {'name': 'iss', 'id': 25544, 'latitude': 4.0935737366912, 'longitude': 173.44403712797, 'altitude': 418.4645545028, 'velocity': 27585.854678398, 'visibility': 'eclipsed', 'footprint': 4499.6435393112, 'timestamp': 1617872282, 'daynum': 2459312.8736343, 'solar_lat': 7.3480843126291, 'solar_lon': 45.952508208471, 'units': 'kilometers'}, {'name': 'iss', 'id': 25544, 'latitude': 4.0426651577448, 'longitude': 173.48012574794, 'altitude': 418.46804632058, 'velocity': 27585.834572859, 'visibility': 'eclipsed', 'footprint': 4499.6613416893, 'timestamp': 1617872283, 'daynum': 2459312.8736458, 'solar_lat': 7.3480886327189, 'solar_lon': 45.948340767978, 'units': 'kilometers'}, {'name': 'iss', 'id': 25544, 'latitude': 3.8899255287383, 'longitude': 173.58836291109, 'altitude': 418.47870867294, 'velocity': 27585.773938839, 'visibility': 'eclipsed', 'footprint': 4499.7157011623, 'timestamp': 1617872286, 'daynum': 2459312.8736806, 'solar_lat': 7.3481015931712, 'solar_lon': 45.935838278852, 'units': 'kilometers'}]\n"
     ]
    }
   ],
   "source": [
    "import time\n",
    "positions = []\n",
    "for i in range(10):\n",
    "    print(i)\n",
    "    response = requests.get(\"https://api.wheretheiss.at/v1/satellites/25544\").json()\n",
    "    positions.append(response)\n",
    "    print(positions)\n",
    "    time.sleep(0.5)"
   ]
  },
  {
   "cell_type": "code",
   "execution_count": 76,
   "id": "sound-portable",
   "metadata": {},
   "outputs": [
    {
     "data": {
      "text/plain": [
       "10"
      ]
     },
     "execution_count": 76,
     "metadata": {},
     "output_type": "execute_result"
    }
   ],
   "source": [
    "len(positions)"
   ]
  },
  {
   "cell_type": "code",
   "execution_count": 77,
   "id": "diagnostic-stations",
   "metadata": {},
   "outputs": [
    {
     "data": {
      "text/plain": [
       "dict"
      ]
     },
     "execution_count": 77,
     "metadata": {},
     "output_type": "execute_result"
    }
   ],
   "source": [
    "type(positions[0])"
   ]
  },
  {
   "cell_type": "code",
   "execution_count": 79,
   "id": "inappropriate-switch",
   "metadata": {},
   "outputs": [
    {
     "data": {
      "text/html": [
       "<div>\n",
       "<style scoped>\n",
       "    .dataframe tbody tr th:only-of-type {\n",
       "        vertical-align: middle;\n",
       "    }\n",
       "\n",
       "    .dataframe tbody tr th {\n",
       "        vertical-align: top;\n",
       "    }\n",
       "\n",
       "    .dataframe thead th {\n",
       "        text-align: right;\n",
       "    }\n",
       "</style>\n",
       "<table border=\"1\" class=\"dataframe\">\n",
       "  <thead>\n",
       "    <tr style=\"text-align: right;\">\n",
       "      <th></th>\n",
       "      <th>name</th>\n",
       "      <th>id</th>\n",
       "      <th>latitude</th>\n",
       "      <th>longitude</th>\n",
       "      <th>altitude</th>\n",
       "      <th>velocity</th>\n",
       "      <th>visibility</th>\n",
       "      <th>footprint</th>\n",
       "      <th>timestamp</th>\n",
       "      <th>daynum</th>\n",
       "      <th>solar_lat</th>\n",
       "      <th>solar_lon</th>\n",
       "      <th>units</th>\n",
       "    </tr>\n",
       "  </thead>\n",
       "  <tbody>\n",
       "    <tr>\n",
       "      <th>0</th>\n",
       "      <td>iss</td>\n",
       "      <td>25544</td>\n",
       "      <td>45.308708</td>\n",
       "      <td>127.876470</td>\n",
       "      <td>424.295192</td>\n",
       "      <td>27585.833018</td>\n",
       "      <td>daylight</td>\n",
       "      <td>4529.251233</td>\n",
       "      <td>1617871362</td>\n",
       "      <td>2.459313e+06</td>\n",
       "      <td>7.344110</td>\n",
       "      <td>49.786574</td>\n",
       "      <td>kilometers</td>\n",
       "    </tr>\n",
       "    <tr>\n",
       "      <th>1</th>\n",
       "      <td>iss</td>\n",
       "      <td>25544</td>\n",
       "      <td>45.247131</td>\n",
       "      <td>128.029157</td>\n",
       "      <td>424.276891</td>\n",
       "      <td>27585.856421</td>\n",
       "      <td>daylight</td>\n",
       "      <td>4529.158673</td>\n",
       "      <td>1617871364</td>\n",
       "      <td>2.459313e+06</td>\n",
       "      <td>7.344118</td>\n",
       "      <td>49.778239</td>\n",
       "      <td>kilometers</td>\n",
       "    </tr>\n",
       "    <tr>\n",
       "      <th>2</th>\n",
       "      <td>iss</td>\n",
       "      <td>25544</td>\n",
       "      <td>45.216257</td>\n",
       "      <td>128.105369</td>\n",
       "      <td>424.267725</td>\n",
       "      <td>27585.868118</td>\n",
       "      <td>daylight</td>\n",
       "      <td>4529.112310</td>\n",
       "      <td>1617871365</td>\n",
       "      <td>2.459313e+06</td>\n",
       "      <td>7.344123</td>\n",
       "      <td>49.774072</td>\n",
       "      <td>kilometers</td>\n",
       "    </tr>\n",
       "    <tr>\n",
       "      <th>3</th>\n",
       "      <td>iss</td>\n",
       "      <td>25544</td>\n",
       "      <td>45.185325</td>\n",
       "      <td>128.181498</td>\n",
       "      <td>424.258547</td>\n",
       "      <td>27585.879812</td>\n",
       "      <td>daylight</td>\n",
       "      <td>4529.065890</td>\n",
       "      <td>1617871366</td>\n",
       "      <td>2.459313e+06</td>\n",
       "      <td>7.344127</td>\n",
       "      <td>49.769904</td>\n",
       "      <td>kilometers</td>\n",
       "    </tr>\n",
       "    <tr>\n",
       "      <th>4</th>\n",
       "      <td>iss</td>\n",
       "      <td>25544</td>\n",
       "      <td>45.154338</td>\n",
       "      <td>128.257538</td>\n",
       "      <td>424.249359</td>\n",
       "      <td>27585.891503</td>\n",
       "      <td>daylight</td>\n",
       "      <td>4529.019417</td>\n",
       "      <td>1617871367</td>\n",
       "      <td>2.459313e+06</td>\n",
       "      <td>7.344131</td>\n",
       "      <td>49.765737</td>\n",
       "      <td>kilometers</td>\n",
       "    </tr>\n",
       "    <tr>\n",
       "      <th>5</th>\n",
       "      <td>iss</td>\n",
       "      <td>25544</td>\n",
       "      <td>45.123295</td>\n",
       "      <td>128.333490</td>\n",
       "      <td>424.240160</td>\n",
       "      <td>27585.903190</td>\n",
       "      <td>daylight</td>\n",
       "      <td>4528.972889</td>\n",
       "      <td>1617871368</td>\n",
       "      <td>2.459313e+06</td>\n",
       "      <td>7.344136</td>\n",
       "      <td>49.761569</td>\n",
       "      <td>kilometers</td>\n",
       "    </tr>\n",
       "    <tr>\n",
       "      <th>6</th>\n",
       "      <td>iss</td>\n",
       "      <td>25544</td>\n",
       "      <td>45.092195</td>\n",
       "      <td>128.409356</td>\n",
       "      <td>424.230951</td>\n",
       "      <td>27585.914874</td>\n",
       "      <td>daylight</td>\n",
       "      <td>4528.926307</td>\n",
       "      <td>1617871369</td>\n",
       "      <td>2.459313e+06</td>\n",
       "      <td>7.344140</td>\n",
       "      <td>49.757402</td>\n",
       "      <td>kilometers</td>\n",
       "    </tr>\n",
       "    <tr>\n",
       "      <th>7</th>\n",
       "      <td>iss</td>\n",
       "      <td>25544</td>\n",
       "      <td>45.029828</td>\n",
       "      <td>128.560827</td>\n",
       "      <td>424.212501</td>\n",
       "      <td>27585.938232</td>\n",
       "      <td>daylight</td>\n",
       "      <td>4528.832981</td>\n",
       "      <td>1617871371</td>\n",
       "      <td>2.459313e+06</td>\n",
       "      <td>7.344149</td>\n",
       "      <td>49.749067</td>\n",
       "      <td>kilometers</td>\n",
       "    </tr>\n",
       "    <tr>\n",
       "      <th>8</th>\n",
       "      <td>iss</td>\n",
       "      <td>25544</td>\n",
       "      <td>44.998560</td>\n",
       "      <td>128.636432</td>\n",
       "      <td>424.203260</td>\n",
       "      <td>27585.949906</td>\n",
       "      <td>daylight</td>\n",
       "      <td>4528.786237</td>\n",
       "      <td>1617871372</td>\n",
       "      <td>2.459313e+06</td>\n",
       "      <td>7.344153</td>\n",
       "      <td>49.744900</td>\n",
       "      <td>kilometers</td>\n",
       "    </tr>\n",
       "    <tr>\n",
       "      <th>9</th>\n",
       "      <td>iss</td>\n",
       "      <td>25544</td>\n",
       "      <td>44.967235</td>\n",
       "      <td>128.711954</td>\n",
       "      <td>424.194008</td>\n",
       "      <td>27585.961577</td>\n",
       "      <td>daylight</td>\n",
       "      <td>4528.739438</td>\n",
       "      <td>1617871373</td>\n",
       "      <td>2.459313e+06</td>\n",
       "      <td>7.344157</td>\n",
       "      <td>49.740732</td>\n",
       "      <td>kilometers</td>\n",
       "    </tr>\n",
       "  </tbody>\n",
       "</table>\n",
       "</div>"
      ],
      "text/plain": [
       "  name     id   latitude   longitude    altitude      velocity visibility  \\\n",
       "0  iss  25544  45.308708  127.876470  424.295192  27585.833018   daylight   \n",
       "1  iss  25544  45.247131  128.029157  424.276891  27585.856421   daylight   \n",
       "2  iss  25544  45.216257  128.105369  424.267725  27585.868118   daylight   \n",
       "3  iss  25544  45.185325  128.181498  424.258547  27585.879812   daylight   \n",
       "4  iss  25544  45.154338  128.257538  424.249359  27585.891503   daylight   \n",
       "5  iss  25544  45.123295  128.333490  424.240160  27585.903190   daylight   \n",
       "6  iss  25544  45.092195  128.409356  424.230951  27585.914874   daylight   \n",
       "7  iss  25544  45.029828  128.560827  424.212501  27585.938232   daylight   \n",
       "8  iss  25544  44.998560  128.636432  424.203260  27585.949906   daylight   \n",
       "9  iss  25544  44.967235  128.711954  424.194008  27585.961577   daylight   \n",
       "\n",
       "     footprint   timestamp        daynum  solar_lat  solar_lon       units  \n",
       "0  4529.251233  1617871362  2.459313e+06   7.344110  49.786574  kilometers  \n",
       "1  4529.158673  1617871364  2.459313e+06   7.344118  49.778239  kilometers  \n",
       "2  4529.112310  1617871365  2.459313e+06   7.344123  49.774072  kilometers  \n",
       "3  4529.065890  1617871366  2.459313e+06   7.344127  49.769904  kilometers  \n",
       "4  4529.019417  1617871367  2.459313e+06   7.344131  49.765737  kilometers  \n",
       "5  4528.972889  1617871368  2.459313e+06   7.344136  49.761569  kilometers  \n",
       "6  4528.926307  1617871369  2.459313e+06   7.344140  49.757402  kilometers  \n",
       "7  4528.832981  1617871371  2.459313e+06   7.344149  49.749067  kilometers  \n",
       "8  4528.786237  1617871372  2.459313e+06   7.344153  49.744900  kilometers  \n",
       "9  4528.739438  1617871373  2.459313e+06   7.344157  49.740732  kilometers  "
      ]
     },
     "execution_count": 79,
     "metadata": {},
     "output_type": "execute_result"
    }
   ],
   "source": [
    "df = pd.DataFrame(positions)\n",
    "df"
   ]
  },
  {
   "cell_type": "code",
   "execution_count": 95,
   "id": "incoming-equilibrium",
   "metadata": {},
   "outputs": [
    {
     "name": "stdout",
     "output_type": "stream",
     "text": [
      "0\n",
      "hola\n",
      "1\n",
      "hola\n",
      "2\n",
      "hola\n",
      "3\n",
      "hola\n",
      "4\n",
      "hola\n"
     ]
    }
   ],
   "source": [
    "for num in range(5):\n",
    "    print (num)\n",
    "    print (\"hola\")\n",
    "    time.sleep(1)"
   ]
  },
  {
   "cell_type": "markdown",
   "id": "organizational-lightning",
   "metadata": {},
   "source": [
    "### Parameters"
   ]
  },
  {
   "cell_type": "markdown",
   "id": "foreign-community",
   "metadata": {},
   "source": [
    "Remember API`s DOC    \n",
    "https://wheretheiss.at/w/developer"
   ]
  },
  {
   "cell_type": "code",
   "execution_count": 113,
   "id": "musical-glossary",
   "metadata": {},
   "outputs": [],
   "source": [
    "#ras, cambia la captura pls"
   ]
  },
  {
   "cell_type": "markdown",
   "id": "round-miracle",
   "metadata": {},
   "source": [
    "\n",
    "![captura](../images/parameters.png)"
   ]
  },
  {
   "cell_type": "markdown",
   "id": "thrown-might",
   "metadata": {},
   "source": [
    "We sometimes want to pass some parameters to an API endpoint.   \n",
    "Similar to python functions receiving parameters for a different behavior"
   ]
  },
  {
   "cell_type": "markdown",
   "id": "private-recall",
   "metadata": {},
   "source": [
    "Parameters are passed with `?param1=value1&param2=value2...` at the end or the URL"
   ]
  },
  {
   "cell_type": "code",
   "execution_count": 120,
   "id": "vital-grace",
   "metadata": {},
   "outputs": [],
   "source": [
    "url_params = \"https://api.wheretheiss.at/v1/satellites/25544?units=miles\""
   ]
  },
  {
   "cell_type": "code",
   "execution_count": 121,
   "id": "ceramic-butter",
   "metadata": {},
   "outputs": [],
   "source": [
    "response_params = requests.get(url_params).json()"
   ]
  },
  {
   "cell_type": "code",
   "execution_count": 122,
   "id": "desperate-slave",
   "metadata": {},
   "outputs": [
    {
     "data": {
      "text/plain": [
       "{'name': 'iss',\n",
       " 'id': 25544,\n",
       " 'latitude': -4.2437246644598,\n",
       " 'longitude': -18.478824596537,\n",
       " 'altitude': 263.01904634814,\n",
       " 'velocity': 17128.90550113,\n",
       " 'visibility': 'daylight',\n",
       " 'footprint': 2811.1786761861,\n",
       " 'timestamp': 1617875069,\n",
       " 'daynum': 2459312.9058912,\n",
       " 'solar_lat': 7.3601233963713,\n",
       " 'solar_lon': 34.337789054757,\n",
       " 'units': 'miles'}"
      ]
     },
     "execution_count": 122,
     "metadata": {},
     "output_type": "execute_result"
    }
   ],
   "source": [
    "response_params"
   ]
  },
  {
   "cell_type": "markdown",
   "id": "furnished-sailing",
   "metadata": {},
   "source": [
    "`requests` let us pass parameters as a dictionary:"
   ]
  },
  {
   "cell_type": "code",
   "execution_count": 114,
   "id": "simple-january",
   "metadata": {},
   "outputs": [],
   "source": [
    "url_base= \"https://api.wheretheiss.at/v1/satellites/25544\""
   ]
  },
  {
   "cell_type": "code",
   "execution_count": 124,
   "id": "eligible-elder",
   "metadata": {},
   "outputs": [],
   "source": [
    "parametros = {\n",
    "    \"units\" : \"miles\"\n",
    "}"
   ]
  },
  {
   "cell_type": "code",
   "execution_count": 126,
   "id": "allied-uncertainty",
   "metadata": {},
   "outputs": [
    {
     "data": {
      "text/plain": [
       "{'name': 'iss',\n",
       " 'id': 25544,\n",
       " 'latitude': 5.7803061148591,\n",
       " 'longitude': -11.397250297936,\n",
       " 'altitude': 262.33728313704,\n",
       " 'velocity': 17131.807560195,\n",
       " 'visibility': 'daylight',\n",
       " 'footprint': 2807.723179648,\n",
       " 'timestamp': 1617875266,\n",
       " 'daynum': 2459312.9081713,\n",
       " 'solar_lat': 7.3609743010635,\n",
       " 'solar_lon': 33.516798996773,\n",
       " 'units': 'miles'}"
      ]
     },
     "execution_count": 126,
     "metadata": {},
     "output_type": "execute_result"
    }
   ],
   "source": [
    "res_params = requests.get(url = url_base, params = parametros ).json()\n",
    "res_params"
   ]
  },
  {
   "cell_type": "markdown",
   "id": "living-allocation",
   "metadata": {},
   "source": [
    "## Try Yourself!"
   ]
  },
  {
   "cell_type": "markdown",
   "id": "opposite-factory",
   "metadata": {},
   "source": [
    "- https://official-joke-api.appspot.com/   \n",
    "- https://jokeapi.dev/\n",
    "- https://github.com/thenamesweretakenalready/Sv443s-JokeAPI-Python-Wrapper#readme"
   ]
  },
  {
   "cell_type": "code",
   "execution_count": null,
   "id": "iraqi-sailing",
   "metadata": {},
   "outputs": [],
   "source": [
    "# Query this API, you can do it with or without params, you choose! "
   ]
  },
  {
   "cell_type": "code",
   "execution_count": null,
   "id": "strategic-communications",
   "metadata": {},
   "outputs": [],
   "source": [
    "url_random_joke = \"https://official-joke-api.appspot.com/random_joke\""
   ]
  },
  {
   "cell_type": "code",
   "execution_count": null,
   "id": "fancy-printer",
   "metadata": {},
   "outputs": [],
   "source": [
    "https://official-joke-api.appspot.com/jokes/programming/random"
   ]
  },
  {
   "cell_type": "code",
   "execution_count": null,
   "id": "formal-belle",
   "metadata": {},
   "outputs": [],
   "source": []
  },
  {
   "cell_type": "code",
   "execution_count": null,
   "id": "entertaining-equipment",
   "metadata": {},
   "outputs": [],
   "source": []
  },
  {
   "cell_type": "markdown",
   "id": "dried-cedar",
   "metadata": {},
   "source": [
    "Ojo, en esta API no podemos meter los parámetros como diccionario porque esta API no está preparada para que le metamos los parámetros de esa manera. Miramos la DOC siempre. \n",
    "https://github.com/thenamesweretakenalready/Sv443s-JokeAPI-Python-Wrapper"
   ]
  },
  {
   "cell_type": "markdown",
   "id": "mexican-links",
   "metadata": {},
   "source": [
    "## Headers"
   ]
  },
  {
   "cell_type": "markdown",
   "id": "manual-sperm",
   "metadata": {},
   "source": [
    "HTTP Headers are an important part of the API request and response as they represent the meta-data associated with the API request and response. Headers carry information for:\n",
    "\n",
    "* Request and Response Body\n",
    "* Request Authorization\n",
    "* Response Caching \n",
    "* Response Cookies"
   ]
  },
  {
   "cell_type": "markdown",
   "id": "sustained-respect",
   "metadata": {},
   "source": [
    "## API Keys"
   ]
  },
  {
   "cell_type": "markdown",
   "id": "educated-rotation",
   "metadata": {},
   "source": [
    "- https://github.com/settings/tokens\n",
    "- https://docs.github.com/es/rest/guides/getting-started-with-the-rest-api\n",
    "- https://pypi.org/project/python-dotenv/"
   ]
  },
  {
   "cell_type": "code",
   "execution_count": 127,
   "id": "dirty-pearl",
   "metadata": {},
   "outputs": [],
   "source": [
    "#!pip3 install python-dotenv"
   ]
  },
  {
   "cell_type": "code",
   "execution_count": 182,
   "id": "attractive-breathing",
   "metadata": {},
   "outputs": [
    {
     "data": {
      "text/plain": [
       "True"
      ]
     },
     "execution_count": 182,
     "metadata": {},
     "output_type": "execute_result"
    }
   ],
   "source": [
    "import os\n",
    "from dotenv import load_dotenv\n",
    "#activamos el entorno para poder conectar el jupyter y extraer las variables\n",
    "load_dotenv()"
   ]
  },
  {
   "cell_type": "code",
   "execution_count": 165,
   "id": "competent-national",
   "metadata": {},
   "outputs": [],
   "source": [
    "api_key = os.getenv(\"toke\")"
   ]
  },
  {
   "cell_type": "code",
   "execution_count": 154,
   "id": "female-magazine",
   "metadata": {},
   "outputs": [],
   "source": [
    "url_forks=\"https://api.github.com/repos/agalvezcorell/streamlit_me_mola/forks\""
   ]
  },
  {
   "cell_type": "code",
   "execution_count": 155,
   "id": "committed-mauritius",
   "metadata": {},
   "outputs": [],
   "source": [
    "parameters  = {\"Authorization\" : f\"token {api_key}\"}"
   ]
  },
  {
   "cell_type": "code",
   "execution_count": 156,
   "id": "alpine-lease",
   "metadata": {},
   "outputs": [],
   "source": [
    "response = requests.get (url =  url_forks, params = parameters).json()"
   ]
  },
  {
   "cell_type": "code",
   "execution_count": 157,
   "id": "physical-following",
   "metadata": {},
   "outputs": [
    {
     "data": {
      "text/plain": [
       "10"
      ]
     },
     "execution_count": 157,
     "metadata": {},
     "output_type": "execute_result"
    }
   ],
   "source": [
    "len(response)"
   ]
  },
  {
   "cell_type": "code",
   "execution_count": 162,
   "id": "adequate-queens",
   "metadata": {},
   "outputs": [],
   "source": [
    "#response[0]"
   ]
  },
  {
   "cell_type": "code",
   "execution_count": 147,
   "id": "cleared-mounting",
   "metadata": {},
   "outputs": [
    {
     "data": {
      "text/plain": [
       "'amorenorp/streamlit_me_mola'"
      ]
     },
     "execution_count": 147,
     "metadata": {},
     "output_type": "execute_result"
    }
   ],
   "source": [
    "response[0][\"full_name\"]"
   ]
  },
  {
   "cell_type": "code",
   "execution_count": 149,
   "id": "hungry-corner",
   "metadata": {},
   "outputs": [
    {
     "data": {
      "text/plain": [
       "['amorenorp/streamlit_me_mola',\n",
       " 'antoniogarciagiron/streamlit_me_mola',\n",
       " 'AnadeLuna/streamlit_me_mola',\n",
       " 'angelanavarrog/streamlit_me_mola',\n",
       " 'xarlomi/streamlit_me_mola',\n",
       " 'AnaAGG/streamlit_me_mola',\n",
       " 'MarioGar25/streamlit_me_mola',\n",
       " 'XabierArrieta/streamlit_me_mola',\n",
       " 'SergioCaler0/streamlit_me_mola',\n",
       " 'florengutierrez/streamlit_me_mola']"
      ]
     },
     "execution_count": 149,
     "metadata": {},
     "output_type": "execute_result"
    }
   ],
   "source": [
    "nombres = [nombre[\"full_name\"] for  nombre in response]\n",
    "nombres"
   ]
  },
  {
   "cell_type": "code",
   "execution_count": 169,
   "id": "typical-crazy",
   "metadata": {},
   "outputs": [],
   "source": [
    "def requestGithub(url):\n",
    "    api_key = os.getenv(\"token\")\n",
    "    if not api_key:\n",
    "        raise ValueError( \"Ojo que necesitas un token o revisa el .env que igual no te lo ha cogido\")\n",
    "    print(f\"Estoy haciendo request a {url} \")\n",
    "    \n",
    "    parametros = {\"Authorization\" : f\"token {api_key}\"}\n",
    "    response = requests.get (url =  url_forks, params = parameters).json()\n",
    "    \n",
    "    return response"
   ]
  },
  {
   "cell_type": "code",
   "execution_count": 170,
   "id": "colonial-blink",
   "metadata": {},
   "outputs": [
    {
     "name": "stdout",
     "output_type": "stream",
     "text": [
      "[{\"status\":{\"verified\":true,\"sentCount\":1},\"type\":\"cat\",\"deleted\":false,\"_id\":\"58e008800aac31001185ed07\",\"user\":\"58e007480aac31001185ecef\",\"text\":\"Wikipedia has a recording of a cat meowing, because why not?\",\"__v\":0,\"source\":\"user\",\"updatedAt\":\"2020-08-23T20:20:01.611Z\",\"createdAt\":\"2018-03-06T21:20:03.505Z\",\"used\":false},{\"status\":{\"verified\":true,\"sentCount\":1},\"type\":\"cat\",\"deleted\":false,\"_id\":\"58e008630aac31001185ed01\",\"user\":\"58e007480aac31001185ecef\",\"text\":\"When cats grimace, they are usually \\\"taste-scenting.\\\" They have an extra organ that, with some breathing control, allows the cats to taste-sense the air.\",\"__v\":0,\"source\":\"user\",\"updatedAt\":\"2020-08-23T20:20:01.611Z\",\"createdAt\":\"2018-02-07T21:20:02.903Z\",\"used\":false},{\"status\":{\"verified\":true,\"sentCount\":1},\"type\":\"cat\",\"deleted\":false,\"_id\":\"58e00a090aac31001185ed16\",\"user\":\"58e007480aac31001185ecef\",\"text\":\"Cats make more than 100 different sounds whereas dogs make around 10.\",\"__v\":0,\"source\":\"user\",\"updatedAt\":\"2020-08-23T20:20:01.611Z\",\"createdAt\":\"2018-02-11T21:20:03.745Z\",\"used\":false},{\"status\":{\"verified\":true,\"sentCount\":1},\"type\":\"cat\",\"deleted\":false,\"_id\":\"58e009390aac31001185ed10\",\"user\":\"58e007480aac31001185ecef\",\"text\":\"Most cats are lactose intolerant, and milk can cause painful stomach cramps and diarrhea. It's best to forego the milk and just give your cat the standard: clean, cool drinking water.\",\"__v\":0,\"source\":\"user\",\"updatedAt\":\"2020-08-23T20:20:01.611Z\",\"createdAt\":\"2018-03-04T21:20:02.979Z\",\"used\":false},{\"status\":{\"verified\":true,\"sentCount\":1},\"type\":\"cat\",\"deleted\":false,\"_id\":\"58e008780aac31001185ed05\",\"user\":\"58e007480aac31001185ecef\",\"text\":\"Owning a cat can reduce the risk of stroke and heart attack by a third.\",\"__v\":0,\"source\":\"user\",\"updatedAt\":\"2020-08-23T20:20:01.611Z\",\"createdAt\":\"2018-03-29T20:20:03.844Z\",\"used\":false}]\n"
     ]
    }
   ],
   "source": [
    "import requests\n",
    "\n",
    "url = \"https://cat-fact.herokuapp.com/facts\"\n",
    "\n",
    "payload = \"\"\n",
    "headers = {\"cookie\": \"connect.sid=s%253AiZNrW6QgE7YvhxRJd_K6NxuG4AoUEhuK.XGlVUi0h3zwAOwje%252F%252FY4F8LbUc1VIhajgStME%252Fj3lKE\"}\n",
    "\n",
    "response = requests.request(\"GET\", url, data=payload, headers=headers)\n",
    "\n",
    "print(response.text)"
   ]
  },
  {
   "cell_type": "markdown",
   "id": "departmental-float",
   "metadata": {},
   "source": [
    "## API Wrappers\n",
    "La mayoría de las aplicaciones a las que querrás solicitar datos (redes sociales, motores de búsqueda, etc.) querrán saber quién accede a su aplicación, cómo piensan hacerlo y qué piensan hacer con los datos.\n",
    "\n",
    "Para estas aplicaciones populares, también hay wrappers de Python que se han escrito para sus APIs que hacen que la interacción con ellos sea mucho más fácil de lo que sería de otra manera. 🙌🏻"
   ]
  },
  {
   "cell_type": "markdown",
   "id": "driven-lightning",
   "metadata": {},
   "source": [
    "### Acceder a la API de Twitter con Python\n",
    "Un ejemplo es la biblioteca tweepy que hace que obtener datos de la API de Twitter sea relativamente sencillo.\n",
    "\n",
    "Antes de poder utilizarla, necesitamos crear una cuenta de desarrollador (si no tenemos ya una, crear una aplicación y obtener las credenciales de Twitter. Para crear una cuenta de desarrollador, sigue los siguientes pasos.\n",
    "\n",
    "Ve a https://developer.twitter.com/en/apply-for-access.html.\n",
    "Haga clic en Solicitar una cuenta de desarrollador.\n",
    "Sigue las instrucciones y proporciona la información necesaria para crear una cuenta de desarrollador para uso personal.\n",
    "Twitter revisará tu solicitud y aprobará tu cuenta (suponiendo que no hayas dicho que harás algo que viole sus condiciones de servicio).\n",
    "Tras recibir la confirmación de que tu cuenta de desarrollador ha sido aprobada, deberás crear una aplicación accediendo a tu cuenta y siguiendo los pasos para crear una nueva app. Una vez creada la aplicación, el siguiente paso es obtener tus credenciales. Estas credenciales te darán permiso para acceder a la API de Twitter. Las credenciales consisten en una clave API, una clave secreta API, un token de acceso y un token secreto de acceso. Puedes encontrarlas viendo los detalles de tu aplicación y haciendo clic en la pestaña Claves y Tokens.\n",
    "\n",
    "Advertencia: Debes guardar tus credenciales en un lugar seguro, nunca las compartas y nunca las subas a Github.\n",
    "\n",
    "Ahora que hemos obtenido nuestras credenciales, podemos utilizar tweepy para acceder a la API de Twitter como sigue. Recuerda que tendrás que reemplazar las credenciales de abajo con tus credenciales reales para que este código funcione."
   ]
  },
  {
   "cell_type": "code",
   "execution_count": 171,
   "id": "ranking-healing",
   "metadata": {},
   "outputs": [],
   "source": [
    "#Importamos la librería tweepy\n",
    "import tweepy"
   ]
  },
  {
   "cell_type": "code",
   "execution_count": 183,
   "id": "allied-legislature",
   "metadata": {},
   "outputs": [],
   "source": [
    "# Tenemos que importar todas estas KEY que nos da la app de twitter development\n",
    "API_KEY = os.getenv(\"API_KEY\")\n",
    "API_SECRET = os.getenv(\"API_SECRET\")\n",
    "ACCESS_TOKEN = os.getenv(\"ACCESS_TOKEN\")\n",
    "ACCESS_TOKEN_SECRET = os.getenv(\"ACCESS_TOKEN_SECRET\")"
   ]
  },
  {
   "cell_type": "markdown",
   "id": "round-nicholas",
   "metadata": {},
   "source": [
    "Nos autenticamos --> Documentación con más info [aquí](https://docs.tweepy.org/en/latest/auth_tutorial.html)"
   ]
  },
  {
   "cell_type": "code",
   "execution_count": 185,
   "id": "sophisticated-mystery",
   "metadata": {},
   "outputs": [],
   "source": [
    "auth = tweepy.OAuthHandler(API_KEY, API_SECRET) #Esta es la forma de autenticarnos mediante tweepy\n",
    "auth.set_access_token(ACCESS_TOKEN, ACCESS_TOKEN_SECRET) \n",
    "api = tweepy.API(auth)"
   ]
  },
  {
   "cell_type": "code",
   "execution_count": 191,
   "id": "delayed-rochester",
   "metadata": {},
   "outputs": [
    {
     "data": {
      "text/plain": [
       "{'auth': <tweepy.auth.OAuthHandler at 0x7fd45acc8ac0>,\n",
       " 'host': 'api.twitter.com',\n",
       " 'search_host': 'search.twitter.com',\n",
       " 'upload_host': 'upload.twitter.com',\n",
       " 'api_root': '/1.1',\n",
       " 'search_root': '',\n",
       " 'upload_root': '/1.1',\n",
       " 'cache': None,\n",
       " 'compression': False,\n",
       " 'retry_count': 0,\n",
       " 'retry_delay': 0,\n",
       " 'retry_errors': None,\n",
       " 'timeout': 60,\n",
       " 'wait_on_rate_limit': False,\n",
       " 'wait_on_rate_limit_notify': False,\n",
       " 'parser': <tweepy.parsers.ModelParser at 0x7fd45acc81c0>,\n",
       " 'proxy': {}}"
      ]
     },
     "execution_count": 191,
     "metadata": {},
     "output_type": "execute_result"
    }
   ],
   "source": [
    "api.__dict__"
   ]
  },
  {
   "cell_type": "code",
   "execution_count": 192,
   "id": "continent-aircraft",
   "metadata": {},
   "outputs": [],
   "source": [
    "res = api.followers(\"ironhack\", count=200)"
   ]
  },
  {
   "cell_type": "code",
   "execution_count": 205,
   "id": "alpha-legislature",
   "metadata": {},
   "outputs": [],
   "source": [
    "#res[0]._json"
   ]
  },
  {
   "cell_type": "code",
   "execution_count": 198,
   "id": "waiting-mouse",
   "metadata": {},
   "outputs": [],
   "source": [
    "def get_followers(user,count = 100):\n",
    "    resultados = api.followers(user, count= count)\n",
    "    followers = [elemento._json for elemento in resultados]\n",
    "    df = pd.DataFrame(followers)\n",
    "    return df"
   ]
  },
  {
   "cell_type": "code",
   "execution_count": 199,
   "id": "recorded-executive",
   "metadata": {},
   "outputs": [],
   "source": [
    "usuario = \"fernandosimon_\""
   ]
  },
  {
   "cell_type": "code",
   "execution_count": 201,
   "id": "every-monitoring",
   "metadata": {},
   "outputs": [
    {
     "data": {
      "text/html": [
       "<div>\n",
       "<style scoped>\n",
       "    .dataframe tbody tr th:only-of-type {\n",
       "        vertical-align: middle;\n",
       "    }\n",
       "\n",
       "    .dataframe tbody tr th {\n",
       "        vertical-align: top;\n",
       "    }\n",
       "\n",
       "    .dataframe thead th {\n",
       "        text-align: right;\n",
       "    }\n",
       "</style>\n",
       "<table border=\"1\" class=\"dataframe\">\n",
       "  <thead>\n",
       "    <tr style=\"text-align: right;\">\n",
       "      <th></th>\n",
       "      <th>id</th>\n",
       "      <th>id_str</th>\n",
       "      <th>name</th>\n",
       "      <th>screen_name</th>\n",
       "      <th>location</th>\n",
       "      <th>description</th>\n",
       "      <th>url</th>\n",
       "      <th>entities</th>\n",
       "      <th>protected</th>\n",
       "      <th>followers_count</th>\n",
       "      <th>...</th>\n",
       "      <th>following</th>\n",
       "      <th>live_following</th>\n",
       "      <th>follow_request_sent</th>\n",
       "      <th>notifications</th>\n",
       "      <th>muting</th>\n",
       "      <th>blocking</th>\n",
       "      <th>blocked_by</th>\n",
       "      <th>translator_type</th>\n",
       "      <th>status</th>\n",
       "      <th>profile_banner_url</th>\n",
       "    </tr>\n",
       "  </thead>\n",
       "  <tbody>\n",
       "    <tr>\n",
       "      <th>0</th>\n",
       "      <td>3399389836</td>\n",
       "      <td>3399389836</td>\n",
       "      <td>Darío</td>\n",
       "      <td>darioo_pr</td>\n",
       "      <td></td>\n",
       "      <td>RCPD Mariemma ✌🏼\\n📌 Madrid\\nIG: @darioo_pr</td>\n",
       "      <td>None</td>\n",
       "      <td>{'description': {'urls': []}}</td>\n",
       "      <td>True</td>\n",
       "      <td>0</td>\n",
       "      <td>...</td>\n",
       "      <td>False</td>\n",
       "      <td>False</td>\n",
       "      <td>False</td>\n",
       "      <td>False</td>\n",
       "      <td>False</td>\n",
       "      <td>False</td>\n",
       "      <td>False</td>\n",
       "      <td>none</td>\n",
       "      <td>NaN</td>\n",
       "      <td>NaN</td>\n",
       "    </tr>\n",
       "    <tr>\n",
       "      <th>1</th>\n",
       "      <td>1305096937809612801</td>\n",
       "      <td>1305096937809612801</td>\n",
       "      <td>Manuel-CT</td>\n",
       "      <td>ManuelC78594822</td>\n",
       "      <td></td>\n",
       "      <td></td>\n",
       "      <td>None</td>\n",
       "      <td>{'description': {'urls': []}}</td>\n",
       "      <td>False</td>\n",
       "      <td>4</td>\n",
       "      <td>...</td>\n",
       "      <td>False</td>\n",
       "      <td>False</td>\n",
       "      <td>False</td>\n",
       "      <td>False</td>\n",
       "      <td>False</td>\n",
       "      <td>False</td>\n",
       "      <td>False</td>\n",
       "      <td>none</td>\n",
       "      <td>{'created_at': 'Wed Apr 07 19:48:10 +0000 2021...</td>\n",
       "      <td>https://pbs.twimg.com/profile_banners/13050969...</td>\n",
       "    </tr>\n",
       "    <tr>\n",
       "      <th>2</th>\n",
       "      <td>1379820814648942592</td>\n",
       "      <td>1379820814648942592</td>\n",
       "      <td>Nuesgana</td>\n",
       "      <td>nuesgana</td>\n",
       "      <td>Valencia, España</td>\n",
       "      <td></td>\n",
       "      <td>None</td>\n",
       "      <td>{'description': {'urls': []}}</td>\n",
       "      <td>False</td>\n",
       "      <td>0</td>\n",
       "      <td>...</td>\n",
       "      <td>False</td>\n",
       "      <td>False</td>\n",
       "      <td>False</td>\n",
       "      <td>False</td>\n",
       "      <td>False</td>\n",
       "      <td>False</td>\n",
       "      <td>False</td>\n",
       "      <td>none</td>\n",
       "      <td>NaN</td>\n",
       "      <td>https://pbs.twimg.com/profile_banners/13798208...</td>\n",
       "    </tr>\n",
       "    <tr>\n",
       "      <th>3</th>\n",
       "      <td>82275085</td>\n",
       "      <td>82275085</td>\n",
       "      <td>juanmorrego</td>\n",
       "      <td>juanmorrego</td>\n",
       "      <td>argentina</td>\n",
       "      <td>Periodista - Abogado</td>\n",
       "      <td>None</td>\n",
       "      <td>{'description': {'urls': []}}</td>\n",
       "      <td>False</td>\n",
       "      <td>893</td>\n",
       "      <td>...</td>\n",
       "      <td>False</td>\n",
       "      <td>False</td>\n",
       "      <td>False</td>\n",
       "      <td>False</td>\n",
       "      <td>False</td>\n",
       "      <td>False</td>\n",
       "      <td>False</td>\n",
       "      <td>none</td>\n",
       "      <td>{'created_at': 'Sat Apr 03 00:59:27 +0000 2021...</td>\n",
       "      <td>https://pbs.twimg.com/profile_banners/82275085...</td>\n",
       "    </tr>\n",
       "    <tr>\n",
       "      <th>4</th>\n",
       "      <td>109818561</td>\n",
       "      <td>109818561</td>\n",
       "      <td>Adela</td>\n",
       "      <td>Ade_Mas</td>\n",
       "      <td>Madrid</td>\n",
       "      <td></td>\n",
       "      <td>None</td>\n",
       "      <td>{'description': {'urls': []}}</td>\n",
       "      <td>False</td>\n",
       "      <td>64</td>\n",
       "      <td>...</td>\n",
       "      <td>False</td>\n",
       "      <td>False</td>\n",
       "      <td>False</td>\n",
       "      <td>False</td>\n",
       "      <td>False</td>\n",
       "      <td>False</td>\n",
       "      <td>False</td>\n",
       "      <td>none</td>\n",
       "      <td>{'created_at': 'Wed Apr 07 15:56:40 +0000 2021...</td>\n",
       "      <td>https://pbs.twimg.com/profile_banners/10981856...</td>\n",
       "    </tr>\n",
       "  </tbody>\n",
       "</table>\n",
       "<p>5 rows × 47 columns</p>\n",
       "</div>"
      ],
      "text/plain": [
       "                    id               id_str         name      screen_name  \\\n",
       "0           3399389836           3399389836        Darío        darioo_pr   \n",
       "1  1305096937809612801  1305096937809612801    Manuel-CT  ManuelC78594822   \n",
       "2  1379820814648942592  1379820814648942592     Nuesgana         nuesgana   \n",
       "3             82275085             82275085  juanmorrego      juanmorrego   \n",
       "4            109818561            109818561        Adela          Ade_Mas   \n",
       "\n",
       "           location                                 description   url  \\\n",
       "0                    RCPD Mariemma ✌🏼\\n📌 Madrid\\nIG: @darioo_pr  None   \n",
       "1                                                                None   \n",
       "2  Valencia, España                                              None   \n",
       "3         argentina                        Periodista - Abogado  None   \n",
       "4            Madrid                                              None   \n",
       "\n",
       "                        entities  protected  followers_count  ...  following  \\\n",
       "0  {'description': {'urls': []}}       True                0  ...      False   \n",
       "1  {'description': {'urls': []}}      False                4  ...      False   \n",
       "2  {'description': {'urls': []}}      False                0  ...      False   \n",
       "3  {'description': {'urls': []}}      False              893  ...      False   \n",
       "4  {'description': {'urls': []}}      False               64  ...      False   \n",
       "\n",
       "   live_following follow_request_sent  notifications muting blocking  \\\n",
       "0           False               False          False  False    False   \n",
       "1           False               False          False  False    False   \n",
       "2           False               False          False  False    False   \n",
       "3           False               False          False  False    False   \n",
       "4           False               False          False  False    False   \n",
       "\n",
       "   blocked_by  translator_type  \\\n",
       "0       False             none   \n",
       "1       False             none   \n",
       "2       False             none   \n",
       "3       False             none   \n",
       "4       False             none   \n",
       "\n",
       "                                              status  \\\n",
       "0                                                NaN   \n",
       "1  {'created_at': 'Wed Apr 07 19:48:10 +0000 2021...   \n",
       "2                                                NaN   \n",
       "3  {'created_at': 'Sat Apr 03 00:59:27 +0000 2021...   \n",
       "4  {'created_at': 'Wed Apr 07 15:56:40 +0000 2021...   \n",
       "\n",
       "                                  profile_banner_url  \n",
       "0                                                NaN  \n",
       "1  https://pbs.twimg.com/profile_banners/13050969...  \n",
       "2  https://pbs.twimg.com/profile_banners/13798208...  \n",
       "3  https://pbs.twimg.com/profile_banners/82275085...  \n",
       "4  https://pbs.twimg.com/profile_banners/10981856...  \n",
       "\n",
       "[5 rows x 47 columns]"
      ]
     },
     "execution_count": 201,
     "metadata": {},
     "output_type": "execute_result"
    }
   ],
   "source": [
    "followers_simon = get_followers(usuario)\n",
    "followers_simon.head()"
   ]
  },
  {
   "cell_type": "markdown",
   "id": "ecological-mills",
   "metadata": {},
   "source": [
    "## Clientes API"
   ]
  },
  {
   "cell_type": "markdown",
   "id": "stock-observer",
   "metadata": {},
   "source": [
    "Vemos insomnia --> https://insomnia.rest/download"
   ]
  },
  {
   "cell_type": "markdown",
   "id": "difficult-moldova",
   "metadata": {},
   "source": [
    "En insomnia podemos guardar diferentes apis para poder llamarlas a golpe de click, os dejo capturas"
   ]
  },
  {
   "cell_type": "markdown",
   "id": "organized-webster",
   "metadata": {},
   "source": [
    "![insomnia](../images/in_1.png)\n",
    "![insomnia](../images/in_2.png)\n",
    "![insomnia](../images/in_3.png)\n",
    "![insomnia](../images/in_4.png)"
   ]
  },
  {
   "cell_type": "code",
   "execution_count": 206,
   "id": "handmade-scotland",
   "metadata": {},
   "outputs": [
    {
     "name": "stdout",
     "output_type": "stream",
     "text": [
      "[{\"status\":{\"verified\":true,\"sentCount\":1},\"type\":\"cat\",\"deleted\":false,\"_id\":\"58e008800aac31001185ed07\",\"user\":\"58e007480aac31001185ecef\",\"text\":\"Wikipedia has a recording of a cat meowing, because why not?\",\"__v\":0,\"source\":\"user\",\"updatedAt\":\"2020-08-23T20:20:01.611Z\",\"createdAt\":\"2018-03-06T21:20:03.505Z\",\"used\":false},{\"status\":{\"verified\":true,\"sentCount\":1},\"type\":\"cat\",\"deleted\":false,\"_id\":\"58e008630aac31001185ed01\",\"user\":\"58e007480aac31001185ecef\",\"text\":\"When cats grimace, they are usually \\\"taste-scenting.\\\" They have an extra organ that, with some breathing control, allows the cats to taste-sense the air.\",\"__v\":0,\"source\":\"user\",\"updatedAt\":\"2020-08-23T20:20:01.611Z\",\"createdAt\":\"2018-02-07T21:20:02.903Z\",\"used\":false},{\"status\":{\"verified\":true,\"sentCount\":1},\"type\":\"cat\",\"deleted\":false,\"_id\":\"58e00a090aac31001185ed16\",\"user\":\"58e007480aac31001185ecef\",\"text\":\"Cats make more than 100 different sounds whereas dogs make around 10.\",\"__v\":0,\"source\":\"user\",\"updatedAt\":\"2020-08-23T20:20:01.611Z\",\"createdAt\":\"2018-02-11T21:20:03.745Z\",\"used\":false},{\"status\":{\"verified\":true,\"sentCount\":1},\"type\":\"cat\",\"deleted\":false,\"_id\":\"58e009390aac31001185ed10\",\"user\":\"58e007480aac31001185ecef\",\"text\":\"Most cats are lactose intolerant, and milk can cause painful stomach cramps and diarrhea. It's best to forego the milk and just give your cat the standard: clean, cool drinking water.\",\"__v\":0,\"source\":\"user\",\"updatedAt\":\"2020-08-23T20:20:01.611Z\",\"createdAt\":\"2018-03-04T21:20:02.979Z\",\"used\":false},{\"status\":{\"verified\":true,\"sentCount\":1},\"type\":\"cat\",\"deleted\":false,\"_id\":\"58e008780aac31001185ed05\",\"user\":\"58e007480aac31001185ecef\",\"text\":\"Owning a cat can reduce the risk of stroke and heart attack by a third.\",\"__v\":0,\"source\":\"user\",\"updatedAt\":\"2020-08-23T20:20:01.611Z\",\"createdAt\":\"2018-03-29T20:20:03.844Z\",\"used\":false}]\n"
     ]
    }
   ],
   "source": [
    "import requests\n",
    "\n",
    "url = \"https://cat-fact.herokuapp.com/facts\"\n",
    "\n",
    "payload = \"\"\n",
    "headers = {\"cookie\": \"connect.sid=s%253AiZNrW6QgE7YvhxRJd_K6NxuG4AoUEhuK.XGlVUi0h3zwAOwje%252F%252FY4F8LbUc1VIhajgStME%252Fj3lKE\"}\n",
    "\n",
    "response = requests.request(\"GET\", url, data=payload, headers=headers)\n",
    "\n",
    "print(response.text)"
   ]
  },
  {
   "cell_type": "markdown",
   "id": "seeing-bahrain",
   "metadata": {},
   "source": [
    "## Summary   \n",
    "Now it is your turn: What have we learnt?\n",
    "- Requests.ger (obtener información de  las apis OJO también podemos descargar un html  con requests.get)\n",
    "- import os y dotenv para guardar las variables de entorno y no subir claves a github\n",
    "- Los json son listas de  diccionarios no os asusteis\n",
    "- Api es una formade comunicar diferentes lenguajes\n",
    "- Guardar el token en el .env y el .env añadirlo al gitignore\n",
    "- ¡¡Grande  equipooooo!!"
   ]
  },
  {
   "cell_type": "markdown",
   "id": "welcome-vehicle",
   "metadata": {},
   "source": [
    "### Recorrido:\n",
    "- Importo requests\n",
    "- Me guardo las contraseñas si esa  api las necesita / api_key / oauth\n",
    "- Hago request.get al endpoint de la api (en la doc de dicha api me pueden enseñar que hay varios endpoints)\n",
    "- Esa api me devuelve un json \n",
    "- Ese  json puede ser un dataframe o puedo investigar dentro de los elementos del json (lista  de diccionarios)"
   ]
  },
  {
   "cell_type": "markdown",
   "id": "plastic-cleaner",
   "metadata": {},
   "source": [
    "## Further materials"
   ]
  },
  {
   "cell_type": "markdown",
   "id": "logical-essence",
   "metadata": {},
   "source": [
    "- [5 Simple-To-Use APIs for Beginners](https://dev.to/alanconstantino/5-simple-to-use-apis-for-beginners-2e0n)\n",
    "- [RapidAPI](https://rapidapi.com/category/Sports): access thousands of APIs!!\n",
    "- [muchasapis](https://github.com/public-apis/public-apis)"
   ]
  }
 ],
 "metadata": {
  "kernelspec": {
   "display_name": "Python 3",
   "language": "python",
   "name": "python3"
  },
  "language_info": {
   "codemirror_mode": {
    "name": "ipython",
    "version": 3
   },
   "file_extension": ".py",
   "mimetype": "text/x-python",
   "name": "python",
   "nbconvert_exporter": "python",
   "pygments_lexer": "ipython3",
   "version": "3.8.5"
  },
  "toc": {
   "base_numbering": 1,
   "nav_menu": {},
   "number_sections": true,
   "sideBar": true,
   "skip_h1_title": true,
   "title_cell": "Table of Contents",
   "title_sidebar": "Contents",
   "toc_cell": true,
   "toc_position": {},
   "toc_section_display": true,
   "toc_window_display": false
  }
 },
 "nbformat": 4,
 "nbformat_minor": 5
}
