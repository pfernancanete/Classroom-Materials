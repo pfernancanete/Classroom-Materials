{
 "cells": [
  {
   "cell_type": "markdown",
   "id": "intended-controversy",
   "metadata": {
    "toc": true
   },
   "source": [
    "<h1>Table of Contents<span class=\"tocSkip\"></span></h1>\n",
    "<div class=\"toc\"><ul class=\"toc-item\"><li><span><a href=\"#Repaso-HTML\" data-toc-modified-id=\"Repaso-HTML-1\"><span class=\"toc-item-num\">1&nbsp;&nbsp;</span>Repaso HTML</a></span><ul class=\"toc-item\"><li><span><a href=\"#Tags\" data-toc-modified-id=\"Tags-1.1\"><span class=\"toc-item-num\">1.1&nbsp;&nbsp;</span>Tags</a></span></li><li><span><a href=\"#Attributes\" data-toc-modified-id=\"Attributes-1.2\"><span class=\"toc-item-num\">1.2&nbsp;&nbsp;</span>Attributes</a></span></li></ul></li><li><span><a href=\"#Beautitul-soup\" data-toc-modified-id=\"Beautitul-soup-2\"><span class=\"toc-item-num\">2&nbsp;&nbsp;</span>Beautitul soup</a></span><ul class=\"toc-item\"><li><span><a href=\"#Hacer-scraping-de-los-elementos-HTML-usando-la-clase-Attribute\" data-toc-modified-id=\"Hacer-scraping-de-los-elementos-HTML-usando-la-clase-Attribute-2.1\"><span class=\"toc-item-num\">2.1&nbsp;&nbsp;</span>Hacer scraping de los elementos HTML usando la clase Attribute</a></span></li><li><span><a href=\"#Obtener-las-etiquetas-HTML-usando-findAll\" data-toc-modified-id=\"Obtener-las-etiquetas-HTML-usando-findAll-2.2\"><span class=\"toc-item-num\">2.2&nbsp;&nbsp;</span>Obtener las etiquetas HTML usando findAll</a></span></li><li><span><a href=\"#Buscar-el-enésimo-hijo-usando-Beautiful-Soup\" data-toc-modified-id=\"Buscar-el-enésimo-hijo-usando-Beautiful-Soup-2.3\"><span class=\"toc-item-num\">2.3&nbsp;&nbsp;</span>Buscar el enésimo hijo usando Beautiful Soup</a></span></li></ul></li><li><span><a href=\"#Diferencia-entre-find_all()-y-select()\" data-toc-modified-id=\"Diferencia-entre-find_all()-y-select()-3\"><span class=\"toc-item-num\">3&nbsp;&nbsp;</span>Diferencia entre find_all() y select()</a></span><ul class=\"toc-item\"><li><ul class=\"toc-item\"><li><span><a href=\"#Find_all\" data-toc-modified-id=\"Find_all-3.0.1\"><span class=\"toc-item-num\">3.0.1&nbsp;&nbsp;</span>Find_all</a></span></li><li><span><a href=\"#Select\" data-toc-modified-id=\"Select-3.0.2\"><span class=\"toc-item-num\">3.0.2&nbsp;&nbsp;</span>Select</a></span></li></ul></li></ul></li><li><span><a href=\"#Manos-a-la-obra\" data-toc-modified-id=\"Manos-a-la-obra-4\"><span class=\"toc-item-num\">4&nbsp;&nbsp;</span>Manos a la obra</a></span><ul class=\"toc-item\"><li><span><a href=\"#Ejemplo-1-Página-de-zapatillas-de-deporte\" data-toc-modified-id=\"Ejemplo-1-Página-de-zapatillas-de-deporte-4.1\"><span class=\"toc-item-num\">4.1&nbsp;&nbsp;</span>Ejemplo 1 Página de zapatillas de deporte</a></span></li><li><span><a href=\"#Ejemplo-wikipedia-medallero\" data-toc-modified-id=\"Ejemplo-wikipedia-medallero-4.2\"><span class=\"toc-item-num\">4.2&nbsp;&nbsp;</span>Ejemplo wikipedia medallero</a></span></li><li><span><a href=\"#Ejemplo-Wikipedia-Enlaces\" data-toc-modified-id=\"Ejemplo-Wikipedia-Enlaces-4.3\"><span class=\"toc-item-num\">4.3&nbsp;&nbsp;</span>Ejemplo Wikipedia Enlaces</a></span></li></ul></li></ul></div>"
   ]
  },
  {
   "cell_type": "markdown",
   "id": "buried-palestinian",
   "metadata": {},
   "source": [
    "# Web Scraping"
   ]
  },
  {
   "cell_type": "markdown",
   "id": "unable-recall",
   "metadata": {},
   "source": [
    "![legtsgo](https://media.giphy.com/media/dwmNhd5H7YAz6/giphy.gif)"
   ]
  },
  {
   "cell_type": "markdown",
   "id": "popular-estate",
   "metadata": {},
   "source": [
    "## Repaso HTML\n",
    "El código HTML se compone de contenido `<etiquetado>`      \n",
    "HTML tiene una estructura jeárquica: parent tags, children tags, sibling tags:     \n",
    "\n",
    "```\n",
    "<html>\n",
    "    <head>\n",
    "        <title>Page Title</title>\n",
    "    </head>\n",
    "    <body>\n",
    "        <h1>My First Heading</h1>\n",
    "        <p>My first paragraph.</p>\n",
    "    </body>\n",
    "</html>\n",
    "```"
   ]
  },
  {
   "cell_type": "markdown",
   "id": "immediate-deficit",
   "metadata": {},
   "source": [
    "### Tags\n",
    "\n",
    "Las etiquetas pueden clasificarse en diferentes grupos, en función del tipo de contenido que se espera que posean\n",
    " * heading: `<h1>`, `<h2>`, `<h3>`, `<hgroup>`...\n",
    " * phrasing: `<b>`, `<sub>`...\n",
    " * embedded: `<audio>`, `<img>`, `<video>`...\n",
    " * tabulated: `<table>`, `<tr>`, `<tbody>`...\n",
    " * sections: `<header>`, `<section>`, `<article>`...\n",
    " * metadata: `<meta>`, `<title>`, `<script>`..."
   ]
  },
  {
   "cell_type": "markdown",
   "id": "behavioral-plate",
   "metadata": {},
   "source": [
    "### Attributes\n",
    "Los atributos son propiedades que un tag puede o no tener. \n",
    "`<div> Zapas Marca Joma X54 </div>` En este caso, la etiqueta div no tiene atributos      \n",
    "\n",
    "* a `class` attribute with value `price-item`\n",
    "* an `id` attribute with value `offer`  \n",
    "\n",
    "`<div class=\"price-item\" id=\"offer\"> Zapas Marca Joma X54 </div>`     \n",
    "\n",
    "El atributo `id` debe ser único para una etiqueta (no debe haber dos etiquetas con el mismo `id`), sin embargo, `class` no pretende ser única, normalmente agrupa etiquetas con un comportamiento similar. Que el id sea único es una convención, html sí nos permite tener el mismo id. Nosotras no buscaremos por id, a no ser que queramos buscar algo concreto, porque querremos obtener muchos datos....     \n",
    "\n",
    "Otras etiquetas de uso frecuente son:\n",
    "* `dir`\n",
    "* `lang`\n",
    "* `style` (not to be confused with `<style>` tag)\n",
    "* `title` (not to be confused with `<title>` tag)"
   ]
  },
  {
   "cell_type": "markdown",
   "id": "strong-proof",
   "metadata": {},
   "source": [
    "## Beautitul soup\n",
    "“Si sólo tratas de sacar datos de una web. Beautiful Soup está aquí para ayudar “.\n",
    "\n",
    "Pero solo te ayudará si te [lees la documentación](https://www.crummy.com/software/BeautifulSoup/bs4/doc/) 🤭\n",
    "\n",
    "Beautiful Soup es una librería Python para obtener datos de HTML, XML y otros lenguajes de marcado. Digamos que has encontrado algunas páginas web que muestran datos relevantes para ti, como información de fechas, contenido, dirección, valores… pero esa web no proporciona ninguna forma de descargar los datos directamente. Beautiful Soup te ayuda a extraer contenido particular de una página web, elimina el marcado HTML, guardar la información e incluso te lo exporta en un archivo excel.        \n",
    "La documentación de Beautiful Soup te dará una idea de la variedad de cosas que la biblioteca Beautiful Soup te ayudará, desde aislar títulos y enlaces, extraer todo el texto de las etiquetas html, hasta alterar el HTML dentro del documento con el que está trabajando."
   ]
  },
  {
   "cell_type": "markdown",
   "id": "prescribed-practitioner",
   "metadata": {},
   "source": [
    "### Hacer scraping de los elementos HTML usando la clase Attribute\n",
    "El objeto Beautiful Soup tiene una función llamada findAll que extrae o filtra elementos en función de sus atributos.    \n",
    "Podemos filtrar todos los elementos h2 cuya clase es widget-title:"
   ]
  },
  {
   "cell_type": "markdown",
   "id": "substantial-consumption",
   "metadata": {},
   "source": [
    "```python\n",
    "tags = res.findAll(\"h2\", {\"class\": \"widget-title\"})\n",
    "```"
   ]
  },
  {
   "cell_type": "markdown",
   "id": "recognized-steel",
   "metadata": {},
   "source": [
    "Podemos usar una estructura for para iterar sobre ellos y hacer lo que sea con cada uno."
   ]
  },
  {
   "cell_type": "code",
   "execution_count": 9,
   "id": "favorite-westminster",
   "metadata": {},
   "outputs": [],
   "source": [
    "url = \"https://www.python.org/\"\n",
    "html = requests.get(url)\n",
    "res = BeautifulSoup(html.content,\"html.parser\")"
   ]
  },
  {
   "cell_type": "code",
   "execution_count": 11,
   "id": "valuable-instrument",
   "metadata": {},
   "outputs": [
    {
     "name": "stdout",
     "output_type": "stream",
     "text": [
      "Get Started\n",
      "Download\n",
      "Docs\n",
      "Jobs\n",
      "Latest News\n",
      "Upcoming Events\n",
      "Success Stories\n",
      "Use Python for…\n",
      "\n",
      ">>> Python Enhancement Proposals (PEPs): The future of Python is discussed here.\n",
      " RSS\n",
      "\n",
      "\n",
      ">>> Python Software Foundation\n",
      "\n"
     ]
    }
   ],
   "source": [
    "tags = res.findAll(\"h2\", {\"class\": \"widget-title\"})\n",
    "for tag in tags:\n",
    "    print(tag.getText())"
   ]
  },
  {
   "cell_type": "markdown",
   "id": "christian-starter",
   "metadata": {},
   "source": [
    "Usamos la función getText para imprimir solo el contenido interno de la etiqueta, pero si no usaste getText, terminarás con las etiquetas incluido todo lo que haya dentro de ellas."
   ]
  },
  {
   "cell_type": "markdown",
   "id": "eight-mention",
   "metadata": {},
   "source": [
    "### Obtener las etiquetas HTML usando findAll\n",
    "Vimos cómo findAll function filtra las etiquetas por clase, pero esto no es todo.\n",
    "\n",
    "Para filtrar una lista de etiquetas, reemplaza la línea resaltada del ejemplo anterior con la siguiente línea:"
   ]
  },
  {
   "cell_type": "code",
   "execution_count": 13,
   "id": "accompanied-performance",
   "metadata": {},
   "outputs": [],
   "source": [
    "#Este código obtiene todas las etiquetas span, a e img del código HTML descargado.\n",
    "tags = res.findAll(\"span\", \"a\" \"img\")"
   ]
  },
  {
   "cell_type": "markdown",
   "id": "clear-taste",
   "metadata": {},
   "source": [
    "Además, puedes extraer etiquetas que tengan estas clases:"
   ]
  },
  {
   "cell_type": "code",
   "execution_count": 15,
   "id": "agreed-polyester",
   "metadata": {},
   "outputs": [],
   "source": [
    "tags = res.findAll(\"a\", {\"class\": [\"url\", \"readmorebtn\"]})"
   ]
  },
  {
   "cell_type": "markdown",
   "id": "combined-correspondence",
   "metadata": {},
   "source": [
    "Este código extrae todas las etiquetas a que tienen las clases readmorebtn y url.     \n",
    "Puedes filtrar el contenido en función del texto interno, utilizando el argumento text de esta manera:"
   ]
  },
  {
   "cell_type": "code",
   "execution_count": 17,
   "id": "extraordinary-compound",
   "metadata": {},
   "outputs": [],
   "source": [
    "tags = res.findAll(text=\"Python Programming Basics with Examples\")"
   ]
  },
  {
   "cell_type": "markdown",
   "id": "duplicate-water",
   "metadata": {},
   "source": [
    "La función findAll devuelve todos los elementos que coinciden con los atributos especificados, pero si deseas devolver un solo elemento, puedes usar el parámetro limit o usar la función find que solo devuelve el primer elemento."
   ]
  },
  {
   "cell_type": "markdown",
   "id": "frank-thunder",
   "metadata": {},
   "source": [
    "### Buscar el enésimo hijo usando Beautiful Soup\n",
    "El objeto Beautiful Soup tiene muchas características potentes, puedes obtener elementos hijos directamente así:"
   ]
  },
  {
   "cell_type": "code",
   "execution_count": 19,
   "id": "hollow-timing",
   "metadata": {},
   "outputs": [],
   "source": [
    "tags = res.span.findAll(\"a\")"
   ]
  },
  {
   "cell_type": "markdown",
   "id": "painful-reasoning",
   "metadata": {},
   "source": [
    "Esta línea obtendrá el primer elemento span en el objeto Beautiful Soup y luego obtendrá todos los elementos a en ese span.\n",
    "\n",
    "¿Qué pasa si necesitas conseguir el enésimo hijo?\n",
    "```python\n",
    "tag = res.find(\"nav\", {\"id\": \"site-navigation\"}).select(\"a\")[3]\n",
    "```\n",
    "\n",
    "Esta línea obtiene el elemento nav con id site-navigation y luego tomamos la cuarta etiqueta a de ese elemento nav.\n",
    "\n",
    "¡Beautiful Soup es brutaaaaaaaaaal!"
   ]
  },
  {
   "cell_type": "markdown",
   "id": "ordinary-hardware",
   "metadata": {},
   "source": [
    "## Diferencia entre find_all() y select()"
   ]
  },
  {
   "cell_type": "markdown",
   "id": "nutritional-senate",
   "metadata": {},
   "source": [
    "#### Find_all\n",
    "[DOCUMENTACIÓN FINDALL](https://www.crummy.com/software/BeautifulSoup/bs4/doc/#calling-a-tag-is-like-calling-find-all)     \n",
    "El método find_all() escanea todo el documento en busca de resultados, pero a veces sólo se quiere encontrar un resultado. Si sabe que un documento sólo tiene una etiqueta <body>, es una pérdida de tiempo escanear todo el documento en busca de más. En lugar de pasar limit=1 cada vez que llame a find_all, puede utilizar el método find(). "
   ]
  },
  {
   "cell_type": "markdown",
   "id": "fresh-purse",
   "metadata": {},
   "source": [
    "#### Select\n",
    "[DOCUMENTACIÓN SELECT](https://www.crummy.com/software/BeautifulSoup/bs4/doc/#css-selectors)     \n",
    "BeautifulSoup tiene un método .select() que utiliza el paquete SoupSieve para ejecutar un selector CSS contra un documento analizado y devolver todos los elementos coincidentes. Tag tiene un método similar que ejecuta un selector CSS contra el contenido de una sola etiqueta.\n",
    "\n",
    "(La integración de SoupSieve se añadió en Beautiful Soup 4.7.0.) Las versiones anteriores también tienen el método .select(), pero sólo se soportan los selectores CSS más utilizados. Si instalaste Beautiful Soup a través de pip, SoupSieve fue instalado al mismo tiempo, así que no tienes que hacer nada extra).\n",
    "\n",
    "La documentación de SoupSieve enumera todos los selectores CSS actualmente soportados"
   ]
  },
  {
   "cell_type": "markdown",
   "id": "steady-madagascar",
   "metadata": {},
   "source": [
    "## Manos a la obra"
   ]
  },
  {
   "cell_type": "markdown",
   "id": "front-majority",
   "metadata": {},
   "source": [
    "### Ejemplo 1 Página de zapatillas de deporte"
   ]
  },
  {
   "cell_type": "markdown",
   "id": "timely-nowhere",
   "metadata": {},
   "source": [
    "Recuerda que tienes que instalar la librería beautifulsoup    "
   ]
  },
  {
   "cell_type": "code",
   "execution_count": 38,
   "id": "municipal-swedish",
   "metadata": {},
   "outputs": [],
   "source": [
    "#!pip install beautifulsoup4"
   ]
  },
  {
   "cell_type": "code",
   "execution_count": 5,
   "id": "professional-appreciation",
   "metadata": {},
   "outputs": [],
   "source": [
    "import requests\n",
    "from bs4 import BeautifulSoup"
   ]
  },
  {
   "cell_type": "code",
   "execution_count": 6,
   "id": "demonstrated-project",
   "metadata": {},
   "outputs": [],
   "source": [
    "import pandas as pd"
   ]
  },
  {
   "cell_type": "code",
   "execution_count": 1,
   "id": "broken-colombia",
   "metadata": {},
   "outputs": [],
   "source": [
    "url = \"https://www.murallasport.com/29-zapatillas-moda-mujer\""
   ]
  },
  {
   "cell_type": "code",
   "execution_count": 42,
   "id": "built-observation",
   "metadata": {},
   "outputs": [],
   "source": []
  },
  {
   "cell_type": "code",
   "execution_count": 43,
   "id": "checked-delaware",
   "metadata": {},
   "outputs": [],
   "source": []
  },
  {
   "cell_type": "code",
   "execution_count": 44,
   "id": "bizarre-zoning",
   "metadata": {},
   "outputs": [],
   "source": []
  },
  {
   "cell_type": "code",
   "execution_count": 45,
   "id": "interim-stephen",
   "metadata": {},
   "outputs": [],
   "source": []
  },
  {
   "cell_type": "code",
   "execution_count": 46,
   "id": "consistent-morrison",
   "metadata": {},
   "outputs": [],
   "source": []
  },
  {
   "cell_type": "code",
   "execution_count": 47,
   "id": "express-embassy",
   "metadata": {},
   "outputs": [],
   "source": []
  },
  {
   "cell_type": "code",
   "execution_count": 48,
   "id": "dressed-humanitarian",
   "metadata": {},
   "outputs": [],
   "source": []
  },
  {
   "cell_type": "code",
   "execution_count": 49,
   "id": "modular-prediction",
   "metadata": {},
   "outputs": [],
   "source": []
  },
  {
   "cell_type": "code",
   "execution_count": 50,
   "id": "related-puzzle",
   "metadata": {},
   "outputs": [
    {
     "data": {
      "text/html": [
       "<div>\n",
       "<style scoped>\n",
       "    .dataframe tbody tr th:only-of-type {\n",
       "        vertical-align: middle;\n",
       "    }\n",
       "\n",
       "    .dataframe tbody tr th {\n",
       "        vertical-align: top;\n",
       "    }\n",
       "\n",
       "    .dataframe thead th {\n",
       "        text-align: right;\n",
       "    }\n",
       "</style>\n",
       "<table border=\"1\" class=\"dataframe\">\n",
       "  <thead>\n",
       "    <tr style=\"text-align: right;\">\n",
       "      <th></th>\n",
       "      <th>Producto</th>\n",
       "      <th>Marca</th>\n",
       "      <th>Precio</th>\n",
       "    </tr>\n",
       "  </thead>\n",
       "  <tbody>\n",
       "    <tr>\n",
       "      <th>0</th>\n",
       "      <td>Zapatilla Mujer  Converse Lift  Hi Top  Beige</td>\n",
       "      <td>CONVERSE</td>\n",
       "      <td>85.00€</td>\n",
       "    </tr>\n",
       "    <tr>\n",
       "      <th>1</th>\n",
       "      <td>Zapatillas Mujer  Reebok Legacy 83  Verde</td>\n",
       "      <td>REEBOK</td>\n",
       "      <td>89.00€\\n100.00€</td>\n",
       "    </tr>\n",
       "    <tr>\n",
       "      <th>2</th>\n",
       "      <td>Zapatilla Adidas Mujer Courtphase Blanco</td>\n",
       "      <td>ADIDAS</td>\n",
       "      <td>70.00€</td>\n",
       "    </tr>\n",
       "    <tr>\n",
       "      <th>3</th>\n",
       "      <td>Zapatilla Nike Court Legacy Blanco</td>\n",
       "      <td>NIKE</td>\n",
       "      <td>64.99€</td>\n",
       "    </tr>\n",
       "    <tr>\n",
       "      <th>4</th>\n",
       "      <td>Zapatilla Mujer Nike Air Max Excee Blanco</td>\n",
       "      <td>NIKE</td>\n",
       "      <td>98.99€\\n109.99€</td>\n",
       "    </tr>\n",
       "  </tbody>\n",
       "</table>\n",
       "</div>"
      ],
      "text/plain": [
       "                                        Producto     Marca           Precio\n",
       "0  Zapatilla Mujer  Converse Lift  Hi Top  Beige  CONVERSE           85.00€\n",
       "1      Zapatillas Mujer  Reebok Legacy 83  Verde    REEBOK  89.00€\\n100.00€\n",
       "2       Zapatilla Adidas Mujer Courtphase Blanco    ADIDAS           70.00€\n",
       "3             Zapatilla Nike Court Legacy Blanco      NIKE           64.99€\n",
       "4      Zapatilla Mujer Nike Air Max Excee Blanco      NIKE  98.99€\\n109.99€"
      ]
     },
     "execution_count": 50,
     "metadata": {},
     "output_type": "execute_result"
    }
   ],
   "source": []
  },
  {
   "cell_type": "code",
   "execution_count": 51,
   "id": "prompt-hundred",
   "metadata": {},
   "outputs": [],
   "source": []
  },
  {
   "cell_type": "code",
   "execution_count": 52,
   "id": "celtic-basics",
   "metadata": {},
   "outputs": [],
   "source": []
  },
  {
   "cell_type": "code",
   "execution_count": 53,
   "id": "chicken-sewing",
   "metadata": {},
   "outputs": [
    {
     "data": {
      "text/html": [
       "<div>\n",
       "<style scoped>\n",
       "    .dataframe tbody tr th:only-of-type {\n",
       "        vertical-align: middle;\n",
       "    }\n",
       "\n",
       "    .dataframe tbody tr th {\n",
       "        vertical-align: top;\n",
       "    }\n",
       "\n",
       "    .dataframe thead th {\n",
       "        text-align: right;\n",
       "    }\n",
       "</style>\n",
       "<table border=\"1\" class=\"dataframe\">\n",
       "  <thead>\n",
       "    <tr style=\"text-align: right;\">\n",
       "      <th></th>\n",
       "      <th>Producto</th>\n",
       "      <th>Marca</th>\n",
       "      <th>Precio</th>\n",
       "    </tr>\n",
       "  </thead>\n",
       "  <tbody>\n",
       "    <tr>\n",
       "      <th>0</th>\n",
       "      <td>Zapatilla Mujer  Converse Lift  Hi Top  Beige</td>\n",
       "      <td>CONVERSE</td>\n",
       "      <td>85.00 €</td>\n",
       "    </tr>\n",
       "    <tr>\n",
       "      <th>1</th>\n",
       "      <td>Zapatillas Mujer  Reebok Legacy 83  Verde</td>\n",
       "      <td>REEBOK</td>\n",
       "      <td>89.00 €</td>\n",
       "    </tr>\n",
       "    <tr>\n",
       "      <th>2</th>\n",
       "      <td>Zapatilla Adidas Mujer Courtphase Blanco</td>\n",
       "      <td>ADIDAS</td>\n",
       "      <td>70.00 €</td>\n",
       "    </tr>\n",
       "    <tr>\n",
       "      <th>3</th>\n",
       "      <td>Zapatilla Nike Court Legacy Blanco</td>\n",
       "      <td>NIKE</td>\n",
       "      <td>64.99 €</td>\n",
       "    </tr>\n",
       "    <tr>\n",
       "      <th>4</th>\n",
       "      <td>Zapatilla Mujer Nike Air Max Excee Blanco</td>\n",
       "      <td>NIKE</td>\n",
       "      <td>98.99 €</td>\n",
       "    </tr>\n",
       "  </tbody>\n",
       "</table>\n",
       "</div>"
      ],
      "text/plain": [
       "                                        Producto     Marca   Precio\n",
       "0  Zapatilla Mujer  Converse Lift  Hi Top  Beige  CONVERSE  85.00 €\n",
       "1      Zapatillas Mujer  Reebok Legacy 83  Verde    REEBOK  89.00 €\n",
       "2       Zapatilla Adidas Mujer Courtphase Blanco    ADIDAS  70.00 €\n",
       "3             Zapatilla Nike Court Legacy Blanco      NIKE  64.99 €\n",
       "4      Zapatilla Mujer Nike Air Max Excee Blanco      NIKE  98.99 €"
      ]
     },
     "execution_count": 53,
     "metadata": {},
     "output_type": "execute_result"
    }
   ],
   "source": []
  },
  {
   "cell_type": "markdown",
   "id": "experimental-program",
   "metadata": {},
   "source": [
    "### Ejemplo wikipedia medallero"
   ]
  },
  {
   "cell_type": "code",
   "execution_count": 48,
   "id": "moral-routine",
   "metadata": {},
   "outputs": [],
   "source": [
    "url='https://es.wikipedia.org/wiki/Juegos_Ol%C3%ADmpicos_de_Barcelona_1992'\n"
   ]
  },
  {
   "cell_type": "code",
   "execution_count": 49,
   "id": "secure-enlargement",
   "metadata": {},
   "outputs": [],
   "source": [
    "#soup\n"
   ]
  },
  {
   "cell_type": "code",
   "execution_count": 50,
   "id": "collectible-bulgarian",
   "metadata": {},
   "outputs": [],
   "source": [
    "#Tablas :)\n"
   ]
  },
  {
   "cell_type": "code",
   "execution_count": 51,
   "id": "maritime-hypothesis",
   "metadata": {},
   "outputs": [],
   "source": [
    "#ultima\n"
   ]
  },
  {
   "cell_type": "code",
   "execution_count": 52,
   "id": "convenient-valuation",
   "metadata": {},
   "outputs": [
    {
     "data": {
      "text/plain": [
       "<a href=\"/wiki/Control_de_autoridades\" title=\"Control de autoridades\">Control de autoridades</a>"
      ]
     },
     "execution_count": 52,
     "metadata": {},
     "output_type": "execute_result"
    }
   ],
   "source": []
  },
  {
   "cell_type": "code",
   "execution_count": 53,
   "id": "classical-confirmation",
   "metadata": {},
   "outputs": [
    {
     "data": {
      "text/plain": [
       "'Control de autoridades'"
      ]
     },
     "execution_count": 53,
     "metadata": {},
     "output_type": "execute_result"
    }
   ],
   "source": [
    "# contenido de la caja, en este caso texto"
   ]
  },
  {
   "cell_type": "code",
   "execution_count": 54,
   "id": "chinese-criminal",
   "metadata": {},
   "outputs": [
    {
     "name": "stdout",
     "output_type": "stream",
     "text": [
      "['Control de autoridades']\n"
     ]
    }
   ],
   "source": [
    "# contenido comom lista"
   ]
  },
  {
   "cell_type": "code",
   "execution_count": 55,
   "id": "angry-somerset",
   "metadata": {},
   "outputs": [
    {
     "data": {
      "text/plain": [
       "{'href': '/wiki/Control_de_autoridades', 'title': 'Control de autoridades'}"
      ]
     },
     "execution_count": 55,
     "metadata": {},
     "output_type": "execute_result"
    }
   ],
   "source": [
    "# sticker en la tapa de la caja"
   ]
  },
  {
   "cell_type": "code",
   "execution_count": 60,
   "id": "supposed-portable",
   "metadata": {},
   "outputs": [],
   "source": [
    "#medallero\n"
   ]
  },
  {
   "cell_type": "code",
   "execution_count": 91,
   "id": "intelligent-breeding",
   "metadata": {},
   "outputs": [],
   "source": [
    "#medallero.find_all(\"tr\")"
   ]
  },
  {
   "cell_type": "code",
   "execution_count": 89,
   "id": "molecular-tackle",
   "metadata": {},
   "outputs": [
    {
     "data": {
      "text/plain": [
       "'Equipo Unificado'"
      ]
     },
     "execution_count": 89,
     "metadata": {},
     "output_type": "execute_result"
    }
   ],
   "source": []
  },
  {
   "cell_type": "code",
   "execution_count": 61,
   "id": "dedicated-avenue",
   "metadata": {},
   "outputs": [
    {
     "data": {
      "text/plain": [
       "[{'nombre': 'Equipo Unificado', 'oros': 45, 'platas': 38, 'bronces': 29},\n",
       " {'nombre': 'Estados Unidos', 'oros': 37, 'platas': 34, 'bronces': 37},\n",
       " {'nombre': 'Alemania', 'oros': 33, 'platas': 21, 'bronces': 28},\n",
       " {'nombre': 'China', 'oros': 16, 'platas': 22, 'bronces': 16},\n",
       " {'nombre': 'Cuba', 'oros': 14, 'platas': 6, 'bronces': 11},\n",
       " {'nombre': 'España', 'oros': 13, 'platas': 7, 'bronces': 2},\n",
       " {'nombre': 'Corea del Sur', 'oros': 12, 'platas': 5, 'bronces': 12},\n",
       " {'nombre': 'Hungría', 'oros': 11, 'platas': 12, 'bronces': 7},\n",
       " {'nombre': 'Francia', 'oros': 8, 'platas': 5, 'bronces': 16},\n",
       " {'nombre': 'Australia', 'oros': 7, 'platas': 9, 'bronces': 11}]"
      ]
     },
     "execution_count": 61,
     "metadata": {},
     "output_type": "execute_result"
    }
   ],
   "source": []
  },
  {
   "cell_type": "markdown",
   "id": "romantic-edition",
   "metadata": {},
   "source": [
    "### Ejemplo Wikipedia Enlaces"
   ]
  },
  {
   "cell_type": "code",
   "execution_count": 117,
   "id": "fabulous-indian",
   "metadata": {},
   "outputs": [],
   "source": [
    "url_rufus = \"https://es.wikipedia.org/wiki/Rufus_T._Firefly\"\n",
    "res_rufus=requests.get(url_rufus)\n",
    "soup_r = BeautifulSoup (res_rufus.content, \"html.parser\")"
   ]
  },
  {
   "cell_type": "markdown",
   "id": "missing-jimmy",
   "metadata": {},
   "source": [
    "Documentación de Beautiful Soup     \n",
    "KeyError: [attr] - Caused by accessing tag['attr'] when the tag in question doesn’t define the attr attribute. The most common errors are KeyError: 'href' and KeyError: 'class'. Use tag.get('attr') if you’re not sure attr is defined, just as you would with a Python dictionary."
   ]
  },
  {
   "cell_type": "code",
   "execution_count": 118,
   "id": "purple-management",
   "metadata": {},
   "outputs": [],
   "source": [
    "tags = soup_r('a')\n",
    "enlaces = [tag.get('href') for tag in tags]"
   ]
  },
  {
   "cell_type": "code",
   "execution_count": 129,
   "id": "short-cradle",
   "metadata": {},
   "outputs": [
    {
     "data": {
      "text/plain": [
       "['http://rufustf.com',\n",
       " 'https://www.wikidata.org/wiki/Q12201456',\n",
       " 'https://web.archive.org/web/20150406144829/http://www.elmundodetulsa.com/2009/03/rufus-t-firefly-my-synthetic-heart-2008.html',\n",
       " 'http://www.elmundodetulsa.com/2009/03/rufus-t-firefly-my-synthetic-heart-2008.html',\n",
       " 'http://www.latribunadeciudadreal.es/noticia.cfm/Vivir%20/20090617/ganador/iv/edicion/explosion/local/volvera/protagonizar/videoclip/EA8B24E7-1A64-968D-5921264AC0C50118',\n",
       " 'http://mondosonoro.com/Critica-Discos/Rufus-T-Firefly-en-ascenso/RUFUS-T-FIREFLY/7954.aspx',\n",
       " 'https://web.archive.org/web/20130616100127/http://www.rivasciudad.es/portal/contenedor_ficha.jsp?seccion=s_fdes_d4_v3.jsp&codbusqueda=527&language=es&codResi=1&codMenuPN=38&codMenuSN=42&codMenu=616&layout=contenedor_ficha.jsp&area=24',\n",
       " 'http://www.rivasciudad.es/portal/contenedor_ficha.jsp?seccion=s_fdes_d4_v3.jsp&codbusqueda=527&language=es&codResi=1&codMenuPN=38&codMenuSN=42&codMenu=616&layout=contenedor_ficha.jsp&area=24',\n",
       " 'http://poprocklaredo.webcindario.com/final2011.html',\n",
       " 'https://web.archive.org/web/20130430135359/http://origamirecords.com/rufus-t-firefly',\n",
       " 'http://www.origamirecords.com/rufus-t-firefly',\n",
       " 'https://www.diariodelaltoaragon.es/SuplementosNoticiasDetalle.aspx?Sup=5&Id=777347',\n",
       " 'http://cultura.elpais.com/cultura/2012/10/31/tentaciones/1351707005_147480.html',\n",
       " 'http://www.mondosonoro.com/Noticia/Los-Mejores-Discos-Nacionales-de-2012-Del-20-al-11/221634.aspx',\n",
       " 'http://blog.rtve.es/hoyempiezatodo/2012/09/page/2/',\n",
       " 'http://musicisnatural.com/rufus-t-firefly-groucho-estaria-orgulloso/',\n",
       " 'https://plus.google.com/+Musicisnaturalplus',\n",
       " 'https://madridandmusic.es/2018/10/18/rufus-t-firefly-madrid-music/',\n",
       " 'http://www.rufustf.com',\n",
       " 'https://www.facebook.com/rufustfoficial?fref=ts',\n",
       " 'https://twitter.com/_RufusTFirefly_',\n",
       " 'https://musicbrainz.org/artist/d902ed3e-1e77-4b5d-86b5-58e46718bbf7.html',\n",
       " 'http://cmon.fcdmurcia.es/entrevista-con-victor-cabezuelo-de-rufus-t-firefly/',\n",
       " 'https://www.wikidata.org/wiki/Q12201456',\n",
       " 'https://viaf.org/viaf/169532340',\n",
       " 'https://www.wikidata.org/wiki/Q12201456',\n",
       " 'https://es.wikipedia.org/w/index.php?title=Rufus_T._Firefly&oldid=133403537',\n",
       " 'https://www.wikidata.org/wiki/Special:EntityPage/Q12201456',\n",
       " 'https://fr.wikipedia.org/wiki/Rufus_T._Firefly',\n",
       " 'https://www.wikidata.org/wiki/Special:EntityPage/Q12201456#sitelinks-wikipedia',\n",
       " 'http://creativecommons.org/licenses/by-sa/3.0/',\n",
       " 'https://meta.wikimedia.org/wiki/Privacy_policy/es',\n",
       " 'https://www.mediawiki.org/wiki/Special:MyLanguage/How_to_contribute',\n",
       " 'https://stats.wikimedia.org/#/es.wikipedia.org',\n",
       " 'https://foundation.wikimedia.org/wiki/Cookie_statement/es',\n",
       " 'https://wikimediafoundation.org/',\n",
       " 'https://www.mediawiki.org/']"
      ]
     },
     "execution_count": 129,
     "metadata": {},
     "output_type": "execute_result"
    }
   ],
   "source": [
    "enlaces_bien = [a for a in enlaces[1:] if \"http\" in a]\n",
    "enlaces_bien"
   ]
  },
  {
   "cell_type": "code",
   "execution_count": null,
   "id": "sudden-trademark",
   "metadata": {},
   "outputs": [],
   "source": []
  }
 ],
 "metadata": {
  "kernelspec": {
   "display_name": "Python 3",
   "language": "python",
   "name": "python3"
  },
  "language_info": {
   "codemirror_mode": {
    "name": "ipython",
    "version": 3
   },
   "file_extension": ".py",
   "mimetype": "text/x-python",
   "name": "python",
   "nbconvert_exporter": "python",
   "pygments_lexer": "ipython3",
   "version": "3.8.5"
  },
  "toc": {
   "base_numbering": 1,
   "nav_menu": {},
   "number_sections": true,
   "sideBar": true,
   "skip_h1_title": true,
   "title_cell": "Table of Contents",
   "title_sidebar": "Contents",
   "toc_cell": true,
   "toc_position": {},
   "toc_section_display": true,
   "toc_window_display": true
  }
 },
 "nbformat": 4,
 "nbformat_minor": 5
}
