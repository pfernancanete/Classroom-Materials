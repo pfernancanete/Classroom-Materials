{
 "cells": [
  {
   "cell_type": "markdown",
   "metadata": {},
   "source": [
    "# Time Series\n",
    "![](https://i.ytimg.com/vi/coMhteW-sLU/maxresdefault.jpg)"
   ]
  },
  {
   "cell_type": "markdown",
   "metadata": {
    "toc": true
   },
   "source": [
    "<h1>Table of Contents<span class=\"tocSkip\"></span></h1>\n",
    "<div class=\"toc\"><ul class=\"toc-item\"><li><span><a href=\"#What-is-a-time-series?\" data-toc-modified-id=\"What-is-a-time-series?-1\"><span class=\"toc-item-num\">1&nbsp;&nbsp;</span>What is a time series?</a></span></li><li><span><a href=\"#Time-Series-Analysis\" data-toc-modified-id=\"Time-Series-Analysis-2\"><span class=\"toc-item-num\">2&nbsp;&nbsp;</span>Time Series Analysis</a></span><ul class=\"toc-item\"><li><span><a href=\"#Motivation\" data-toc-modified-id=\"Motivation-2.1\"><span class=\"toc-item-num\">2.1&nbsp;&nbsp;</span>Motivation</a></span></li><li><span><a href=\"#Time-intervals\" data-toc-modified-id=\"Time-intervals-2.2\"><span class=\"toc-item-num\">2.2&nbsp;&nbsp;</span>Time intervals</a></span></li><li><span><a href=\"#Pandas-DateTime-Range\" data-toc-modified-id=\"Pandas-DateTime-Range-2.3\"><span class=\"toc-item-num\">2.3&nbsp;&nbsp;</span>Pandas DateTime Range</a></span></li></ul></li><li><span><a href=\"#Exploratory-Analysis\" data-toc-modified-id=\"Exploratory-Analysis-3\"><span class=\"toc-item-num\">3&nbsp;&nbsp;</span>Exploratory Analysis</a></span><ul class=\"toc-item\"><li><span><a href=\"#Moving-Average\" data-toc-modified-id=\"Moving-Average-3.1\"><span class=\"toc-item-num\">3.1&nbsp;&nbsp;</span>Moving Average</a></span></li></ul></li><li><span><a href=\"#Decomposing-a-time-series\" data-toc-modified-id=\"Decomposing-a-time-series-4\"><span class=\"toc-item-num\">4&nbsp;&nbsp;</span>Decomposing a time series</a></span><ul class=\"toc-item\"><li><span><a href=\"#Trend\" data-toc-modified-id=\"Trend-4.1\"><span class=\"toc-item-num\">4.1&nbsp;&nbsp;</span>Trend</a></span></li><li><span><a href=\"#Seasonality\" data-toc-modified-id=\"Seasonality-4.2\"><span class=\"toc-item-num\">4.2&nbsp;&nbsp;</span>Seasonality</a></span></li><li><span><a href=\"#Cycles\" data-toc-modified-id=\"Cycles-4.3\"><span class=\"toc-item-num\">4.3&nbsp;&nbsp;</span>Cycles</a></span></li><li><span><a href=\"#Residuals\" data-toc-modified-id=\"Residuals-4.4\"><span class=\"toc-item-num\">4.4&nbsp;&nbsp;</span>Residuals</a></span></li><li><span><a href=\"#Additive-decomposition\" data-toc-modified-id=\"Additive-decomposition-4.5\"><span class=\"toc-item-num\">4.5&nbsp;&nbsp;</span>Additive decomposition</a></span></li><li><span><a href=\"#Multiplicative-decomposition\" data-toc-modified-id=\"Multiplicative-decomposition-4.6\"><span class=\"toc-item-num\">4.6&nbsp;&nbsp;</span>Multiplicative decomposition</a></span></li></ul></li><li><span><a href=\"#Stationarity\" data-toc-modified-id=\"Stationarity-5\"><span class=\"toc-item-num\">5&nbsp;&nbsp;</span>Stationarity</a></span><ul class=\"toc-item\"><li><span><a href=\"#Augmented-Dickey-Fuller-test\" data-toc-modified-id=\"Augmented-Dickey-Fuller-test-5.1\"><span class=\"toc-item-num\">5.1&nbsp;&nbsp;</span>Augmented Dickey Fuller test</a></span></li></ul></li><li><span><a href=\"#Auto-Correlation-Function\" data-toc-modified-id=\"Auto-Correlation-Function-6\"><span class=\"toc-item-num\">6&nbsp;&nbsp;</span>Auto Correlation Function</a></span><ul class=\"toc-item\"><li><span><a href=\"#Lag-Plot\" data-toc-modified-id=\"Lag-Plot-6.1\"><span class=\"toc-item-num\">6.1&nbsp;&nbsp;</span>Lag Plot</a></span></li></ul></li><li><span><a href=\"#Further-Resources\" data-toc-modified-id=\"Further-Resources-7\"><span class=\"toc-item-num\">7&nbsp;&nbsp;</span>Further Resources</a></span></li></ul></div>"
   ]
  },
  {
   "cell_type": "markdown",
   "metadata": {},
   "source": [
    "## What is a time series?\n",
    ">A time series is a series of data points indexed in time order. Most commonly, a time series is a sequence taken at successive equally spaced points in time. Thus it is a sequence of [discrete](https://en.wikipedia.org/wiki/Continuous_or_discrete_variable)-time data.\n",
    "\n",
    "_Source: [Wikipedia](https://en.wikipedia.org/wiki/Time_series)_\n",
    "\n",
    "**Examples:**\n",
    "- Stock Prices\n",
    "- Weather data (temperature, humidity, etc..)\n",
    "- Visitor to a webpage, Youtube views\n",
    "- Power generation\n",
    "- Audio\n",
    "- Video\n",
    "\n",
    "## Time Series Analysis\n",
    "### Motivation\n",
    "- **Forecasting** (Predicting)\n",
    "- Signal Processing\n",
    "- Pattern Recognition and Anomaly Detection"
   ]
  },
  {
   "cell_type": "markdown",
   "metadata": {},
   "source": [
    "### Time intervals\n",
    "When studying a time-series, the frequency (intervals) in which the data is colected is very important. \n",
    "\n",
    "Luckily, pandas has a couple of tools to help us out with it."
   ]
  },
  {
   "cell_type": "code",
   "execution_count": null,
   "metadata": {},
   "outputs": [],
   "source": [
    "import pandas as pd\n",
    "import numpy as np\n",
    "import matplotlib.pyplot as plt"
   ]
  },
  {
   "cell_type": "markdown",
   "metadata": {},
   "source": [
    "### Pandas DateTime Range\n",
    "```python\n",
    "pd.date_range(start, end, periods, freq)\n",
    "```"
   ]
  },
  {
   "cell_type": "code",
   "execution_count": null,
   "metadata": {},
   "outputs": [],
   "source": [
    "pd.date_range(\"28/04/2021\", periods=7, freq=\"D\")"
   ]
  },
  {
   "cell_type": "markdown",
   "metadata": {},
   "source": [
    "**Frequency Aliases**\n",
    "\n",
    "Some of the most common are:\n",
    "\n",
    "- \"D\" : Day\n",
    "- \"W\" : Week\n",
    "- \"H\" : Hour\n",
    "- \"T\" : Minute\n",
    "- \"S\" : Second\n",
    "- \"L\" : Milisecond\n",
    "\n",
    "Of course, there are many [more](https://pandas.pydata.org/pandas-docs/stable/user_guide/timeseries.html#timeseries-offset-aliases)."
   ]
  },
  {
   "cell_type": "code",
   "execution_count": null,
   "metadata": {},
   "outputs": [],
   "source": [
    "pd.date_range(\"28/04/2021\", \"05/05/2021\", periods=8)"
   ]
  },
  {
   "cell_type": "markdown",
   "metadata": {},
   "source": [
    "If we do not define the frequency beforehand, we can infer it!\n",
    "\n",
    "It will be used when setting the dates as the index for our data."
   ]
  },
  {
   "cell_type": "code",
   "execution_count": null,
   "metadata": {},
   "outputs": [],
   "source": [
    "dates = pd.date_range(\"28/04/2021\", \"28/05/2021\", periods=31)\n",
    "freq = pd.infer_freq(dates)\n",
    "print(freq)"
   ]
  },
  {
   "cell_type": "code",
   "execution_count": null,
   "metadata": {},
   "outputs": [],
   "source": [
    "dates.freq = freq"
   ]
  },
  {
   "cell_type": "code",
   "execution_count": null,
   "metadata": {},
   "outputs": [],
   "source": [
    "dates"
   ]
  },
  {
   "cell_type": "markdown",
   "metadata": {},
   "source": [
    "**Let's mock up some data**"
   ]
  },
  {
   "cell_type": "code",
   "execution_count": null,
   "metadata": {},
   "outputs": [],
   "source": [
    "len(dates)"
   ]
  },
  {
   "cell_type": "code",
   "execution_count": null,
   "metadata": {},
   "outputs": [],
   "source": [
    "df = pd.DataFrame(index=dates)\n",
    "df[\"values\"] = np.random.randint(500, 3000, len(dates))\n",
    "df.head()"
   ]
  },
  {
   "cell_type": "code",
   "execution_count": null,
   "metadata": {},
   "outputs": [],
   "source": [
    "df.plot()"
   ]
  },
  {
   "cell_type": "markdown",
   "metadata": {},
   "source": [
    "Of course, not all real world data is this random"
   ]
  },
  {
   "cell_type": "code",
   "execution_count": null,
   "metadata": {},
   "outputs": [],
   "source": [
    "df = pd.read_csv('https://raw.githubusercontent.com/selva86/datasets/master/a10.csv')\n",
    "df.head()"
   ]
  },
  {
   "cell_type": "code",
   "execution_count": null,
   "metadata": {},
   "outputs": [],
   "source": [
    "df.index = pd.to_datetime(df[\"date\"])"
   ]
  },
  {
   "cell_type": "code",
   "execution_count": null,
   "metadata": {},
   "outputs": [],
   "source": [
    "df.index"
   ]
  },
  {
   "cell_type": "markdown",
   "metadata": {},
   "source": [
    "And after infering the frequency"
   ]
  },
  {
   "cell_type": "code",
   "execution_count": null,
   "metadata": {},
   "outputs": [],
   "source": [
    "df.index.freq = pd.infer_freq(df.index)\n",
    "df.index"
   ]
  },
  {
   "cell_type": "code",
   "execution_count": null,
   "metadata": {},
   "outputs": [],
   "source": [
    "df.plot(figsize=(15,6), title=\"Sales of anti-diabetic drugs in Australia\");"
   ]
  },
  {
   "cell_type": "markdown",
   "metadata": {},
   "source": [
    "## Exploratory Analysis\n",
    "\n",
    "We begin seeing some patterns and characteristics on our data.\n",
    "\n",
    "Let's check out the average of our values."
   ]
  },
  {
   "cell_type": "code",
   "execution_count": null,
   "metadata": {},
   "outputs": [],
   "source": [
    "df.plot(figsize=(15,6))\n",
    "plt.title(\"Sales of anti-diabetic drugs in Australia\")\n",
    "plt.axhline(df.value.mean(), c=\"g\", label=\"mean\")\n",
    "plt.legend();"
   ]
  },
  {
   "cell_type": "markdown",
   "metadata": {},
   "source": [
    "### Moving Average\n",
    "\n",
    "**Rolling Window**\n",
    "\n",
    "The average of all values does not tells us much, but let's se how that average behaves through time."
   ]
  },
  {
   "cell_type": "code",
   "execution_count": null,
   "metadata": {},
   "outputs": [],
   "source": [
    "df.rolling(window=12)"
   ]
  },
  {
   "cell_type": "code",
   "execution_count": null,
   "metadata": {},
   "outputs": [],
   "source": [
    "df.rolling(window=12).mean()"
   ]
  },
  {
   "cell_type": "markdown",
   "metadata": {},
   "source": [
    "As you can see, there are no values for the average on the 12 first points, because there is no window from previous 12 values there."
   ]
  },
  {
   "cell_type": "code",
   "execution_count": null,
   "metadata": {},
   "outputs": [],
   "source": [
    "plt.figure(figsize=(15,6))\n",
    "plt.title(\"Sales of anti-diabetic drugs in Australia\")\n",
    "\n",
    "plt.plot(df[\"value\"], label=\"value\")\n",
    "\n",
    "#plt.axhline(df.value.mean(), c=\"g\", label=\"mean\")\n",
    "\n",
    "# We use the `.rolling` method to define windows in which the the average is calculated.\n",
    "plt.plot(df.rolling(window=12).mean(), label=\"rolling window 12 periods\")\n",
    "\n",
    "plt.legend();"
   ]
  },
  {
   "cell_type": "markdown",
   "metadata": {},
   "source": [
    "What about the 6 month moving average and the 24 month moving average?"
   ]
  },
  {
   "cell_type": "code",
   "execution_count": null,
   "metadata": {},
   "outputs": [],
   "source": [
    "plt.figure(figsize=(15,6))\n",
    "plt.title(\"Sales of anti-diabetic drugs in Australia\")\n",
    "\n",
    "plt.plot(df[\"value\"], label=\"value\")\n",
    "\n",
    "#plt.axhline(df.value.mean(), c=\"g\", label=\"mean\")\n",
    "\n",
    "# We use the `.rolling` method to define windows in which the the average is calculated.\n",
    "plt.plot(df.rolling(window=12).mean(), label=\"rolling window 12 periods\")\n",
    "plt.plot(df.rolling(window=36).mean(), label=\"rolling window 36 periods\")\n",
    "\n",
    "plt.legend();"
   ]
  },
  {
   "cell_type": "markdown",
   "metadata": {},
   "source": [
    "Let's try a different way of calculating a Moving Average. \n",
    "\n",
    "Instead of keeping a fix size window and moving it, we can try increasing the size of our window each time we move forward.\n",
    "\n",
    "**Expanding Window**"
   ]
  },
  {
   "cell_type": "code",
   "execution_count": null,
   "metadata": {},
   "outputs": [],
   "source": [
    "df.head(10)"
   ]
  },
  {
   "cell_type": "code",
   "execution_count": null,
   "metadata": {},
   "outputs": [],
   "source": [
    "df.expanding().mean()"
   ]
  },
  {
   "cell_type": "code",
   "execution_count": null,
   "metadata": {},
   "outputs": [],
   "source": [
    "plt.figure(figsize=(15,6))\n",
    "plt.title(\"Sales of anti-diabetic drugs in Australia\")\n",
    "\n",
    "plt.plot(df[\"value\"], label=\"value\")\n",
    "\n",
    "#plt.axhline(df.value.mean(), c=\"g\", label=\"mean\")\n",
    "\n",
    "#plt.plot(df.rolling(window=12).mean(), label=\"rolling window\")\n",
    "\n",
    "plt.plot(df.expanding().mean(), c=\"purple\", label=\"expanding window\")\n",
    "\n",
    "plt.legend();"
   ]
  },
  {
   "cell_type": "markdown",
   "metadata": {},
   "source": [
    "Either way we look at it, we can see a tendency that the sales increase over time.\n",
    "\n",
    "## Decomposing a time series\n",
    "There are `four` components for a time series.\n",
    "\n",
    "If we separate the different components of a time series, the way the average changes through time is called the `trend` and it represents the way values behave on a \"long term\" perspective.\n",
    "\n",
    "### Trend\n",
    "How the average changes through time.\n",
    "On our example, there is a clear increasing trend.\n",
    "\n",
    "Not all time series are like that.\n",
    "\n",
    "Time series whose average doesn't change through time are called `stationary`. More on stationarity later.\n",
    "\n",
    "The trend, however, does not account for all the changes in our data. There are ups and downs that repeat in some patterns. This can be attributed to one of two things.\n",
    "\n",
    "### Seasonality\n",
    "Patterns of peaks and droughts that repeat within a regular interval are attributed to `seasons`. These intervals usually relate to a time pattern of the calendar (yearly, bi-yearly, monthly, daily, weekly, hourly, etc.)\n",
    "\n",
    "### Cycles\n",
    "Patterns repeated in uneven intervals or that do not relate to a period of the calendar.\n",
    "\n",
    "In general, they have a longer interval than seasons and a larger amplitude of variation.\n",
    "\n",
    "Therefore, cycles are more difficult to predict than seasons. (Remember that real world data are susceptible to a lot of unpredictable influences)\n",
    "\n",
    "### Residuals\n",
    "Variations that do not repeat in any sort of pattern are called `residuals` or `noise`.\n",
    "\n",
    "\n",
    "Let's se a tool to decompose our data."
   ]
  },
  {
   "cell_type": "markdown",
   "metadata": {},
   "source": [
    "### Additive decomposition"
   ]
  },
  {
   "cell_type": "code",
   "execution_count": null,
   "metadata": {},
   "outputs": [],
   "source": [
    "from statsmodels.tsa.seasonal import seasonal_decompose"
   ]
  },
  {
   "cell_type": "code",
   "execution_count": null,
   "metadata": {},
   "outputs": [],
   "source": [
    "res = seasonal_decompose(df.value, model=\"additive\")\n",
    "res.plot();"
   ]
  },
  {
   "cell_type": "code",
   "execution_count": null,
   "metadata": {},
   "outputs": [],
   "source": [
    "plt.figure(figsize=(15,6))\n",
    "plt.title(\"Sales of anti-diabetic drugs in Australia\")\n",
    "\n",
    "plt.plot(df[\"value\"], label=\"value\")\n",
    "\n",
    "plt.plot(res.trend, label=\"trend\")\n",
    "\n",
    "plt.plot(res.seasonal, label=\"seasonal\")\n",
    "\n",
    "# plt.plot(res.resid, label=\"residual\")\n",
    "\n",
    "plt.legend();"
   ]
  },
  {
   "cell_type": "markdown",
   "metadata": {},
   "source": [
    "It is called an `additive` model because if you sum the parts up, you get the original data back."
   ]
  },
  {
   "cell_type": "code",
   "execution_count": null,
   "metadata": {},
   "outputs": [],
   "source": [
    "plt.figure(figsize=(15,6))\n",
    "plt.title(\"Sales of anti-diabetic drugs in Australia\")\n",
    "plt.plot(df[\"value\"], label=\"value\")\n",
    "plt.plot(res.trend + res.seasonal + res.resid, label=\"reconstructed\")\n",
    "plt.legend();"
   ]
  },
  {
   "cell_type": "code",
   "execution_count": null,
   "metadata": {},
   "outputs": [],
   "source": [
    "x = np.linspace(0, 8*np.pi, 49)\n",
    "# np.sin takes an angle in radian.\n",
    "# 360° == 2π rad\n",
    "y = np.sin(x) + 1 "
   ]
  },
  {
   "cell_type": "code",
   "execution_count": null,
   "metadata": {},
   "outputs": [],
   "source": [
    "sin = pd.DataFrame(y, index=pd.date_range(\"01/01/2021\", periods=49, freq=\"MS\"))"
   ]
  },
  {
   "cell_type": "code",
   "execution_count": null,
   "metadata": {},
   "outputs": [],
   "source": [
    "plt.figure(figsize=(12,5))\n",
    "plt.plot(sin)"
   ]
  },
  {
   "cell_type": "code",
   "execution_count": null,
   "metadata": {},
   "outputs": [],
   "source": [
    "sin.index"
   ]
  },
  {
   "cell_type": "code",
   "execution_count": null,
   "metadata": {},
   "outputs": [],
   "source": [
    "seasonal_decompose(sin).plot();"
   ]
  },
  {
   "cell_type": "markdown",
   "metadata": {},
   "source": [
    "Being such a deterministic pattern, residuals are very little (1e-15)"
   ]
  },
  {
   "cell_type": "markdown",
   "metadata": {},
   "source": [
    "### Multiplicative decomposition"
   ]
  },
  {
   "cell_type": "code",
   "execution_count": null,
   "metadata": {},
   "outputs": [],
   "source": [
    "res = seasonal_decompose(df.value, model=\"multiplicative\")\n",
    "res.plot();"
   ]
  },
  {
   "cell_type": "code",
   "execution_count": null,
   "metadata": {},
   "outputs": [],
   "source": [
    "plt.figure(figsize=(15,6))\n",
    "plt.title(\"Sales of anti-diabetic drugs in Australia\")\n",
    "\n",
    "plt.plot(df[\"value\"], label=\"value\")\n",
    "\n",
    "plt.plot(res.trend, label=\"trend\")\n",
    "\n",
    "plt.plot(res.seasonal, label=\"seasonal\")\n",
    "\n",
    "plt.plot(res.resid, label=\"residual\")\n",
    "\n",
    "plt.legend();"
   ]
  },
  {
   "cell_type": "markdown",
   "metadata": {},
   "source": [
    "It is called an `multiplicative` model because if you sum the parts up, you get the original data back."
   ]
  },
  {
   "cell_type": "code",
   "execution_count": null,
   "metadata": {},
   "outputs": [],
   "source": [
    "plt.figure(figsize=(15,6))\n",
    "plt.title(\"Sales of anti-diabetic drugs in Australia\")\n",
    "plt.plot(df[\"value\"], label=\"value\")\n",
    "plt.plot(res.trend * res.seasonal * res.resid, label=\"reconstructed\")\n",
    "plt.legend();"
   ]
  },
  {
   "cell_type": "markdown",
   "metadata": {},
   "source": [
    "## Stationarity\n",
    "\n",
    "- **Stationary**\n",
    "\n",
    "Mean is constant over time (there is no trend)\n",
    "\n",
    "Variance is constant\n",
    "\n",
    "- **Weakly stationary**\n",
    "\n",
    "No trend\n",
    "\n",
    "Variance is not constant\n",
    "\n",
    "- **Non-Stationary**\n",
    "\n",
    "There is a trend, ascending or descending\n",
    "\n",
    "----\n",
    "\n",
    "Sometimes it is not very clear to see if there is a clear trend or not, therefore we can use a statistical test to check whether or not a series is Stationary.\n",
    "\n",
    "### Augmented Dickey Fuller test\n",
    "\n",
    "When doing a statistical test, we have a null hypothesis and an alternative hypothesis and we check some test statistic against critical values to see whether we keep the null hypothesis or reject it and accept the alternative.\n",
    "\n",
    "- $H_0$ (Null Hypothesis) : The series is **not** stationary and there is a statistical significant trend\n",
    "\n",
    "- $H_A$ (Alternative Hypothesis) : The series is Stationary"
   ]
  },
  {
   "cell_type": "code",
   "execution_count": null,
   "metadata": {},
   "outputs": [],
   "source": [
    "from statsmodels.tsa.stattools import adfuller\n",
    "res = adfuller(df[\"value\"])\n",
    "res"
   ]
  },
  {
   "cell_type": "markdown",
   "metadata": {},
   "source": [
    "As we can see, there are a lot of different values resulting from our test. Lets separate them to look at the part that matters to us."
   ]
  },
  {
   "cell_type": "code",
   "execution_count": null,
   "metadata": {},
   "outputs": [],
   "source": [
    "adf, pvalue, usedlag, nobs, critical_values, icbest = res"
   ]
  },
  {
   "cell_type": "code",
   "execution_count": null,
   "metadata": {},
   "outputs": [],
   "source": [
    "# Our test statistic\n",
    "adf"
   ]
  },
  {
   "cell_type": "code",
   "execution_count": null,
   "metadata": {},
   "outputs": [],
   "source": [
    "# The critical values for different confidence intervals (How strict we are)\n",
    "critical_values"
   ]
  },
  {
   "cell_type": "code",
   "execution_count": null,
   "metadata": {},
   "outputs": [],
   "source": [
    "res = adfuller(sin)\n",
    "res"
   ]
  },
  {
   "cell_type": "markdown",
   "metadata": {},
   "source": [
    "Since our adf is greater than any of the critical values, we accept the null hypothesis.\n",
    "\n",
    "Therefore, as previously seen, even on a 1% confidence level, we can affirm that our data is `not` stationary.\n",
    "\n",
    "> Alternatively, we can look at the p-value and compare it with a predefine confidence interval alpha (usually 5%).\n",
    ">\n",
    "> If p_value > alpha (0.05), we accept the null hypothesis."
   ]
  },
  {
   "cell_type": "code",
   "execution_count": null,
   "metadata": {},
   "outputs": [],
   "source": [
    "pvalue"
   ]
  },
  {
   "cell_type": "markdown",
   "metadata": {},
   "source": [
    "## Auto Correlation Function\n",
    "In the broadest sense [correlation](https://en.wikipedia.org/wiki/Correlation_and_dependence) is any statistical association, though it commonly refers to the degree to which a pair of variables are linearly related.\n",
    "\n",
    "[Autocorrelation](https://en.wikipedia.org/wiki/Autocorrelation), also known as serial correlation, is the correlation of a signal with a delayed copy of itself as a function of delay."
   ]
  },
  {
   "cell_type": "code",
   "execution_count": null,
   "metadata": {},
   "outputs": [],
   "source": [
    "data_t = df[\"value\"][:-1]\n",
    "data_t_plus_1 = df[\"value\"][1:]\n",
    "plt.figure(figsize=(5,5))\n",
    "plt.plot(data_t[:30].values, label=\"y(t)\")\n",
    "plt.plot(data_t_plus_1[:30].values, label=\"y(t+1)\")\n",
    "plt.legend();"
   ]
  },
  {
   "cell_type": "markdown",
   "metadata": {},
   "source": [
    "### Lag Plot"
   ]
  },
  {
   "cell_type": "markdown",
   "metadata": {},
   "source": [
    "We can have an idea of autocorrelation by looking at a lag plot."
   ]
  },
  {
   "cell_type": "code",
   "execution_count": null,
   "metadata": {},
   "outputs": [],
   "source": [
    "plt.figure(figsize=(5,5))\n",
    "plt.scatter(data_t[:30].values, data_t_plus_1[:30])\n",
    "plt.legend();"
   ]
  },
  {
   "cell_type": "code",
   "execution_count": null,
   "metadata": {},
   "outputs": [],
   "source": [
    "np.corrcoef(data_t, data_t_plus_1)"
   ]
  },
  {
   "cell_type": "markdown",
   "metadata": {},
   "source": [
    "Very strong correlation: from NOW, we can have an idea of what is happening in 1 periods time"
   ]
  },
  {
   "cell_type": "markdown",
   "metadata": {},
   "source": [
    "What about correlation after 3 periods of time?"
   ]
  },
  {
   "cell_type": "code",
   "execution_count": null,
   "metadata": {},
   "outputs": [],
   "source": [
    "data_t = df[\"value\"][:-3]\n",
    "data_t_plus_1 = df[\"value\"][3:]\n",
    "plt.figure(figsize=(5,5))\n",
    "plt.plot(data_t[:30].values, label=\"y(t)\")\n",
    "plt.plot(data_t_plus_1[:30].values, label=\"y(t+1)\")\n",
    "plt.legend();"
   ]
  },
  {
   "cell_type": "code",
   "execution_count": null,
   "metadata": {},
   "outputs": [],
   "source": [
    "plt.figure(figsize=(5,5))\n",
    "plt.scatter(data_t[:30].values, data_t_plus_1[:30])\n",
    "plt.legend();"
   ]
  },
  {
   "cell_type": "code",
   "execution_count": null,
   "metadata": {},
   "outputs": [],
   "source": [
    "np.corrcoef(data_t, data_t_plus_1)"
   ]
  },
  {
   "cell_type": "markdown",
   "metadata": {},
   "source": [
    "Still strong correlation: from NOW, we can have an idea of what is happening in 3 periods time"
   ]
  },
  {
   "cell_type": "markdown",
   "metadata": {},
   "source": [
    "**Regression Signal vs Time**"
   ]
  },
  {
   "cell_type": "code",
   "execution_count": null,
   "metadata": {},
   "outputs": [],
   "source": [
    "from sklearn.linear_model import LinearRegression\n",
    "lr = LinearRegression()\n",
    "lr.fit(np.expand_dims(x, -1),y)\n",
    "y_pred = lr.predict(np.expand_dims(x,-1))\n",
    "\n",
    "plt.plot(y)\n",
    "plt.plot(y_pred)"
   ]
  },
  {
   "cell_type": "markdown",
   "metadata": {},
   "source": [
    "**Regression Signal f(t) vs f(t+1)**"
   ]
  },
  {
   "cell_type": "code",
   "execution_count": null,
   "metadata": {},
   "outputs": [],
   "source": [
    "y_t = y[1:]\n",
    "y_plus = y[:-1]\n",
    "\n",
    "plt.figure(figsize=(5,5))\n",
    "plt.scatter(y_t,y=y_plus)\n",
    "plt.xlabel(\"y(t)\")\n",
    "plt.ylabel(f\"y(t+{lag})\")\n",
    "\n",
    "lr = LinearRegression()\n",
    "lr.fit(np.expand_dims(y_t,-1),y_plus)\n",
    "y_pred = lr.predict(np.expand_dims(y_t,-1))\n",
    "\n",
    "plt.plot(y[1:],y_pred,c=\"red\")"
   ]
  },
  {
   "cell_type": "code",
   "execution_count": null,
   "metadata": {},
   "outputs": [],
   "source": [
    "lr.predict([[-1]])"
   ]
  },
  {
   "cell_type": "code",
   "execution_count": null,
   "metadata": {},
   "outputs": [],
   "source": [
    "y_pred = lr.predict(np.expand_dims(y,-1))\n",
    "plt.plot(x,y)\n",
    "plt.plot(x,y_pred)"
   ]
  },
  {
   "cell_type": "code",
   "execution_count": null,
   "metadata": {},
   "outputs": [],
   "source": [
    "data_t = df[\"value\"][:-1]\n",
    "data_t_plus_1 = df[\"value\"][1:]\n",
    "plt.plot(df[\"value\"])"
   ]
  },
  {
   "cell_type": "code",
   "execution_count": null,
   "metadata": {},
   "outputs": [],
   "source": [
    "data_t = df[\"value\"][:-1]\n",
    "data_t_plus_1 = df[\"value\"][1:]\n",
    "plt.figure(figsize=(5,5))\n",
    "plt.scatter(x=data_t,y=data_t_plus_1)\n",
    "plt.xlabel(\"y(t)\")\n",
    "plt.ylabel(\"y(t+1)\")\n",
    "plt.plot([0, 1], [0, 1], ls=\"--\", c=\"r\", transform=plt.gca().transAxes);\n",
    "## Alternatively\n",
    "## pd.plotting.lag_plot(data_t)"
   ]
  },
  {
   "cell_type": "markdown",
   "metadata": {},
   "source": [
    "**Linear Regression Sales vs time**"
   ]
  },
  {
   "cell_type": "code",
   "execution_count": null,
   "metadata": {},
   "outputs": [],
   "source": [
    "lr = LinearRegression()\n",
    "lr.fit(df.index.astype(int).to_frame(),df[\"value\"])\n",
    "y_pred = lr.predict(df.index.astype(int).to_frame())\n",
    "\n",
    "plt.plot(df[\"value\"])\n",
    "plt.plot(df.index,y_pred)"
   ]
  },
  {
   "cell_type": "code",
   "execution_count": null,
   "metadata": {},
   "outputs": [],
   "source": [
    "from sklearn.metrics import mean_squared_error as mse\n",
    "mse(y_pred,df[\"value\"])"
   ]
  },
  {
   "cell_type": "markdown",
   "metadata": {},
   "source": [
    "**Linear Regression Sales y(t) vs y(t-1)**\n"
   ]
  },
  {
   "cell_type": "code",
   "execution_count": null,
   "metadata": {},
   "outputs": [],
   "source": [
    "lr = LinearRegression()\n",
    "data_t = df[\"value\"][:-1]\n",
    "data_t_plus_1 = df[\"value\"][1:]\n",
    "lr.fit(data_t.to_frame(),data_t_plus_1)\n",
    "y_pred = lr.predict(data_t.to_frame())\n",
    "\n",
    "plt.figure(figsize=(5,5))\n",
    "plt.scatter(x=data_t,y=data_t_plus_1)\n",
    "plt.plot(data_t,y_pred, c=\"r\")\n",
    "plt.xlabel(\"y(t)\")\n",
    "plt.ylabel(\"y(t+1)\")"
   ]
  },
  {
   "cell_type": "code",
   "execution_count": null,
   "metadata": {},
   "outputs": [],
   "source": [
    "plt.plot(df[\"value\"])\n",
    "plt.plot(df.index[1:], y_pred)"
   ]
  },
  {
   "cell_type": "code",
   "execution_count": null,
   "metadata": {},
   "outputs": [],
   "source": [
    "### Separating test data\n",
    "lr = LinearRegression()\n",
    "## Test Data\n",
    "y_true = df[\"value\"][-10:]\n",
    "# Traning Data\n",
    "data_t = df[\"value\"][:-11]\n",
    "data_t_plus_1 = df[\"value\"][1:-10]\n",
    "# Training model\n",
    "lr.fit(data_t.to_frame(),data_t_plus_1)"
   ]
  },
  {
   "cell_type": "code",
   "execution_count": null,
   "metadata": {},
   "outputs": [],
   "source": [
    "previous = [[data_t[-1]]]\n",
    "y_pred = []\n",
    "for _ in range(10):\n",
    "    predict = lr.predict(previous)[0]\n",
    "    y_pred.append(predict)\n",
    "    previous = [[predict]]"
   ]
  },
  {
   "cell_type": "code",
   "execution_count": null,
   "metadata": {},
   "outputs": [],
   "source": [
    "y_pred"
   ]
  },
  {
   "cell_type": "code",
   "execution_count": null,
   "metadata": {},
   "outputs": [],
   "source": [
    "plt.plot(data_t)\n",
    "plt.plot(df.index[-10:],y_pred)\n",
    "plt.plot(y_true)"
   ]
  },
  {
   "cell_type": "code",
   "execution_count": null,
   "metadata": {},
   "outputs": [],
   "source": [
    "mse(y_pred,y_true)"
   ]
  },
  {
   "cell_type": "markdown",
   "metadata": {},
   "source": [
    "The closer it looks to a perfect diagonal, the higher the autocorrelation.\n",
    "\n",
    "We can measure the value with `np.corrcoef`"
   ]
  },
  {
   "cell_type": "code",
   "execution_count": null,
   "metadata": {},
   "outputs": [],
   "source": [
    "np.corrcoef(data_t,data_t_plus_1)"
   ]
  },
  {
   "cell_type": "code",
   "execution_count": null,
   "metadata": {},
   "outputs": [],
   "source": [
    "np.corrcoef(data_t,data_t_plus_1)[0][1]"
   ]
  },
  {
   "cell_type": "markdown",
   "metadata": {},
   "source": [
    "We have however only checked the correlation with the previous value, how would it be with `t+2`?"
   ]
  },
  {
   "cell_type": "code",
   "execution_count": null,
   "metadata": {},
   "outputs": [],
   "source": [
    "def autocorr(data, lag):\n",
    "    # Slice the relevant subseries based on the lag\n",
    "    y_minus = data[:(len(data)-lag)]\n",
    "    y = data[lag:]\n",
    "    # Subtract the subseries means\n",
    "    sum_product = np.sum((y_minus-np.mean(y_minus))*(y-np.mean(y)))\n",
    "    # Normalize with the subseries stds\n",
    "    return sum_product / (len(y) * np.std(y_minus) * np.std(y))"
   ]
  },
  {
   "cell_type": "code",
   "execution_count": null,
   "metadata": {},
   "outputs": [],
   "source": [
    "ac = [autocorr(df[\"value\"],i) for i in range(1,25)]"
   ]
  },
  {
   "cell_type": "code",
   "execution_count": null,
   "metadata": {},
   "outputs": [],
   "source": [
    "plt.stem(range(1,25),ac)\n",
    "plt.ylabel(\"Autocorrelation (t-n)\")\n",
    "plt.xlabel(\"n\");"
   ]
  },
  {
   "cell_type": "markdown",
   "metadata": {},
   "source": [
    "**Using Statsmodels**"
   ]
  },
  {
   "cell_type": "code",
   "execution_count": null,
   "metadata": {},
   "outputs": [],
   "source": [
    "from statsmodels.graphics.tsaplots import plot_acf"
   ]
  },
  {
   "cell_type": "code",
   "execution_count": null,
   "metadata": {},
   "outputs": [],
   "source": [
    "plot_acf(df[\"value\"]);"
   ]
  },
  {
   "cell_type": "markdown",
   "metadata": {},
   "source": [
    "## Further Resources\n",
    "- [Detailed step by step recognition of model](https://people.duke.edu/~rnau/arimrule.htm)\n",
    "- [Detailed step by step of time series exploration](https://www.machinelearningplus.com/time-series/time-series-analysis-python/)\n",
    "- [Modeling with ARIMA](https://www.machinelearningplus.com/time-series/arima-model-time-series-forecasting-python/)"
   ]
  }
 ],
 "metadata": {
  "kernelspec": {
   "display_name": "Python 3",
   "language": "python",
   "name": "python3"
  },
  "language_info": {
   "codemirror_mode": {
    "name": "ipython",
    "version": 3
   },
   "file_extension": ".py",
   "mimetype": "text/x-python",
   "name": "python",
   "nbconvert_exporter": "python",
   "pygments_lexer": "ipython3",
   "version": "3.8.5"
  },
  "toc": {
   "base_numbering": 1,
   "nav_menu": {},
   "number_sections": true,
   "sideBar": true,
   "skip_h1_title": true,
   "title_cell": "Table of Contents",
   "title_sidebar": "Contents",
   "toc_cell": true,
   "toc_position": {
    "height": "calc(100% - 180px)",
    "left": "10px",
    "top": "150px",
    "width": "230.4px"
   },
   "toc_section_display": true,
   "toc_window_display": true
  },
  "varInspector": {
   "cols": {
    "lenName": 16,
    "lenType": 16,
    "lenVar": 40
   },
   "kernels_config": {
    "python": {
     "delete_cmd_postfix": "",
     "delete_cmd_prefix": "del ",
     "library": "var_list.py",
     "varRefreshCmd": "print(var_dic_list())"
    },
    "r": {
     "delete_cmd_postfix": ") ",
     "delete_cmd_prefix": "rm(",
     "library": "var_list.r",
     "varRefreshCmd": "cat(var_dic_list()) "
    }
   },
   "types_to_exclude": [
    "module",
    "function",
    "builtin_function_or_method",
    "instance",
    "_Feature"
   ],
   "window_display": false
  }
 },
 "nbformat": 4,
 "nbformat_minor": 4
}
