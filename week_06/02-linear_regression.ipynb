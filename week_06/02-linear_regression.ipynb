{
 "cells": [
  {
   "cell_type": "markdown",
   "id": "confused-torture",
   "metadata": {},
   "source": [
    "# Regresión lineal"
   ]
  },
  {
   "cell_type": "markdown",
   "id": "professional-wilson",
   "metadata": {},
   "source": [
    "![memesitodeldía](../images/linear.jpeg)"
   ]
  },
  {
   "cell_type": "markdown",
   "id": "greek-chick",
   "metadata": {
    "toc": true
   },
   "source": [
    "<h1>Table of Contents<span class=\"tocSkip\"></span></h1>\n",
    "<div class=\"toc\"><ul class=\"toc-item\"><li><span><a href=\"#Simple-linear-regression\" data-toc-modified-id=\"Simple-linear-regression-1\"><span class=\"toc-item-num\">1&nbsp;&nbsp;</span>Simple linear regression</a></span></li><li><span><a href=\"#Generamos-datos-para-explicar-de-forma-&quot;inversa&quot;-a-lo-visto-ayer-en-clase\" data-toc-modified-id=\"Generamos-datos-para-explicar-de-forma-&quot;inversa&quot;-a-lo-visto-ayer-en-clase-2\"><span class=\"toc-item-num\">2&nbsp;&nbsp;</span>Generamos datos para explicar de forma \"inversa\" a lo visto ayer en clase</a></span></li><li><span><a href=\"#Configuraciones-para-poner-mono-el-plot-de-seaborn\" data-toc-modified-id=\"Configuraciones-para-poner-mono-el-plot-de-seaborn-3\"><span class=\"toc-item-num\">3&nbsp;&nbsp;</span>Configuraciones para poner mono el plot de seaborn</a></span></li><li><span><a href=\"#¿Cómo-de-bueno-es-nuestro-modelo?\" data-toc-modified-id=\"¿Cómo-de-bueno-es-nuestro-modelo?-4\"><span class=\"toc-item-num\">4&nbsp;&nbsp;</span>¿Cómo de bueno es nuestro modelo?</a></span></li><li><span><a href=\"#Calculamos-el-R2-del-modelo\" data-toc-modified-id=\"Calculamos-el-R2-del-modelo-5\"><span class=\"toc-item-num\">5&nbsp;&nbsp;</span>Calculamos el R2 del modelo</a></span></li><li><span><a href=\"#Regresión-lineal-con-sklearn\" data-toc-modified-id=\"Regresión-lineal-con-sklearn-6\"><span class=\"toc-item-num\">6&nbsp;&nbsp;</span>Regresión lineal con sklearn</a></span></li><li><span><a href=\"#Regresión-lineal-con-statsmodels\" data-toc-modified-id=\"Regresión-lineal-con-statsmodels-7\"><span class=\"toc-item-num\">7&nbsp;&nbsp;</span>Regresión lineal con statsmodels</a></span></li><li><span><a href=\"#Conceptos-del-OLS\" data-toc-modified-id=\"Conceptos-del-OLS-8\"><span class=\"toc-item-num\">8&nbsp;&nbsp;</span>Conceptos del OLS</a></span></li><li><span><a href=\"#Regresión-lineal-múltiple\" data-toc-modified-id=\"Regresión-lineal-múltiple-9\"><span class=\"toc-item-num\">9&nbsp;&nbsp;</span>Regresión lineal múltiple</a></span></li><li><span><a href=\"#Variables-categóricas\" data-toc-modified-id=\"Variables-categóricas-10\"><span class=\"toc-item-num\">10&nbsp;&nbsp;</span>Variables categóricas</a></span></li><li><span><a href=\"#Extensiones-del-modelo-lineal\" data-toc-modified-id=\"Extensiones-del-modelo-lineal-11\"><span class=\"toc-item-num\">11&nbsp;&nbsp;</span>Extensiones del modelo lineal</a></span><ul class=\"toc-item\"><li><span><a href=\"#Desafiando-la-suposición-aditiva:-la-sinergia\" data-toc-modified-id=\"Desafiando-la-suposición-aditiva:-la-sinergia-11.1\"><span class=\"toc-item-num\">11.1&nbsp;&nbsp;</span>Desafiando la suposición aditiva: la sinergia</a></span></li></ul></li><li><span><a href=\"#Manos-a-la-obra\" data-toc-modified-id=\"Manos-a-la-obra-12\"><span class=\"toc-item-num\">12&nbsp;&nbsp;</span>Manos a la obra</a></span></li><li><span><a href=\"#Selección-de-modelo\" data-toc-modified-id=\"Selección-de-modelo-13\"><span class=\"toc-item-num\">13&nbsp;&nbsp;</span>Selección de modelo</a></span><ul class=\"toc-item\"><li><span><a href=\"#$R^2$-Ajustado\" data-toc-modified-id=\"$R^2$-Ajustado-13.1\"><span class=\"toc-item-num\">13.1&nbsp;&nbsp;</span>$R^2$ Ajustado</a></span></li></ul></li><li><span><a href=\"#Selección-por-pasos\" data-toc-modified-id=\"Selección-por-pasos-14\"><span class=\"toc-item-num\">14&nbsp;&nbsp;</span>Selección por pasos</a></span><ul class=\"toc-item\"><li><span><a href=\"#Best-subset-selection\" data-toc-modified-id=\"Best-subset-selection-14.1\"><span class=\"toc-item-num\">14.1&nbsp;&nbsp;</span>Best subset selection</a></span></li><li><span><a href=\"#Modelo-nulo\" data-toc-modified-id=\"Modelo-nulo-14.2\"><span class=\"toc-item-num\">14.2&nbsp;&nbsp;</span>Modelo nulo</a></span></li><li><span><a href=\"#Forward-stepwise-selection\" data-toc-modified-id=\"Forward-stepwise-selection-14.3\"><span class=\"toc-item-num\">14.3&nbsp;&nbsp;</span>Forward stepwise selection</a></span></li></ul></li><li><span><a href=\"#Problemas-potenciales-en-la-regresión-lineal\" data-toc-modified-id=\"Problemas-potenciales-en-la-regresión-lineal-15\"><span class=\"toc-item-num\">15&nbsp;&nbsp;</span>Problemas potenciales en la regresión lineal</a></span></li><li><span><a href=\"#Resumen\" data-toc-modified-id=\"Resumen-16\"><span class=\"toc-item-num\">16&nbsp;&nbsp;</span>Resumen</a></span></li><li><span><a href=\"#Further-Materials\" data-toc-modified-id=\"Further-Materials-17\"><span class=\"toc-item-num\">17&nbsp;&nbsp;</span>Further Materials</a></span></li></ul></div>"
   ]
  },
  {
   "cell_type": "code",
   "execution_count": 1,
   "id": "effective-dispute",
   "metadata": {},
   "outputs": [],
   "source": [
    "#Visualización\n",
    "from matplotlib import pyplot as plt\n",
    "from matplotlib import cm\n",
    "\n",
    "%matplotlib inline\n",
    "%config Inlinebackend.figure_format = 'retina'\n",
    "\n",
    "import seaborn as sns\n",
    "\n",
    "# Librerías de modelado\n",
    "import statsmodels.formula.api as smf\n",
    "from sklearn.linear_model import LinearRegression\n",
    "\n",
    "import pandas as pd\n",
    "import numpy as np"
   ]
  },
  {
   "cell_type": "markdown",
   "id": "desirable-therapy",
   "metadata": {},
   "source": [
    "## Simple linear regression\n",
    "\n",
    "Regresión lineal simple un modelo estadístico que supone una relación lineal entre un predictor y una variable objetivo. Matemáticamente, se puede expresar como:"
   ]
  },
  {
   "cell_type": "markdown",
   "id": "trying-monthly",
   "metadata": {},
   "source": [
    "![formula](../images/formula.png)"
   ]
  },
  {
   "cell_type": "markdown",
   "id": "verbal-living",
   "metadata": {},
   "source": [
    "Si profundizamos un poco más, podemos encontrar esta otra expresión:\n",
    "\n",
    " $$ Y = \\beta_0 +  \\beta_1 X + \\epsilon$$\n",
    "\n",
    "Donde:\n",
    " * $X$ = variable predictora\n",
    " * $Y$ = variable objetivo\n",
    " * $\\beta_0$ = intercept\n",
    " * $\\beta_1$ = pendiente / slope\n",
    " * $\\epsilon$ = ruido (gaussiano)\n",
    "\n",
    "\n",
    "La ecuación anterior se conoce como *línea de regresión poblacional*.\n",
    "La línea de regresión lineal simple suele tener la forma que se muestra en la fórmula anterior, donde β0 y β1 son constantes desconocidas, que representan el intercepto y la pendiente de la línea de regresión, respectivamente.\n",
    "\n",
    "El intercepto es el valor de la variable dependiente (Y) cuando la variable independiente (X) tiene un valor de cero (0). La pendiente es una medida de la velocidad a la que cambia la variable dependiente (Y) cuando la variable independiente (X) cambia en uno (1). Las constantes desconocidas se denominan coeficientes o parámetros del modelo. Esta forma de la línea de regresión se conoce a veces como línea de regresión poblacional y, como modelo probabilístico, se ajusta al conjunto de datos de forma aproximada de ahí el uso del símbolo (≈) en la imagen. El modelo se denomina probabilístico porque no modela toda la variabilidad de la variable dependiente (Y) : El modelo se llama probabilístico porque no modela toda la variabilidad de la variable dependiente (Y)"
   ]
  },
  {
   "cell_type": "code",
   "execution_count": 2,
   "id": "sized-monaco",
   "metadata": {},
   "outputs": [],
   "source": [
    "data = pd.read_csv(\"../datasets/hours_vs_mark.csv\", index_col=0)"
   ]
  },
  {
   "cell_type": "code",
   "execution_count": 3,
   "id": "stone-turkish",
   "metadata": {},
   "outputs": [
    {
     "data": {
      "text/html": [
       "<div>\n",
       "<style scoped>\n",
       "    .dataframe tbody tr th:only-of-type {\n",
       "        vertical-align: middle;\n",
       "    }\n",
       "\n",
       "    .dataframe tbody tr th {\n",
       "        vertical-align: top;\n",
       "    }\n",
       "\n",
       "    .dataframe thead th {\n",
       "        text-align: right;\n",
       "    }\n",
       "</style>\n",
       "<table border=\"1\" class=\"dataframe\">\n",
       "  <thead>\n",
       "    <tr style=\"text-align: right;\">\n",
       "      <th></th>\n",
       "      <th>hours</th>\n",
       "      <th>mark</th>\n",
       "    </tr>\n",
       "  </thead>\n",
       "  <tbody>\n",
       "    <tr>\n",
       "      <th>0</th>\n",
       "      <td>865</td>\n",
       "      <td>95</td>\n",
       "    </tr>\n",
       "    <tr>\n",
       "      <th>1</th>\n",
       "      <td>4</td>\n",
       "      <td>12</td>\n",
       "    </tr>\n",
       "    <tr>\n",
       "      <th>2</th>\n",
       "      <td>305</td>\n",
       "      <td>35</td>\n",
       "    </tr>\n",
       "    <tr>\n",
       "      <th>3</th>\n",
       "      <td>437</td>\n",
       "      <td>56</td>\n",
       "    </tr>\n",
       "    <tr>\n",
       "      <th>4</th>\n",
       "      <td>682</td>\n",
       "      <td>86</td>\n",
       "    </tr>\n",
       "  </tbody>\n",
       "</table>\n",
       "</div>"
      ],
      "text/plain": [
       "   hours  mark\n",
       "0    865    95\n",
       "1      4    12\n",
       "2    305    35\n",
       "3    437    56\n",
       "4    682    86"
      ]
     },
     "execution_count": 3,
     "metadata": {},
     "output_type": "execute_result"
    }
   ],
   "source": [
    "data.head()"
   ]
  },
  {
   "cell_type": "code",
   "execution_count": null,
   "id": "effective-stranger",
   "metadata": {},
   "outputs": [],
   "source": [
    "## Hacíamos predicciones en base a una inferencia de beta_0 y beta_1 (m,n / pendiente, intercept)"
   ]
  },
  {
   "cell_type": "code",
   "execution_count": 5,
   "id": "placed-monkey",
   "metadata": {},
   "outputs": [],
   "source": [
    "# Del ejemplo visto ayer en clase\n",
    "beta_0 = 11.78\n",
    "beta_1 = 0.084"
   ]
  },
  {
   "cell_type": "code",
   "execution_count": 6,
   "id": "expressed-pontiac",
   "metadata": {},
   "outputs": [],
   "source": [
    "data[\"predict\"] = beta_1 * data.hours + beta_0"
   ]
  },
  {
   "cell_type": "code",
   "execution_count": 7,
   "id": "protected-bangkok",
   "metadata": {},
   "outputs": [
    {
     "data": {
      "text/html": [
       "<div>\n",
       "<style scoped>\n",
       "    .dataframe tbody tr th:only-of-type {\n",
       "        vertical-align: middle;\n",
       "    }\n",
       "\n",
       "    .dataframe tbody tr th {\n",
       "        vertical-align: top;\n",
       "    }\n",
       "\n",
       "    .dataframe thead th {\n",
       "        text-align: right;\n",
       "    }\n",
       "</style>\n",
       "<table border=\"1\" class=\"dataframe\">\n",
       "  <thead>\n",
       "    <tr style=\"text-align: right;\">\n",
       "      <th></th>\n",
       "      <th>hours</th>\n",
       "      <th>mark</th>\n",
       "      <th>predict</th>\n",
       "    </tr>\n",
       "  </thead>\n",
       "  <tbody>\n",
       "    <tr>\n",
       "      <th>0</th>\n",
       "      <td>865</td>\n",
       "      <td>95</td>\n",
       "      <td>84.440</td>\n",
       "    </tr>\n",
       "    <tr>\n",
       "      <th>1</th>\n",
       "      <td>4</td>\n",
       "      <td>12</td>\n",
       "      <td>12.116</td>\n",
       "    </tr>\n",
       "    <tr>\n",
       "      <th>2</th>\n",
       "      <td>305</td>\n",
       "      <td>35</td>\n",
       "      <td>37.400</td>\n",
       "    </tr>\n",
       "    <tr>\n",
       "      <th>3</th>\n",
       "      <td>437</td>\n",
       "      <td>56</td>\n",
       "      <td>48.488</td>\n",
       "    </tr>\n",
       "    <tr>\n",
       "      <th>4</th>\n",
       "      <td>682</td>\n",
       "      <td>86</td>\n",
       "      <td>69.068</td>\n",
       "    </tr>\n",
       "  </tbody>\n",
       "</table>\n",
       "</div>"
      ],
      "text/plain": [
       "   hours  mark  predict\n",
       "0    865    95   84.440\n",
       "1      4    12   12.116\n",
       "2    305    35   37.400\n",
       "3    437    56   48.488\n",
       "4    682    86   69.068"
      ]
     },
     "execution_count": 7,
     "metadata": {},
     "output_type": "execute_result"
    }
   ],
   "source": [
    "data.head()"
   ]
  },
  {
   "cell_type": "code",
   "execution_count": 8,
   "id": "north-silicon",
   "metadata": {},
   "outputs": [],
   "source": [
    "## Calculábamos el error "
   ]
  },
  {
   "cell_type": "code",
   "execution_count": 10,
   "id": "divine-killing",
   "metadata": {},
   "outputs": [],
   "source": [
    "data[\"error\"] = (data.mark - data.predict).abs()"
   ]
  },
  {
   "cell_type": "code",
   "execution_count": 11,
   "id": "convertible-impact",
   "metadata": {},
   "outputs": [
    {
     "data": {
      "text/html": [
       "<div>\n",
       "<style scoped>\n",
       "    .dataframe tbody tr th:only-of-type {\n",
       "        vertical-align: middle;\n",
       "    }\n",
       "\n",
       "    .dataframe tbody tr th {\n",
       "        vertical-align: top;\n",
       "    }\n",
       "\n",
       "    .dataframe thead th {\n",
       "        text-align: right;\n",
       "    }\n",
       "</style>\n",
       "<table border=\"1\" class=\"dataframe\">\n",
       "  <thead>\n",
       "    <tr style=\"text-align: right;\">\n",
       "      <th></th>\n",
       "      <th>hours</th>\n",
       "      <th>mark</th>\n",
       "      <th>predict</th>\n",
       "      <th>error</th>\n",
       "    </tr>\n",
       "  </thead>\n",
       "  <tbody>\n",
       "    <tr>\n",
       "      <th>0</th>\n",
       "      <td>865</td>\n",
       "      <td>95</td>\n",
       "      <td>84.440</td>\n",
       "      <td>10.560</td>\n",
       "    </tr>\n",
       "    <tr>\n",
       "      <th>1</th>\n",
       "      <td>4</td>\n",
       "      <td>12</td>\n",
       "      <td>12.116</td>\n",
       "      <td>0.116</td>\n",
       "    </tr>\n",
       "    <tr>\n",
       "      <th>2</th>\n",
       "      <td>305</td>\n",
       "      <td>35</td>\n",
       "      <td>37.400</td>\n",
       "      <td>2.400</td>\n",
       "    </tr>\n",
       "    <tr>\n",
       "      <th>3</th>\n",
       "      <td>437</td>\n",
       "      <td>56</td>\n",
       "      <td>48.488</td>\n",
       "      <td>7.512</td>\n",
       "    </tr>\n",
       "    <tr>\n",
       "      <th>4</th>\n",
       "      <td>682</td>\n",
       "      <td>86</td>\n",
       "      <td>69.068</td>\n",
       "      <td>16.932</td>\n",
       "    </tr>\n",
       "  </tbody>\n",
       "</table>\n",
       "</div>"
      ],
      "text/plain": [
       "   hours  mark  predict   error\n",
       "0    865    95   84.440  10.560\n",
       "1      4    12   12.116   0.116\n",
       "2    305    35   37.400   2.400\n",
       "3    437    56   48.488   7.512\n",
       "4    682    86   69.068  16.932"
      ]
     },
     "execution_count": 11,
     "metadata": {},
     "output_type": "execute_result"
    }
   ],
   "source": [
    "data.head()"
   ]
  },
  {
   "cell_type": "code",
   "execution_count": 12,
   "id": "atomic-magic",
   "metadata": {},
   "outputs": [
    {
     "data": {
      "text/plain": [
       "11.402720000000002"
      ]
     },
     "execution_count": 12,
     "metadata": {},
     "output_type": "execute_result"
    }
   ],
   "source": [
    "data.error.mean()"
   ]
  },
  {
   "cell_type": "markdown",
   "id": "impossible-height",
   "metadata": {},
   "source": [
    "## Generamos datos para explicar de forma \"inversa\" a lo visto ayer en clase"
   ]
  },
  {
   "cell_type": "code",
   "execution_count": 13,
   "id": "imperial-gauge",
   "metadata": {},
   "outputs": [],
   "source": [
    "# Del ejemplo visto ayer en clase \n",
    "beta_0 = 11.78\n",
    "beta_1 = 0.084\n",
    "num_notas = 100"
   ]
  },
  {
   "cell_type": "markdown",
   "id": "continent-impression",
   "metadata": {},
   "source": [
    "Documentación de np.random normal --> https://numpy.org/doc/stable/reference/random/generated/numpy.random.normal.html    \n",
    "Parámetros : \n",
    "- Media\n",
    "- Desviación estándar\n",
    "- Tamaño de la muestra"
   ]
  },
  {
   "cell_type": "code",
   "execution_count": 14,
   "id": "continued-jacksonville",
   "metadata": {},
   "outputs": [],
   "source": [
    "# Generamos las horas de estudio\n",
    "X = np.random.normal(600, 150, num_notas)"
   ]
  },
  {
   "cell_type": "code",
   "execution_count": 29,
   "id": "classified-visibility",
   "metadata": {},
   "outputs": [],
   "source": [
    "# Generamos las notas\n",
    "y = beta_0 + (beta_1 * X) + np.random.normal(loc=0, scale=5, size=num_notas)"
   ]
  },
  {
   "cell_type": "code",
   "execution_count": 30,
   "id": "british-absolute",
   "metadata": {},
   "outputs": [],
   "source": [
    "# Generamos el dataframe\n",
    "data = pd.DataFrame({\"horas\": X, \"nota\":y}).round().astype(int)"
   ]
  },
  {
   "cell_type": "code",
   "execution_count": 31,
   "id": "accomplished-industry",
   "metadata": {},
   "outputs": [
    {
     "data": {
      "text/html": [
       "<div>\n",
       "<style scoped>\n",
       "    .dataframe tbody tr th:only-of-type {\n",
       "        vertical-align: middle;\n",
       "    }\n",
       "\n",
       "    .dataframe tbody tr th {\n",
       "        vertical-align: top;\n",
       "    }\n",
       "\n",
       "    .dataframe thead th {\n",
       "        text-align: right;\n",
       "    }\n",
       "</style>\n",
       "<table border=\"1\" class=\"dataframe\">\n",
       "  <thead>\n",
       "    <tr style=\"text-align: right;\">\n",
       "      <th></th>\n",
       "      <th>horas</th>\n",
       "      <th>nota</th>\n",
       "    </tr>\n",
       "  </thead>\n",
       "  <tbody>\n",
       "    <tr>\n",
       "      <th>0</th>\n",
       "      <td>855</td>\n",
       "      <td>87</td>\n",
       "    </tr>\n",
       "    <tr>\n",
       "      <th>1</th>\n",
       "      <td>520</td>\n",
       "      <td>43</td>\n",
       "    </tr>\n",
       "    <tr>\n",
       "      <th>2</th>\n",
       "      <td>636</td>\n",
       "      <td>70</td>\n",
       "    </tr>\n",
       "    <tr>\n",
       "      <th>3</th>\n",
       "      <td>657</td>\n",
       "      <td>71</td>\n",
       "    </tr>\n",
       "    <tr>\n",
       "      <th>4</th>\n",
       "      <td>491</td>\n",
       "      <td>54</td>\n",
       "    </tr>\n",
       "  </tbody>\n",
       "</table>\n",
       "</div>"
      ],
      "text/plain": [
       "   horas  nota\n",
       "0    855    87\n",
       "1    520    43\n",
       "2    636    70\n",
       "3    657    71\n",
       "4    491    54"
      ]
     },
     "execution_count": 31,
     "metadata": {},
     "output_type": "execute_result"
    }
   ],
   "source": [
    "data.head()"
   ]
  },
  {
   "cell_type": "markdown",
   "id": "wanted-lodging",
   "metadata": {},
   "source": [
    "## Configuraciones para poner mono el plot de seaborn"
   ]
  },
  {
   "cell_type": "code",
   "execution_count": 32,
   "id": "developing-zambia",
   "metadata": {},
   "outputs": [],
   "source": [
    "sns.set_context('poster')\n",
    "sns.set(rc={'figure.figsize': (16., 9.)})\n",
    "sns.set_style('whitegrid')"
   ]
  },
  {
   "cell_type": "code",
   "execution_count": 33,
   "id": "dramatic-simulation",
   "metadata": {},
   "outputs": [],
   "source": [
    "## Pintamos la línea de regresión"
   ]
  },
  {
   "cell_type": "code",
   "execution_count": 34,
   "id": "advanced-lodge",
   "metadata": {},
   "outputs": [
    {
     "data": {
      "text/plain": [
       "<AxesSubplot:xlabel='horas', ylabel='nota'>"
      ]
     },
     "execution_count": 34,
     "metadata": {},
     "output_type": "execute_result"
    },
    {
     "data": {
      "image/png": "[encoded data removed]",
      "text/plain": [
       "<Figure size 1152x648 with 1 Axes>"
      ]
     },
     "metadata": {},
     "output_type": "display_data"
    }
   ],
   "source": [
    "sns.regplot(x=\"horas\", y=\"nota\", data=data)"
   ]
  },
  {
   "cell_type": "markdown",
   "id": "acceptable-mandate",
   "metadata": {},
   "source": [
    "Por supuesto, en la vida real no conocemos los verdaderos parámetros del modelo, ¡¡¡ni si el modelo es real!!! Hoy vamos a aprender una [valiosa lección](https://en.wikipedia.org/wiki/All_models_are_wrong):\n",
    "\n",
    "\n",
    "\n",
    "<center> <b>\"Todos los modelos son erróneos, pero algunos son útiles\"</b> </center>\n",
    "\n",
    "\n",
    "En la práctica lo que hacemos es, tras ver un gráfico de dispersión como el de arriba, intentar inferir los parámetros del modelo $\\beta_0$ y la pendiente, $\\beta_1$.  Una vez estimados, el ajuste estimado se convierte en $$ \\hat{Y} = \\hat{beta_0} + \\hat{beta_1} X$$"
   ]
  },
  {
   "cell_type": "code",
   "execution_count": 35,
   "id": "thermal-arrest",
   "metadata": {},
   "outputs": [],
   "source": [
    "lr = LinearRegression()"
   ]
  },
  {
   "cell_type": "code",
   "execution_count": 37,
   "id": "changing-paragraph",
   "metadata": {},
   "outputs": [],
   "source": [
    "lr.fit(\n",
    "\n",
    "    X = data[[\"horas\"]],\n",
    "    y = data.nota\n",
    ")\n",
    "beta_1 = lr.coef_[0]\n",
    "beta_0 = lr.intercept_"
   ]
  },
  {
   "cell_type": "code",
   "execution_count": 38,
   "id": "color-withdrawal",
   "metadata": {},
   "outputs": [
    {
     "data": {
      "text/plain": [
       "0.09353642566682754"
      ]
     },
     "execution_count": 38,
     "metadata": {},
     "output_type": "execute_result"
    }
   ],
   "source": [
    "beta_1"
   ]
  },
  {
   "cell_type": "code",
   "execution_count": 39,
   "id": "graphic-attitude",
   "metadata": {},
   "outputs": [
    {
     "data": {
      "text/plain": [
       "4.8576094837686625"
      ]
     },
     "execution_count": 39,
     "metadata": {},
     "output_type": "execute_result"
    }
   ],
   "source": [
    "beta_0"
   ]
  },
  {
   "cell_type": "code",
   "execution_count": 40,
   "id": "random-bottom",
   "metadata": {},
   "outputs": [
    {
     "data": {
      "text/plain": [
       "<function matplotlib.pyplot.show(close=None, block=None)>"
      ]
     },
     "execution_count": 40,
     "metadata": {},
     "output_type": "execute_result"
    },
    {
     "data": {
      "image/png": "[encoded data removed]",
      "text/plain": [
       "<Figure size 1152x648 with 1 Axes>"
      ]
     },
     "metadata": {},
     "output_type": "display_data"
    }
   ],
   "source": [
    "# Vamos a pintar la línea de regresión con el residuo\n",
    "y_hat = beta_0 + beta_1 * X #Línea de regresión\n",
    "plt.scatter(X,y) # pintar los puntos\n",
    "plt.plot(X, y_hat, lw=2) # pintamos la línea de regresión\n",
    "plt.vlines(X, y_hat, y, lw = 0.4) # pintamos las líneas que van desde los puntos a la línea\n",
    "plt.xlabel(\"horas\")\n",
    "plt.ylabel(\"nota\")\n",
    "plt.show"
   ]
  },
  {
   "cell_type": "markdown",
   "id": "aboriginal-anger",
   "metadata": {},
   "source": [
    "## ¿Cómo de bueno es nuestro modelo?"
   ]
  },
  {
   "cell_type": "markdown",
   "id": "handmade-church",
   "metadata": {},
   "source": [
    "La diferencia numérica entre la *línea de regresión de mínimos cuadrados* y el valor real se llama *residuo* , y representa el error en la estimación: $e = y_i - \\hat{y}$.     \n",
    "La línea de regresión minimizó la *Suma de cuadrados residual* (RSS)     \n",
    "\n",
    "$$RSS = e_1^2 + e_2^2 + \\dots + e_n ^2$$"
   ]
  },
  {
   "cell_type": "markdown",
   "id": "given-luther",
   "metadata": {},
   "source": [
    "Si sólo utilizamos la media como valor predicho para cada predicción, el error que cometeríamos es (*suma total de cuadrados*)\n",
    "\n",
    "$$TTS=\\Sigma(y_i - \\bar{y}_i)^2$$\n",
    "Consideremos esto nuestro punto de partida, hagamos una predicción y la ploteamos"
   ]
  },
  {
   "cell_type": "code",
   "execution_count": 41,
   "id": "established-container",
   "metadata": {},
   "outputs": [
    {
     "data": {
      "image/png": "[encoded data removed]",
      "text/plain": [
       "<Figure size 1152x648 with 1 Axes>"
      ]
     },
     "metadata": {},
     "output_type": "display_data"
    }
   ],
   "source": [
    "mean_predict = [data.nota.mean()] * num_notas\n",
    "plt.scatter (X, y)\n",
    "plt.plot(X, mean_predict, lw = 3)\n",
    "plt.vlines(X, mean_predict, y, lw=0.4)\n",
    "plt.show()"
   ]
  },
  {
   "cell_type": "code",
   "execution_count": null,
   "id": "accredited-vacation",
   "metadata": {},
   "outputs": [],
   "source": [
    "# Vamos a meterlo en un dataframe para verlo más claro"
   ]
  },
  {
   "cell_type": "code",
   "execution_count": 42,
   "id": "romantic-objective",
   "metadata": {},
   "outputs": [],
   "source": [
    "data[\"mean_predict\"] = data.nota.mean()"
   ]
  },
  {
   "cell_type": "code",
   "execution_count": 43,
   "id": "fewer-massage",
   "metadata": {},
   "outputs": [
    {
     "data": {
      "text/html": [
       "<div>\n",
       "<style scoped>\n",
       "    .dataframe tbody tr th:only-of-type {\n",
       "        vertical-align: middle;\n",
       "    }\n",
       "\n",
       "    .dataframe tbody tr th {\n",
       "        vertical-align: top;\n",
       "    }\n",
       "\n",
       "    .dataframe thead th {\n",
       "        text-align: right;\n",
       "    }\n",
       "</style>\n",
       "<table border=\"1\" class=\"dataframe\">\n",
       "  <thead>\n",
       "    <tr style=\"text-align: right;\">\n",
       "      <th></th>\n",
       "      <th>horas</th>\n",
       "      <th>nota</th>\n",
       "      <th>mean_predict</th>\n",
       "    </tr>\n",
       "  </thead>\n",
       "  <tbody>\n",
       "    <tr>\n",
       "      <th>0</th>\n",
       "      <td>855</td>\n",
       "      <td>87</td>\n",
       "      <td>61.84</td>\n",
       "    </tr>\n",
       "    <tr>\n",
       "      <th>1</th>\n",
       "      <td>520</td>\n",
       "      <td>43</td>\n",
       "      <td>61.84</td>\n",
       "    </tr>\n",
       "    <tr>\n",
       "      <th>2</th>\n",
       "      <td>636</td>\n",
       "      <td>70</td>\n",
       "      <td>61.84</td>\n",
       "    </tr>\n",
       "    <tr>\n",
       "      <th>3</th>\n",
       "      <td>657</td>\n",
       "      <td>71</td>\n",
       "      <td>61.84</td>\n",
       "    </tr>\n",
       "    <tr>\n",
       "      <th>4</th>\n",
       "      <td>491</td>\n",
       "      <td>54</td>\n",
       "      <td>61.84</td>\n",
       "    </tr>\n",
       "  </tbody>\n",
       "</table>\n",
       "</div>"
      ],
      "text/plain": [
       "   horas  nota  mean_predict\n",
       "0    855    87         61.84\n",
       "1    520    43         61.84\n",
       "2    636    70         61.84\n",
       "3    657    71         61.84\n",
       "4    491    54         61.84"
      ]
     },
     "execution_count": 43,
     "metadata": {},
     "output_type": "execute_result"
    }
   ],
   "source": [
    "data.head()"
   ]
  },
  {
   "cell_type": "code",
   "execution_count": 44,
   "id": "dietary-boxing",
   "metadata": {},
   "outputs": [
    {
     "data": {
      "text/plain": [
       "16651.440000000002"
      ]
     },
     "execution_count": 44,
     "metadata": {},
     "output_type": "execute_result"
    }
   ],
   "source": [
    "# Calculamos TSS para el modelo anterior\n",
    "TSS = ((data.nota - data.mean_predict) **2 ).sum()\n",
    "TSS"
   ]
  },
  {
   "cell_type": "markdown",
   "id": "polished-roulette",
   "metadata": {},
   "source": [
    "Recordemos que los coeficientes de la regresión lineal minimizan el $RSS=Sigma(y_i - \\hat{y_i})^2$, es decir, la cantidad de variabilidad que queda sin explicar después de realizar la regresión. El [coeficiente de determinación](https://en.wikipedia.org/wiki/Coefficient_of_determination):\n",
    "\n",
    "$$R^2 = \\frac{TSS -RSS}{TSS} = 1-\\frac{RSS}{TSS}$$\n",
    "\n",
    "mide la \"*proporción de variabilidad en Y que puede explicarse mediante X*\". Es una medida de la relación lineal que existe entre $X$ e $y$.\n",
    "\n",
    "**Nota:** en el caso de la regresión lineal simple, el coeficiente $R^2$ no es más que el cuadrado del coeficiente de correlación de *Pearson* que ya conocemos. "
   ]
  },
  {
   "cell_type": "markdown",
   "id": "liked-namibia",
   "metadata": {},
   "source": [
    "## Calculamos el R2 del modelo"
   ]
  },
  {
   "cell_type": "code",
   "execution_count": 45,
   "id": "medieval-lancaster",
   "metadata": {},
   "outputs": [
    {
     "data": {
      "text/html": [
       "<div>\n",
       "<style scoped>\n",
       "    .dataframe tbody tr th:only-of-type {\n",
       "        vertical-align: middle;\n",
       "    }\n",
       "\n",
       "    .dataframe tbody tr th {\n",
       "        vertical-align: top;\n",
       "    }\n",
       "\n",
       "    .dataframe thead th {\n",
       "        text-align: right;\n",
       "    }\n",
       "</style>\n",
       "<table border=\"1\" class=\"dataframe\">\n",
       "  <thead>\n",
       "    <tr style=\"text-align: right;\">\n",
       "      <th></th>\n",
       "      <th>horas</th>\n",
       "      <th>nota</th>\n",
       "      <th>mean_predict</th>\n",
       "    </tr>\n",
       "  </thead>\n",
       "  <tbody>\n",
       "    <tr>\n",
       "      <th>0</th>\n",
       "      <td>855</td>\n",
       "      <td>87</td>\n",
       "      <td>61.84</td>\n",
       "    </tr>\n",
       "    <tr>\n",
       "      <th>1</th>\n",
       "      <td>520</td>\n",
       "      <td>43</td>\n",
       "      <td>61.84</td>\n",
       "    </tr>\n",
       "    <tr>\n",
       "      <th>2</th>\n",
       "      <td>636</td>\n",
       "      <td>70</td>\n",
       "      <td>61.84</td>\n",
       "    </tr>\n",
       "    <tr>\n",
       "      <th>3</th>\n",
       "      <td>657</td>\n",
       "      <td>71</td>\n",
       "      <td>61.84</td>\n",
       "    </tr>\n",
       "    <tr>\n",
       "      <th>4</th>\n",
       "      <td>491</td>\n",
       "      <td>54</td>\n",
       "      <td>61.84</td>\n",
       "    </tr>\n",
       "  </tbody>\n",
       "</table>\n",
       "</div>"
      ],
      "text/plain": [
       "   horas  nota  mean_predict\n",
       "0    855    87         61.84\n",
       "1    520    43         61.84\n",
       "2    636    70         61.84\n",
       "3    657    71         61.84\n",
       "4    491    54         61.84"
      ]
     },
     "execution_count": 45,
     "metadata": {},
     "output_type": "execute_result"
    }
   ],
   "source": [
    "data.head()"
   ]
  },
  {
   "cell_type": "code",
   "execution_count": 46,
   "id": "surface-constant",
   "metadata": {},
   "outputs": [],
   "source": [
    "data[\"predict_model\"] = data.horas * beta_1 + beta_0"
   ]
  },
  {
   "cell_type": "code",
   "execution_count": 47,
   "id": "enhanced-miller",
   "metadata": {},
   "outputs": [
    {
     "data": {
      "text/html": [
       "<div>\n",
       "<style scoped>\n",
       "    .dataframe tbody tr th:only-of-type {\n",
       "        vertical-align: middle;\n",
       "    }\n",
       "\n",
       "    .dataframe tbody tr th {\n",
       "        vertical-align: top;\n",
       "    }\n",
       "\n",
       "    .dataframe thead th {\n",
       "        text-align: right;\n",
       "    }\n",
       "</style>\n",
       "<table border=\"1\" class=\"dataframe\">\n",
       "  <thead>\n",
       "    <tr style=\"text-align: right;\">\n",
       "      <th></th>\n",
       "      <th>horas</th>\n",
       "      <th>nota</th>\n",
       "      <th>mean_predict</th>\n",
       "      <th>predict_model</th>\n",
       "    </tr>\n",
       "  </thead>\n",
       "  <tbody>\n",
       "    <tr>\n",
       "      <th>0</th>\n",
       "      <td>855</td>\n",
       "      <td>87</td>\n",
       "      <td>61.84</td>\n",
       "      <td>84.831253</td>\n",
       "    </tr>\n",
       "    <tr>\n",
       "      <th>1</th>\n",
       "      <td>520</td>\n",
       "      <td>43</td>\n",
       "      <td>61.84</td>\n",
       "      <td>53.496551</td>\n",
       "    </tr>\n",
       "    <tr>\n",
       "      <th>2</th>\n",
       "      <td>636</td>\n",
       "      <td>70</td>\n",
       "      <td>61.84</td>\n",
       "      <td>64.346776</td>\n",
       "    </tr>\n",
       "    <tr>\n",
       "      <th>3</th>\n",
       "      <td>657</td>\n",
       "      <td>71</td>\n",
       "      <td>61.84</td>\n",
       "      <td>66.311041</td>\n",
       "    </tr>\n",
       "    <tr>\n",
       "      <th>4</th>\n",
       "      <td>491</td>\n",
       "      <td>54</td>\n",
       "      <td>61.84</td>\n",
       "      <td>50.783994</td>\n",
       "    </tr>\n",
       "  </tbody>\n",
       "</table>\n",
       "</div>"
      ],
      "text/plain": [
       "   horas  nota  mean_predict  predict_model\n",
       "0    855    87         61.84      84.831253\n",
       "1    520    43         61.84      53.496551\n",
       "2    636    70         61.84      64.346776\n",
       "3    657    71         61.84      66.311041\n",
       "4    491    54         61.84      50.783994"
      ]
     },
     "execution_count": 47,
     "metadata": {},
     "output_type": "execute_result"
    }
   ],
   "source": [
    "data.head()"
   ]
  },
  {
   "cell_type": "code",
   "execution_count": 49,
   "id": "indoor-building",
   "metadata": {},
   "outputs": [
    {
     "data": {
      "text/plain": [
       "2688.023059893859"
      ]
     },
     "execution_count": 49,
     "metadata": {},
     "output_type": "execute_result"
    }
   ],
   "source": [
    "RSS = ((data.nota - data.predict_model)**2).sum()\n",
    "RSS"
   ]
  },
  {
   "cell_type": "code",
   "execution_count": 50,
   "id": "prostate-throat",
   "metadata": {},
   "outputs": [
    {
     "data": {
      "text/plain": [
       "0.8385711349953001"
      ]
     },
     "execution_count": 50,
     "metadata": {},
     "output_type": "execute_result"
    }
   ],
   "source": [
    "# R^2\n",
    "r2 = ( TSS - RSS ) / ( TSS )\n",
    "r2"
   ]
  },
  {
   "cell_type": "markdown",
   "id": "elementary-magic",
   "metadata": {},
   "source": [
    "$R^2$ mide lo bueno que es nuestro modelo de regresión. Cuanto más grande, mejor. Es un valor entre 0 y 1    \n",
    "**NOTA**: es computable para cualquier modelo, no importa si es lineal o no. Sólo se necesitan los valores reales y los predichos.  "
   ]
  },
  {
   "cell_type": "markdown",
   "id": "periodic-script",
   "metadata": {},
   "source": [
    "## Regresión lineal con sklearn"
   ]
  },
  {
   "cell_type": "code",
   "execution_count": 51,
   "id": "urban-egyptian",
   "metadata": {},
   "outputs": [
    {
     "data": {
      "text/html": [
       "<div>\n",
       "<style scoped>\n",
       "    .dataframe tbody tr th:only-of-type {\n",
       "        vertical-align: middle;\n",
       "    }\n",
       "\n",
       "    .dataframe tbody tr th {\n",
       "        vertical-align: top;\n",
       "    }\n",
       "\n",
       "    .dataframe thead th {\n",
       "        text-align: right;\n",
       "    }\n",
       "</style>\n",
       "<table border=\"1\" class=\"dataframe\">\n",
       "  <thead>\n",
       "    <tr style=\"text-align: right;\">\n",
       "      <th></th>\n",
       "      <th>horas</th>\n",
       "      <th>nota</th>\n",
       "      <th>mean_predict</th>\n",
       "      <th>predict_model</th>\n",
       "    </tr>\n",
       "  </thead>\n",
       "  <tbody>\n",
       "    <tr>\n",
       "      <th>0</th>\n",
       "      <td>855</td>\n",
       "      <td>87</td>\n",
       "      <td>61.84</td>\n",
       "      <td>84.831253</td>\n",
       "    </tr>\n",
       "    <tr>\n",
       "      <th>1</th>\n",
       "      <td>520</td>\n",
       "      <td>43</td>\n",
       "      <td>61.84</td>\n",
       "      <td>53.496551</td>\n",
       "    </tr>\n",
       "    <tr>\n",
       "      <th>2</th>\n",
       "      <td>636</td>\n",
       "      <td>70</td>\n",
       "      <td>61.84</td>\n",
       "      <td>64.346776</td>\n",
       "    </tr>\n",
       "    <tr>\n",
       "      <th>3</th>\n",
       "      <td>657</td>\n",
       "      <td>71</td>\n",
       "      <td>61.84</td>\n",
       "      <td>66.311041</td>\n",
       "    </tr>\n",
       "    <tr>\n",
       "      <th>4</th>\n",
       "      <td>491</td>\n",
       "      <td>54</td>\n",
       "      <td>61.84</td>\n",
       "      <td>50.783994</td>\n",
       "    </tr>\n",
       "  </tbody>\n",
       "</table>\n",
       "</div>"
      ],
      "text/plain": [
       "   horas  nota  mean_predict  predict_model\n",
       "0    855    87         61.84      84.831253\n",
       "1    520    43         61.84      53.496551\n",
       "2    636    70         61.84      64.346776\n",
       "3    657    71         61.84      66.311041\n",
       "4    491    54         61.84      50.783994"
      ]
     },
     "execution_count": 51,
     "metadata": {},
     "output_type": "execute_result"
    }
   ],
   "source": [
    "data.head()"
   ]
  },
  {
   "cell_type": "code",
   "execution_count": 54,
   "id": "super-stuff",
   "metadata": {},
   "outputs": [
    {
     "data": {
      "text/plain": [
       "LinearRegression()"
      ]
     },
     "execution_count": 54,
     "metadata": {},
     "output_type": "execute_result"
    }
   ],
   "source": [
    "X = data[[\"horas\"]]\n",
    "y = data.nota\n",
    "\n",
    "lr.fit(X, y)"
   ]
  },
  {
   "cell_type": "code",
   "execution_count": 55,
   "id": "western-romantic",
   "metadata": {},
   "outputs": [],
   "source": [
    "data[\"notas_sklearn\"] = lr.predict(X)"
   ]
  },
  {
   "cell_type": "code",
   "execution_count": 56,
   "id": "unique-flight",
   "metadata": {},
   "outputs": [
    {
     "data": {
      "text/html": [
       "<div>\n",
       "<style scoped>\n",
       "    .dataframe tbody tr th:only-of-type {\n",
       "        vertical-align: middle;\n",
       "    }\n",
       "\n",
       "    .dataframe tbody tr th {\n",
       "        vertical-align: top;\n",
       "    }\n",
       "\n",
       "    .dataframe thead th {\n",
       "        text-align: right;\n",
       "    }\n",
       "</style>\n",
       "<table border=\"1\" class=\"dataframe\">\n",
       "  <thead>\n",
       "    <tr style=\"text-align: right;\">\n",
       "      <th></th>\n",
       "      <th>horas</th>\n",
       "      <th>nota</th>\n",
       "      <th>mean_predict</th>\n",
       "      <th>predict_model</th>\n",
       "      <th>notas_sklearn</th>\n",
       "    </tr>\n",
       "  </thead>\n",
       "  <tbody>\n",
       "    <tr>\n",
       "      <th>0</th>\n",
       "      <td>855</td>\n",
       "      <td>87</td>\n",
       "      <td>61.84</td>\n",
       "      <td>84.831253</td>\n",
       "      <td>84.831253</td>\n",
       "    </tr>\n",
       "    <tr>\n",
       "      <th>1</th>\n",
       "      <td>520</td>\n",
       "      <td>43</td>\n",
       "      <td>61.84</td>\n",
       "      <td>53.496551</td>\n",
       "      <td>53.496551</td>\n",
       "    </tr>\n",
       "    <tr>\n",
       "      <th>2</th>\n",
       "      <td>636</td>\n",
       "      <td>70</td>\n",
       "      <td>61.84</td>\n",
       "      <td>64.346776</td>\n",
       "      <td>64.346776</td>\n",
       "    </tr>\n",
       "    <tr>\n",
       "      <th>3</th>\n",
       "      <td>657</td>\n",
       "      <td>71</td>\n",
       "      <td>61.84</td>\n",
       "      <td>66.311041</td>\n",
       "      <td>66.311041</td>\n",
       "    </tr>\n",
       "    <tr>\n",
       "      <th>4</th>\n",
       "      <td>491</td>\n",
       "      <td>54</td>\n",
       "      <td>61.84</td>\n",
       "      <td>50.783994</td>\n",
       "      <td>50.783994</td>\n",
       "    </tr>\n",
       "  </tbody>\n",
       "</table>\n",
       "</div>"
      ],
      "text/plain": [
       "   horas  nota  mean_predict  predict_model  notas_sklearn\n",
       "0    855    87         61.84      84.831253      84.831253\n",
       "1    520    43         61.84      53.496551      53.496551\n",
       "2    636    70         61.84      64.346776      64.346776\n",
       "3    657    71         61.84      66.311041      66.311041\n",
       "4    491    54         61.84      50.783994      50.783994"
      ]
     },
     "execution_count": 56,
     "metadata": {},
     "output_type": "execute_result"
    }
   ],
   "source": [
    "data.head()"
   ]
  },
  {
   "cell_type": "code",
   "execution_count": 57,
   "id": "similar-planner",
   "metadata": {},
   "outputs": [],
   "source": [
    "from sklearn import metrics"
   ]
  },
  {
   "cell_type": "code",
   "execution_count": 62,
   "id": "other-prison",
   "metadata": {},
   "outputs": [
    {
     "name": "stdout",
     "output_type": "stream",
     "text": [
      "MAE:  4.018038679440348\n",
      "MSE:  26.880230598938592\n",
      "RMSE:  5.184614797546544\n"
     ]
    }
   ],
   "source": [
    "print(\"MAE: \" , metrics.mean_absolute_error(data.nota, data.notas_sklearn))\n",
    "print(\"MSE: \" , metrics.mean_squared_error(data.nota, data.notas_sklearn))\n",
    "print(\"RMSE: \" , np.sqrt(metrics.mean_squared_error(data.nota, data.notas_sklearn)))"
   ]
  },
  {
   "cell_type": "markdown",
   "id": "conscious-kingdom",
   "metadata": {},
   "source": [
    "** Cálculo del error medio absoluto, del error medio cuadrático y del error medio cuadrático\n",
    "\n",
    "- **MAE** es el más fácil de entender, porque es el error medio.\n",
    "- **El MSE** es más popular que el MAE, porque el MSE \"castiga\" los errores más grandes, lo que suele ser útil en el mundo real.\n",
    "- **RMSE** es aún más popular que MSE, es la raíz cuadrada del MSE y mide la desviación estándar de los residuos.\n",
    "\n",
    "Todas estas son **funciones de pérdida**, porque queremos minimizarlas."
   ]
  },
  {
   "cell_type": "markdown",
   "id": "characteristic-spanking",
   "metadata": {},
   "source": [
    "Lee más sobre MAE, MSE, RMSE Y R2 [AQUÍ](http://medium.com/analytics-vidhya/mae-mse-rmse-coefficient-of-determination-adjusted-r-squared-which-metric-is-better-cd0326a5697e)"
   ]
  },
  {
   "cell_type": "markdown",
   "id": "bridal-albuquerque",
   "metadata": {},
   "source": [
    "## Regresión lineal con statsmodels"
   ]
  },
  {
   "cell_type": "markdown",
   "id": "dominican-values",
   "metadata": {},
   "source": [
    "Para no variar, un poquito de [documentación](https://www.statsmodels.org/stable/generated/statsmodels.regression.linear_model.OLS.html)      \n",
    "Y [este artículo](https://jyotiyadav99111.medium.com/statistics-how-should-i-interpret-results-of-ols-3bde1ebeec01) que resume cómo interpretar la información del summary del OLS"
   ]
  },
  {
   "cell_type": "code",
   "execution_count": 63,
   "id": "gross-tongue",
   "metadata": {},
   "outputs": [
    {
     "data": {
      "text/html": [
       "<table class=\"simpletable\">\n",
       "<caption>OLS Regression Results</caption>\n",
       "<tr>\n",
       "  <th>Dep. Variable:</th>          <td>nota</td>       <th>  R-squared:         </th> <td>   0.839</td>\n",
       "</tr>\n",
       "<tr>\n",
       "  <th>Model:</th>                   <td>OLS</td>       <th>  Adj. R-squared:    </th> <td>   0.837</td>\n",
       "</tr>\n",
       "<tr>\n",
       "  <th>Method:</th>             <td>Least Squares</td>  <th>  F-statistic:       </th> <td>   509.1</td>\n",
       "</tr>\n",
       "<tr>\n",
       "  <th>Date:</th>             <td>Tue, 27 Apr 2021</td> <th>  Prob (F-statistic):</th> <td>1.36e-40</td>\n",
       "</tr>\n",
       "<tr>\n",
       "  <th>Time:</th>                 <td>10:05:10</td>     <th>  Log-Likelihood:    </th> <td> -306.46</td>\n",
       "</tr>\n",
       "<tr>\n",
       "  <th>No. Observations:</th>      <td>   100</td>      <th>  AIC:               </th> <td>   616.9</td>\n",
       "</tr>\n",
       "<tr>\n",
       "  <th>Df Residuals:</th>          <td>    98</td>      <th>  BIC:               </th> <td>   622.1</td>\n",
       "</tr>\n",
       "<tr>\n",
       "  <th>Df Model:</th>              <td>     1</td>      <th>                     </th>     <td> </td>   \n",
       "</tr>\n",
       "<tr>\n",
       "  <th>Covariance Type:</th>      <td>nonrobust</td>    <th>                     </th>     <td> </td>   \n",
       "</tr>\n",
       "</table>\n",
       "<table class=\"simpletable\">\n",
       "<tr>\n",
       "      <td></td>         <th>coef</th>     <th>std err</th>      <th>t</th>      <th>P>|t|</th>  <th>[0.025</th>    <th>0.975]</th>  \n",
       "</tr>\n",
       "<tr>\n",
       "  <th>Intercept</th> <td>    4.8576</td> <td>    2.579</td> <td>    1.883</td> <td> 0.063</td> <td>   -0.261</td> <td>    9.976</td>\n",
       "</tr>\n",
       "<tr>\n",
       "  <th>horas</th>     <td>    0.0935</td> <td>    0.004</td> <td>   22.563</td> <td> 0.000</td> <td>    0.085</td> <td>    0.102</td>\n",
       "</tr>\n",
       "</table>\n",
       "<table class=\"simpletable\">\n",
       "<tr>\n",
       "  <th>Omnibus:</th>       <td> 0.395</td> <th>  Durbin-Watson:     </th> <td>   2.346</td>\n",
       "</tr>\n",
       "<tr>\n",
       "  <th>Prob(Omnibus):</th> <td> 0.821</td> <th>  Jarque-Bera (JB):  </th> <td>   0.194</td>\n",
       "</tr>\n",
       "<tr>\n",
       "  <th>Skew:</th>          <td>-0.105</td> <th>  Prob(JB):          </th> <td>   0.908</td>\n",
       "</tr>\n",
       "<tr>\n",
       "  <th>Kurtosis:</th>      <td> 3.052</td> <th>  Cond. No.          </th> <td>3.06e+03</td>\n",
       "</tr>\n",
       "</table><br/><br/>Notes:<br/>[1] Standard Errors assume that the covariance matrix of the errors is correctly specified.<br/>[2] The condition number is large, 3.06e+03. This might indicate that there are<br/>strong multicollinearity or other numerical problems."
      ],
      "text/plain": [
       "<class 'statsmodels.iolib.summary.Summary'>\n",
       "\"\"\"\n",
       "                            OLS Regression Results                            \n",
       "==============================================================================\n",
       "Dep. Variable:                   nota   R-squared:                       0.839\n",
       "Model:                            OLS   Adj. R-squared:                  0.837\n",
       "Method:                 Least Squares   F-statistic:                     509.1\n",
       "Date:                Tue, 27 Apr 2021   Prob (F-statistic):           1.36e-40\n",
       "Time:                        10:05:10   Log-Likelihood:                -306.46\n",
       "No. Observations:                 100   AIC:                             616.9\n",
       "Df Residuals:                      98   BIC:                             622.1\n",
       "Df Model:                           1                                         \n",
       "Covariance Type:            nonrobust                                         \n",
       "==============================================================================\n",
       "                 coef    std err          t      P>|t|      [0.025      0.975]\n",
       "------------------------------------------------------------------------------\n",
       "Intercept      4.8576      2.579      1.883      0.063      -0.261       9.976\n",
       "horas          0.0935      0.004     22.563      0.000       0.085       0.102\n",
       "==============================================================================\n",
       "Omnibus:                        0.395   Durbin-Watson:                   2.346\n",
       "Prob(Omnibus):                  0.821   Jarque-Bera (JB):                0.194\n",
       "Skew:                          -0.105   Prob(JB):                        0.908\n",
       "Kurtosis:                       3.052   Cond. No.                     3.06e+03\n",
       "==============================================================================\n",
       "\n",
       "Notes:\n",
       "[1] Standard Errors assume that the covariance matrix of the errors is correctly specified.\n",
       "[2] The condition number is large, 3.06e+03. This might indicate that there are\n",
       "strong multicollinearity or other numerical problems.\n",
       "\"\"\""
      ]
     },
     "execution_count": 63,
     "metadata": {},
     "output_type": "execute_result"
    }
   ],
   "source": [
    "results = smf.ols(\"nota ~ horas\", data=data).fit()\n",
    "results.summary()"
   ]
  },
  {
   "cell_type": "markdown",
   "id": "novel-portugal",
   "metadata": {},
   "source": [
    "## Conceptos del OLS"
   ]
  },
  {
   "cell_type": "markdown",
   "id": "opposite-amazon",
   "metadata": {},
   "source": [
    "-  <b>R2</b> : El coeficiente de determinación mide cuanta de la variación de 𝑦 es explicada por el modelo.\n",
    "Si la varianza de los errores o residuales 𝜎2𝑒 es cero, el modelo explica el 100% de la variable 𝑦. Si 𝜎2𝑒 es igual a la varianza de 𝑦 el modelo no explica nada y 𝑅2 vale cero.\n",
    "\n",
    "\n",
    "- <b>𝑅¯2 </b> : El coeficiente de correlación ajustado 𝑅¯2 corrige el valor de 𝑅2 por la cantidad de variables 𝑘 (igual a 2 para el caso analizado) y la cantidad de datos  𝑁\n",
    "\n",
    "- <b>P value </b> El p-valor para cada término comprueba la hipótesis nula de que el coeficiente es igual a cero (no tiene efecto). Un p-valor bajo (< 0.05) indica que puedes rechazar la hipótesis nula. ... Típicamente se utilizan los p-valores para determinar que téminos deben de mantenerse en el modelo de regresión"
   ]
  },
  {
   "cell_type": "markdown",
   "id": "particular-russell",
   "metadata": {},
   "source": [
    "## Regresión lineal múltiple\n",
    "\n",
    "Por supuesto, las horas que uno estudia no son el único factor importante para sacar buenas notas en el mundo real. Podemos pensar en el cociente intelectual, por ejemplo, como otro factor determinante. De hecho, podemos generalizar un modelo lineal para tener tantas variables como queramos:\n",
    "\n",
    " $$ Y = \\beta_0 + \\beta_1 X_1 + \\beta_2 X_2 + \\dots + \\beta_2 X_m + \\epsilon$$\n",
    " \n",
    " En este caso lo que vamos a hacer, es añadir una variable que nos resta de la nota, las horas de fiesta.\n",
    " Imaginemos que por cada hora que salimos de fiesta mueren neuronas en nuestro cerebro y se nos olvida información, por tanto, nos restará nota (recordad que estamos inventando datos)"
   ]
  },
  {
   "cell_type": "code",
   "execution_count": null,
   "id": "original-pride",
   "metadata": {},
   "outputs": [],
   "source": [
    "# Volvemos a crear el dataframe con las notas\n"
   ]
  },
  {
   "cell_type": "code",
   "execution_count": 89,
   "id": "social-making",
   "metadata": {},
   "outputs": [],
   "source": [
    "beta_0 = 11.78\n",
    "beta_1 = 0.084\n",
    "beta_2 = -0.03"
   ]
  },
  {
   "cell_type": "code",
   "execution_count": 90,
   "id": "union-tokyo",
   "metadata": {},
   "outputs": [],
   "source": [
    "horas_estudio = np.random.normal(500, 200, num_notas)\n",
    "horas_fiesta = np.random.normal(500, 200, num_notas)\n",
    "y = (beta_0) + (beta_1 * horas_estudio) + (beta_2 * horas_fiesta)  + (np.random.normal(loc=0,scale=5,size=num_notas))"
   ]
  },
  {
   "cell_type": "code",
   "execution_count": 91,
   "id": "alone-tradition",
   "metadata": {},
   "outputs": [],
   "source": [
    "data = pd.DataFrame({\"notas\": y,\n",
    "                    \"horas_estudio\": horas_estudio,\n",
    "                    \"horas_fiesta\": horas_fiesta}\n",
    ").astype(int)"
   ]
  },
  {
   "cell_type": "code",
   "execution_count": 92,
   "id": "hungarian-shower",
   "metadata": {},
   "outputs": [
    {
     "data": {
      "text/html": [
       "<div>\n",
       "<style scoped>\n",
       "    .dataframe tbody tr th:only-of-type {\n",
       "        vertical-align: middle;\n",
       "    }\n",
       "\n",
       "    .dataframe tbody tr th {\n",
       "        vertical-align: top;\n",
       "    }\n",
       "\n",
       "    .dataframe thead th {\n",
       "        text-align: right;\n",
       "    }\n",
       "</style>\n",
       "<table border=\"1\" class=\"dataframe\">\n",
       "  <thead>\n",
       "    <tr style=\"text-align: right;\">\n",
       "      <th></th>\n",
       "      <th>notas</th>\n",
       "      <th>horas_estudio</th>\n",
       "      <th>horas_fiesta</th>\n",
       "    </tr>\n",
       "  </thead>\n",
       "  <tbody>\n",
       "    <tr>\n",
       "      <th>0</th>\n",
       "      <td>27</td>\n",
       "      <td>286</td>\n",
       "      <td>359</td>\n",
       "    </tr>\n",
       "    <tr>\n",
       "      <th>1</th>\n",
       "      <td>4</td>\n",
       "      <td>101</td>\n",
       "      <td>427</td>\n",
       "    </tr>\n",
       "    <tr>\n",
       "      <th>2</th>\n",
       "      <td>35</td>\n",
       "      <td>389</td>\n",
       "      <td>399</td>\n",
       "    </tr>\n",
       "    <tr>\n",
       "      <th>3</th>\n",
       "      <td>25</td>\n",
       "      <td>285</td>\n",
       "      <td>564</td>\n",
       "    </tr>\n",
       "    <tr>\n",
       "      <th>4</th>\n",
       "      <td>29</td>\n",
       "      <td>402</td>\n",
       "      <td>322</td>\n",
       "    </tr>\n",
       "  </tbody>\n",
       "</table>\n",
       "</div>"
      ],
      "text/plain": [
       "   notas  horas_estudio  horas_fiesta\n",
       "0     27            286           359\n",
       "1      4            101           427\n",
       "2     35            389           399\n",
       "3     25            285           564\n",
       "4     29            402           322"
      ]
     },
     "execution_count": 92,
     "metadata": {},
     "output_type": "execute_result"
    }
   ],
   "source": [
    "data.head()"
   ]
  },
  {
   "cell_type": "markdown",
   "id": "popular-rachel",
   "metadata": {},
   "source": [
    "Los coeficientes de la regresión lineal múltiple se calculan de forma similar al caso de la regresión lineal simple: minimizan\n",
    "\n",
    "$$RSS = \\Sigma(y_i - \\hat{y_i})^2$$\n",
    "\n",
    "\n",
    "donde:\n",
    "\n",
    " $$ \\hat{y} = \\hat{beta_0} + \\hat{beta_1 X_1} + \\hat{beta_2} X_2 + \\hat + \\hat{\\beta_2} X_m$$"
   ]
  },
  {
   "cell_type": "code",
   "execution_count": 93,
   "id": "helpful-grove",
   "metadata": {},
   "outputs": [
    {
     "data": {
      "text/plain": [
       "<seaborn.axisgrid.PairGrid at 0x7ffe63c56130>"
      ]
     },
     "execution_count": 93,
     "metadata": {},
     "output_type": "execute_result"
    },
    {
     "data": {
      "image/png": "[encoded data removed]",
      "text/plain": [
       "<Figure size 540x540 with 12 Axes>"
      ]
     },
     "metadata": {},
     "output_type": "display_data"
    }
   ],
   "source": [
    "sns.pairplot(data)"
   ]
  },
  {
   "cell_type": "code",
   "execution_count": null,
   "id": "bigger-china",
   "metadata": {},
   "outputs": [],
   "source": [
    "# Analizamos los resultados con el OLS"
   ]
  },
  {
   "cell_type": "code",
   "execution_count": 94,
   "id": "proprietary-allah",
   "metadata": {
    "scrolled": true
   },
   "outputs": [
    {
     "data": {
      "text/html": [
       "<table class=\"simpletable\">\n",
       "<caption>OLS Regression Results</caption>\n",
       "<tr>\n",
       "  <th>Dep. Variable:</th>          <td>notas</td>      <th>  R-squared:         </th> <td>   0.904</td>\n",
       "</tr>\n",
       "<tr>\n",
       "  <th>Model:</th>                   <td>OLS</td>       <th>  Adj. R-squared:    </th> <td>   0.902</td>\n",
       "</tr>\n",
       "<tr>\n",
       "  <th>Method:</th>             <td>Least Squares</td>  <th>  F-statistic:       </th> <td>   457.9</td>\n",
       "</tr>\n",
       "<tr>\n",
       "  <th>Date:</th>             <td>Tue, 27 Apr 2021</td> <th>  Prob (F-statistic):</th> <td>3.89e-50</td>\n",
       "</tr>\n",
       "<tr>\n",
       "  <th>Time:</th>                 <td>10:23:02</td>     <th>  Log-Likelihood:    </th> <td> -315.25</td>\n",
       "</tr>\n",
       "<tr>\n",
       "  <th>No. Observations:</th>      <td>   100</td>      <th>  AIC:               </th> <td>   636.5</td>\n",
       "</tr>\n",
       "<tr>\n",
       "  <th>Df Residuals:</th>          <td>    97</td>      <th>  BIC:               </th> <td>   644.3</td>\n",
       "</tr>\n",
       "<tr>\n",
       "  <th>Df Model:</th>              <td>     2</td>      <th>                     </th>     <td> </td>   \n",
       "</tr>\n",
       "<tr>\n",
       "  <th>Covariance Type:</th>      <td>nonrobust</td>    <th>                     </th>     <td> </td>   \n",
       "</tr>\n",
       "</table>\n",
       "<table class=\"simpletable\">\n",
       "<tr>\n",
       "        <td></td>           <th>coef</th>     <th>std err</th>      <th>t</th>      <th>P>|t|</th>  <th>[0.025</th>    <th>0.975]</th>  \n",
       "</tr>\n",
       "<tr>\n",
       "  <th>Intercept</th>     <td>   10.8556</td> <td>    2.077</td> <td>    5.226</td> <td> 0.000</td> <td>    6.733</td> <td>   14.979</td>\n",
       "</tr>\n",
       "<tr>\n",
       "  <th>horas_estudio</th> <td>    0.0842</td> <td>    0.003</td> <td>   29.349</td> <td> 0.000</td> <td>    0.079</td> <td>    0.090</td>\n",
       "</tr>\n",
       "<tr>\n",
       "  <th>horas_fiesta</th>  <td>   -0.0302</td> <td>    0.003</td> <td>   -9.944</td> <td> 0.000</td> <td>   -0.036</td> <td>   -0.024</td>\n",
       "</tr>\n",
       "</table>\n",
       "<table class=\"simpletable\">\n",
       "<tr>\n",
       "  <th>Omnibus:</th>       <td> 2.806</td> <th>  Durbin-Watson:     </th> <td>   1.984</td>\n",
       "</tr>\n",
       "<tr>\n",
       "  <th>Prob(Omnibus):</th> <td> 0.246</td> <th>  Jarque-Bera (JB):  </th> <td>   2.816</td>\n",
       "</tr>\n",
       "<tr>\n",
       "  <th>Skew:</th>          <td>-0.385</td> <th>  Prob(JB):          </th> <td>   0.245</td>\n",
       "</tr>\n",
       "<tr>\n",
       "  <th>Kurtosis:</th>      <td> 2.711</td> <th>  Cond. No.          </th> <td>2.66e+03</td>\n",
       "</tr>\n",
       "</table><br/><br/>Notes:<br/>[1] Standard Errors assume that the covariance matrix of the errors is correctly specified.<br/>[2] The condition number is large, 2.66e+03. This might indicate that there are<br/>strong multicollinearity or other numerical problems."
      ],
      "text/plain": [
       "<class 'statsmodels.iolib.summary.Summary'>\n",
       "\"\"\"\n",
       "                            OLS Regression Results                            \n",
       "==============================================================================\n",
       "Dep. Variable:                  notas   R-squared:                       0.904\n",
       "Model:                            OLS   Adj. R-squared:                  0.902\n",
       "Method:                 Least Squares   F-statistic:                     457.9\n",
       "Date:                Tue, 27 Apr 2021   Prob (F-statistic):           3.89e-50\n",
       "Time:                        10:23:02   Log-Likelihood:                -315.25\n",
       "No. Observations:                 100   AIC:                             636.5\n",
       "Df Residuals:                      97   BIC:                             644.3\n",
       "Df Model:                           2                                         \n",
       "Covariance Type:            nonrobust                                         \n",
       "=================================================================================\n",
       "                    coef    std err          t      P>|t|      [0.025      0.975]\n",
       "---------------------------------------------------------------------------------\n",
       "Intercept        10.8556      2.077      5.226      0.000       6.733      14.979\n",
       "horas_estudio     0.0842      0.003     29.349      0.000       0.079       0.090\n",
       "horas_fiesta     -0.0302      0.003     -9.944      0.000      -0.036      -0.024\n",
       "==============================================================================\n",
       "Omnibus:                        2.806   Durbin-Watson:                   1.984\n",
       "Prob(Omnibus):                  0.246   Jarque-Bera (JB):                2.816\n",
       "Skew:                          -0.385   Prob(JB):                        0.245\n",
       "Kurtosis:                       2.711   Cond. No.                     2.66e+03\n",
       "==============================================================================\n",
       "\n",
       "Notes:\n",
       "[1] Standard Errors assume that the covariance matrix of the errors is correctly specified.\n",
       "[2] The condition number is large, 2.66e+03. This might indicate that there are\n",
       "strong multicollinearity or other numerical problems.\n",
       "\"\"\""
      ]
     },
     "execution_count": 94,
     "metadata": {},
     "output_type": "execute_result"
    }
   ],
   "source": [
    "results = smf.ols(\"notas ~ horas_estudio + horas_fiesta\", data=data).fit()\n",
    "results.summary()"
   ]
  },
  {
   "cell_type": "markdown",
   "id": "secure-natural",
   "metadata": {},
   "source": [
    "## Variables categóricas\n",
    "\n",
    "Muy a menudo nos enfrentamos a situaciones en las que los predictores son de naturaleza *cualitativa*. Un buen ejemplo podría ser el sexo de una persona, que puede tomar los valores $M$ o $F$. "
   ]
  },
  {
   "cell_type": "code",
   "execution_count": 96,
   "id": "recent-presentation",
   "metadata": {},
   "outputs": [
    {
     "data": {
      "text/html": [
       "<div>\n",
       "<style scoped>\n",
       "    .dataframe tbody tr th:only-of-type {\n",
       "        vertical-align: middle;\n",
       "    }\n",
       "\n",
       "    .dataframe tbody tr th {\n",
       "        vertical-align: top;\n",
       "    }\n",
       "\n",
       "    .dataframe thead th {\n",
       "        text-align: right;\n",
       "    }\n",
       "</style>\n",
       "<table border=\"1\" class=\"dataframe\">\n",
       "  <thead>\n",
       "    <tr style=\"text-align: right;\">\n",
       "      <th></th>\n",
       "      <th>notas</th>\n",
       "      <th>horas_estudio</th>\n",
       "      <th>horas_fiesta</th>\n",
       "      <th>sex</th>\n",
       "    </tr>\n",
       "  </thead>\n",
       "  <tbody>\n",
       "    <tr>\n",
       "      <th>0</th>\n",
       "      <td>27</td>\n",
       "      <td>286</td>\n",
       "      <td>359</td>\n",
       "      <td>M</td>\n",
       "    </tr>\n",
       "    <tr>\n",
       "      <th>1</th>\n",
       "      <td>4</td>\n",
       "      <td>101</td>\n",
       "      <td>427</td>\n",
       "      <td>H</td>\n",
       "    </tr>\n",
       "    <tr>\n",
       "      <th>2</th>\n",
       "      <td>35</td>\n",
       "      <td>389</td>\n",
       "      <td>399</td>\n",
       "      <td>H</td>\n",
       "    </tr>\n",
       "    <tr>\n",
       "      <th>3</th>\n",
       "      <td>25</td>\n",
       "      <td>285</td>\n",
       "      <td>564</td>\n",
       "      <td>M</td>\n",
       "    </tr>\n",
       "    <tr>\n",
       "      <th>4</th>\n",
       "      <td>29</td>\n",
       "      <td>402</td>\n",
       "      <td>322</td>\n",
       "      <td>H</td>\n",
       "    </tr>\n",
       "  </tbody>\n",
       "</table>\n",
       "</div>"
      ],
      "text/plain": [
       "   notas  horas_estudio  horas_fiesta sex\n",
       "0     27            286           359   M\n",
       "1      4            101           427   H\n",
       "2     35            389           399   H\n",
       "3     25            285           564   M\n",
       "4     29            402           322   H"
      ]
     },
     "execution_count": 96,
     "metadata": {},
     "output_type": "execute_result"
    }
   ],
   "source": [
    "data[\"sex\"] = np.random.choice([\"M\", \"H\"], num_notas)\n",
    "data.head()"
   ]
  },
  {
   "cell_type": "code",
   "execution_count": 97,
   "id": "particular-study",
   "metadata": {},
   "outputs": [],
   "source": [
    "## ¿Cómo trabajamos estas variables? "
   ]
  },
  {
   "cell_type": "code",
   "execution_count": 98,
   "id": "occasional-catalog",
   "metadata": {},
   "outputs": [
    {
     "data": {
      "text/html": [
       "<div>\n",
       "<style scoped>\n",
       "    .dataframe tbody tr th:only-of-type {\n",
       "        vertical-align: middle;\n",
       "    }\n",
       "\n",
       "    .dataframe tbody tr th {\n",
       "        vertical-align: top;\n",
       "    }\n",
       "\n",
       "    .dataframe thead th {\n",
       "        text-align: right;\n",
       "    }\n",
       "</style>\n",
       "<table border=\"1\" class=\"dataframe\">\n",
       "  <thead>\n",
       "    <tr style=\"text-align: right;\">\n",
       "      <th></th>\n",
       "      <th>notas</th>\n",
       "      <th>horas_estudio</th>\n",
       "      <th>horas_fiesta</th>\n",
       "      <th>sex_H</th>\n",
       "      <th>sex_M</th>\n",
       "    </tr>\n",
       "  </thead>\n",
       "  <tbody>\n",
       "    <tr>\n",
       "      <th>0</th>\n",
       "      <td>27</td>\n",
       "      <td>286</td>\n",
       "      <td>359</td>\n",
       "      <td>0</td>\n",
       "      <td>1</td>\n",
       "    </tr>\n",
       "    <tr>\n",
       "      <th>1</th>\n",
       "      <td>4</td>\n",
       "      <td>101</td>\n",
       "      <td>427</td>\n",
       "      <td>1</td>\n",
       "      <td>0</td>\n",
       "    </tr>\n",
       "    <tr>\n",
       "      <th>2</th>\n",
       "      <td>35</td>\n",
       "      <td>389</td>\n",
       "      <td>399</td>\n",
       "      <td>1</td>\n",
       "      <td>0</td>\n",
       "    </tr>\n",
       "    <tr>\n",
       "      <th>3</th>\n",
       "      <td>25</td>\n",
       "      <td>285</td>\n",
       "      <td>564</td>\n",
       "      <td>0</td>\n",
       "      <td>1</td>\n",
       "    </tr>\n",
       "    <tr>\n",
       "      <th>4</th>\n",
       "      <td>29</td>\n",
       "      <td>402</td>\n",
       "      <td>322</td>\n",
       "      <td>1</td>\n",
       "      <td>0</td>\n",
       "    </tr>\n",
       "    <tr>\n",
       "      <th>...</th>\n",
       "      <td>...</td>\n",
       "      <td>...</td>\n",
       "      <td>...</td>\n",
       "      <td>...</td>\n",
       "      <td>...</td>\n",
       "    </tr>\n",
       "    <tr>\n",
       "      <th>95</th>\n",
       "      <td>37</td>\n",
       "      <td>497</td>\n",
       "      <td>472</td>\n",
       "      <td>1</td>\n",
       "      <td>0</td>\n",
       "    </tr>\n",
       "    <tr>\n",
       "      <th>96</th>\n",
       "      <td>45</td>\n",
       "      <td>526</td>\n",
       "      <td>456</td>\n",
       "      <td>1</td>\n",
       "      <td>0</td>\n",
       "    </tr>\n",
       "    <tr>\n",
       "      <th>97</th>\n",
       "      <td>42</td>\n",
       "      <td>582</td>\n",
       "      <td>597</td>\n",
       "      <td>1</td>\n",
       "      <td>0</td>\n",
       "    </tr>\n",
       "    <tr>\n",
       "      <th>98</th>\n",
       "      <td>44</td>\n",
       "      <td>408</td>\n",
       "      <td>-5</td>\n",
       "      <td>1</td>\n",
       "      <td>0</td>\n",
       "    </tr>\n",
       "    <tr>\n",
       "      <th>99</th>\n",
       "      <td>9</td>\n",
       "      <td>381</td>\n",
       "      <td>943</td>\n",
       "      <td>1</td>\n",
       "      <td>0</td>\n",
       "    </tr>\n",
       "  </tbody>\n",
       "</table>\n",
       "<p>100 rows × 5 columns</p>\n",
       "</div>"
      ],
      "text/plain": [
       "    notas  horas_estudio  horas_fiesta  sex_H  sex_M\n",
       "0      27            286           359      0      1\n",
       "1       4            101           427      1      0\n",
       "2      35            389           399      1      0\n",
       "3      25            285           564      0      1\n",
       "4      29            402           322      1      0\n",
       "..    ...            ...           ...    ...    ...\n",
       "95     37            497           472      1      0\n",
       "96     45            526           456      1      0\n",
       "97     42            582           597      1      0\n",
       "98     44            408            -5      1      0\n",
       "99      9            381           943      1      0\n",
       "\n",
       "[100 rows x 5 columns]"
      ]
     },
     "execution_count": 98,
     "metadata": {},
     "output_type": "execute_result"
    }
   ],
   "source": [
    "pd.get_dummies(data)"
   ]
  },
  {
   "cell_type": "code",
   "execution_count": 102,
   "id": "intellectual-information",
   "metadata": {},
   "outputs": [
    {
     "data": {
      "text/html": [
       "<div>\n",
       "<style scoped>\n",
       "    .dataframe tbody tr th:only-of-type {\n",
       "        vertical-align: middle;\n",
       "    }\n",
       "\n",
       "    .dataframe tbody tr th {\n",
       "        vertical-align: top;\n",
       "    }\n",
       "\n",
       "    .dataframe thead th {\n",
       "        text-align: right;\n",
       "    }\n",
       "</style>\n",
       "<table border=\"1\" class=\"dataframe\">\n",
       "  <thead>\n",
       "    <tr style=\"text-align: right;\">\n",
       "      <th></th>\n",
       "      <th>notas</th>\n",
       "      <th>horas_estudio</th>\n",
       "      <th>horas_fiesta</th>\n",
       "      <th>sex</th>\n",
       "      <th>es_mujer</th>\n",
       "    </tr>\n",
       "  </thead>\n",
       "  <tbody>\n",
       "    <tr>\n",
       "      <th>0</th>\n",
       "      <td>27</td>\n",
       "      <td>286</td>\n",
       "      <td>359</td>\n",
       "      <td>M</td>\n",
       "      <td>1</td>\n",
       "    </tr>\n",
       "    <tr>\n",
       "      <th>1</th>\n",
       "      <td>4</td>\n",
       "      <td>101</td>\n",
       "      <td>427</td>\n",
       "      <td>H</td>\n",
       "      <td>0</td>\n",
       "    </tr>\n",
       "    <tr>\n",
       "      <th>2</th>\n",
       "      <td>35</td>\n",
       "      <td>389</td>\n",
       "      <td>399</td>\n",
       "      <td>H</td>\n",
       "      <td>0</td>\n",
       "    </tr>\n",
       "    <tr>\n",
       "      <th>3</th>\n",
       "      <td>25</td>\n",
       "      <td>285</td>\n",
       "      <td>564</td>\n",
       "      <td>M</td>\n",
       "      <td>1</td>\n",
       "    </tr>\n",
       "    <tr>\n",
       "      <th>4</th>\n",
       "      <td>29</td>\n",
       "      <td>402</td>\n",
       "      <td>322</td>\n",
       "      <td>H</td>\n",
       "      <td>0</td>\n",
       "    </tr>\n",
       "  </tbody>\n",
       "</table>\n",
       "</div>"
      ],
      "text/plain": [
       "   notas  horas_estudio  horas_fiesta sex  es_mujer\n",
       "0     27            286           359   M         1\n",
       "1      4            101           427   H         0\n",
       "2     35            389           399   H         0\n",
       "3     25            285           564   M         1\n",
       "4     29            402           322   H         0"
      ]
     },
     "execution_count": 102,
     "metadata": {},
     "output_type": "execute_result"
    }
   ],
   "source": [
    "data[\"es_mujer\"] = data.sex.str.get_dummies()[\"M\"]\n",
    "data.head()"
   ]
  },
  {
   "cell_type": "markdown",
   "id": "connected-phase",
   "metadata": {},
   "source": [
    "Incluimos esta información en el modelo a través de una variable *dummy*:\n",
    "$$\n",
    "x_i= \\left\\{\n",
    "\\begin{array}{ll}\n",
    "      1  \\quad \\text{si la persona es mujer} \\\\\n",
    "      0  \\quad \\text{si la persona es hombre} \\\\\n",
    "\\end{array} \n",
    "\\right. \n",
    "$$\n",
    "\n",
    "\n",
    "Si esta es nuestra única variable, esto resulta en un modelo:\n",
    "\n",
    "$$y_i = \\beta_0 + \\beta_1 x_i +\\epsilon_i = \\left\\{\n",
    "\\begin{array}{ll}\n",
    "      \\beta_0 + \\beta_1 +\\epsilon_i  \\quad \\text{si la persona es mujer} \\\\\n",
    "      \\beta_0 + \\epsilon_i  \\quad \\text{si la persona es hombre} \\\\\n",
    "\\end{array} \n",
    "\\right.  $$\n",
    "\n",
    "En este caso, $\\beta_0$ representa la nota media de los hombres, y $\\beta_0 + \\beta_1$ la nota media de las mujeres."
   ]
  },
  {
   "cell_type": "code",
   "execution_count": 108,
   "id": "adverse-scheduling",
   "metadata": {},
   "outputs": [
    {
     "data": {
      "text/html": [
       "<table class=\"simpletable\">\n",
       "<caption>OLS Regression Results</caption>\n",
       "<tr>\n",
       "  <th>Dep. Variable:</th>          <td>notas</td>      <th>  R-squared:         </th> <td>   0.906</td>\n",
       "</tr>\n",
       "<tr>\n",
       "  <th>Model:</th>                   <td>OLS</td>       <th>  Adj. R-squared:    </th> <td>   0.903</td>\n",
       "</tr>\n",
       "<tr>\n",
       "  <th>Method:</th>             <td>Least Squares</td>  <th>  F-statistic:       </th> <td>   307.3</td>\n",
       "</tr>\n",
       "<tr>\n",
       "  <th>Date:</th>             <td>Tue, 27 Apr 2021</td> <th>  Prob (F-statistic):</th> <td>4.53e-49</td>\n",
       "</tr>\n",
       "<tr>\n",
       "  <th>Time:</th>                 <td>10:41:17</td>     <th>  Log-Likelihood:    </th> <td> -314.49</td>\n",
       "</tr>\n",
       "<tr>\n",
       "  <th>No. Observations:</th>      <td>   100</td>      <th>  AIC:               </th> <td>   637.0</td>\n",
       "</tr>\n",
       "<tr>\n",
       "  <th>Df Residuals:</th>          <td>    96</td>      <th>  BIC:               </th> <td>   647.4</td>\n",
       "</tr>\n",
       "<tr>\n",
       "  <th>Df Model:</th>              <td>     3</td>      <th>                     </th>     <td> </td>   \n",
       "</tr>\n",
       "<tr>\n",
       "  <th>Covariance Type:</th>      <td>nonrobust</td>    <th>                     </th>     <td> </td>   \n",
       "</tr>\n",
       "</table>\n",
       "<table class=\"simpletable\">\n",
       "<tr>\n",
       "        <td></td>           <th>coef</th>     <th>std err</th>      <th>t</th>      <th>P>|t|</th>  <th>[0.025</th>    <th>0.975]</th>  \n",
       "</tr>\n",
       "<tr>\n",
       "  <th>Intercept</th>     <td>   10.0693</td> <td>    2.171</td> <td>    4.638</td> <td> 0.000</td> <td>    5.760</td> <td>   14.379</td>\n",
       "</tr>\n",
       "<tr>\n",
       "  <th>horas_estudio</th> <td>    0.0837</td> <td>    0.003</td> <td>   28.909</td> <td> 0.000</td> <td>    0.078</td> <td>    0.089</td>\n",
       "</tr>\n",
       "<tr>\n",
       "  <th>horas_fiesta</th>  <td>   -0.0292</td> <td>    0.003</td> <td>   -9.361</td> <td> 0.000</td> <td>   -0.035</td> <td>   -0.023</td>\n",
       "</tr>\n",
       "<tr>\n",
       "  <th>es_mujer</th>      <td>    1.4853</td> <td>    1.222</td> <td>    1.215</td> <td> 0.227</td> <td>   -0.941</td> <td>    3.912</td>\n",
       "</tr>\n",
       "</table>\n",
       "<table class=\"simpletable\">\n",
       "<tr>\n",
       "  <th>Omnibus:</th>       <td> 3.091</td> <th>  Durbin-Watson:     </th> <td>   1.964</td>\n",
       "</tr>\n",
       "<tr>\n",
       "  <th>Prob(Omnibus):</th> <td> 0.213</td> <th>  Jarque-Bera (JB):  </th> <td>   3.081</td>\n",
       "</tr>\n",
       "<tr>\n",
       "  <th>Skew:</th>          <td>-0.413</td> <th>  Prob(JB):          </th> <td>   0.214</td>\n",
       "</tr>\n",
       "<tr>\n",
       "  <th>Kurtosis:</th>      <td> 2.763</td> <th>  Cond. No.          </th> <td>2.84e+03</td>\n",
       "</tr>\n",
       "</table><br/><br/>Notes:<br/>[1] Standard Errors assume that the covariance matrix of the errors is correctly specified.<br/>[2] The condition number is large, 2.84e+03. This might indicate that there are<br/>strong multicollinearity or other numerical problems."
      ],
      "text/plain": [
       "<class 'statsmodels.iolib.summary.Summary'>\n",
       "\"\"\"\n",
       "                            OLS Regression Results                            \n",
       "==============================================================================\n",
       "Dep. Variable:                  notas   R-squared:                       0.906\n",
       "Model:                            OLS   Adj. R-squared:                  0.903\n",
       "Method:                 Least Squares   F-statistic:                     307.3\n",
       "Date:                Tue, 27 Apr 2021   Prob (F-statistic):           4.53e-49\n",
       "Time:                        10:41:17   Log-Likelihood:                -314.49\n",
       "No. Observations:                 100   AIC:                             637.0\n",
       "Df Residuals:                      96   BIC:                             647.4\n",
       "Df Model:                           3                                         \n",
       "Covariance Type:            nonrobust                                         \n",
       "=================================================================================\n",
       "                    coef    std err          t      P>|t|      [0.025      0.975]\n",
       "---------------------------------------------------------------------------------\n",
       "Intercept        10.0693      2.171      4.638      0.000       5.760      14.379\n",
       "horas_estudio     0.0837      0.003     28.909      0.000       0.078       0.089\n",
       "horas_fiesta     -0.0292      0.003     -9.361      0.000      -0.035      -0.023\n",
       "es_mujer          1.4853      1.222      1.215      0.227      -0.941       3.912\n",
       "==============================================================================\n",
       "Omnibus:                        3.091   Durbin-Watson:                   1.964\n",
       "Prob(Omnibus):                  0.213   Jarque-Bera (JB):                3.081\n",
       "Skew:                          -0.413   Prob(JB):                        0.214\n",
       "Kurtosis:                       2.763   Cond. No.                     2.84e+03\n",
       "==============================================================================\n",
       "\n",
       "Notes:\n",
       "[1] Standard Errors assume that the covariance matrix of the errors is correctly specified.\n",
       "[2] The condition number is large, 2.84e+03. This might indicate that there are\n",
       "strong multicollinearity or other numerical problems.\n",
       "\"\"\""
      ]
     },
     "execution_count": 108,
     "metadata": {},
     "output_type": "execute_result"
    }
   ],
   "source": [
    "results = smf.ols(\"notas ~ horas_estudio + horas_fiesta + es_mujer\", data = data).fit()\n",
    "results.summary()"
   ]
  },
  {
   "cell_type": "markdown",
   "id": "acquired-steps",
   "metadata": {},
   "source": [
    "## Extensiones del modelo lineal\n",
    "\n",
    "Hay varios supuestos que se utilizan al ajustar un modelo lineal. \n",
    "* Los errores se distribuyen normalmente y tienen una varianza constante\n",
    "* Los errores no están correlacionados entre sí\n",
    "* **Supuesto aditivo** El efecto de los cambios en un predictor $X_j$ sobre la respuesta $Y$ es independiente de los valores de los otros predictores.\n",
    "* **Supuesto lineal** El cambio en la respuesta para un aumento de una unidad en $X_j$ es el mismo sin importar el valor de $X_j$.\n",
    "\n",
    "### Desafiando la suposición aditiva: la sinergia\n",
    "\n",
    "A veces nuestras variables tendrán interacciones naturales. Por ejemplo, podemos pensar que cuanto más se escuchen nuestros anuncios en la radio, más eficaces serán nuestros anuncios en la televisión. Es decir, el efecto de ambos es *mayor* (o *menor*) que la suma de las partes.\n",
    "\n",
    "Este es un tema comúnmente estudiado en [marketing](https://smallbusiness.chron.com/definition-synergy-marketing-21786.html)"
   ]
  },
  {
   "cell_type": "code",
   "execution_count": 118,
   "id": "hollow-baseline",
   "metadata": {},
   "outputs": [],
   "source": [
    "df_adv = pd.read_csv('../datasets/Advertising.csv')"
   ]
  },
  {
   "cell_type": "markdown",
   "id": "executive-commonwealth",
   "metadata": {},
   "source": [
    "## Manos a la obra\n",
    "* Crear tres modelos independientes de regresión lineal simple\n",
    "    * Interpretar los resultados\n",
    "* Crear un modelo multivariante con los tres predictores\n",
    "    * Interpretar los resultados"
   ]
  },
  {
   "cell_type": "code",
   "execution_count": 112,
   "id": "laughing-patent",
   "metadata": {},
   "outputs": [
    {
     "data": {
      "text/html": [
       "<div>\n",
       "<style scoped>\n",
       "    .dataframe tbody tr th:only-of-type {\n",
       "        vertical-align: middle;\n",
       "    }\n",
       "\n",
       "    .dataframe tbody tr th {\n",
       "        vertical-align: top;\n",
       "    }\n",
       "\n",
       "    .dataframe thead th {\n",
       "        text-align: right;\n",
       "    }\n",
       "</style>\n",
       "<table border=\"1\" class=\"dataframe\">\n",
       "  <thead>\n",
       "    <tr style=\"text-align: right;\">\n",
       "      <th></th>\n",
       "      <th>TV</th>\n",
       "      <th>Radio</th>\n",
       "      <th>Newspaper</th>\n",
       "      <th>Sales</th>\n",
       "    </tr>\n",
       "  </thead>\n",
       "  <tbody>\n",
       "    <tr>\n",
       "      <th>0</th>\n",
       "      <td>230.1</td>\n",
       "      <td>37.8</td>\n",
       "      <td>69.2</td>\n",
       "      <td>22.1</td>\n",
       "    </tr>\n",
       "    <tr>\n",
       "      <th>1</th>\n",
       "      <td>44.5</td>\n",
       "      <td>39.3</td>\n",
       "      <td>45.1</td>\n",
       "      <td>10.4</td>\n",
       "    </tr>\n",
       "    <tr>\n",
       "      <th>2</th>\n",
       "      <td>17.2</td>\n",
       "      <td>45.9</td>\n",
       "      <td>69.3</td>\n",
       "      <td>9.3</td>\n",
       "    </tr>\n",
       "    <tr>\n",
       "      <th>3</th>\n",
       "      <td>151.5</td>\n",
       "      <td>41.3</td>\n",
       "      <td>58.5</td>\n",
       "      <td>18.5</td>\n",
       "    </tr>\n",
       "    <tr>\n",
       "      <th>4</th>\n",
       "      <td>180.8</td>\n",
       "      <td>10.8</td>\n",
       "      <td>58.4</td>\n",
       "      <td>12.9</td>\n",
       "    </tr>\n",
       "    <tr>\n",
       "      <th>...</th>\n",
       "      <td>...</td>\n",
       "      <td>...</td>\n",
       "      <td>...</td>\n",
       "      <td>...</td>\n",
       "    </tr>\n",
       "    <tr>\n",
       "      <th>195</th>\n",
       "      <td>38.2</td>\n",
       "      <td>3.7</td>\n",
       "      <td>13.8</td>\n",
       "      <td>7.6</td>\n",
       "    </tr>\n",
       "    <tr>\n",
       "      <th>196</th>\n",
       "      <td>94.2</td>\n",
       "      <td>4.9</td>\n",
       "      <td>8.1</td>\n",
       "      <td>9.7</td>\n",
       "    </tr>\n",
       "    <tr>\n",
       "      <th>197</th>\n",
       "      <td>177.0</td>\n",
       "      <td>9.3</td>\n",
       "      <td>6.4</td>\n",
       "      <td>12.8</td>\n",
       "    </tr>\n",
       "    <tr>\n",
       "      <th>198</th>\n",
       "      <td>283.6</td>\n",
       "      <td>42.0</td>\n",
       "      <td>66.2</td>\n",
       "      <td>25.5</td>\n",
       "    </tr>\n",
       "    <tr>\n",
       "      <th>199</th>\n",
       "      <td>232.1</td>\n",
       "      <td>8.6</td>\n",
       "      <td>8.7</td>\n",
       "      <td>13.4</td>\n",
       "    </tr>\n",
       "  </tbody>\n",
       "</table>\n",
       "<p>200 rows × 4 columns</p>\n",
       "</div>"
      ],
      "text/plain": [
       "        TV  Radio  Newspaper  Sales\n",
       "0    230.1   37.8       69.2   22.1\n",
       "1     44.5   39.3       45.1   10.4\n",
       "2     17.2   45.9       69.3    9.3\n",
       "3    151.5   41.3       58.5   18.5\n",
       "4    180.8   10.8       58.4   12.9\n",
       "..     ...    ...        ...    ...\n",
       "195   38.2    3.7       13.8    7.6\n",
       "196   94.2    4.9        8.1    9.7\n",
       "197  177.0    9.3        6.4   12.8\n",
       "198  283.6   42.0       66.2   25.5\n",
       "199  232.1    8.6        8.7   13.4\n",
       "\n",
       "[200 rows x 4 columns]"
      ]
     },
     "execution_count": 112,
     "metadata": {},
     "output_type": "execute_result"
    }
   ],
   "source": [
    "df_adv"
   ]
  },
  {
   "cell_type": "code",
   "execution_count": 113,
   "id": "motivated-depth",
   "metadata": {},
   "outputs": [],
   "source": [
    "X = df_adv[[\"Radio\"]]\n",
    "y = df_adv.Sales"
   ]
  },
  {
   "cell_type": "code",
   "execution_count": 114,
   "id": "arbitrary-lawsuit",
   "metadata": {},
   "outputs": [
    {
     "data": {
      "text/plain": [
       "LinearRegression()"
      ]
     },
     "execution_count": 114,
     "metadata": {},
     "output_type": "execute_result"
    }
   ],
   "source": [
    "lr.fit(X, y)"
   ]
  },
  {
   "cell_type": "code",
   "execution_count": 115,
   "id": "dense-baghdad",
   "metadata": {},
   "outputs": [],
   "source": [
    "df_adv[\"nueva\"] = lr.predict(X)"
   ]
  },
  {
   "cell_type": "code",
   "execution_count": 116,
   "id": "disabled-madagascar",
   "metadata": {},
   "outputs": [
    {
     "data": {
      "text/html": [
       "<div>\n",
       "<style scoped>\n",
       "    .dataframe tbody tr th:only-of-type {\n",
       "        vertical-align: middle;\n",
       "    }\n",
       "\n",
       "    .dataframe tbody tr th {\n",
       "        vertical-align: top;\n",
       "    }\n",
       "\n",
       "    .dataframe thead th {\n",
       "        text-align: right;\n",
       "    }\n",
       "</style>\n",
       "<table border=\"1\" class=\"dataframe\">\n",
       "  <thead>\n",
       "    <tr style=\"text-align: right;\">\n",
       "      <th></th>\n",
       "      <th>TV</th>\n",
       "      <th>Radio</th>\n",
       "      <th>Newspaper</th>\n",
       "      <th>Sales</th>\n",
       "      <th>nueva</th>\n",
       "    </tr>\n",
       "  </thead>\n",
       "  <tbody>\n",
       "    <tr>\n",
       "      <th>0</th>\n",
       "      <td>230.1</td>\n",
       "      <td>37.8</td>\n",
       "      <td>69.2</td>\n",
       "      <td>22.1</td>\n",
       "      <td>16.965979</td>\n",
       "    </tr>\n",
       "    <tr>\n",
       "      <th>1</th>\n",
       "      <td>44.5</td>\n",
       "      <td>39.3</td>\n",
       "      <td>45.1</td>\n",
       "      <td>10.4</td>\n",
       "      <td>17.269722</td>\n",
       "    </tr>\n",
       "    <tr>\n",
       "      <th>2</th>\n",
       "      <td>17.2</td>\n",
       "      <td>45.9</td>\n",
       "      <td>69.3</td>\n",
       "      <td>9.3</td>\n",
       "      <td>18.606195</td>\n",
       "    </tr>\n",
       "    <tr>\n",
       "      <th>3</th>\n",
       "      <td>151.5</td>\n",
       "      <td>41.3</td>\n",
       "      <td>58.5</td>\n",
       "      <td>18.5</td>\n",
       "      <td>17.674714</td>\n",
       "    </tr>\n",
       "    <tr>\n",
       "      <th>4</th>\n",
       "      <td>180.8</td>\n",
       "      <td>10.8</td>\n",
       "      <td>58.4</td>\n",
       "      <td>12.9</td>\n",
       "      <td>11.498593</td>\n",
       "    </tr>\n",
       "  </tbody>\n",
       "</table>\n",
       "</div>"
      ],
      "text/plain": [
       "      TV  Radio  Newspaper  Sales      nueva\n",
       "0  230.1   37.8       69.2   22.1  16.965979\n",
       "1   44.5   39.3       45.1   10.4  17.269722\n",
       "2   17.2   45.9       69.3    9.3  18.606195\n",
       "3  151.5   41.3       58.5   18.5  17.674714\n",
       "4  180.8   10.8       58.4   12.9  11.498593"
      ]
     },
     "execution_count": 116,
     "metadata": {},
     "output_type": "execute_result"
    }
   ],
   "source": [
    "df_adv.head()"
   ]
  },
  {
   "cell_type": "code",
   "execution_count": 119,
   "id": "proprietary-yorkshire",
   "metadata": {},
   "outputs": [
    {
     "data": {
      "text/plain": [
       "<seaborn.axisgrid.PairGrid at 0x7ffe6621a430>"
      ]
     },
     "execution_count": 119,
     "metadata": {},
     "output_type": "execute_result"
    },
    {
     "data": {
      "image/png": "[encoded data removed]",
      "text/plain": [
       "<Figure size 720x720 with 20 Axes>"
      ]
     },
     "metadata": {},
     "output_type": "display_data"
    }
   ],
   "source": [
    "sns.pairplot(df_adv)"
   ]
  },
  {
   "cell_type": "code",
   "execution_count": 120,
   "id": "injured-tourism",
   "metadata": {},
   "outputs": [
    {
     "data": {
      "text/html": [
       "<div>\n",
       "<style scoped>\n",
       "    .dataframe tbody tr th:only-of-type {\n",
       "        vertical-align: middle;\n",
       "    }\n",
       "\n",
       "    .dataframe tbody tr th {\n",
       "        vertical-align: top;\n",
       "    }\n",
       "\n",
       "    .dataframe thead th {\n",
       "        text-align: right;\n",
       "    }\n",
       "</style>\n",
       "<table border=\"1\" class=\"dataframe\">\n",
       "  <thead>\n",
       "    <tr style=\"text-align: right;\">\n",
       "      <th></th>\n",
       "      <th>TV</th>\n",
       "      <th>Radio</th>\n",
       "      <th>Newspaper</th>\n",
       "      <th>Sales</th>\n",
       "    </tr>\n",
       "  </thead>\n",
       "  <tbody>\n",
       "    <tr>\n",
       "      <th>TV</th>\n",
       "      <td>1.000000</td>\n",
       "      <td>0.054809</td>\n",
       "      <td>0.056648</td>\n",
       "      <td>0.782224</td>\n",
       "    </tr>\n",
       "    <tr>\n",
       "      <th>Radio</th>\n",
       "      <td>0.054809</td>\n",
       "      <td>1.000000</td>\n",
       "      <td>0.354104</td>\n",
       "      <td>0.576223</td>\n",
       "    </tr>\n",
       "    <tr>\n",
       "      <th>Newspaper</th>\n",
       "      <td>0.056648</td>\n",
       "      <td>0.354104</td>\n",
       "      <td>1.000000</td>\n",
       "      <td>0.228299</td>\n",
       "    </tr>\n",
       "    <tr>\n",
       "      <th>Sales</th>\n",
       "      <td>0.782224</td>\n",
       "      <td>0.576223</td>\n",
       "      <td>0.228299</td>\n",
       "      <td>1.000000</td>\n",
       "    </tr>\n",
       "  </tbody>\n",
       "</table>\n",
       "</div>"
      ],
      "text/plain": [
       "                 TV     Radio  Newspaper     Sales\n",
       "TV         1.000000  0.054809   0.056648  0.782224\n",
       "Radio      0.054809  1.000000   0.354104  0.576223\n",
       "Newspaper  0.056648  0.354104   1.000000  0.228299\n",
       "Sales      0.782224  0.576223   0.228299  1.000000"
      ]
     },
     "execution_count": 120,
     "metadata": {},
     "output_type": "execute_result"
    }
   ],
   "source": [
    "df_adv.corr()"
   ]
  },
  {
   "cell_type": "code",
   "execution_count": 121,
   "id": "clear-metropolitan",
   "metadata": {},
   "outputs": [
    {
     "data": {
      "text/html": [
       "<div>\n",
       "<style scoped>\n",
       "    .dataframe tbody tr th:only-of-type {\n",
       "        vertical-align: middle;\n",
       "    }\n",
       "\n",
       "    .dataframe tbody tr th {\n",
       "        vertical-align: top;\n",
       "    }\n",
       "\n",
       "    .dataframe thead th {\n",
       "        text-align: right;\n",
       "    }\n",
       "</style>\n",
       "<table border=\"1\" class=\"dataframe\">\n",
       "  <thead>\n",
       "    <tr style=\"text-align: right;\">\n",
       "      <th></th>\n",
       "      <th>TV</th>\n",
       "      <th>Radio</th>\n",
       "      <th>Newspaper</th>\n",
       "      <th>Sales</th>\n",
       "    </tr>\n",
       "  </thead>\n",
       "  <tbody>\n",
       "    <tr>\n",
       "      <th>TV</th>\n",
       "      <td>7370.949893</td>\n",
       "      <td>69.862492</td>\n",
       "      <td>105.919452</td>\n",
       "      <td>350.390195</td>\n",
       "    </tr>\n",
       "    <tr>\n",
       "      <th>Radio</th>\n",
       "      <td>69.862492</td>\n",
       "      <td>220.427743</td>\n",
       "      <td>114.496979</td>\n",
       "      <td>44.635688</td>\n",
       "    </tr>\n",
       "    <tr>\n",
       "      <th>Newspaper</th>\n",
       "      <td>105.919452</td>\n",
       "      <td>114.496979</td>\n",
       "      <td>474.308326</td>\n",
       "      <td>25.941392</td>\n",
       "    </tr>\n",
       "    <tr>\n",
       "      <th>Sales</th>\n",
       "      <td>350.390195</td>\n",
       "      <td>44.635688</td>\n",
       "      <td>25.941392</td>\n",
       "      <td>27.221853</td>\n",
       "    </tr>\n",
       "  </tbody>\n",
       "</table>\n",
       "</div>"
      ],
      "text/plain": [
       "                    TV       Radio   Newspaper       Sales\n",
       "TV         7370.949893   69.862492  105.919452  350.390195\n",
       "Radio        69.862492  220.427743  114.496979   44.635688\n",
       "Newspaper   105.919452  114.496979  474.308326   25.941392\n",
       "Sales       350.390195   44.635688   25.941392   27.221853"
      ]
     },
     "execution_count": 121,
     "metadata": {},
     "output_type": "execute_result"
    }
   ],
   "source": [
    "df_adv.cov()"
   ]
  },
  {
   "cell_type": "code",
   "execution_count": 122,
   "id": "harmful-inventory",
   "metadata": {},
   "outputs": [
    {
     "data": {
      "text/html": [
       "<table class=\"simpletable\">\n",
       "<caption>OLS Regression Results</caption>\n",
       "<tr>\n",
       "  <th>Dep. Variable:</th>          <td>Sales</td>      <th>  R-squared:         </th> <td>   0.612</td>\n",
       "</tr>\n",
       "<tr>\n",
       "  <th>Model:</th>                   <td>OLS</td>       <th>  Adj. R-squared:    </th> <td>   0.610</td>\n",
       "</tr>\n",
       "<tr>\n",
       "  <th>Method:</th>             <td>Least Squares</td>  <th>  F-statistic:       </th> <td>   312.1</td>\n",
       "</tr>\n",
       "<tr>\n",
       "  <th>Date:</th>             <td>Tue, 27 Apr 2021</td> <th>  Prob (F-statistic):</th> <td>1.47e-42</td>\n",
       "</tr>\n",
       "<tr>\n",
       "  <th>Time:</th>                 <td>11:55:33</td>     <th>  Log-Likelihood:    </th> <td> -519.05</td>\n",
       "</tr>\n",
       "<tr>\n",
       "  <th>No. Observations:</th>      <td>   200</td>      <th>  AIC:               </th> <td>   1042.</td>\n",
       "</tr>\n",
       "<tr>\n",
       "  <th>Df Residuals:</th>          <td>   198</td>      <th>  BIC:               </th> <td>   1049.</td>\n",
       "</tr>\n",
       "<tr>\n",
       "  <th>Df Model:</th>              <td>     1</td>      <th>                     </th>     <td> </td>   \n",
       "</tr>\n",
       "<tr>\n",
       "  <th>Covariance Type:</th>      <td>nonrobust</td>    <th>                     </th>     <td> </td>   \n",
       "</tr>\n",
       "</table>\n",
       "<table class=\"simpletable\">\n",
       "<tr>\n",
       "      <td></td>         <th>coef</th>     <th>std err</th>      <th>t</th>      <th>P>|t|</th>  <th>[0.025</th>    <th>0.975]</th>  \n",
       "</tr>\n",
       "<tr>\n",
       "  <th>Intercept</th> <td>    7.0326</td> <td>    0.458</td> <td>   15.360</td> <td> 0.000</td> <td>    6.130</td> <td>    7.935</td>\n",
       "</tr>\n",
       "<tr>\n",
       "  <th>TV</th>        <td>    0.0475</td> <td>    0.003</td> <td>   17.668</td> <td> 0.000</td> <td>    0.042</td> <td>    0.053</td>\n",
       "</tr>\n",
       "</table>\n",
       "<table class=\"simpletable\">\n",
       "<tr>\n",
       "  <th>Omnibus:</th>       <td> 0.531</td> <th>  Durbin-Watson:     </th> <td>   1.935</td>\n",
       "</tr>\n",
       "<tr>\n",
       "  <th>Prob(Omnibus):</th> <td> 0.767</td> <th>  Jarque-Bera (JB):  </th> <td>   0.669</td>\n",
       "</tr>\n",
       "<tr>\n",
       "  <th>Skew:</th>          <td>-0.089</td> <th>  Prob(JB):          </th> <td>   0.716</td>\n",
       "</tr>\n",
       "<tr>\n",
       "  <th>Kurtosis:</th>      <td> 2.779</td> <th>  Cond. No.          </th> <td>    338.</td>\n",
       "</tr>\n",
       "</table><br/><br/>Notes:<br/>[1] Standard Errors assume that the covariance matrix of the errors is correctly specified."
      ],
      "text/plain": [
       "<class 'statsmodels.iolib.summary.Summary'>\n",
       "\"\"\"\n",
       "                            OLS Regression Results                            \n",
       "==============================================================================\n",
       "Dep. Variable:                  Sales   R-squared:                       0.612\n",
       "Model:                            OLS   Adj. R-squared:                  0.610\n",
       "Method:                 Least Squares   F-statistic:                     312.1\n",
       "Date:                Tue, 27 Apr 2021   Prob (F-statistic):           1.47e-42\n",
       "Time:                        11:55:33   Log-Likelihood:                -519.05\n",
       "No. Observations:                 200   AIC:                             1042.\n",
       "Df Residuals:                     198   BIC:                             1049.\n",
       "Df Model:                           1                                         \n",
       "Covariance Type:            nonrobust                                         \n",
       "==============================================================================\n",
       "                 coef    std err          t      P>|t|      [0.025      0.975]\n",
       "------------------------------------------------------------------------------\n",
       "Intercept      7.0326      0.458     15.360      0.000       6.130       7.935\n",
       "TV             0.0475      0.003     17.668      0.000       0.042       0.053\n",
       "==============================================================================\n",
       "Omnibus:                        0.531   Durbin-Watson:                   1.935\n",
       "Prob(Omnibus):                  0.767   Jarque-Bera (JB):                0.669\n",
       "Skew:                          -0.089   Prob(JB):                        0.716\n",
       "Kurtosis:                       2.779   Cond. No.                         338.\n",
       "==============================================================================\n",
       "\n",
       "Notes:\n",
       "[1] Standard Errors assume that the covariance matrix of the errors is correctly specified.\n",
       "\"\"\""
      ]
     },
     "execution_count": 122,
     "metadata": {},
     "output_type": "execute_result"
    }
   ],
   "source": [
    "results = smf.ols(\"Sales ~ TV\", data = df_adv).fit()\n",
    "results.summary()"
   ]
  },
  {
   "cell_type": "code",
   "execution_count": 125,
   "id": "little-relations",
   "metadata": {},
   "outputs": [
    {
     "data": {
      "text/html": [
       "<table class=\"simpletable\">\n",
       "<caption>OLS Regression Results</caption>\n",
       "<tr>\n",
       "  <th>Dep. Variable:</th>          <td>Sales</td>      <th>  R-squared:         </th> <td>   0.897</td>\n",
       "</tr>\n",
       "<tr>\n",
       "  <th>Model:</th>                   <td>OLS</td>       <th>  Adj. R-squared:    </th> <td>   0.896</td>\n",
       "</tr>\n",
       "<tr>\n",
       "  <th>Method:</th>             <td>Least Squares</td>  <th>  F-statistic:       </th> <td>   570.3</td>\n",
       "</tr>\n",
       "<tr>\n",
       "  <th>Date:</th>             <td>Tue, 27 Apr 2021</td> <th>  Prob (F-statistic):</th> <td>1.58e-96</td>\n",
       "</tr>\n",
       "<tr>\n",
       "  <th>Time:</th>                 <td>11:57:16</td>     <th>  Log-Likelihood:    </th> <td> -386.18</td>\n",
       "</tr>\n",
       "<tr>\n",
       "  <th>No. Observations:</th>      <td>   200</td>      <th>  AIC:               </th> <td>   780.4</td>\n",
       "</tr>\n",
       "<tr>\n",
       "  <th>Df Residuals:</th>          <td>   196</td>      <th>  BIC:               </th> <td>   793.6</td>\n",
       "</tr>\n",
       "<tr>\n",
       "  <th>Df Model:</th>              <td>     3</td>      <th>                     </th>     <td> </td>   \n",
       "</tr>\n",
       "<tr>\n",
       "  <th>Covariance Type:</th>      <td>nonrobust</td>    <th>                     </th>     <td> </td>   \n",
       "</tr>\n",
       "</table>\n",
       "<table class=\"simpletable\">\n",
       "<tr>\n",
       "      <td></td>         <th>coef</th>     <th>std err</th>      <th>t</th>      <th>P>|t|</th>  <th>[0.025</th>    <th>0.975]</th>  \n",
       "</tr>\n",
       "<tr>\n",
       "  <th>Intercept</th> <td>    2.9389</td> <td>    0.312</td> <td>    9.422</td> <td> 0.000</td> <td>    2.324</td> <td>    3.554</td>\n",
       "</tr>\n",
       "<tr>\n",
       "  <th>TV</th>        <td>    0.0458</td> <td>    0.001</td> <td>   32.809</td> <td> 0.000</td> <td>    0.043</td> <td>    0.049</td>\n",
       "</tr>\n",
       "<tr>\n",
       "  <th>Radio</th>     <td>    0.1885</td> <td>    0.009</td> <td>   21.893</td> <td> 0.000</td> <td>    0.172</td> <td>    0.206</td>\n",
       "</tr>\n",
       "<tr>\n",
       "  <th>Newspaper</th> <td>   -0.0010</td> <td>    0.006</td> <td>   -0.177</td> <td> 0.860</td> <td>   -0.013</td> <td>    0.011</td>\n",
       "</tr>\n",
       "</table>\n",
       "<table class=\"simpletable\">\n",
       "<tr>\n",
       "  <th>Omnibus:</th>       <td>60.414</td> <th>  Durbin-Watson:     </th> <td>   2.084</td>\n",
       "</tr>\n",
       "<tr>\n",
       "  <th>Prob(Omnibus):</th> <td> 0.000</td> <th>  Jarque-Bera (JB):  </th> <td> 151.241</td>\n",
       "</tr>\n",
       "<tr>\n",
       "  <th>Skew:</th>          <td>-1.327</td> <th>  Prob(JB):          </th> <td>1.44e-33</td>\n",
       "</tr>\n",
       "<tr>\n",
       "  <th>Kurtosis:</th>      <td> 6.332</td> <th>  Cond. No.          </th> <td>    454.</td>\n",
       "</tr>\n",
       "</table><br/><br/>Notes:<br/>[1] Standard Errors assume that the covariance matrix of the errors is correctly specified."
      ],
      "text/plain": [
       "<class 'statsmodels.iolib.summary.Summary'>\n",
       "\"\"\"\n",
       "                            OLS Regression Results                            \n",
       "==============================================================================\n",
       "Dep. Variable:                  Sales   R-squared:                       0.897\n",
       "Model:                            OLS   Adj. R-squared:                  0.896\n",
       "Method:                 Least Squares   F-statistic:                     570.3\n",
       "Date:                Tue, 27 Apr 2021   Prob (F-statistic):           1.58e-96\n",
       "Time:                        11:57:16   Log-Likelihood:                -386.18\n",
       "No. Observations:                 200   AIC:                             780.4\n",
       "Df Residuals:                     196   BIC:                             793.6\n",
       "Df Model:                           3                                         \n",
       "Covariance Type:            nonrobust                                         \n",
       "==============================================================================\n",
       "                 coef    std err          t      P>|t|      [0.025      0.975]\n",
       "------------------------------------------------------------------------------\n",
       "Intercept      2.9389      0.312      9.422      0.000       2.324       3.554\n",
       "TV             0.0458      0.001     32.809      0.000       0.043       0.049\n",
       "Radio          0.1885      0.009     21.893      0.000       0.172       0.206\n",
       "Newspaper     -0.0010      0.006     -0.177      0.860      -0.013       0.011\n",
       "==============================================================================\n",
       "Omnibus:                       60.414   Durbin-Watson:                   2.084\n",
       "Prob(Omnibus):                  0.000   Jarque-Bera (JB):              151.241\n",
       "Skew:                          -1.327   Prob(JB):                     1.44e-33\n",
       "Kurtosis:                       6.332   Cond. No.                         454.\n",
       "==============================================================================\n",
       "\n",
       "Notes:\n",
       "[1] Standard Errors assume that the covariance matrix of the errors is correctly specified.\n",
       "\"\"\""
      ]
     },
     "execution_count": 125,
     "metadata": {},
     "output_type": "execute_result"
    }
   ],
   "source": [
    "results = smf.ols(\"Sales ~ TV + Radio + Newspaper\", data = df_adv).fit()\n",
    "results.summary()"
   ]
  },
  {
   "cell_type": "code",
   "execution_count": 129,
   "id": "increasing-ireland",
   "metadata": {},
   "outputs": [
    {
     "data": {
      "text/html": [
       "<table class=\"simpletable\">\n",
       "<caption>OLS Regression Results</caption>\n",
       "<tr>\n",
       "  <th>Dep. Variable:</th>          <td>Sales</td>      <th>  R-squared:         </th> <td>   0.968</td> \n",
       "</tr>\n",
       "<tr>\n",
       "  <th>Model:</th>                   <td>OLS</td>       <th>  Adj. R-squared:    </th> <td>   0.967</td> \n",
       "</tr>\n",
       "<tr>\n",
       "  <th>Method:</th>             <td>Least Squares</td>  <th>  F-statistic:       </th> <td>   1963.</td> \n",
       "</tr>\n",
       "<tr>\n",
       "  <th>Date:</th>             <td>Tue, 27 Apr 2021</td> <th>  Prob (F-statistic):</th> <td>6.68e-146</td>\n",
       "</tr>\n",
       "<tr>\n",
       "  <th>Time:</th>                 <td>12:04:34</td>     <th>  Log-Likelihood:    </th> <td> -270.14</td> \n",
       "</tr>\n",
       "<tr>\n",
       "  <th>No. Observations:</th>      <td>   200</td>      <th>  AIC:               </th> <td>   548.3</td> \n",
       "</tr>\n",
       "<tr>\n",
       "  <th>Df Residuals:</th>          <td>   196</td>      <th>  BIC:               </th> <td>   561.5</td> \n",
       "</tr>\n",
       "<tr>\n",
       "  <th>Df Model:</th>              <td>     3</td>      <th>                     </th>     <td> </td>    \n",
       "</tr>\n",
       "<tr>\n",
       "  <th>Covariance Type:</th>      <td>nonrobust</td>    <th>                     </th>     <td> </td>    \n",
       "</tr>\n",
       "</table>\n",
       "<table class=\"simpletable\">\n",
       "<tr>\n",
       "      <td></td>         <th>coef</th>     <th>std err</th>      <th>t</th>      <th>P>|t|</th>  <th>[0.025</th>    <th>0.975]</th>  \n",
       "</tr>\n",
       "<tr>\n",
       "  <th>Intercept</th> <td>    6.7502</td> <td>    0.248</td> <td>   27.233</td> <td> 0.000</td> <td>    6.261</td> <td>    7.239</td>\n",
       "</tr>\n",
       "<tr>\n",
       "  <th>TV</th>        <td>    0.0191</td> <td>    0.002</td> <td>   12.699</td> <td> 0.000</td> <td>    0.016</td> <td>    0.022</td>\n",
       "</tr>\n",
       "<tr>\n",
       "  <th>Radio</th>     <td>    0.0289</td> <td>    0.009</td> <td>    3.241</td> <td> 0.001</td> <td>    0.011</td> <td>    0.046</td>\n",
       "</tr>\n",
       "<tr>\n",
       "  <th>TV:Radio</th>  <td>    0.0011</td> <td> 5.24e-05</td> <td>   20.727</td> <td> 0.000</td> <td>    0.001</td> <td>    0.001</td>\n",
       "</tr>\n",
       "</table>\n",
       "<table class=\"simpletable\">\n",
       "<tr>\n",
       "  <th>Omnibus:</th>       <td>128.132</td> <th>  Durbin-Watson:     </th> <td>   2.224</td> \n",
       "</tr>\n",
       "<tr>\n",
       "  <th>Prob(Omnibus):</th> <td> 0.000</td>  <th>  Jarque-Bera (JB):  </th> <td>1183.719</td> \n",
       "</tr>\n",
       "<tr>\n",
       "  <th>Skew:</th>          <td>-2.323</td>  <th>  Prob(JB):          </th> <td>9.09e-258</td>\n",
       "</tr>\n",
       "<tr>\n",
       "  <th>Kurtosis:</th>      <td>13.975</td>  <th>  Cond. No.          </th> <td>1.80e+04</td> \n",
       "</tr>\n",
       "</table><br/><br/>Notes:<br/>[1] Standard Errors assume that the covariance matrix of the errors is correctly specified.<br/>[2] The condition number is large, 1.8e+04. This might indicate that there are<br/>strong multicollinearity or other numerical problems."
      ],
      "text/plain": [
       "<class 'statsmodels.iolib.summary.Summary'>\n",
       "\"\"\"\n",
       "                            OLS Regression Results                            \n",
       "==============================================================================\n",
       "Dep. Variable:                  Sales   R-squared:                       0.968\n",
       "Model:                            OLS   Adj. R-squared:                  0.967\n",
       "Method:                 Least Squares   F-statistic:                     1963.\n",
       "Date:                Tue, 27 Apr 2021   Prob (F-statistic):          6.68e-146\n",
       "Time:                        12:04:34   Log-Likelihood:                -270.14\n",
       "No. Observations:                 200   AIC:                             548.3\n",
       "Df Residuals:                     196   BIC:                             561.5\n",
       "Df Model:                           3                                         \n",
       "Covariance Type:            nonrobust                                         \n",
       "==============================================================================\n",
       "                 coef    std err          t      P>|t|      [0.025      0.975]\n",
       "------------------------------------------------------------------------------\n",
       "Intercept      6.7502      0.248     27.233      0.000       6.261       7.239\n",
       "TV             0.0191      0.002     12.699      0.000       0.016       0.022\n",
       "Radio          0.0289      0.009      3.241      0.001       0.011       0.046\n",
       "TV:Radio       0.0011   5.24e-05     20.727      0.000       0.001       0.001\n",
       "==============================================================================\n",
       "Omnibus:                      128.132   Durbin-Watson:                   2.224\n",
       "Prob(Omnibus):                  0.000   Jarque-Bera (JB):             1183.719\n",
       "Skew:                          -2.323   Prob(JB):                    9.09e-258\n",
       "Kurtosis:                      13.975   Cond. No.                     1.80e+04\n",
       "==============================================================================\n",
       "\n",
       "Notes:\n",
       "[1] Standard Errors assume that the covariance matrix of the errors is correctly specified.\n",
       "[2] The condition number is large, 1.8e+04. This might indicate that there are\n",
       "strong multicollinearity or other numerical problems.\n",
       "\"\"\""
      ]
     },
     "execution_count": 129,
     "metadata": {},
     "output_type": "execute_result"
    }
   ],
   "source": [
    "results = smf.ols(\"Sales ~  TV + Radio + TV * Radio\", data = df_adv).fit()\n",
    "results.summary()"
   ]
  },
  {
   "cell_type": "markdown",
   "id": "cordless-knock",
   "metadata": {},
   "source": [
    "La diferencia es que la covarianza nos da la dirección (positiva o negativa) entre las variables y la correlación nos da esto más la fuerza de esta."
   ]
  },
  {
   "cell_type": "markdown",
   "id": "disabled-quarter",
   "metadata": {},
   "source": [
    "Recuerde el **principio jerárquico:**\n",
    "\n",
    "\"*Si incluimos una interacción en un modelo, debemos incluir también los efectos principales, incluso si los valores p que se asocian a sus coeficientes no son significativos*\""
   ]
  },
  {
   "cell_type": "markdown",
   "id": "reliable-cleaning",
   "metadata": {},
   "source": [
    "## Selección de modelo"
   ]
  },
  {
   "cell_type": "markdown",
   "id": "juvenile-saturday",
   "metadata": {},
   "source": [
    "###  $R^2$ Ajustado \n",
    "Hay una cosa curiosa con $R^2$. ¡¡Mira lo que pasa cuando incluimos variables *al azar*!!"
   ]
  },
  {
   "cell_type": "code",
   "execution_count": 130,
   "id": "exposed-shepherd",
   "metadata": {},
   "outputs": [],
   "source": [
    "df_adv['rand_1'] = np.random.normal(size=200)\n",
    "df_adv['rand_2'] = np.random.normal(size=200)\n",
    "df_adv['rand_3'] = np.random.normal(size=200)\n",
    "df_adv['rand_4'] = np.random.normal(size=200)\n",
    "df_adv['rand_5'] = np.random.normal(size=200)\n",
    "df_adv['rand_6'] = np.random.normal(size=200)\n",
    "df_adv['rand_7'] = np.random.normal(size=200)\n",
    "df_adv['rand_8'] = np.random.normal(size=200)"
   ]
  },
  {
   "cell_type": "code",
   "execution_count": 131,
   "id": "divided-cannon",
   "metadata": {
    "scrolled": true
   },
   "outputs": [
    {
     "data": {
      "text/html": [
       "<table class=\"simpletable\">\n",
       "<caption>OLS Regression Results</caption>\n",
       "<tr>\n",
       "  <th>Dep. Variable:</th>          <td>Sales</td>      <th>  R-squared:         </th> <td>   0.969</td> \n",
       "</tr>\n",
       "<tr>\n",
       "  <th>Model:</th>                   <td>OLS</td>       <th>  Adj. R-squared:    </th> <td>   0.967</td> \n",
       "</tr>\n",
       "<tr>\n",
       "  <th>Method:</th>             <td>Least Squares</td>  <th>  F-statistic:       </th> <td>   525.8</td> \n",
       "</tr>\n",
       "<tr>\n",
       "  <th>Date:</th>             <td>Tue, 27 Apr 2021</td> <th>  Prob (F-statistic):</th> <td>9.40e-135</td>\n",
       "</tr>\n",
       "<tr>\n",
       "  <th>Time:</th>                 <td>12:09:50</td>     <th>  Log-Likelihood:    </th> <td> -267.86</td> \n",
       "</tr>\n",
       "<tr>\n",
       "  <th>No. Observations:</th>      <td>   200</td>      <th>  AIC:               </th> <td>   559.7</td> \n",
       "</tr>\n",
       "<tr>\n",
       "  <th>Df Residuals:</th>          <td>   188</td>      <th>  BIC:               </th> <td>   599.3</td> \n",
       "</tr>\n",
       "<tr>\n",
       "  <th>Df Model:</th>              <td>    11</td>      <th>                     </th>     <td> </td>    \n",
       "</tr>\n",
       "<tr>\n",
       "  <th>Covariance Type:</th>      <td>nonrobust</td>    <th>                     </th>     <td> </td>    \n",
       "</tr>\n",
       "</table>\n",
       "<table class=\"simpletable\">\n",
       "<tr>\n",
       "      <td></td>         <th>coef</th>     <th>std err</th>      <th>t</th>      <th>P>|t|</th>  <th>[0.025</th>    <th>0.975]</th>  \n",
       "</tr>\n",
       "<tr>\n",
       "  <th>Intercept</th> <td>    6.7375</td> <td>    0.255</td> <td>   26.443</td> <td> 0.000</td> <td>    6.235</td> <td>    7.240</td>\n",
       "</tr>\n",
       "<tr>\n",
       "  <th>TV</th>        <td>    0.0192</td> <td>    0.002</td> <td>   12.437</td> <td> 0.000</td> <td>    0.016</td> <td>    0.022</td>\n",
       "</tr>\n",
       "<tr>\n",
       "  <th>Radio</th>     <td>    0.0291</td> <td>    0.009</td> <td>    3.199</td> <td> 0.002</td> <td>    0.011</td> <td>    0.047</td>\n",
       "</tr>\n",
       "<tr>\n",
       "  <th>TV:Radio</th>  <td>    0.0011</td> <td> 5.37e-05</td> <td>   20.126</td> <td> 0.000</td> <td>    0.001</td> <td>    0.001</td>\n",
       "</tr>\n",
       "<tr>\n",
       "  <th>rand_1</th>    <td>    0.0742</td> <td>    0.067</td> <td>    1.106</td> <td> 0.270</td> <td>   -0.058</td> <td>    0.207</td>\n",
       "</tr>\n",
       "<tr>\n",
       "  <th>rand_2</th>    <td>    0.0082</td> <td>    0.071</td> <td>    0.116</td> <td> 0.907</td> <td>   -0.131</td> <td>    0.147</td>\n",
       "</tr>\n",
       "<tr>\n",
       "  <th>rand_3</th>    <td>    0.0383</td> <td>    0.067</td> <td>    0.570</td> <td> 0.570</td> <td>   -0.094</td> <td>    0.171</td>\n",
       "</tr>\n",
       "<tr>\n",
       "  <th>rand_4</th>    <td>   -0.0497</td> <td>    0.070</td> <td>   -0.713</td> <td> 0.477</td> <td>   -0.187</td> <td>    0.088</td>\n",
       "</tr>\n",
       "<tr>\n",
       "  <th>rand_5</th>    <td>   -0.0284</td> <td>    0.072</td> <td>   -0.395</td> <td> 0.693</td> <td>   -0.170</td> <td>    0.113</td>\n",
       "</tr>\n",
       "<tr>\n",
       "  <th>rand_6</th>    <td>    0.0994</td> <td>    0.068</td> <td>    1.452</td> <td> 0.148</td> <td>   -0.036</td> <td>    0.234</td>\n",
       "</tr>\n",
       "<tr>\n",
       "  <th>rand_7</th>    <td>   -0.0338</td> <td>    0.068</td> <td>   -0.500</td> <td> 0.618</td> <td>   -0.167</td> <td>    0.100</td>\n",
       "</tr>\n",
       "<tr>\n",
       "  <th>rand_8</th>    <td>    0.0135</td> <td>    0.070</td> <td>    0.193</td> <td> 0.847</td> <td>   -0.124</td> <td>    0.151</td>\n",
       "</tr>\n",
       "</table>\n",
       "<table class=\"simpletable\">\n",
       "<tr>\n",
       "  <th>Omnibus:</th>       <td>124.254</td> <th>  Durbin-Watson:     </th> <td>   2.252</td> \n",
       "</tr>\n",
       "<tr>\n",
       "  <th>Prob(Omnibus):</th> <td> 0.000</td>  <th>  Jarque-Bera (JB):  </th> <td>1052.851</td> \n",
       "</tr>\n",
       "<tr>\n",
       "  <th>Skew:</th>          <td>-2.266</td>  <th>  Prob(JB):          </th> <td>2.38e-229</td>\n",
       "</tr>\n",
       "<tr>\n",
       "  <th>Kurtosis:</th>      <td>13.286</td>  <th>  Cond. No.          </th> <td>1.84e+04</td> \n",
       "</tr>\n",
       "</table><br/><br/>Notes:<br/>[1] Standard Errors assume that the covariance matrix of the errors is correctly specified.<br/>[2] The condition number is large, 1.84e+04. This might indicate that there are<br/>strong multicollinearity or other numerical problems."
      ],
      "text/plain": [
       "<class 'statsmodels.iolib.summary.Summary'>\n",
       "\"\"\"\n",
       "                            OLS Regression Results                            \n",
       "==============================================================================\n",
       "Dep. Variable:                  Sales   R-squared:                       0.969\n",
       "Model:                            OLS   Adj. R-squared:                  0.967\n",
       "Method:                 Least Squares   F-statistic:                     525.8\n",
       "Date:                Tue, 27 Apr 2021   Prob (F-statistic):          9.40e-135\n",
       "Time:                        12:09:50   Log-Likelihood:                -267.86\n",
       "No. Observations:                 200   AIC:                             559.7\n",
       "Df Residuals:                     188   BIC:                             599.3\n",
       "Df Model:                          11                                         \n",
       "Covariance Type:            nonrobust                                         \n",
       "==============================================================================\n",
       "                 coef    std err          t      P>|t|      [0.025      0.975]\n",
       "------------------------------------------------------------------------------\n",
       "Intercept      6.7375      0.255     26.443      0.000       6.235       7.240\n",
       "TV             0.0192      0.002     12.437      0.000       0.016       0.022\n",
       "Radio          0.0291      0.009      3.199      0.002       0.011       0.047\n",
       "TV:Radio       0.0011   5.37e-05     20.126      0.000       0.001       0.001\n",
       "rand_1         0.0742      0.067      1.106      0.270      -0.058       0.207\n",
       "rand_2         0.0082      0.071      0.116      0.907      -0.131       0.147\n",
       "rand_3         0.0383      0.067      0.570      0.570      -0.094       0.171\n",
       "rand_4        -0.0497      0.070     -0.713      0.477      -0.187       0.088\n",
       "rand_5        -0.0284      0.072     -0.395      0.693      -0.170       0.113\n",
       "rand_6         0.0994      0.068      1.452      0.148      -0.036       0.234\n",
       "rand_7        -0.0338      0.068     -0.500      0.618      -0.167       0.100\n",
       "rand_8         0.0135      0.070      0.193      0.847      -0.124       0.151\n",
       "==============================================================================\n",
       "Omnibus:                      124.254   Durbin-Watson:                   2.252\n",
       "Prob(Omnibus):                  0.000   Jarque-Bera (JB):             1052.851\n",
       "Skew:                          -2.266   Prob(JB):                    2.38e-229\n",
       "Kurtosis:                      13.286   Cond. No.                     1.84e+04\n",
       "==============================================================================\n",
       "\n",
       "Notes:\n",
       "[1] Standard Errors assume that the covariance matrix of the errors is correctly specified.\n",
       "[2] The condition number is large, 1.84e+04. This might indicate that there are\n",
       "strong multicollinearity or other numerical problems.\n",
       "\"\"\""
      ]
     },
     "execution_count": 131,
     "metadata": {},
     "output_type": "execute_result"
    }
   ],
   "source": [
    "results = smf.ols('Sales ~ TV + Radio + TV * Radio + rand_1 + rand_2 + rand_3 + rand_4 + rand_5 + rand_6 + rand_7 + rand_8', \n",
    "                  data=df_adv).fit()\n",
    "results.summary()"
   ]
  },
  {
   "cell_type": "markdown",
   "id": "anonymous-receiver",
   "metadata": {},
   "source": [
    "El coeficiente `Adj. R-cuadrado` pretende penalizar el $R^2$ de un modelo cuando se incluyen *demasiadas* varaibles. \n",
    "$$\\bar R^2 = 1-(1-R^2){n-1 \\ sobre n-p-1}$$"
   ]
  },
  {
   "cell_type": "markdown",
   "id": "sticky-participation",
   "metadata": {},
   "source": [
    "## Selección por pasos\n",
    "Siempre hay que intentar tener un modelo lo más sencillo posible. Habrá otras formas de hacerlo utilizando la **regularización**, veremos más adelante cómo hay librerías que nos ayudarán a decidir si nos quedamos con unas u otras variabless, pero hasta ahora los métodos que describimos aquí son bastante útiles."
   ]
  },
  {
   "cell_type": "markdown",
   "id": "center-wallet",
   "metadata": {},
   "source": [
    "### Best subset selection"
   ]
  },
  {
   "cell_type": "markdown",
   "id": "macro-constant",
   "metadata": {},
   "source": [
    "El proceso de best subset selection consiste en evaluar todos los posibles modelos que se pueden crear por combinación de los predictores disponibles. El algoritmo a seguir para k predictores es:\n",
    "\n",
    "- Se genera lo que se conoce como modelo nulo (M0), que es el modelo sin ningún predictor.\n",
    "\n",
    "- Se generan todos los posibles modelos que contienen un único predictor y se selecciona el que tiene menor error de entrenamiento. Al modelo seleccionado se denomina (M1).\n",
    "\n",
    "- Se repite el paso anterior para modelos con dos predictores y así sucesivamente hasta llegar al modelo con todos los predictores (Mk).\n",
    "\n",
    "- De entre los mejores modelos seleccionados para cada número de predictores (M0, M1, M2,…,Mk) se identifica el mejor modelo, esta vez empleando una métrica de validación (R2 Ajustado).     \n",
    "\n",
    "A pesar de que este método explora todas las posibilidades, tiene dos limitaciones fundamentales:\n",
    "Requerimientos computacionales: Se requiere calcular 2p modelos distintos, lo que lo hace inviable para más de 40 predictores.\n",
    "Problemas de overfitting. Al generarse tantos modelos, por simple azar se pueden encontrar buenos resultados. Por esta razón best subset selection no se ecominda si hay más de 10 predictores."
   ]
  },
  {
   "cell_type": "markdown",
   "id": "smooth-practice",
   "metadata": {},
   "source": [
    "### Modelo nulo"
   ]
  },
  {
   "cell_type": "code",
   "execution_count": 135,
   "id": "material-museum",
   "metadata": {},
   "outputs": [
    {
     "data": {
      "text/html": [
       "<table class=\"simpletable\">\n",
       "<caption>OLS Regression Results</caption>\n",
       "<tr>\n",
       "  <th>Dep. Variable:</th>          <td>Sales</td>      <th>  R-squared:         </th> <td>   0.000</td>\n",
       "</tr>\n",
       "<tr>\n",
       "  <th>Model:</th>                   <td>OLS</td>       <th>  Adj. R-squared:    </th> <td>   0.000</td>\n",
       "</tr>\n",
       "<tr>\n",
       "  <th>Method:</th>             <td>Least Squares</td>  <th>  F-statistic:       </th> <td>     nan</td>\n",
       "</tr>\n",
       "<tr>\n",
       "  <th>Date:</th>             <td>Tue, 27 Apr 2021</td> <th>  Prob (F-statistic):</th>  <td>   nan</td> \n",
       "</tr>\n",
       "<tr>\n",
       "  <th>Time:</th>                 <td>12:21:20</td>     <th>  Log-Likelihood:    </th> <td> -613.69</td>\n",
       "</tr>\n",
       "<tr>\n",
       "  <th>No. Observations:</th>      <td>   200</td>      <th>  AIC:               </th> <td>   1229.</td>\n",
       "</tr>\n",
       "<tr>\n",
       "  <th>Df Residuals:</th>          <td>   199</td>      <th>  BIC:               </th> <td>   1233.</td>\n",
       "</tr>\n",
       "<tr>\n",
       "  <th>Df Model:</th>              <td>     0</td>      <th>                     </th>     <td> </td>   \n",
       "</tr>\n",
       "<tr>\n",
       "  <th>Covariance Type:</th>      <td>nonrobust</td>    <th>                     </th>     <td> </td>   \n",
       "</tr>\n",
       "</table>\n",
       "<table class=\"simpletable\">\n",
       "<tr>\n",
       "      <td></td>         <th>coef</th>     <th>std err</th>      <th>t</th>      <th>P>|t|</th>  <th>[0.025</th>    <th>0.975]</th>  \n",
       "</tr>\n",
       "<tr>\n",
       "  <th>Intercept</th> <td>   14.0225</td> <td>    0.369</td> <td>   38.009</td> <td> 0.000</td> <td>   13.295</td> <td>   14.750</td>\n",
       "</tr>\n",
       "</table>\n",
       "<table class=\"simpletable\">\n",
       "<tr>\n",
       "  <th>Omnibus:</th>       <td> 7.344</td> <th>  Durbin-Watson:     </th> <td>   1.969</td>\n",
       "</tr>\n",
       "<tr>\n",
       "  <th>Prob(Omnibus):</th> <td> 0.025</td> <th>  Jarque-Bera (JB):  </th> <td>   6.985</td>\n",
       "</tr>\n",
       "<tr>\n",
       "  <th>Skew:</th>          <td> 0.405</td> <th>  Prob(JB):          </th> <td>  0.0304</td>\n",
       "</tr>\n",
       "<tr>\n",
       "  <th>Kurtosis:</th>      <td> 2.571</td> <th>  Cond. No.          </th> <td>    1.00</td>\n",
       "</tr>\n",
       "</table><br/><br/>Notes:<br/>[1] Standard Errors assume that the covariance matrix of the errors is correctly specified."
      ],
      "text/plain": [
       "<class 'statsmodels.iolib.summary.Summary'>\n",
       "\"\"\"\n",
       "                            OLS Regression Results                            \n",
       "==============================================================================\n",
       "Dep. Variable:                  Sales   R-squared:                       0.000\n",
       "Model:                            OLS   Adj. R-squared:                  0.000\n",
       "Method:                 Least Squares   F-statistic:                       nan\n",
       "Date:                Tue, 27 Apr 2021   Prob (F-statistic):                nan\n",
       "Time:                        12:21:20   Log-Likelihood:                -613.69\n",
       "No. Observations:                 200   AIC:                             1229.\n",
       "Df Residuals:                     199   BIC:                             1233.\n",
       "Df Model:                           0                                         \n",
       "Covariance Type:            nonrobust                                         \n",
       "==============================================================================\n",
       "                 coef    std err          t      P>|t|      [0.025      0.975]\n",
       "------------------------------------------------------------------------------\n",
       "Intercept     14.0225      0.369     38.009      0.000      13.295      14.750\n",
       "==============================================================================\n",
       "Omnibus:                        7.344   Durbin-Watson:                   1.969\n",
       "Prob(Omnibus):                  0.025   Jarque-Bera (JB):                6.985\n",
       "Skew:                           0.405   Prob(JB):                       0.0304\n",
       "Kurtosis:                       2.571   Cond. No.                         1.00\n",
       "==============================================================================\n",
       "\n",
       "Notes:\n",
       "[1] Standard Errors assume that the covariance matrix of the errors is correctly specified.\n",
       "\"\"\""
      ]
     },
     "execution_count": 135,
     "metadata": {},
     "output_type": "execute_result"
    }
   ],
   "source": [
    "results = smf.ols('Sales ~ 1', \n",
    "                  data=df_adv).fit()\n",
    "results.summary()"
   ]
  },
  {
   "cell_type": "markdown",
   "id": "adjusted-violence",
   "metadata": {},
   "source": [
    "### Forward stepwise selection\n",
    "\n",
    "Forward stepwise selection es una alternativa computacionalmente más eficiente que best subset selection, en la que no se evalúan todas las posibles combinaciones de predictores sino solo un subconjunto. El proceso se inicia generando el modelo nulo (M0) sin predictores. A continuación, se generan todos los posibles modelos que se pueden crear añadiendo un predictor al modelo nulo. De entre todos estos modelos con 1 predictor se selecciona el mejor basándose en el error de entrenamiento, al modelo elegido se denomina M1. Se repite el paso anterior, pero esta vez partiendo del último modelo seleccionado y así sucesivamente hasta llegar al modelo con todos los predictores. De entre los mejores modelos seleccionados para cada número de predictores (M0, M1, M2,…,Mk), se identifica el mejor, esta vez empleando una métrica de validación (validación cruzada, Cp, AIC, BIC o R2ajustado).\n",
    "\n",
    "Al crear modelos anidados, en los que el modelo k se construye a partir del modelo k−1, el método forward stepwise selection no garantiza que se seleccione el mejor modelo de entre todos los posibles, ya que no se evalúan todas las posibles combinaciones. Sin embargo, suele llegar a modelos óptimos consiguiendo un buen rendimiento computacional y evitando el overfitting. Otra ventaja añadida es que, forward stepwise selection puede emplearse incluso cuando el número de predictores es mayor que el de observaciones"
   ]
  },
  {
   "cell_type": "markdown",
   "id": "seeing-institution",
   "metadata": {},
   "source": [
    "Primero:  \n",
    "1. Todos los modelos con una sola variable. Uno gana. Ganador A\n",
    "2. Añade a este modelo todas las variables, una por una. Uno gana. Ganador B \n",
    "3. Añade a este modelo todas las variables, una por una. Uno gana. Ganador C\n",
    "...\n",
    "...\n",
    "\n",
    "FIN: tomar el ganador entre A, B, C, D...\n",
    "\n",
    "Si R2 tiene dos decimales iguales, consideramos el modelo con más variables representativas."
   ]
  },
  {
   "cell_type": "markdown",
   "id": "acting-province",
   "metadata": {},
   "source": [
    "## Problemas potenciales en la regresión lineal\n",
    "\n",
    "Los principales supuestos de un modelo lineal son:\n",
    "\n",
    "* Los datos son lineales \n",
    "* Los errores no están correlacionados\n",
    "* La varianza de los términos de error es constante\n",
    "\n",
    "¿Qué ocurre si no se cumplen estos supuestos? \n",
    "\n",
    "Además, nuestros modelos pueden sufrir otros problemas como:\n",
    "* Valores atípicos\n",
    "* Puntos de apalancamiento elevados\n",
    "* Colinealidad\n",
    "* Valores perdidos\n",
    "\n",
    "Ved este [vídeo](https://www.youtube.com/watch?v=hVe2F9krrWk) para una introducción al tema.     \n",
    "Leed la sección 3.3.3 del libro [Introducción al aprendizaje estadístico](http://faculty.marshall.usc.edu/gareth-james/ISL/ISLR%20Seventh%20Printing.pdf)."
   ]
  },
  {
   "cell_type": "markdown",
   "id": "attached-invasion",
   "metadata": {},
   "source": [
    "![anscombe](../images/anscombe.png)"
   ]
  },
  {
   "cell_type": "markdown",
   "id": "rental-nancy",
   "metadata": {},
   "source": [
    "Echa un ojo a [Wikipedia](https://en.wikipedia.org/wiki/Anscombe%27s_quartet) que dice que:       \n",
    "El cuarteto de Anscombe consta de cuatro conjuntos de datos que tienen estadísticas descriptivas simples casi idénticas, pero que tienen distribuciones muy diferentes y aparecen de forma muy distinta cuando se grafican. Cada conjunto de datos consta de once puntos (x,y). Fueron construidos en 1973 por el estadístico Francis Anscombe para demostrar tanto la importancia de graficar los datos antes de analizarlos como el efecto de los valores atípicos y otras observaciones influyentes en las propiedades estadísticas. Describió el artículo como un intento de contrarrestar la impresión entre los estadísticos de que \"los cálculos numéricos son exactos, pero los gráficos son toscos\""
   ]
  },
  {
   "cell_type": "markdown",
   "id": "intimate-crime",
   "metadata": {},
   "source": [
    "## Resumen "
   ]
  },
  {
   "cell_type": "markdown",
   "id": "united-shuttle",
   "metadata": {},
   "source": [
    "- Regresión lineal\n",
    "- Cómo sacar las betas\n",
    "- Estimar la bondad del modelo\n",
    "- Diferentes métricas OLS\n",
    "- Get dummies cuando son categóricas\n",
    "- Coeficientes de regresión\n",
    "- Regresión multivariable\n",
    "- Subset selection ¿con qué variables nos quedamos?\n",
    "- Cómo elegimos el mejor modelo\n",
    "- Contemplar la posibilidad de interacción entre variables (dominio de los datos, prueba - error)\n",
    "- Colinealidad entre variables (ojito) "
   ]
  },
  {
   "cell_type": "markdown",
   "id": "competitive-enough",
   "metadata": {},
   "source": [
    "## Further Materials \n",
    "\n",
    "* [Introduction to Statistical Learning (Chapter 3)](http://faculty.marshall.usc.edu/gareth-james/ISL/ISLR%20Seventh%20Printing.pdf)\n",
    "* One example of [linear regression with the Boston data set](https://towardsdatascience.com/linear-regression-on-boston-housing-dataset-f409b7e4a155)"
   ]
  }
 ],
 "metadata": {
  "kernelspec": {
   "display_name": "Python 3",
   "language": "python",
   "name": "python3"
  },
  "language_info": {
   "codemirror_mode": {
    "name": "ipython",
    "version": 3
   },
   "file_extension": ".py",
   "mimetype": "text/x-python",
   "name": "python",
   "nbconvert_exporter": "python",
   "pygments_lexer": "ipython3",
   "version": "3.8.5"
  },
  "toc": {
   "base_numbering": 1,
   "nav_menu": {},
   "number_sections": true,
   "sideBar": true,
   "skip_h1_title": true,
   "title_cell": "Table of Contents",
   "title_sidebar": "Contents",
   "toc_cell": true,
   "toc_position": {
    "height": "calc(100% - 180px)",
    "left": "10px",
    "top": "150px",
    "width": "288px"
   },
   "toc_section_display": true,
   "toc_window_display": true
  }
 },
 "nbformat": 4,
 "nbformat_minor": 5
}
