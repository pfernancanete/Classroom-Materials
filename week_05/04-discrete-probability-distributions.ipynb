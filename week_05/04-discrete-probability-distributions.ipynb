{
 "cells": [
  {
   "cell_type": "markdown",
   "metadata": {},
   "source": [
    "# Probability distributions"
   ]
  },
  {
   "cell_type": "markdown",
   "metadata": {
    "toc": true
   },
   "source": [
    "<h1>Table of Contents<span class=\"tocSkip\"></span></h1>\n",
    "<div class=\"toc\"><ul class=\"toc-item\"><li><span><a href=\"#Random-Variables\" data-toc-modified-id=\"Random-Variables-1\"><span class=\"toc-item-num\">1&nbsp;&nbsp;</span>Random Variables</a></span><ul class=\"toc-item\"><li><span><a href=\"#Examples\" data-toc-modified-id=\"Examples-1.1\"><span class=\"toc-item-num\">1.1&nbsp;&nbsp;</span>Examples</a></span></li></ul></li><li><span><a href=\"#Discrete-probability-distributions\" data-toc-modified-id=\"Discrete-probability-distributions-2\"><span class=\"toc-item-num\">2&nbsp;&nbsp;</span>Discrete probability distributions</a></span><ul class=\"toc-item\"><li><span><a href=\"#Bernoulli-distribution\" data-toc-modified-id=\"Bernoulli-distribution-2.1\"><span class=\"toc-item-num\">2.1&nbsp;&nbsp;</span>Bernoulli distribution</a></span></li><li><span><a href=\"#Binomial-Distribution\" data-toc-modified-id=\"Binomial-Distribution-2.2\"><span class=\"toc-item-num\">2.2&nbsp;&nbsp;</span>Binomial Distribution</a></span></li><li><span><a href=\"#scipy.stats.whatever_distribution-methods\" data-toc-modified-id=\"scipy.stats.whatever_distribution-methods-2.3\"><span class=\"toc-item-num\">2.3&nbsp;&nbsp;</span>scipy.stats.whatever_distribution methods</a></span><ul class=\"toc-item\"><li><span><a href=\"#rvs\" data-toc-modified-id=\"rvs-2.3.1\"><span class=\"toc-item-num\">2.3.1&nbsp;&nbsp;</span>rvs</a></span></li><li><span><a href=\"#pmf\" data-toc-modified-id=\"pmf-2.3.2\"><span class=\"toc-item-num\">2.3.2&nbsp;&nbsp;</span>pmf</a></span></li><li><span><a href=\"#cdf\" data-toc-modified-id=\"cdf-2.3.3\"><span class=\"toc-item-num\">2.3.3&nbsp;&nbsp;</span>cdf</a></span></li><li><span><a href=\"#mean,-var,-std\" data-toc-modified-id=\"mean,-var,-std-2.3.4\"><span class=\"toc-item-num\">2.3.4&nbsp;&nbsp;</span>mean, var, std</a></span></li></ul></li><li><span><a href=\"#Poisson-Distribution\" data-toc-modified-id=\"Poisson-Distribution-2.4\"><span class=\"toc-item-num\">2.4&nbsp;&nbsp;</span>Poisson Distribution</a></span></li></ul></li><li><span><a href=\"#Further-materials\" data-toc-modified-id=\"Further-materials-3\"><span class=\"toc-item-num\">3&nbsp;&nbsp;</span>Further materials</a></span></li></ul></div>"
   ]
  },
  {
   "cell_type": "code",
   "execution_count": null,
   "metadata": {},
   "outputs": [],
   "source": [
    "import seaborn as sns"
   ]
  },
  {
   "cell_type": "markdown",
   "metadata": {
    "colab_type": "text",
    "id": "RGEdKGZnMqBF"
   },
   "source": [
    "## Random Variables"
   ]
  },
  {
   "cell_type": "markdown",
   "metadata": {
    "colab_type": "text",
    "id": "RGEdKGZnMqBF"
   },
   "source": [
    " * **Sample space** $\\Omega$ is the set of possible outcomes. {H, T} in the case of a coin toss.\n",
    " * In general, not all outcomes are equally probable."
   ]
  },
  {
   "cell_type": "markdown",
   "metadata": {
    "colab_type": "text",
    "id": "RGEdKGZnMqBF"
   },
   "source": [
    " * The probabilities of each outcome are specified via a random variable X.\n",
    " * A **random variable** X is a function from the sample space $\\Omega$ to the real numbers $\\mathbb{R}$. "
   ]
  },
  {
   "cell_type": "markdown",
   "metadata": {
    "colab_type": "text",
    "id": "RGEdKGZnMqBF"
   },
   "source": [
    "$$X: \\Omega \\rightarrow \\mathbb{R}$$"
   ]
  },
  {
   "cell_type": "markdown",
   "metadata": {},
   "source": [
    "This is, for each element $x \\in \\Omega$, we have $P(X=x) \\in \\mathbb{R}$"
   ]
  },
  {
   "cell_type": "markdown",
   "metadata": {},
   "source": [
    "**NOTE**: all probabilities must sum (integrate in case of continuous variables) to one"
   ]
  },
  {
   "cell_type": "markdown",
   "metadata": {},
   "source": [
    "$$\\sum_{x \\in \\Omega} P(X=x) = 1$$"
   ]
  },
  {
   "cell_type": "markdown",
   "metadata": {},
   "source": [
    "### Examples"
   ]
  },
  {
   "cell_type": "markdown",
   "metadata": {},
   "source": [
    "**Fair coin**"
   ]
  },
  {
   "cell_type": "markdown",
   "metadata": {},
   "source": [
    "<img src=\"https://qph.fs.quoracdn.net/main-qimg-7de41d4aee9953bdb442e36b187ffc6f\" width=200>"
   ]
  },
  {
   "cell_type": "markdown",
   "metadata": {},
   "source": [
    "The sample space is $\\Omega = \\{H, T\\}$, head and tails"
   ]
  },
  {
   "cell_type": "markdown",
   "metadata": {},
   "source": [
    "The coin being fair, both outcomes are equally probable"
   ]
  },
  {
   "cell_type": "markdown",
   "metadata": {},
   "source": [
    "The random variable X is defined as:"
   ]
  },
  {
   "cell_type": "markdown",
   "metadata": {},
   "source": [
    "$P(X=H) = \\frac{1}{2}$\n",
    "\n",
    "$P(X=T) = \\frac{1}{2}$"
   ]
  },
  {
   "cell_type": "markdown",
   "metadata": {},
   "source": [
    "$\\sum_{x \\in \\Omega} P(X=x) = 1$ means in this case:"
   ]
  },
  {
   "cell_type": "markdown",
   "metadata": {},
   "source": [
    "$P(X=H) + P(X=T) = 1$"
   ]
  },
  {
   "cell_type": "markdown",
   "metadata": {},
   "source": [
    "**Biased coin 70 / 30**"
   ]
  },
  {
   "cell_type": "markdown",
   "metadata": {},
   "source": [
    "<img src=\"https://qph.fs.quoracdn.net/main-qimg-7de41d4aee9953bdb442e36b187ffc6f\" width=200>"
   ]
  },
  {
   "cell_type": "markdown",
   "metadata": {},
   "source": [
    "The sample space is $\\Omega = \\{H, T\\}$, head and tails"
   ]
  },
  {
   "cell_type": "markdown",
   "metadata": {},
   "source": [
    "The random variable X is defined as:"
   ]
  },
  {
   "cell_type": "markdown",
   "metadata": {},
   "source": [
    "$P(X=H) = \\frac{7}{10}$\n",
    "\n",
    "$P(X=T) = \\frac{3}{10}$"
   ]
  },
  {
   "cell_type": "markdown",
   "metadata": {},
   "source": [
    "**Fair die**"
   ]
  },
  {
   "cell_type": "markdown",
   "metadata": {},
   "source": [
    "<img src=\"data:image/jpeg;base64,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\" width=300>"
   ]
  },
  {
   "cell_type": "markdown",
   "metadata": {},
   "source": [
    "The sample space is $\\Omega = \\{1, 2, 3, 4, 5, 6\\}$"
   ]
  },
  {
   "cell_type": "markdown",
   "metadata": {},
   "source": [
    "The random variable X is defined as:"
   ]
  },
  {
   "cell_type": "markdown",
   "metadata": {},
   "source": [
    "$P(X=1) = P(X=2) = P(X=3) = P(X=4) = P(X=5) = P(X=6) = \\frac{1}{6}$"
   ]
  },
  {
   "cell_type": "markdown",
   "metadata": {},
   "source": [
    "$$\\sum_{x \\in X} P(X=x) = 1$$"
   ]
  },
  {
   "cell_type": "markdown",
   "metadata": {},
   "source": [
    "**First name letter distribution**"
   ]
  },
  {
   "cell_type": "markdown",
   "metadata": {},
   "source": [
    "<img src=\"https://i.pinimg.com/originals/0b/e4/ad/0be4adcffad57cfca79dbf64b3889fc2.jpg\" width=300>"
   ]
  },
  {
   "cell_type": "markdown",
   "metadata": {},
   "source": [
    "The sample space is $\\Omega = \\{J, L, M, N, R, S, F, P \\}$"
   ]
  },
  {
   "cell_type": "markdown",
   "metadata": {},
   "source": [
    "The random variable X is defined as:"
   ]
  },
  {
   "cell_type": "markdown",
   "metadata": {},
   "source": [
    "$P(x=J) = \\frac{8}{20}$\n",
    "\n",
    "$P(x=L) = \\frac{2}{20}$\n",
    "\n",
    "$P(x=M) = \\frac{3}{20}$\n",
    "\n",
    "$P(x=N) = \\frac{1}{20}$\n",
    "\n",
    "$P(x=R) = \\frac{1}{20}$\n",
    "\n",
    "$P(x=S) = \\frac{3}{20}$\n",
    "\n",
    "$P(x=F) = \\frac{1}{20}$\n",
    "\n",
    "$P(x=P) = \\frac{1}{20}$"
   ]
  },
  {
   "cell_type": "markdown",
   "metadata": {},
   "source": [
    "**Uniform distribution on [0, 1]**"
   ]
  },
  {
   "cell_type": "markdown",
   "metadata": {},
   "source": [
    "<img src=\"https://upload.wikimedia.org/wikipedia/commons/thumb/2/28/Unit-interval.svg/1200px-Unit-interval.svg.png\" width=500>"
   ]
  },
  {
   "cell_type": "markdown",
   "metadata": {},
   "source": [
    "The sample space is $\\Omega = [0, 1]$. All the numbers between 0 and 1!"
   ]
  },
  {
   "cell_type": "markdown",
   "metadata": {},
   "source": [
    "$P(X>0.7) = 0.3$\n",
    "\n",
    "$P(X<0.4) = 0.4$\n",
    "\n",
    "$P(X>1) = 0$\n",
    "\n",
    "$P(X<0) = 0$"
   ]
  },
  {
   "cell_type": "markdown",
   "metadata": {
    "colab_type": "text",
    "id": "_vnlL9EmGloP"
   },
   "source": [
    "## Discrete probability distributions"
   ]
  },
  {
   "cell_type": "markdown",
   "metadata": {
    "colab_type": "text",
    "id": "RGEdKGZnMqBF"
   },
   "source": [
    "**Discrete probability** distributions are those which only take a finite (or countably infinite) number of different values."
   ]
  },
  {
   "cell_type": "markdown",
   "metadata": {},
   "source": [
    "X is a discrete random variable.  \n",
    "X follows a discrete probability distribution."
   ]
  },
  {
   "cell_type": "markdown",
   "metadata": {},
   "source": [
    "Probability mass function (PMF) is the mapping"
   ]
  },
  {
   "cell_type": "markdown",
   "metadata": {},
   "source": [
    "$$X: \\Omega \\rightarrow \\mathbb{R}$$"
   ]
  },
  {
   "cell_type": "markdown",
   "metadata": {},
   "source": [
    "$P(X=H)=0.7$"
   ]
  },
  {
   "cell_type": "markdown",
   "metadata": {
    "colab_type": "text",
    "id": "052WgnEWHEbG"
   },
   "source": [
    "### Bernoulli distribution"
   ]
  },
  {
   "cell_type": "markdown",
   "metadata": {},
   "source": [
    "2 possible outcomes, with probability $p$ and $1-p$. Example: biased coin."
   ]
  },
  {
   "cell_type": "markdown",
   "metadata": {},
   "source": [
    "$\\Omega = \\{0, 1\\}$ (think of H and T)"
   ]
  },
  {
   "cell_type": "markdown",
   "metadata": {},
   "source": [
    "We call $p$ probability of success."
   ]
  },
  {
   "cell_type": "markdown",
   "metadata": {},
   "source": [
    "We setup our distribution."
   ]
  },
  {
   "cell_type": "markdown",
   "metadata": {},
   "source": [
    "$X \\sim Bernoulli(p)$"
   ]
  },
  {
   "cell_type": "code",
   "execution_count": 68,
   "metadata": {
    "colab": {},
    "colab_type": "code",
    "id": "Rm-AQZ_DGor6"
   },
   "outputs": [],
   "source": [
    "p = 0.8"
   ]
  },
  {
   "cell_type": "markdown",
   "metadata": {},
   "source": [
    "$P(X=1)=p=0.8$\n",
    "\n",
    "$P(X=0)=1-p=0.2$"
   ]
  },
  {
   "cell_type": "markdown",
   "metadata": {},
   "source": [
    "We generate samples with `.rvs` method"
   ]
  },
  {
   "cell_type": "code",
   "execution_count": 69,
   "metadata": {
    "colab": {},
    "colab_type": "code",
    "id": "Rm-AQZ_DGor6"
   },
   "outputs": [],
   "source": [
    "from scipy.stats import bernoulli"
   ]
  },
  {
   "cell_type": "code",
   "execution_count": 70,
   "metadata": {},
   "outputs": [],
   "source": [
    "# initialize my biased coin\n",
    "my_bernoulli = bernoulli(p)"
   ]
  },
  {
   "cell_type": "code",
   "execution_count": 71,
   "metadata": {},
   "outputs": [
    {
     "data": {
      "text/plain": [
       "<scipy.stats._distn_infrastructure.rv_frozen at 0x7ff89b70a7f0>"
      ]
     },
     "execution_count": 71,
     "metadata": {},
     "output_type": "execute_result"
    }
   ],
   "source": [
    "my_bernoulli"
   ]
  },
  {
   "cell_type": "code",
   "execution_count": 72,
   "metadata": {},
   "outputs": [
    {
     "data": {
      "text/plain": [
       "array([1])"
      ]
     },
     "execution_count": 72,
     "metadata": {},
     "output_type": "execute_result"
    }
   ],
   "source": [
    "# .rvs draws a sample\n",
    "my_bernoulli.rvs(size=1)"
   ]
  },
  {
   "cell_type": "code",
   "execution_count": 76,
   "metadata": {
    "colab": {},
    "colab_type": "code",
    "id": "Rm-AQZ_DGor6"
   },
   "outputs": [],
   "source": [
    "sample = my_bernoulli.rvs(size=100)"
   ]
  },
  {
   "cell_type": "code",
   "execution_count": 78,
   "metadata": {},
   "outputs": [
    {
     "data": {
      "text/plain": [
       "array([0, 1, 1, 1, 0, 0, 1, 1, 0, 0, 1, 1, 1, 0, 1, 0, 1, 1, 1, 1, 1, 1,\n",
       "       1, 1, 1, 1, 1, 1, 1, 1, 0, 1, 1, 1, 1, 1, 0, 1, 1, 1, 1, 1, 0, 1,\n",
       "       1, 1, 0, 1, 1, 1, 0, 1, 1, 1, 1, 1, 1, 1, 1, 1, 1, 1, 0, 1, 1, 0,\n",
       "       0, 0, 0, 1, 0, 0, 1, 1, 1, 1, 1, 1, 1, 1, 0, 0, 1, 1, 1, 1, 1, 1,\n",
       "       1, 1, 0, 1, 0, 1, 0, 1, 1, 1, 1, 1])"
      ]
     },
     "execution_count": 78,
     "metadata": {},
     "output_type": "execute_result"
    }
   ],
   "source": [
    "sample"
   ]
  },
  {
   "cell_type": "code",
   "execution_count": 79,
   "metadata": {},
   "outputs": [
    {
     "data": {
      "text/plain": [
       "76"
      ]
     },
     "execution_count": 79,
     "metadata": {},
     "output_type": "execute_result"
    }
   ],
   "source": [
    "sample.sum()"
   ]
  },
  {
   "cell_type": "code",
   "execution_count": 81,
   "metadata": {},
   "outputs": [],
   "source": [
    "import seaborn as sns"
   ]
  },
  {
   "cell_type": "code",
   "execution_count": 82,
   "metadata": {},
   "outputs": [
    {
     "data": {
      "text/plain": [
       "<AxesSubplot:ylabel='count'>"
      ]
     },
     "execution_count": 82,
     "metadata": {},
     "output_type": "execute_result"
    },
    {
     "data": {
      "image/png": "[encoded data removed]",
      "text/plain": [
       "<Figure size 432x288 with 1 Axes>"
      ]
     },
     "metadata": {
      "needs_background": "light"
     },
     "output_type": "display_data"
    }
   ],
   "source": [
    "sns.countplot(x=sample)"
   ]
  },
  {
   "cell_type": "markdown",
   "metadata": {
    "colab_type": "text",
    "id": "9sUuXu0SMc60"
   },
   "source": [
    "### Binomial Distribution"
   ]
  },
  {
   "cell_type": "markdown",
   "metadata": {},
   "source": [
    "Questions: if I toss 10 coins with $P(X=H)=p=0.8$\n",
    " * What is the probability of getting 10 heads?\n",
    " * What is the probability of getting 0 heads?\n",
    " * What is the probability of getting 1 head?"
   ]
  },
  {
   "cell_type": "code",
   "execution_count": 83,
   "metadata": {},
   "outputs": [
    {
     "data": {
      "text/plain": [
       "0.10737418240000006"
      ]
     },
     "execution_count": 83,
     "metadata": {},
     "output_type": "execute_result"
    }
   ],
   "source": [
    "0.8 ** 10"
   ]
  },
  {
   "cell_type": "code",
   "execution_count": 84,
   "metadata": {},
   "outputs": [
    {
     "data": {
      "text/plain": [
       "1.0240000000000006e-07"
      ]
     },
     "execution_count": 84,
     "metadata": {},
     "output_type": "execute_result"
    }
   ],
   "source": [
    "0.2 ** 10"
   ]
  },
  {
   "cell_type": "markdown",
   "metadata": {},
   "source": [
    "$P(10 heads) = 0.8^{10} \\sim 0.11$  \n",
    "\n",
    "$P(0 heads) = 0.2^{10} \\sim 0$  "
   ]
  },
  {
   "cell_type": "markdown",
   "metadata": {},
   "source": [
    "TTTTTTTTTH  "
   ]
  },
  {
   "cell_type": "code",
   "execution_count": null,
   "metadata": {},
   "outputs": [],
   "source": [
    "0.2 ** 9 * 0.8"
   ]
  },
  {
   "cell_type": "markdown",
   "metadata": {},
   "source": [
    "TTTTTTTTTH  \n",
    "TTTTTTTTHT  \n",
    "TTTTTTTHTT  \n",
    "TTTTTTHTTT  \n",
    "..."
   ]
  },
  {
   "cell_type": "markdown",
   "metadata": {},
   "source": [
    "$P(1 head) = 10 * (0.2)^9 * 0.8$"
   ]
  },
  {
   "cell_type": "markdown",
   "metadata": {
    "colab_type": "text",
    "id": "9sUuXu0SMc60"
   },
   "source": [
    "Probability of having $k$ successes in $N$ total trials of Bernulli with probability $p$."
   ]
  },
  {
   "cell_type": "markdown",
   "metadata": {},
   "source": [
    "$p$ is probability of success in each trial."
   ]
  },
  {
   "cell_type": "markdown",
   "metadata": {},
   "source": [
    "$N$ is number of trials."
   ]
  },
  {
   "cell_type": "markdown",
   "metadata": {},
   "source": [
    "$\\Omega = \\{0, 1, 2, 3, ..., N-1, N\\}$ (think of number of heads in N tosses)"
   ]
  },
  {
   "cell_type": "markdown",
   "metadata": {},
   "source": [
    "We setup our distribution."
   ]
  },
  {
   "cell_type": "markdown",
   "metadata": {},
   "source": [
    "$X \\sim Binomial(N, p)$"
   ]
  },
  {
   "cell_type": "code",
   "execution_count": 85,
   "metadata": {},
   "outputs": [],
   "source": [
    "N = 10"
   ]
  },
  {
   "cell_type": "code",
   "execution_count": 86,
   "metadata": {
    "colab": {},
    "colab_type": "code",
    "id": "Rm-AQZ_DGor6"
   },
   "outputs": [],
   "source": [
    "p = 0.8"
   ]
  },
  {
   "cell_type": "markdown",
   "metadata": {},
   "source": [
    "$P(X=0)=(1-p)^N$\n",
    "\n",
    "$P(X=N)=p^N$"
   ]
  },
  {
   "cell_type": "markdown",
   "metadata": {},
   "source": [
    "What about the probabilities of $X=1, 2, 3...$?"
   ]
  },
  {
   "cell_type": "markdown",
   "metadata": {},
   "source": [
    "$$P(X=k)={N \\choose k} p^{k}(1-p)^{N-k}$$"
   ]
  },
  {
   "cell_type": "markdown",
   "metadata": {},
   "source": [
    "**REMINDER**: ${N \\choose k} \\equiv \\frac{N!}{k!(N-k)!}$"
   ]
  },
  {
   "cell_type": "markdown",
   "metadata": {},
   "source": [
    "$P(X=1)=10*p^{1}*(1-p)^{9}$"
   ]
  },
  {
   "cell_type": "markdown",
   "metadata": {},
   "source": [
    "$P(X=2)=45*p^{2}*(1-p)^{8}$"
   ]
  },
  {
   "cell_type": "code",
   "execution_count": 87,
   "metadata": {
    "colab": {},
    "colab_type": "code",
    "id": "h-_Ioss8NwNo"
   },
   "outputs": [],
   "source": [
    "from scipy.stats import binom"
   ]
  },
  {
   "cell_type": "markdown",
   "metadata": {},
   "source": [
    "We generate samples with `.rvs` method"
   ]
  },
  {
   "cell_type": "code",
   "execution_count": 88,
   "metadata": {},
   "outputs": [],
   "source": [
    "N = 10"
   ]
  },
  {
   "cell_type": "code",
   "execution_count": 89,
   "metadata": {
    "colab": {},
    "colab_type": "code",
    "id": "Rm-AQZ_DGor6"
   },
   "outputs": [],
   "source": [
    "p = 0.8"
   ]
  },
  {
   "cell_type": "code",
   "execution_count": 90,
   "metadata": {
    "colab": {},
    "colab_type": "code",
    "id": "h-_Ioss8NwNo"
   },
   "outputs": [],
   "source": [
    "my_binomial = binom(N, p)"
   ]
  },
  {
   "cell_type": "code",
   "execution_count": 91,
   "metadata": {},
   "outputs": [
    {
     "data": {
      "text/plain": [
       "<scipy.stats._distn_infrastructure.rv_frozen at 0x7ff88e2bef40>"
      ]
     },
     "execution_count": 91,
     "metadata": {},
     "output_type": "execute_result"
    }
   ],
   "source": [
    "my_binomial"
   ]
  },
  {
   "cell_type": "code",
   "execution_count": 109,
   "metadata": {
    "colab": {},
    "colab_type": "code",
    "id": "h-_Ioss8NwNo"
   },
   "outputs": [
    {
     "data": {
      "text/plain": [
       "array([8])"
      ]
     },
     "execution_count": 109,
     "metadata": {},
     "output_type": "execute_result"
    }
   ],
   "source": [
    "my_binomial.rvs(size=1)"
   ]
  },
  {
   "cell_type": "code",
   "execution_count": 111,
   "metadata": {
    "colab": {},
    "colab_type": "code",
    "id": "h-_Ioss8NwNo"
   },
   "outputs": [
    {
     "data": {
      "text/plain": [
       "array([ 8, 10,  9, 10,  8,  6,  9,  8,  9,  9,  8,  9, 10,  8,  7, 10,  8,\n",
       "        9,  8,  7])"
      ]
     },
     "execution_count": 111,
     "metadata": {},
     "output_type": "execute_result"
    }
   ],
   "source": [
    "my_binomial.rvs(size=20)"
   ]
  },
  {
   "cell_type": "code",
   "execution_count": 118,
   "metadata": {},
   "outputs": [],
   "source": [
    "sample = my_binomial.rvs(size=500)"
   ]
  },
  {
   "cell_type": "code",
   "execution_count": 119,
   "metadata": {},
   "outputs": [
    {
     "data": {
      "text/plain": [
       "<AxesSubplot:ylabel='count'>"
      ]
     },
     "execution_count": 119,
     "metadata": {},
     "output_type": "execute_result"
    },
    {
     "data": {
      "image/png": "[encoded data removed]",
      "text/plain": [
       "<Figure size 432x288 with 1 Axes>"
      ]
     },
     "metadata": {
      "needs_background": "light"
     },
     "output_type": "display_data"
    }
   ],
   "source": [
    "sns.countplot(x=sample)"
   ]
  },
  {
   "cell_type": "markdown",
   "metadata": {},
   "source": [
    "`.pmf` (point mass function) returns theoretical probabilit of the distribution"
   ]
  },
  {
   "cell_type": "markdown",
   "metadata": {},
   "source": [
    "$$P(X=k)={N \\choose k} p^{k}(1-p)^{N-k}$$"
   ]
  },
  {
   "cell_type": "markdown",
   "metadata": {},
   "source": [
    "**REMINDER**: ${N \\choose k} \\equiv \\frac{N!}{k!(N-k)!}$"
   ]
  },
  {
   "cell_type": "markdown",
   "metadata": {},
   "source": [
    "$$P(X=4)={10 \\choose 4} 0.8^{4}(1-0.8)^{10-4}=\\frac{10!}{4!6!}0.8^40.2^6=\\frac{10*9*8*7}{4*3*2*1}0.8^40.2^6=210* 0.8^40.2^6$$"
   ]
  },
  {
   "cell_type": "code",
   "execution_count": 126,
   "metadata": {},
   "outputs": [
    {
     "data": {
      "text/plain": [
       "0.005505024000000003"
      ]
     },
     "execution_count": 126,
     "metadata": {},
     "output_type": "execute_result"
    }
   ],
   "source": [
    "210 * 0.8 ** 4 * 0.2 ** 6"
   ]
  },
  {
   "cell_type": "code",
   "execution_count": 123,
   "metadata": {},
   "outputs": [
    {
     "data": {
      "text/plain": [
       "0.005505024000000001"
      ]
     },
     "execution_count": 123,
     "metadata": {},
     "output_type": "execute_result"
    }
   ],
   "source": [
    "my_binomial.pmf(4)"
   ]
  },
  {
   "cell_type": "code",
   "execution_count": 121,
   "metadata": {},
   "outputs": [
    {
     "data": {
      "text/plain": [
       "0.301989888"
      ]
     },
     "execution_count": 121,
     "metadata": {},
     "output_type": "execute_result"
    }
   ],
   "source": [
    "my_binomial.pmf(8)"
   ]
  },
  {
   "cell_type": "code",
   "execution_count": 122,
   "metadata": {},
   "outputs": [
    {
     "data": {
      "text/plain": [
       "0.26843545600000035"
      ]
     },
     "execution_count": 122,
     "metadata": {},
     "output_type": "execute_result"
    }
   ],
   "source": [
    "my_binomial.pmf(9)"
   ]
  },
  {
   "cell_type": "code",
   "execution_count": 124,
   "metadata": {},
   "outputs": [
    {
     "data": {
      "text/plain": [
       "0.10737418240000005"
      ]
     },
     "execution_count": 124,
     "metadata": {},
     "output_type": "execute_result"
    }
   ],
   "source": [
    "my_binomial.pmf(10)"
   ]
  },
  {
   "cell_type": "code",
   "execution_count": 125,
   "metadata": {},
   "outputs": [
    {
     "data": {
      "text/plain": [
       "0.0"
      ]
     },
     "execution_count": 125,
     "metadata": {},
     "output_type": "execute_result"
    }
   ],
   "source": [
    "my_binomial.pmf(11)"
   ]
  },
  {
   "cell_type": "markdown",
   "metadata": {},
   "source": [
    "**USE CASE**:   \n",
    "100 people at a party  \n",
    "0.02 individual probability of Covid"
   ]
  },
  {
   "cell_type": "code",
   "execution_count": 127,
   "metadata": {},
   "outputs": [],
   "source": [
    "my_covid_binomial = binom(100, 0.02)"
   ]
  },
  {
   "cell_type": "code",
   "execution_count": 134,
   "metadata": {},
   "outputs": [
    {
     "data": {
      "text/plain": [
       "array([3, 0, 3, 2, 3, 2, 0, 1, 2, 3, 1, 1, 2, 1, 2, 3, 1, 3, 1, 0, 1, 1,\n",
       "       3, 2, 0, 1, 2, 4, 2, 1, 2, 2, 2, 1, 1, 2, 2, 3, 1, 2, 4, 2, 0, 1,\n",
       "       1, 3, 0, 1, 1, 2])"
      ]
     },
     "execution_count": 134,
     "metadata": {},
     "output_type": "execute_result"
    }
   ],
   "source": [
    "my_covid_binomial.rvs(50)"
   ]
  },
  {
   "cell_type": "markdown",
   "metadata": {},
   "source": [
    "What is the probability that at given party, at least one person has covid?"
   ]
  },
  {
   "cell_type": "code",
   "execution_count": 205,
   "metadata": {},
   "outputs": [
    {
     "data": {
      "text/plain": [
       "0.8673804441052468"
      ]
     },
     "execution_count": 205,
     "metadata": {},
     "output_type": "execute_result"
    }
   ],
   "source": [
    "1 - my_covid_binomial.pmf(0)"
   ]
  },
  {
   "cell_type": "code",
   "execution_count": 206,
   "metadata": {},
   "outputs": [
    {
     "data": {
      "text/plain": [
       "0.8673804441052333"
      ]
     },
     "execution_count": 206,
     "metadata": {},
     "output_type": "execute_result"
    }
   ],
   "source": [
    "sum(my_covid_binomial.pmf(i) for i in range(1, 101))"
   ]
  },
  {
   "cell_type": "markdown",
   "metadata": {},
   "source": [
    "### scipy.stats.whatever_distribution methods"
   ]
  },
  {
   "cell_type": "markdown",
   "metadata": {},
   "source": [
    "#### rvs"
   ]
  },
  {
   "cell_type": "markdown",
   "metadata": {},
   "source": [
    "Generates a sample"
   ]
  },
  {
   "cell_type": "code",
   "execution_count": 135,
   "metadata": {},
   "outputs": [
    {
     "data": {
      "text/plain": [
       "array([1, 1, 0, 1, 1, 1, 1, 0, 1, 0, 1, 1, 0, 1, 0, 0, 0, 1, 0, 1])"
      ]
     },
     "execution_count": 135,
     "metadata": {},
     "output_type": "execute_result"
    }
   ],
   "source": [
    "my_bernoulli.rvs(size=20)"
   ]
  },
  {
   "cell_type": "code",
   "execution_count": 136,
   "metadata": {},
   "outputs": [
    {
     "data": {
      "text/plain": [
       "array([ 7,  9,  6,  9, 10,  8,  8,  6,  8,  6,  7, 10,  9,  8,  7,  8,  9,\n",
       "        9,  6,  9])"
      ]
     },
     "execution_count": 136,
     "metadata": {},
     "output_type": "execute_result"
    }
   ],
   "source": [
    "my_binomial.rvs(size=20)"
   ]
  },
  {
   "cell_type": "markdown",
   "metadata": {},
   "source": [
    "I go to 1 party. What is the number of sick people in it?"
   ]
  },
  {
   "cell_type": "code",
   "execution_count": 155,
   "metadata": {},
   "outputs": [
    {
     "data": {
      "text/plain": [
       "array([2])"
      ]
     },
     "execution_count": 155,
     "metadata": {},
     "output_type": "execute_result"
    }
   ],
   "source": [
    "my_covid_binomial.rvs(size=1)"
   ]
  },
  {
   "cell_type": "markdown",
   "metadata": {},
   "source": [
    "I go to 20 parties. What is the number of sick people in them?"
   ]
  },
  {
   "cell_type": "code",
   "execution_count": 154,
   "metadata": {},
   "outputs": [
    {
     "data": {
      "text/plain": [
       "array([1, 1, 2, 3, 2, 2, 4, 1, 1, 1, 1, 2, 3, 2, 2, 3, 1, 0, 2, 0])"
      ]
     },
     "execution_count": 154,
     "metadata": {},
     "output_type": "execute_result"
    }
   ],
   "source": [
    "my_covid_binomial.rvs(size=20)"
   ]
  },
  {
   "cell_type": "markdown",
   "metadata": {},
   "source": [
    "#### pmf"
   ]
  },
  {
   "cell_type": "markdown",
   "metadata": {},
   "source": [
    "Gives the point mass function at a given value, i.e. the probability of that outcome"
   ]
  },
  {
   "cell_type": "markdown",
   "metadata": {},
   "source": [
    "$P(X=k)$"
   ]
  },
  {
   "cell_type": "code",
   "execution_count": 139,
   "metadata": {},
   "outputs": [
    {
     "data": {
      "text/plain": [
       "0.8"
      ]
     },
     "execution_count": 139,
     "metadata": {},
     "output_type": "execute_result"
    }
   ],
   "source": [
    "my_bernoulli.pmf(1)"
   ]
  },
  {
   "cell_type": "code",
   "execution_count": 140,
   "metadata": {},
   "outputs": [
    {
     "data": {
      "text/plain": [
       "0.19999999999999998"
      ]
     },
     "execution_count": 140,
     "metadata": {},
     "output_type": "execute_result"
    }
   ],
   "source": [
    "my_bernoulli.pmf(0)"
   ]
  },
  {
   "cell_type": "code",
   "execution_count": 163,
   "metadata": {
    "colab": {},
    "colab_type": "code",
    "id": "h-_Ioss8NwNo"
   },
   "outputs": [
    {
     "data": {
      "text/plain": [
       "0.301989888"
      ]
     },
     "execution_count": 163,
     "metadata": {},
     "output_type": "execute_result"
    }
   ],
   "source": [
    "my_binomial.pmf(8)"
   ]
  },
  {
   "cell_type": "code",
   "execution_count": 142,
   "metadata": {
    "colab": {},
    "colab_type": "code",
    "id": "h-_Ioss8NwNo"
   },
   "outputs": [
    {
     "data": {
      "text/plain": [
       "0.26843545600000035"
      ]
     },
     "execution_count": 142,
     "metadata": {},
     "output_type": "execute_result"
    }
   ],
   "source": [
    "my_binomial.pmf(9)"
   ]
  },
  {
   "cell_type": "code",
   "execution_count": 158,
   "metadata": {},
   "outputs": [
    {
     "data": {
      "text/plain": [
       "0.1326195558947532"
      ]
     },
     "execution_count": 158,
     "metadata": {},
     "output_type": "execute_result"
    }
   ],
   "source": [
    "my_covid_binomial.pmf(0)"
   ]
  },
  {
   "cell_type": "code",
   "execution_count": 156,
   "metadata": {},
   "outputs": [
    {
     "data": {
      "text/plain": [
       "0.27341391156977374"
      ]
     },
     "execution_count": 156,
     "metadata": {},
     "output_type": "execute_result"
    }
   ],
   "source": [
    "my_covid_binomial.pmf(2)"
   ]
  },
  {
   "cell_type": "code",
   "execution_count": 157,
   "metadata": {},
   "outputs": [
    {
     "data": {
      "text/plain": [
       "1.4906219582374624e-09"
      ]
     },
     "execution_count": 157,
     "metadata": {},
     "output_type": "execute_result"
    }
   ],
   "source": [
    "my_covid_binomial.pmf(15)"
   ]
  },
  {
   "cell_type": "code",
   "execution_count": 167,
   "metadata": {},
   "outputs": [
    {
     "data": {
      "text/plain": [
       "<AxesSubplot:ylabel='count'>"
      ]
     },
     "execution_count": 167,
     "metadata": {},
     "output_type": "execute_result"
    },
    {
     "data": {
      "image/png": "[encoded data removed]",
      "text/plain": [
       "<Figure size 432x288 with 1 Axes>"
      ]
     },
     "metadata": {
      "needs_background": "light"
     },
     "output_type": "display_data"
    }
   ],
   "source": [
    "sns.countplot(x=my_binomial.rvs(size=2000))"
   ]
  },
  {
   "cell_type": "markdown",
   "metadata": {},
   "source": [
    "#### cdf"
   ]
  },
  {
   "cell_type": "markdown",
   "metadata": {},
   "source": [
    "Gives the cumulative distribution function at a given value"
   ]
  },
  {
   "cell_type": "markdown",
   "metadata": {},
   "source": [
    "$P(X \\leq k)$"
   ]
  },
  {
   "cell_type": "code",
   "execution_count": 159,
   "metadata": {
    "colab": {},
    "colab_type": "code",
    "id": "h-_Ioss8NwNo"
   },
   "outputs": [
    {
     "data": {
      "text/plain": [
       "0.032793497599999964"
      ]
     },
     "execution_count": 159,
     "metadata": {},
     "output_type": "execute_result"
    }
   ],
   "source": [
    "my_binomial.cdf(5)"
   ]
  },
  {
   "cell_type": "code",
   "execution_count": 160,
   "metadata": {
    "colab": {},
    "colab_type": "code",
    "id": "h-_Ioss8NwNo"
   },
   "outputs": [
    {
     "data": {
      "text/plain": [
       "0.6241903616"
      ]
     },
     "execution_count": 160,
     "metadata": {},
     "output_type": "execute_result"
    }
   ],
   "source": [
    "my_binomial.cdf(8)"
   ]
  },
  {
   "cell_type": "code",
   "execution_count": 161,
   "metadata": {
    "colab": {},
    "colab_type": "code",
    "id": "h-_Ioss8NwNo"
   },
   "outputs": [
    {
     "data": {
      "text/plain": [
       "1.0"
      ]
     },
     "execution_count": 161,
     "metadata": {},
     "output_type": "execute_result"
    }
   ],
   "source": [
    "my_binomial.cdf(10)"
   ]
  },
  {
   "cell_type": "markdown",
   "metadata": {},
   "source": [
    "Obs"
   ]
  },
  {
   "cell_type": "code",
   "execution_count": 173,
   "metadata": {},
   "outputs": [
    {
     "data": {
      "text/plain": [
       "7.792639999999992e-05"
      ]
     },
     "execution_count": 173,
     "metadata": {},
     "output_type": "execute_result"
    }
   ],
   "source": [
    "my_binomial.pmf(0) + my_binomial.pmf(1) + my_binomial.pmf(2)"
   ]
  },
  {
   "cell_type": "code",
   "execution_count": 174,
   "metadata": {},
   "outputs": [
    {
     "data": {
      "text/plain": [
       "7.792639999999988e-05"
      ]
     },
     "execution_count": 174,
     "metadata": {},
     "output_type": "execute_result"
    }
   ],
   "source": [
    "my_binomial.cdf(2)"
   ]
  },
  {
   "cell_type": "code",
   "execution_count": 176,
   "metadata": {},
   "outputs": [
    {
     "data": {
      "text/plain": [
       "0.9999943539716154"
      ]
     },
     "execution_count": 176,
     "metadata": {},
     "output_type": "execute_result"
    }
   ],
   "source": [
    "my_covid_binomial.cdf(10)"
   ]
  },
  {
   "cell_type": "markdown",
   "metadata": {},
   "source": [
    "#### mean, var, std"
   ]
  },
  {
   "cell_type": "code",
   "execution_count": 187,
   "metadata": {},
   "outputs": [
    {
     "data": {
      "text/plain": [
       "8.11"
      ]
     },
     "execution_count": 187,
     "metadata": {},
     "output_type": "execute_result"
    }
   ],
   "source": [
    "# experimental\n",
    "my_binomial.rvs(size=200).mean()"
   ]
  },
  {
   "cell_type": "code",
   "execution_count": 181,
   "metadata": {
    "colab": {},
    "colab_type": "code",
    "id": "h-_Ioss8NwNo"
   },
   "outputs": [
    {
     "data": {
      "text/plain": [
       "8.0"
      ]
     },
     "execution_count": 181,
     "metadata": {},
     "output_type": "execute_result"
    }
   ],
   "source": [
    "# theoretical\n",
    "my_binomial.mean()"
   ]
  },
  {
   "cell_type": "code",
   "execution_count": 182,
   "metadata": {
    "colab": {},
    "colab_type": "code",
    "id": "h-_Ioss8NwNo"
   },
   "outputs": [
    {
     "data": {
      "text/plain": [
       "1.5999999999999996"
      ]
     },
     "execution_count": 182,
     "metadata": {},
     "output_type": "execute_result"
    }
   ],
   "source": [
    "my_binomial.var()"
   ]
  },
  {
   "cell_type": "code",
   "execution_count": 183,
   "metadata": {
    "colab": {},
    "colab_type": "code",
    "id": "h-_Ioss8NwNo"
   },
   "outputs": [
    {
     "data": {
      "text/plain": [
       "1.2649110640673515"
      ]
     },
     "execution_count": 183,
     "metadata": {},
     "output_type": "execute_result"
    }
   ],
   "source": [
    "my_binomial.std()"
   ]
  },
  {
   "cell_type": "code",
   "execution_count": 189,
   "metadata": {},
   "outputs": [],
   "source": [
    "import matplotlib.pyplot as plt"
   ]
  },
  {
   "cell_type": "markdown",
   "metadata": {},
   "source": [
    "Lets plot theoretical point mass functions"
   ]
  },
  {
   "cell_type": "code",
   "execution_count": 192,
   "metadata": {
    "colab": {},
    "colab_type": "code",
    "id": "h-_Ioss8NwNo"
   },
   "outputs": [
    {
     "data": {
      "text/plain": [
       "<matplotlib.collections.LineCollection at 0x7ff88e1d5e20>"
      ]
     },
     "execution_count": 192,
     "metadata": {},
     "output_type": "execute_result"
    },
    {
     "data": {
      "image/png": "[encoded data removed]",
      "text/plain": [
       "<Figure size 432x288 with 1 Axes>"
      ]
     },
     "metadata": {
      "needs_background": "light"
     },
     "output_type": "display_data"
    }
   ],
   "source": [
    "x = np.arange(0,21)\n",
    "fig, ax = plt.subplots(1, 1)\n",
    "ax.plot(x, my_covid_binomial.pmf(x), 'bo')\n",
    "ax.vlines(x, 0, my_covid_binomial.pmf(x), colors='b', lw=5, alpha=0.5)"
   ]
  },
  {
   "cell_type": "code",
   "execution_count": 190,
   "metadata": {
    "colab": {},
    "colab_type": "code",
    "id": "h-_Ioss8NwNo"
   },
   "outputs": [
    {
     "data": {
      "text/plain": [
       "<matplotlib.collections.LineCollection at 0x7ff88de78f70>"
      ]
     },
     "execution_count": 190,
     "metadata": {},
     "output_type": "execute_result"
    },
    {
     "data": {
      "image/png": "[encoded data removed]",
      "text/plain": [
       "<Figure size 432x288 with 1 Axes>"
      ]
     },
     "metadata": {
      "needs_background": "light"
     },
     "output_type": "display_data"
    }
   ],
   "source": [
    "x = np.arange(0,11)\n",
    "fig, ax = plt.subplots(1, 1)\n",
    "ax.plot(x, my_binomial.pmf(x), 'bo')\n",
    "ax.vlines(x, 0, my_binomial.pmf(x), colors='b', lw=5, alpha=0.5)"
   ]
  },
  {
   "cell_type": "markdown",
   "metadata": {},
   "source": [
    "Lets plot an experiment"
   ]
  },
  {
   "cell_type": "code",
   "execution_count": 199,
   "metadata": {
    "colab": {},
    "colab_type": "code",
    "id": "9NNpanrLBygi"
   },
   "outputs": [
    {
     "data": {
      "text/plain": [
       "<AxesSubplot:ylabel='count'>"
      ]
     },
     "execution_count": 199,
     "metadata": {},
     "output_type": "execute_result"
    },
    {
     "data": {
      "image/png": "[encoded data removed]",
      "text/plain": [
       "<Figure size 432x288 with 1 Axes>"
      ]
     },
     "metadata": {
      "needs_background": "light"
     },
     "output_type": "display_data"
    }
   ],
   "source": [
    "sns.countplot(x=my_binomial.rvs(size=1000))"
   ]
  },
  {
   "cell_type": "markdown",
   "metadata": {
    "colab_type": "text",
    "id": "9pTUdx3ESmBH"
   },
   "source": [
    "### Poisson Distribution"
   ]
  },
  {
   "cell_type": "markdown",
   "metadata": {
    "colab_type": "text",
    "id": "9pTUdx3ESmBH"
   },
   "source": [
    "The Poisson distribution is used to describe how many times something might happen **in a specific timeframe**"
   ]
  },
  {
   "cell_type": "markdown",
   "metadata": {
    "colab_type": "text",
    "id": "9pTUdx3ESmBH"
   },
   "source": [
    "Examples:\n",
    " * The number of meteorites greater than 1 meter diameter that strike Earth in a year\n",
    " * The number of patients arriving in an emergency room between 10 and 11 pm\n",
    " * The number of laser photons hitting a detector in a particular time interval"
   ]
  },
  {
   "cell_type": "markdown",
   "metadata": {},
   "source": [
    "$\\Omega = \\{0, 1, 2, 3, ...\\}$ (think of number of patients from 10 to 11). Not bounded!"
   ]
  },
  {
   "cell_type": "markdown",
   "metadata": {},
   "source": [
    "We setup our distribution."
   ]
  },
  {
   "cell_type": "markdown",
   "metadata": {},
   "source": [
    "$\\lambda$ is the theoretical average number of ocurrences"
   ]
  },
  {
   "cell_type": "markdown",
   "metadata": {},
   "source": [
    "$X \\sim Po(\\lambda)$"
   ]
  },
  {
   "cell_type": "code",
   "execution_count": 207,
   "metadata": {},
   "outputs": [],
   "source": [
    "lambd = 6"
   ]
  },
  {
   "cell_type": "markdown",
   "metadata": {},
   "source": [
    "$$P(X=k)=\\frac{\\lambda ^{k}e^{-\\lambda }}{k!}$$"
   ]
  },
  {
   "cell_type": "markdown",
   "metadata": {},
   "source": [
    "$$P(X=1)=\\lambda e^{-\\lambda }$$"
   ]
  },
  {
   "cell_type": "markdown",
   "metadata": {},
   "source": [
    "$$P(X=2)=\\frac{\\lambda ^{2}e^{-\\lambda }}{2}$$"
   ]
  },
  {
   "cell_type": "code",
   "execution_count": 208,
   "metadata": {
    "colab": {},
    "colab_type": "code",
    "id": "7vWUFVMDSoEK"
   },
   "outputs": [],
   "source": [
    "from scipy.stats import poisson"
   ]
  },
  {
   "cell_type": "code",
   "execution_count": 209,
   "metadata": {},
   "outputs": [],
   "source": [
    "my_poisson = poisson(mu=6)"
   ]
  },
  {
   "cell_type": "code",
   "execution_count": 218,
   "metadata": {},
   "outputs": [
    {
     "data": {
      "text/plain": [
       "array([7])"
      ]
     },
     "execution_count": 218,
     "metadata": {},
     "output_type": "execute_result"
    }
   ],
   "source": [
    "my_poisson.rvs(size=1)"
   ]
  },
  {
   "cell_type": "code",
   "execution_count": 219,
   "metadata": {},
   "outputs": [
    {
     "data": {
      "text/plain": [
       "array([ 9, 10,  7,  8,  6,  9,  4, 10,  8,  8,  4,  7,  5,  5,  5,  1,  5,\n",
       "       11, 10,  7,  6,  7, 13,  5,  4,  6,  5,  6,  6,  2])"
      ]
     },
     "execution_count": 219,
     "metadata": {},
     "output_type": "execute_result"
    }
   ],
   "source": [
    "my_poisson.rvs(size=30)"
   ]
  },
  {
   "cell_type": "code",
   "execution_count": 222,
   "metadata": {},
   "outputs": [],
   "source": [
    "sample = my_poisson.rvs(size=365)"
   ]
  },
  {
   "cell_type": "code",
   "execution_count": 223,
   "metadata": {},
   "outputs": [
    {
     "data": {
      "text/plain": [
       "<AxesSubplot:ylabel='count'>"
      ]
     },
     "execution_count": 223,
     "metadata": {},
     "output_type": "execute_result"
    },
    {
     "data": {
      "image/png": "[encoded data removed]",
      "text/plain": [
       "<Figure size 432x288 with 1 Axes>"
      ]
     },
     "metadata": {
      "needs_background": "light"
     },
     "output_type": "display_data"
    }
   ],
   "source": [
    "sns.countplot(x=sample)"
   ]
  },
  {
   "cell_type": "code",
   "execution_count": 225,
   "metadata": {
    "colab": {},
    "colab_type": "code",
    "id": "h-_Ioss8NwNo"
   },
   "outputs": [
    {
     "data": {
      "text/plain": [
       "<matplotlib.collections.LineCollection at 0x7ff88d9317f0>"
      ]
     },
     "execution_count": 225,
     "metadata": {},
     "output_type": "execute_result"
    },
    {
     "data": {
      "image/png": "[encoded data removed]",
      "text/plain": [
       "<Figure size 432x288 with 1 Axes>"
      ]
     },
     "metadata": {
      "needs_background": "light"
     },
     "output_type": "display_data"
    }
   ],
   "source": [
    "x = np.arange(0,15)\n",
    "fig, ax = plt.subplots(1, 1)\n",
    "ax.plot(x, my_poisson.pmf(x), 'bo')\n",
    "ax.vlines(x, 0, my_poisson.pmf(x), colors='b', lw=5, alpha=0.5)"
   ]
  },
  {
   "cell_type": "markdown",
   "metadata": {},
   "source": [
    "What about the exact probabilities. We use `pmf`"
   ]
  },
  {
   "cell_type": "markdown",
   "metadata": {},
   "source": [
    "$$P(X=k)=\\frac{\\lambda ^{k}e^{-\\lambda }}{k!}$$"
   ]
  },
  {
   "cell_type": "code",
   "execution_count": 226,
   "metadata": {},
   "outputs": [
    {
     "data": {
      "text/plain": [
       "0.08923507835998894"
      ]
     },
     "execution_count": 226,
     "metadata": {},
     "output_type": "execute_result"
    }
   ],
   "source": [
    "my_poisson.pmf(3)"
   ]
  },
  {
   "cell_type": "code",
   "execution_count": 227,
   "metadata": {},
   "outputs": [
    {
     "data": {
      "text/plain": [
       "0.1606231410479801"
      ]
     },
     "execution_count": 227,
     "metadata": {},
     "output_type": "execute_result"
    }
   ],
   "source": [
    "my_poisson.pmf(6)"
   ]
  },
  {
   "cell_type": "code",
   "execution_count": 228,
   "metadata": {},
   "outputs": [
    {
     "data": {
      "text/plain": [
       "0.04130309341233764"
      ]
     },
     "execution_count": 228,
     "metadata": {},
     "output_type": "execute_result"
    }
   ],
   "source": [
    "my_poisson.pmf(10)"
   ]
  },
  {
   "cell_type": "code",
   "execution_count": 229,
   "metadata": {},
   "outputs": [
    {
     "data": {
      "text/plain": [
       "0.0008912555621443482"
      ]
     },
     "execution_count": 229,
     "metadata": {},
     "output_type": "execute_result"
    }
   ],
   "source": [
    "my_poisson.pmf(15)"
   ]
  },
  {
   "cell_type": "code",
   "execution_count": 230,
   "metadata": {},
   "outputs": [
    {
     "data": {
      "text/plain": [
       "6.587501927434127e-29"
      ]
     },
     "execution_count": 230,
     "metadata": {},
     "output_type": "execute_result"
    }
   ],
   "source": [
    "my_poisson.pmf(50)"
   ]
  },
  {
   "cell_type": "markdown",
   "metadata": {},
   "source": [
    "cdf"
   ]
  },
  {
   "cell_type": "code",
   "execution_count": 233,
   "metadata": {},
   "outputs": [
    {
     "data": {
      "text/plain": [
       "0.6063027824125914"
      ]
     },
     "execution_count": 233,
     "metadata": {},
     "output_type": "execute_result"
    }
   ],
   "source": [
    "my_poisson.cdf(6)"
   ]
  },
  {
   "cell_type": "markdown",
   "metadata": {},
   "source": [
    "What is the probability of more than 12 patients arriving?"
   ]
  },
  {
   "cell_type": "code",
   "execution_count": 234,
   "metadata": {},
   "outputs": [
    {
     "data": {
      "text/plain": [
       "0.008827483517898194"
      ]
     },
     "execution_count": 234,
     "metadata": {},
     "output_type": "execute_result"
    }
   ],
   "source": [
    "1 - my_poisson.cdf(12)"
   ]
  },
  {
   "cell_type": "markdown",
   "metadata": {},
   "source": [
    "Mean, variance"
   ]
  },
  {
   "cell_type": "code",
   "execution_count": 239,
   "metadata": {},
   "outputs": [
    {
     "data": {
      "text/plain": [
       "6.0"
      ]
     },
     "execution_count": 239,
     "metadata": {},
     "output_type": "execute_result"
    }
   ],
   "source": [
    "my_poisson.mean()"
   ]
  },
  {
   "cell_type": "code",
   "execution_count": 240,
   "metadata": {},
   "outputs": [
    {
     "data": {
      "text/plain": [
       "6.0"
      ]
     },
     "execution_count": 240,
     "metadata": {},
     "output_type": "execute_result"
    }
   ],
   "source": [
    "my_poisson.var()"
   ]
  },
  {
   "cell_type": "markdown",
   "metadata": {},
   "source": [
    "My web entrances"
   ]
  },
  {
   "cell_type": "code",
   "execution_count": 235,
   "metadata": {},
   "outputs": [],
   "source": [
    "my_web_poisson = poisson(30)"
   ]
  },
  {
   "cell_type": "code",
   "execution_count": 236,
   "metadata": {},
   "outputs": [
    {
     "data": {
      "text/plain": [
       "0.07263452647159181"
      ]
     },
     "execution_count": 236,
     "metadata": {},
     "output_type": "execute_result"
    }
   ],
   "source": [
    "my_web_poisson.pmf(30)"
   ]
  },
  {
   "cell_type": "code",
   "execution_count": 237,
   "metadata": {},
   "outputs": [
    {
     "data": {
      "text/plain": [
       "0.013411150012837837"
      ]
     },
     "execution_count": 237,
     "metadata": {},
     "output_type": "execute_result"
    }
   ],
   "source": [
    "my_web_poisson.pmf(20)"
   ]
  },
  {
   "cell_type": "code",
   "execution_count": 238,
   "metadata": {},
   "outputs": [
    {
     "data": {
      "text/plain": [
       "0.9676904258341258"
      ]
     },
     "execution_count": 238,
     "metadata": {},
     "output_type": "execute_result"
    }
   ],
   "source": [
    "my_web_poisson.cdf(40)"
   ]
  },
  {
   "cell_type": "markdown",
   "metadata": {},
   "source": [
    "## Further materials"
   ]
  },
  {
   "cell_type": "markdown",
   "metadata": {},
   "source": [
    "$E[X]$ stands for the theoretical mean  \n",
    "$V[X]$ stands for the theoretical variance"
   ]
  },
  {
   "cell_type": "markdown",
   "metadata": {},
   "source": [
    "<img src=\"https://www.dummies.com/wp-content/uploads/250474.image0.jpg\" width=800>"
   ]
  }
 ],
 "metadata": {
  "colab": {
   "collapsed_sections": [],
   "name": "ProbabilityDistribution (1).ipynb",
   "provenance": []
  },
  "kernelspec": {
   "display_name": "Python 3",
   "language": "python",
   "name": "python3"
  },
  "language_info": {
   "codemirror_mode": {
    "name": "ipython",
    "version": 3
   },
   "file_extension": ".py",
   "mimetype": "text/x-python",
   "name": "python",
   "nbconvert_exporter": "python",
   "pygments_lexer": "ipython3",
   "version": "3.8.5"
  },
  "toc": {
   "base_numbering": 1,
   "nav_menu": {},
   "number_sections": true,
   "sideBar": true,
   "skip_h1_title": true,
   "title_cell": "Table of Contents",
   "title_sidebar": "Contents",
   "toc_cell": true,
   "toc_position": {},
   "toc_section_display": true,
   "toc_window_display": true
  },
  "varInspector": {
   "cols": {
    "lenName": 16,
    "lenType": 16,
    "lenVar": 40
   },
   "kernels_config": {
    "python": {
     "delete_cmd_postfix": "",
     "delete_cmd_prefix": "del ",
     "library": "var_list.py",
     "varRefreshCmd": "print(var_dic_list())"
    },
    "r": {
     "delete_cmd_postfix": ") ",
     "delete_cmd_prefix": "rm(",
     "library": "var_list.r",
     "varRefreshCmd": "cat(var_dic_list()) "
    }
   },
   "types_to_exclude": [
    "module",
    "function",
    "builtin_function_or_method",
    "instance",
    "_Feature"
   ],
   "window_display": false
  }
 },
 "nbformat": 4,
 "nbformat_minor": 1
}
