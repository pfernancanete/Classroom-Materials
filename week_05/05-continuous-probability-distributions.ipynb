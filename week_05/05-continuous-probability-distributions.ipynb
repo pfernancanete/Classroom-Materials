{
 "cells": [
  {
   "cell_type": "markdown",
   "metadata": {},
   "source": [
    "# Probability distributions II"
   ]
  },
  {
   "cell_type": "markdown",
   "metadata": {
    "toc": true
   },
   "source": [
    "<h1>Table of Contents<span class=\"tocSkip\"></span></h1>\n",
    "<div class=\"toc\"><ul class=\"toc-item\"><li><span><a href=\"#Continuous-probability-distributions\" data-toc-modified-id=\"Continuous-probability-distributions-1\"><span class=\"toc-item-num\">1&nbsp;&nbsp;</span>Continuous probability distributions</a></span><ul class=\"toc-item\"><li><span><a href=\"#Uniform-distribution-on-interval-[0,-1]\" data-toc-modified-id=\"Uniform-distribution-on-interval-[0,-1]-1.1\"><span class=\"toc-item-num\">1.1&nbsp;&nbsp;</span>Uniform distribution on interval [0, 1]</a></span></li><li><span><a href=\"#Uniform-distribution-on-interval-[a,-b]\" data-toc-modified-id=\"Uniform-distribution-on-interval-[a,-b]-1.2\"><span class=\"toc-item-num\">1.2&nbsp;&nbsp;</span>Uniform distribution on interval [a, b]</a></span></li><li><span><a href=\"#Exponential-distribution\" data-toc-modified-id=\"Exponential-distribution-1.3\"><span class=\"toc-item-num\">1.3&nbsp;&nbsp;</span>Exponential distribution</a></span></li><li><span><a href=\"#Normal-distribution\" data-toc-modified-id=\"Normal-distribution-1.4\"><span class=\"toc-item-num\">1.4&nbsp;&nbsp;</span>Normal distribution</a></span><ul class=\"toc-item\"><li><span><a href=\"#Intro\" data-toc-modified-id=\"Intro-1.4.1\"><span class=\"toc-item-num\">1.4.1&nbsp;&nbsp;</span>Intro</a></span></li><li><span><a href=\"#scipy's-norm\" data-toc-modified-id=\"scipy's-norm-1.4.2\"><span class=\"toc-item-num\">1.4.2&nbsp;&nbsp;</span>scipy's <code>norm</code></a></span></li><li><span><a href=\"#Sampling-from-a-normal\" data-toc-modified-id=\"Sampling-from-a-normal-1.4.3\"><span class=\"toc-item-num\">1.4.3&nbsp;&nbsp;</span>Sampling from a normal</a></span></li><li><span><a href=\"#Point-distribution-function-(density-function)\" data-toc-modified-id=\"Point-distribution-function-(density-function)-1.4.4\"><span class=\"toc-item-num\">1.4.4&nbsp;&nbsp;</span>Point distribution function (density function)</a></span></li><li><span><a href=\"#Cumulative-distribution-function\" data-toc-modified-id=\"Cumulative-distribution-function-1.4.5\"><span class=\"toc-item-num\">1.4.5&nbsp;&nbsp;</span>Cumulative distribution function</a></span></li><li><span><a href=\"#Percent-point-function\" data-toc-modified-id=\"Percent-point-function-1.4.6\"><span class=\"toc-item-num\">1.4.6&nbsp;&nbsp;</span>Percent point function</a></span></li></ul></li><li><span><a href=\"#Other-continuous-probability-distributions\" data-toc-modified-id=\"Other-continuous-probability-distributions-1.5\"><span class=\"toc-item-num\">1.5&nbsp;&nbsp;</span>Other continuous probability distributions</a></span></li></ul></li><li><span><a href=\"#Summary\" data-toc-modified-id=\"Summary-2\"><span class=\"toc-item-num\">2&nbsp;&nbsp;</span>Summary</a></span></li></ul></div>"
   ]
  },
  {
   "cell_type": "code",
   "execution_count": 1,
   "metadata": {},
   "outputs": [],
   "source": [
    "import numpy as np\n",
    "\n",
    "import seaborn as sns\n",
    "import matplotlib.pyplot as plt\n",
    "# for some extra plotting tools\n",
    "import pylab as p"
   ]
  },
  {
   "cell_type": "markdown",
   "metadata": {},
   "source": [
    "## Continuous probability distributions"
   ]
  },
  {
   "cell_type": "markdown",
   "metadata": {},
   "source": [
    "**Continuous probability** distributions are those which can take any value in a given range. In particular, they can take infinite different values.\n",
    "\n",
    "X is a continuous random variable.  \n",
    "X follows a continuous probability distribution."
   ]
  },
  {
   "cell_type": "markdown",
   "metadata": {
    "colab_type": "text",
    "id": "xsScdABy_6rm"
   },
   "source": [
    "### Uniform distribution on interval [0, 1]"
   ]
  },
  {
   "cell_type": "markdown",
   "metadata": {},
   "source": [
    "All numbers in the inteval [0, 1] are equally probable"
   ]
  },
  {
   "cell_type": "markdown",
   "metadata": {},
   "source": [
    "In a continuous probability distribution, it only makes sense to talk about probability of an interval, not a particular number"
   ]
  },
  {
   "cell_type": "markdown",
   "metadata": {},
   "source": [
    "$X \\sim U(0, 1)$"
   ]
  },
  {
   "cell_type": "markdown",
   "metadata": {},
   "source": [
    "<img src=\"https://upload.wikimedia.org/wikipedia/commons/thumb/2/28/Unit-interval.svg/1200px-Unit-interval.svg.png\" width=500>"
   ]
  },
  {
   "cell_type": "markdown",
   "metadata": {},
   "source": [
    "$P(x \\leq 0.4)=0.4$"
   ]
  },
  {
   "cell_type": "markdown",
   "metadata": {},
   "source": [
    "$P(x \\geq 0.7)=0.3$"
   ]
  },
  {
   "cell_type": "markdown",
   "metadata": {},
   "source": [
    "$P(x \\leq 1)= 1$"
   ]
  },
  {
   "cell_type": "markdown",
   "metadata": {},
   "source": [
    "$P(x \\geq 0)=1$"
   ]
  },
  {
   "cell_type": "markdown",
   "metadata": {},
   "source": [
    "$P(0.1 \\leq x \\leq 0.4)=0.4 - 0.1=0.3$"
   ]
  },
  {
   "cell_type": "markdown",
   "metadata": {
    "colab_type": "text",
    "id": "5dn6JLn8GhnC"
   },
   "source": [
    "For all $c, d \\in [0, 1]$ we have "
   ]
  },
  {
   "cell_type": "markdown",
   "metadata": {
    "colab_type": "text",
    "id": "5dn6JLn8GhnC"
   },
   "source": [
    "$$P(c < x <= d) = d-c$$"
   ]
  },
  {
   "cell_type": "markdown",
   "metadata": {},
   "source": [
    "Lets use Python distribution instantiation to generate samples from a $U(0, 1)$ distribution"
   ]
  },
  {
   "cell_type": "code",
   "execution_count": 2,
   "metadata": {},
   "outputs": [],
   "source": [
    "from scipy.stats import uniform"
   ]
  },
  {
   "cell_type": "code",
   "execution_count": 3,
   "metadata": {},
   "outputs": [],
   "source": [
    "my_uniform = uniform(0, 1)"
   ]
  },
  {
   "cell_type": "code",
   "execution_count": 17,
   "metadata": {},
   "outputs": [
    {
     "data": {
      "text/plain": [
       "array([0.37172286])"
      ]
     },
     "execution_count": 17,
     "metadata": {},
     "output_type": "execute_result"
    }
   ],
   "source": [
    "my_uniform.rvs(size=1)"
   ]
  },
  {
   "cell_type": "code",
   "execution_count": 20,
   "metadata": {},
   "outputs": [],
   "source": [
    "sample = my_uniform.rvs(size=10)"
   ]
  },
  {
   "cell_type": "code",
   "execution_count": 24,
   "metadata": {},
   "outputs": [
    {
     "data": {
      "text/plain": [
       "<AxesSubplot:ylabel='Count'>"
      ]
     },
     "execution_count": 24,
     "metadata": {},
     "output_type": "execute_result"
    },
    {
     "data": {
      "image/png": "[encoded data removed]",
      "text/plain": [
       "<Figure size 432x288 with 1 Axes>"
      ]
     },
     "metadata": {
      "needs_background": "light"
     },
     "output_type": "display_data"
    }
   ],
   "source": [
    "sns.histplot(sample)"
   ]
  },
  {
   "cell_type": "code",
   "execution_count": 25,
   "metadata": {},
   "outputs": [],
   "source": [
    "sample = my_uniform.rvs(size=100)"
   ]
  },
  {
   "cell_type": "code",
   "execution_count": 26,
   "metadata": {},
   "outputs": [
    {
     "data": {
      "text/plain": [
       "<AxesSubplot:ylabel='Count'>"
      ]
     },
     "execution_count": 26,
     "metadata": {},
     "output_type": "execute_result"
    },
    {
     "data": {
      "image/png": "[encoded data removed]",
      "text/plain": [
       "<Figure size 432x288 with 1 Axes>"
      ]
     },
     "metadata": {
      "needs_background": "light"
     },
     "output_type": "display_data"
    }
   ],
   "source": [
    "sns.histplot(sample)"
   ]
  },
  {
   "cell_type": "code",
   "execution_count": 27,
   "metadata": {},
   "outputs": [],
   "source": [
    "sample = my_uniform.rvs(size=1000)"
   ]
  },
  {
   "cell_type": "code",
   "execution_count": 28,
   "metadata": {},
   "outputs": [
    {
     "data": {
      "text/plain": [
       "<AxesSubplot:ylabel='Count'>"
      ]
     },
     "execution_count": 28,
     "metadata": {},
     "output_type": "execute_result"
    },
    {
     "data": {
      "image/png": "[encoded data removed]",
      "text/plain": [
       "<Figure size 432x288 with 1 Axes>"
      ]
     },
     "metadata": {
      "needs_background": "light"
     },
     "output_type": "display_data"
    }
   ],
   "source": [
    "sns.histplot(sample)"
   ]
  },
  {
   "cell_type": "code",
   "execution_count": 29,
   "metadata": {},
   "outputs": [
    {
     "data": {
      "text/plain": [
       "0.4983538151671545"
      ]
     },
     "execution_count": 29,
     "metadata": {},
     "output_type": "execute_result"
    }
   ],
   "source": [
    "sample.mean()"
   ]
  },
  {
   "cell_type": "code",
   "execution_count": 30,
   "metadata": {},
   "outputs": [
    {
     "data": {
      "text/plain": [
       "0.5"
      ]
     },
     "execution_count": 30,
     "metadata": {},
     "output_type": "execute_result"
    }
   ],
   "source": [
    "my_uniform.mean()"
   ]
  },
  {
   "cell_type": "markdown",
   "metadata": {},
   "source": [
    "`.cdf` is the cumulative distribution function  \n",
    "`.cdf(x)` tells us the probability of $X<x$"
   ]
  },
  {
   "cell_type": "code",
   "execution_count": 31,
   "metadata": {},
   "outputs": [
    {
     "data": {
      "text/plain": [
       "1.0"
      ]
     },
     "execution_count": 31,
     "metadata": {},
     "output_type": "execute_result"
    }
   ],
   "source": [
    "my_uniform.cdf(1)"
   ]
  },
  {
   "cell_type": "code",
   "execution_count": 32,
   "metadata": {},
   "outputs": [
    {
     "data": {
      "text/plain": [
       "0.0"
      ]
     },
     "execution_count": 32,
     "metadata": {},
     "output_type": "execute_result"
    }
   ],
   "source": [
    "my_uniform.cdf(0)"
   ]
  },
  {
   "cell_type": "code",
   "execution_count": 33,
   "metadata": {},
   "outputs": [
    {
     "data": {
      "text/plain": [
       "0.5"
      ]
     },
     "execution_count": 33,
     "metadata": {},
     "output_type": "execute_result"
    }
   ],
   "source": [
    "my_uniform.cdf(0.5)"
   ]
  },
  {
   "cell_type": "code",
   "execution_count": 34,
   "metadata": {},
   "outputs": [
    {
     "data": {
      "text/plain": [
       "0.4"
      ]
     },
     "execution_count": 34,
     "metadata": {},
     "output_type": "execute_result"
    }
   ],
   "source": [
    "my_uniform.cdf(0.4)"
   ]
  },
  {
   "cell_type": "markdown",
   "metadata": {},
   "source": [
    "It happens that  \n",
    "$P(0.2 < X < 0.7) = P(X < 0.7) - P(X < 0.2)$"
   ]
  },
  {
   "cell_type": "markdown",
   "metadata": {},
   "source": [
    "since  \n",
    "$P(X < 0.2) + P(0.2 < X < 0.7) = P(X < 0.7)$"
   ]
  },
  {
   "cell_type": "code",
   "execution_count": 35,
   "metadata": {},
   "outputs": [
    {
     "data": {
      "text/plain": [
       "0.49999999999999994"
      ]
     },
     "execution_count": 35,
     "metadata": {},
     "output_type": "execute_result"
    }
   ],
   "source": [
    "my_uniform.cdf(0.7) - my_uniform.cdf(0.2)"
   ]
  },
  {
   "cell_type": "markdown",
   "metadata": {
    "colab_type": "text",
    "id": "xsScdABy_6rm"
   },
   "source": [
    "### Uniform distribution on interval [a, b]"
   ]
  },
  {
   "cell_type": "markdown",
   "metadata": {},
   "source": [
    "All numbers in the inteval [a, b] are equally probable"
   ]
  },
  {
   "cell_type": "markdown",
   "metadata": {},
   "source": [
    "$X \\sim U(a, b)$"
   ]
  },
  {
   "cell_type": "markdown",
   "metadata": {},
   "source": [
    "$P(x \\leq b)=1$"
   ]
  },
  {
   "cell_type": "markdown",
   "metadata": {},
   "source": [
    "$P(x \\geq a)=1$"
   ]
  },
  {
   "cell_type": "markdown",
   "metadata": {},
   "source": [
    "$\\frac{a+b}{2}$ is the mean between $a$ and $b$"
   ]
  },
  {
   "cell_type": "markdown",
   "metadata": {},
   "source": [
    "$P(x \\leq \\frac{a+b}{2})=0.5$"
   ]
  },
  {
   "cell_type": "markdown",
   "metadata": {},
   "source": [
    "Lets use Python distribution instantiation to generate samples from a $U(a, b)$ distribution"
   ]
  },
  {
   "cell_type": "code",
   "execution_count": 37,
   "metadata": {},
   "outputs": [],
   "source": [
    "from scipy.stats import uniform"
   ]
  },
  {
   "cell_type": "code",
   "execution_count": 39,
   "metadata": {},
   "outputs": [],
   "source": [
    "a, b = 4, 10"
   ]
  },
  {
   "cell_type": "code",
   "execution_count": 40,
   "metadata": {},
   "outputs": [
    {
     "data": {
      "text/plain": [
       "6"
      ]
     },
     "execution_count": 40,
     "metadata": {},
     "output_type": "execute_result"
    }
   ],
   "source": [
    "# h is the interval length\n",
    "h = b - a\n",
    "h"
   ]
  },
  {
   "cell_type": "markdown",
   "metadata": {},
   "source": [
    "`uniform` receives `a` and `h`"
   ]
  },
  {
   "cell_type": "code",
   "execution_count": 41,
   "metadata": {},
   "outputs": [],
   "source": [
    "my_uniform = uniform(loc=a, scale=h)"
   ]
  },
  {
   "cell_type": "markdown",
   "metadata": {},
   "source": [
    "`.rvs` generates a sample drawn from the distribution"
   ]
  },
  {
   "cell_type": "code",
   "execution_count": 42,
   "metadata": {},
   "outputs": [],
   "source": [
    "sample = my_uniform.rvs(size=100)"
   ]
  },
  {
   "cell_type": "code",
   "execution_count": 46,
   "metadata": {},
   "outputs": [
    {
     "data": {
      "text/plain": [
       "array([5.66729935, 8.9602031 , 9.2911721 , 8.57738901, 6.22635383,\n",
       "       4.441087  , 6.2513026 , 6.0955577 , 8.54971336, 4.83361615,\n",
       "       8.13998707, 5.98608654, 8.60144602, 8.51650393, 7.81787083,\n",
       "       4.67103334, 9.1922516 , 5.13555557, 5.05130531, 4.0942745 ])"
      ]
     },
     "execution_count": 46,
     "metadata": {},
     "output_type": "execute_result"
    }
   ],
   "source": [
    "#show some\n",
    "sample[:20]"
   ]
  },
  {
   "cell_type": "code",
   "execution_count": 47,
   "metadata": {},
   "outputs": [
    {
     "data": {
      "text/plain": [
       "6.953412914132684"
      ]
     },
     "execution_count": 47,
     "metadata": {},
     "output_type": "execute_result"
    }
   ],
   "source": [
    "sample.mean()"
   ]
  },
  {
   "cell_type": "code",
   "execution_count": 48,
   "metadata": {},
   "outputs": [
    {
     "data": {
      "text/plain": [
       "<AxesSubplot:ylabel='Count'>"
      ]
     },
     "execution_count": 48,
     "metadata": {},
     "output_type": "execute_result"
    },
    {
     "data": {
      "image/png": "[encoded data removed]",
      "text/plain": [
       "<Figure size 432x288 with 1 Axes>"
      ]
     },
     "metadata": {
      "needs_background": "light"
     },
     "output_type": "display_data"
    }
   ],
   "source": [
    "sns.histplot(sample)"
   ]
  },
  {
   "cell_type": "code",
   "execution_count": 49,
   "metadata": {},
   "outputs": [],
   "source": [
    "sample = my_uniform.rvs(size=1000)"
   ]
  },
  {
   "cell_type": "code",
   "execution_count": 50,
   "metadata": {},
   "outputs": [
    {
     "data": {
      "text/plain": [
       "<AxesSubplot:ylabel='Count'>"
      ]
     },
     "execution_count": 50,
     "metadata": {},
     "output_type": "execute_result"
    },
    {
     "data": {
      "image/png": "[encoded data removed]",
      "text/plain": [
       "<Figure size 432x288 with 1 Axes>"
      ]
     },
     "metadata": {
      "needs_background": "light"
     },
     "output_type": "display_data"
    }
   ],
   "source": [
    "sns.histplot(sample)"
   ]
  },
  {
   "cell_type": "markdown",
   "metadata": {},
   "source": [
    "`.cdf` is the cumulative distribution function  \n",
    "`.cdf(x)` tells us the probability of $X<x$"
   ]
  },
  {
   "cell_type": "code",
   "execution_count": 51,
   "metadata": {},
   "outputs": [
    {
     "data": {
      "text/plain": [
       "1.0"
      ]
     },
     "execution_count": 51,
     "metadata": {},
     "output_type": "execute_result"
    }
   ],
   "source": [
    "my_uniform.cdf(11)"
   ]
  },
  {
   "cell_type": "code",
   "execution_count": 52,
   "metadata": {},
   "outputs": [
    {
     "data": {
      "text/plain": [
       "1.0"
      ]
     },
     "execution_count": 52,
     "metadata": {},
     "output_type": "execute_result"
    }
   ],
   "source": [
    "my_uniform.cdf(10)"
   ]
  },
  {
   "cell_type": "code",
   "execution_count": 53,
   "metadata": {},
   "outputs": [
    {
     "data": {
      "text/plain": [
       "0.9833333333333334"
      ]
     },
     "execution_count": 53,
     "metadata": {},
     "output_type": "execute_result"
    }
   ],
   "source": [
    "my_uniform.cdf(9.9)"
   ]
  },
  {
   "cell_type": "code",
   "execution_count": 54,
   "metadata": {},
   "outputs": [
    {
     "data": {
      "text/plain": [
       "0.0"
      ]
     },
     "execution_count": 54,
     "metadata": {},
     "output_type": "execute_result"
    }
   ],
   "source": [
    "my_uniform.cdf(4)"
   ]
  },
  {
   "cell_type": "code",
   "execution_count": 55,
   "metadata": {},
   "outputs": [
    {
     "data": {
      "text/plain": [
       "0.5"
      ]
     },
     "execution_count": 55,
     "metadata": {},
     "output_type": "execute_result"
    }
   ],
   "source": [
    "my_uniform.cdf(7)"
   ]
  },
  {
   "cell_type": "code",
   "execution_count": 56,
   "metadata": {},
   "outputs": [
    {
     "data": {
      "text/plain": [
       "0.6666666666666666"
      ]
     },
     "execution_count": 56,
     "metadata": {},
     "output_type": "execute_result"
    }
   ],
   "source": [
    "my_uniform.cdf(8)"
   ]
  },
  {
   "cell_type": "markdown",
   "metadata": {},
   "source": [
    "Lets plot the cdf"
   ]
  },
  {
   "cell_type": "code",
   "execution_count": 58,
   "metadata": {},
   "outputs": [
    {
     "data": {
      "text/plain": [
       "[<matplotlib.lines.Line2D at 0x7f3097a66460>]"
      ]
     },
     "execution_count": 58,
     "metadata": {},
     "output_type": "execute_result"
    },
    {
     "data": {
      "image/png": "[encoded data removed]",
      "text/plain": [
       "<Figure size 432x288 with 1 Axes>"
      ]
     },
     "metadata": {
      "needs_background": "light"
     },
     "output_type": "display_data"
    }
   ],
   "source": [
    "x = np.linspace(0, 15 ,100)\n",
    "y = my_uniform.cdf(x)\n",
    "fig, ax = plt.subplots(1, 1)\n",
    "ax.plot(x,y)"
   ]
  },
  {
   "cell_type": "markdown",
   "metadata": {},
   "source": [
    "- The cdf of a distribution is an increasing function\n",
    "- The cdf takes value 1 at the right\n",
    "- The cdf takes value 0 at the left"
   ]
  },
  {
   "cell_type": "code",
   "execution_count": 59,
   "metadata": {},
   "outputs": [
    {
     "data": {
      "text/plain": [
       "7.0"
      ]
     },
     "execution_count": 59,
     "metadata": {},
     "output_type": "execute_result"
    }
   ],
   "source": [
    "my_uniform.mean()"
   ]
  },
  {
   "cell_type": "code",
   "execution_count": 61,
   "metadata": {},
   "outputs": [
    {
     "data": {
      "text/plain": [
       "1.7213211011521388"
      ]
     },
     "execution_count": 61,
     "metadata": {},
     "output_type": "execute_result"
    }
   ],
   "source": [
    "sample.std()"
   ]
  },
  {
   "cell_type": "code",
   "execution_count": 60,
   "metadata": {},
   "outputs": [
    {
     "data": {
      "text/plain": [
       "1.7320508075688772"
      ]
     },
     "execution_count": 60,
     "metadata": {},
     "output_type": "execute_result"
    }
   ],
   "source": [
    "my_uniform.std()"
   ]
  },
  {
   "cell_type": "markdown",
   "metadata": {
    "colab_type": "text",
    "id": "5dn6JLn8GhnC"
   },
   "source": [
    "### Exponential distribution"
   ]
  },
  {
   "cell_type": "markdown",
   "metadata": {},
   "source": [
    "Models the time it takes for a random event to occur:\n",
    " * Time for next person in a queue to appear\n",
    " * Time for next call at call center to happen\n",
    " * Time for next radioactive particle to decay\n",
    " * Time for next DNA item to mutate"
   ]
  },
  {
   "cell_type": "markdown",
   "metadata": {},
   "source": [
    "\"The average time for a new patient to appear is 5 minutes\"  \n",
    "\"The time for a new patient to appear follows an Exponential distribution with mean $5$\""
   ]
  },
  {
   "cell_type": "markdown",
   "metadata": {},
   "source": [
    "The exponential is the reciprocal distribution of the Poisson distribution"
   ]
  },
  {
   "cell_type": "code",
   "execution_count": 63,
   "metadata": {},
   "outputs": [],
   "source": [
    "from scipy.stats import expon"
   ]
  },
  {
   "cell_type": "markdown",
   "metadata": {},
   "source": [
    "The exponential, like the Poisson, is a $1$-parameter distribution function"
   ]
  },
  {
   "cell_type": "markdown",
   "metadata": {},
   "source": [
    "$X \\sim Exp(\\mu)$"
   ]
  },
  {
   "cell_type": "markdown",
   "metadata": {},
   "source": [
    "This parameter is the mean, called `mu`, $\\mu$"
   ]
  },
  {
   "cell_type": "markdown",
   "metadata": {},
   "source": [
    "`scipy` calls it `scale`"
   ]
  },
  {
   "cell_type": "markdown",
   "metadata": {},
   "source": [
    "Lets model clients who arrive on average every $30$ seconds to supermarket queue"
   ]
  },
  {
   "cell_type": "code",
   "execution_count": 64,
   "metadata": {},
   "outputs": [],
   "source": [
    "my_e = expon(scale=30)"
   ]
  },
  {
   "cell_type": "code",
   "execution_count": 65,
   "metadata": {},
   "outputs": [
    {
     "data": {
      "text/plain": [
       "30.0"
      ]
     },
     "execution_count": 65,
     "metadata": {},
     "output_type": "execute_result"
    }
   ],
   "source": [
    "my_e.mean()"
   ]
  },
  {
   "cell_type": "markdown",
   "metadata": {},
   "source": [
    "`.rvs` generates a sample drawn from the distribution"
   ]
  },
  {
   "cell_type": "code",
   "execution_count": 82,
   "metadata": {},
   "outputs": [
    {
     "data": {
      "text/plain": [
       "array([67.67048247])"
      ]
     },
     "execution_count": 82,
     "metadata": {},
     "output_type": "execute_result"
    }
   ],
   "source": [
    "my_e.rvs(size=1)"
   ]
  },
  {
   "cell_type": "code",
   "execution_count": 83,
   "metadata": {},
   "outputs": [],
   "source": [
    "sample = my_e.rvs(size=100)"
   ]
  },
  {
   "cell_type": "code",
   "execution_count": 84,
   "metadata": {},
   "outputs": [
    {
     "data": {
      "text/plain": [
       "array([  9.,   5.,  31.,   4.,  25.,   9.,  39.,  22.,  16.,  25.,  21.,\n",
       "        38.,  46.,  72.,   2.,  40.,  19.,   4.,  40.,   4.,   2.,  44.,\n",
       "        52.,   3.,  39.,  13.,  22.,   6.,  81.,  34.,   1.,   5.,  15.,\n",
       "         0.,  41.,  33.,   1.,  30.,  52., 130.,  37.,  21.,   4.,  19.,\n",
       "        88.,  13.,  29.,   6.,  16.,  75., 105.,  56.,  21.,  21.,  23.,\n",
       "        12., 111.,  53.,  26.,  39.,   5.,  25.,  65.,  12.,   6.,  30.,\n",
       "        52.,  57.,  17.,  32.,  64.,  27.,  43.,  11.,  14.,  15.,  57.,\n",
       "        47.,  10., 106.,  62.,  31.,   9.,  51.,  12.,   5.,   3.,  34.,\n",
       "        35.,  55.,  58.,   3.,  51.,   5.,   7.,   3.,  12.,   9.,  14.,\n",
       "        15.])"
      ]
     },
     "execution_count": 84,
     "metadata": {},
     "output_type": "execute_result"
    }
   ],
   "source": [
    "sample.round()"
   ]
  },
  {
   "cell_type": "code",
   "execution_count": 85,
   "metadata": {},
   "outputs": [
    {
     "data": {
      "text/plain": [
       "129.68135852882298"
      ]
     },
     "execution_count": 85,
     "metadata": {},
     "output_type": "execute_result"
    }
   ],
   "source": [
    "sample.max()"
   ]
  },
  {
   "cell_type": "code",
   "execution_count": 86,
   "metadata": {},
   "outputs": [
    {
     "data": {
      "text/plain": [
       "<AxesSubplot:ylabel='Count'>"
      ]
     },
     "execution_count": 86,
     "metadata": {},
     "output_type": "execute_result"
    },
    {
     "data": {
      "image/png": "[encoded data removed]",
      "text/plain": [
       "<Figure size 432x288 with 1 Axes>"
      ]
     },
     "metadata": {
      "needs_background": "light"
     },
     "output_type": "display_data"
    }
   ],
   "source": [
    "sns.histplot(sample)"
   ]
  },
  {
   "cell_type": "code",
   "execution_count": 87,
   "metadata": {},
   "outputs": [],
   "source": [
    "sample = my_e.rvs(size=10000)"
   ]
  },
  {
   "cell_type": "code",
   "execution_count": 88,
   "metadata": {},
   "outputs": [
    {
     "data": {
      "text/plain": [
       "<AxesSubplot:ylabel='Count'>"
      ]
     },
     "execution_count": 88,
     "metadata": {},
     "output_type": "execute_result"
    },
    {
     "data": {
      "image/png": "[encoded data removed]",
      "text/plain": [
       "<Figure size 432x288 with 1 Axes>"
      ]
     },
     "metadata": {
      "needs_background": "light"
     },
     "output_type": "display_data"
    }
   ],
   "source": [
    "sns.histplot(sample)"
   ]
  },
  {
   "cell_type": "code",
   "execution_count": 89,
   "metadata": {},
   "outputs": [
    {
     "data": {
      "text/plain": [
       "0.6321205588285577"
      ]
     },
     "execution_count": 89,
     "metadata": {},
     "output_type": "execute_result"
    }
   ],
   "source": [
    "my_e.cdf(30)"
   ]
  },
  {
   "cell_type": "markdown",
   "metadata": {},
   "source": [
    "`.pdf` is the point distribution function "
   ]
  },
  {
   "cell_type": "markdown",
   "metadata": {},
   "source": [
    "Analogous to `.pmf` in discrete"
   ]
  },
  {
   "cell_type": "code",
   "execution_count": 91,
   "metadata": {
    "scrolled": true
   },
   "outputs": [
    {
     "data": {
      "text/plain": [
       "[<matplotlib.lines.Line2D at 0x7f309782a580>]"
      ]
     },
     "execution_count": 91,
     "metadata": {},
     "output_type": "execute_result"
    },
    {
     "data": {
      "image/png": "[encoded data removed]",
      "text/plain": [
       "<Figure size 432x288 with 1 Axes>"
      ]
     },
     "metadata": {
      "needs_background": "light"
     },
     "output_type": "display_data"
    }
   ],
   "source": [
    "x = np.linspace(0, 100, 100)\n",
    "y = my_e.pdf(x)\n",
    "fig, ax = plt.subplots(1, 1)\n",
    "ax.plot(x,y)"
   ]
  },
  {
   "cell_type": "markdown",
   "metadata": {},
   "source": [
    "The area under the curve is the probability of times in  the given interval"
   ]
  },
  {
   "cell_type": "markdown",
   "metadata": {},
   "source": [
    "The whole area is 1 (100%)"
   ]
  },
  {
   "cell_type": "markdown",
   "metadata": {},
   "source": [
    "`.cdf` is the cumulative distribution function  \n",
    "`.cdf(x)` tells us the probability of $X<x$"
   ]
  },
  {
   "cell_type": "code",
   "execution_count": 92,
   "metadata": {},
   "outputs": [
    {
     "data": {
      "text/plain": [
       "0.28346868942621073"
      ]
     },
     "execution_count": 92,
     "metadata": {},
     "output_type": "execute_result"
    }
   ],
   "source": [
    "my_e.cdf(10)"
   ]
  },
  {
   "cell_type": "code",
   "execution_count": 93,
   "metadata": {},
   "outputs": [
    {
     "data": {
      "text/plain": [
       "0.6321205588285577"
      ]
     },
     "execution_count": 93,
     "metadata": {},
     "output_type": "execute_result"
    }
   ],
   "source": [
    "my_e.cdf(30)"
   ]
  },
  {
   "cell_type": "code",
   "execution_count": 94,
   "metadata": {},
   "outputs": [
    {
     "data": {
      "text/plain": [
       "0.950212931632136"
      ]
     },
     "execution_count": 94,
     "metadata": {},
     "output_type": "execute_result"
    }
   ],
   "source": [
    "my_e.cdf(90)"
   ]
  },
  {
   "cell_type": "code",
   "execution_count": 95,
   "metadata": {},
   "outputs": [
    {
     "data": {
      "text/plain": [
       "0.9987273661986602"
      ]
     },
     "execution_count": 95,
     "metadata": {},
     "output_type": "execute_result"
    }
   ],
   "source": [
    "my_e.cdf(200)"
   ]
  },
  {
   "cell_type": "code",
   "execution_count": 96,
   "metadata": {},
   "outputs": [
    {
     "data": {
      "text/plain": [
       "[<matplotlib.lines.Line2D at 0x7f309780b220>]"
      ]
     },
     "execution_count": 96,
     "metadata": {},
     "output_type": "execute_result"
    },
    {
     "data": {
      "image/png": "[encoded data removed]",
      "text/plain": [
       "<Figure size 432x288 with 1 Axes>"
      ]
     },
     "metadata": {
      "needs_background": "light"
     },
     "output_type": "display_data"
    }
   ],
   "source": [
    "x = np.linspace(0, 100, 100)\n",
    "y = my_e.cdf(x)\n",
    "fig, ax = plt.subplots(1, 1)\n",
    "ax.plot(x,y)"
   ]
  },
  {
   "cell_type": "markdown",
   "metadata": {
    "colab_type": "text",
    "id": "5dn6JLn8GhnC"
   },
   "source": [
    "### Normal distribution"
   ]
  },
  {
   "cell_type": "markdown",
   "metadata": {},
   "source": [
    "#### Intro"
   ]
  },
  {
   "cell_type": "markdown",
   "metadata": {},
   "source": [
    "Normal distributions are important in statistics and are often used in the natural and social sciences "
   ]
  },
  {
   "cell_type": "markdown",
   "metadata": {},
   "source": [
    "The normal distribution is the most important probability distribution in statistics, because it fits many natural and social phenomena :\n",
    " * heights\n",
    " * blood pressure\n",
    " * IQ scores\n",
    " "
   ]
  },
  {
   "cell_type": "markdown",
   "metadata": {},
   "source": [
    "It is also known as the Gaussian distribution or the bell curve"
   ]
  },
  {
   "cell_type": "markdown",
   "metadata": {},
   "source": [
    "#### scipy's `norm`"
   ]
  },
  {
   "cell_type": "code",
   "execution_count": 113,
   "metadata": {},
   "outputs": [],
   "source": [
    "from scipy.stats import norm"
   ]
  },
  {
   "cell_type": "markdown",
   "metadata": {},
   "source": [
    "The normal, unilike the exponential, is a $2$-parameter distribution function"
   ]
  },
  {
   "cell_type": "markdown",
   "metadata": {},
   "source": [
    "$X \\sim N(\\mu, \\sigma)$"
   ]
  },
  {
   "cell_type": "markdown",
   "metadata": {},
   "source": [
    "These parameters are:\n",
    " * the mean, called $\\mu$\n",
    " * the standard deviation, $\\sigma$"
   ]
  },
  {
   "cell_type": "markdown",
   "metadata": {},
   "source": [
    "<img src=\"data:image/jpeg;base64,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\" width=500>"
   ]
  },
  {
   "cell_type": "markdown",
   "metadata": {},
   "source": [
    "`scipy` calls them `loc` and `scale`"
   ]
  },
  {
   "cell_type": "markdown",
   "metadata": {},
   "source": [
    "Lets model a country in which heights have:\n",
    " * a mean of $170cm$\n",
    " * a std of $10cm$"
   ]
  },
  {
   "cell_type": "code",
   "execution_count": 114,
   "metadata": {},
   "outputs": [],
   "source": [
    "my_normal = norm(loc=170, scale=10)"
   ]
  },
  {
   "cell_type": "code",
   "execution_count": 115,
   "metadata": {},
   "outputs": [
    {
     "data": {
      "text/plain": [
       "170.0"
      ]
     },
     "execution_count": 115,
     "metadata": {},
     "output_type": "execute_result"
    }
   ],
   "source": [
    "my_normal.mean()"
   ]
  },
  {
   "cell_type": "code",
   "execution_count": 116,
   "metadata": {},
   "outputs": [
    {
     "data": {
      "text/plain": [
       "10.0"
      ]
     },
     "execution_count": 116,
     "metadata": {},
     "output_type": "execute_result"
    }
   ],
   "source": [
    "my_normal.std()"
   ]
  },
  {
   "cell_type": "markdown",
   "metadata": {},
   "source": [
    "#### Sampling from a normal"
   ]
  },
  {
   "cell_type": "markdown",
   "metadata": {},
   "source": [
    "`.rvs` generates a sample drawn from the distribution"
   ]
  },
  {
   "cell_type": "code",
   "execution_count": 128,
   "metadata": {},
   "outputs": [
    {
     "data": {
      "text/plain": [
       "array([164.72230561])"
      ]
     },
     "execution_count": 128,
     "metadata": {},
     "output_type": "execute_result"
    }
   ],
   "source": [
    "my_normal.rvs(size=1)"
   ]
  },
  {
   "cell_type": "code",
   "execution_count": 129,
   "metadata": {},
   "outputs": [],
   "source": [
    "sample = my_normal.rvs(size=100)"
   ]
  },
  {
   "cell_type": "code",
   "execution_count": 131,
   "metadata": {},
   "outputs": [
    {
     "data": {
      "text/plain": [
       "array([182.56538675, 186.2335727 , 159.77751037, 175.259034  ,\n",
       "       190.41833294, 175.17964824, 156.88375616, 172.40218659,\n",
       "       177.38937546, 184.32838998, 179.01215277, 165.33728477,\n",
       "       177.77896901, 174.05169751, 174.9652202 ])"
      ]
     },
     "execution_count": 131,
     "metadata": {},
     "output_type": "execute_result"
    }
   ],
   "source": [
    "# lets show some\n",
    "sample[:15]"
   ]
  },
  {
   "cell_type": "code",
   "execution_count": 132,
   "metadata": {},
   "outputs": [
    {
     "data": {
      "text/plain": [
       "<AxesSubplot:ylabel='Count'>"
      ]
     },
     "execution_count": 132,
     "metadata": {},
     "output_type": "execute_result"
    },
    {
     "data": {
      "image/png": "[encoded data removed]",
      "text/plain": [
       "<Figure size 432x288 with 1 Axes>"
      ]
     },
     "metadata": {
      "needs_background": "light"
     },
     "output_type": "display_data"
    }
   ],
   "source": [
    "sns.histplot(sample)"
   ]
  },
  {
   "cell_type": "code",
   "execution_count": 133,
   "metadata": {},
   "outputs": [],
   "source": [
    "sample = my_normal.rvs(size=10000)"
   ]
  },
  {
   "cell_type": "code",
   "execution_count": 134,
   "metadata": {},
   "outputs": [
    {
     "data": {
      "text/plain": [
       "<AxesSubplot:ylabel='Count'>"
      ]
     },
     "execution_count": 134,
     "metadata": {},
     "output_type": "execute_result"
    },
    {
     "data": {
      "image/png": "[encoded data removed]",
      "text/plain": [
       "<Figure size 432x288 with 1 Axes>"
      ]
     },
     "metadata": {
      "needs_background": "light"
     },
     "output_type": "display_data"
    }
   ],
   "source": [
    "sns.histplot(sample)"
   ]
  },
  {
   "cell_type": "markdown",
   "metadata": {},
   "source": [
    "#### Point distribution function (density function)"
   ]
  },
  {
   "cell_type": "markdown",
   "metadata": {},
   "source": [
    "`.pdf` is the point distribution function "
   ]
  },
  {
   "cell_type": "code",
   "execution_count": 139,
   "metadata": {},
   "outputs": [],
   "source": [
    "my_normal_2 = norm(170, 15)"
   ]
  },
  {
   "cell_type": "code",
   "execution_count": 141,
   "metadata": {
    "scrolled": true
   },
   "outputs": [
    {
     "data": {
      "text/plain": [
       "[<matplotlib.lines.Line2D at 0x7f3096457c10>]"
      ]
     },
     "execution_count": 141,
     "metadata": {},
     "output_type": "execute_result"
    },
    {
     "data": {
      "image/png": "[encoded data removed]",
      "text/plain": [
       "<Figure size 432x288 with 1 Axes>"
      ]
     },
     "metadata": {
      "needs_background": "light"
     },
     "output_type": "display_data"
    }
   ],
   "source": [
    "x = np.linspace(120, 220, 100)\n",
    "y = my_normal.pdf(x)\n",
    "y2 = my_normal_2.pdf(x)\n",
    "fig, ax = plt.subplots(1, 1)\n",
    "ax.plot(x, y)\n",
    "ax.plot(x, y2)"
   ]
  },
  {
   "cell_type": "markdown",
   "metadata": {},
   "source": [
    "Total area under the curve is 1"
   ]
  },
  {
   "cell_type": "markdown",
   "metadata": {},
   "source": [
    "#### Cumulative distribution function"
   ]
  },
  {
   "cell_type": "markdown",
   "metadata": {},
   "source": [
    "`.cdf` is the cumulative distribution function  \n",
    "`.cdf(x)` tells us the probability of $X<x$"
   ]
  },
  {
   "cell_type": "markdown",
   "metadata": {},
   "source": [
    "For this distribution being **continuous**, we cannot SUM several .pdf values, but we have to INTEGRATE (area under the curve) until 170"
   ]
  },
  {
   "cell_type": "markdown",
   "metadata": {},
   "source": [
    "$P(X < 170)$"
   ]
  },
  {
   "cell_type": "code",
   "execution_count": 136,
   "metadata": {},
   "outputs": [
    {
     "data": {
      "text/plain": [
       "0.5"
      ]
     },
     "execution_count": 136,
     "metadata": {},
     "output_type": "execute_result"
    }
   ],
   "source": [
    "my_normal.cdf(170)"
   ]
  },
  {
   "cell_type": "code",
   "execution_count": 138,
   "metadata": {},
   "outputs": [
    {
     "data": {
      "text/plain": [
       "0.0013498980316300933"
      ]
     },
     "execution_count": 138,
     "metadata": {},
     "output_type": "execute_result"
    }
   ],
   "source": [
    "my_normal.cdf(140)"
   ]
  },
  {
   "cell_type": "code",
   "execution_count": 137,
   "metadata": {},
   "outputs": [
    {
     "data": {
      "text/plain": [
       "0.15865525393145707"
      ]
     },
     "execution_count": 137,
     "metadata": {},
     "output_type": "execute_result"
    }
   ],
   "source": [
    "my_normal.cdf(160)"
   ]
  },
  {
   "cell_type": "code",
   "execution_count": null,
   "metadata": {},
   "outputs": [],
   "source": [
    "import pylab as p"
   ]
  },
  {
   "cell_type": "code",
   "execution_count": 142,
   "metadata": {
    "scrolled": true
   },
   "outputs": [
    {
     "data": {
      "text/plain": [
       "[<matplotlib.lines.Line2D at 0x7f309627b790>]"
      ]
     },
     "execution_count": 142,
     "metadata": {},
     "output_type": "execute_result"
    },
    {
     "data": {
      "image/png": "[encoded data removed]",
      "text/plain": [
       "<Figure size 432x288 with 1 Axes>"
      ]
     },
     "metadata": {
      "needs_background": "light"
     },
     "output_type": "display_data"
    }
   ],
   "source": [
    "x = np.linspace(120, 220, 100)\n",
    "y = my_normal.pdf(x)\n",
    "fig, ax = plt.subplots(1, 1)\n",
    "fill_x = np.linspace(140, 160, 100)\n",
    "plt.fill_between(fill_x, my_normal.pdf(fill_x),color='r')\n",
    "plt.text(150, 0.003, \"0.158\", size=15)\n",
    "ax.plot(x,y)"
   ]
  },
  {
   "cell_type": "code",
   "execution_count": 143,
   "metadata": {},
   "outputs": [
    {
     "data": {
      "text/plain": [
       "0.9986501019683699"
      ]
     },
     "execution_count": 143,
     "metadata": {},
     "output_type": "execute_result"
    }
   ],
   "source": [
    "my_normal.cdf(200)"
   ]
  },
  {
   "cell_type": "markdown",
   "metadata": {},
   "source": [
    "What is the proportion of people in the interval ($\\mu - \\sigma, \\mu + \\sigma)$?"
   ]
  },
  {
   "cell_type": "markdown",
   "metadata": {},
   "source": [
    "$P(160 < X < 180)$"
   ]
  },
  {
   "cell_type": "code",
   "execution_count": 144,
   "metadata": {},
   "outputs": [
    {
     "data": {
      "text/plain": [
       "0.6826894921370859"
      ]
     },
     "execution_count": 144,
     "metadata": {},
     "output_type": "execute_result"
    }
   ],
   "source": [
    "my_normal.cdf(180) - my_normal.cdf(160)"
   ]
  },
  {
   "cell_type": "code",
   "execution_count": 145,
   "metadata": {
    "scrolled": true
   },
   "outputs": [
    {
     "data": {
      "text/plain": [
       "[<matplotlib.lines.Line2D at 0x7f30967e7b80>]"
      ]
     },
     "execution_count": 145,
     "metadata": {},
     "output_type": "execute_result"
    },
    {
     "data": {
      "image/png": "[encoded data removed]",
      "text/plain": [
       "<Figure size 432x288 with 1 Axes>"
      ]
     },
     "metadata": {
      "needs_background": "light"
     },
     "output_type": "display_data"
    }
   ],
   "source": [
    "x = np.linspace(140, 200, 100)\n",
    "y = my_normal.pdf(x)\n",
    "fig, ax = plt.subplots(1, 1)\n",
    "fill_x = np.linspace(160, 180, 100)\n",
    "plt.fill_between(fill_x, my_normal.pdf(fill_x),color='r')\n",
    "plt.text(165, 0.02, \"0.682\", size=15)\n",
    "ax.plot(x,y)"
   ]
  },
  {
   "cell_type": "markdown",
   "metadata": {},
   "source": [
    "What is the proportion of people in the interval ($\\mu - 2\\sigma, \\mu + 2\\sigma)$?"
   ]
  },
  {
   "cell_type": "markdown",
   "metadata": {},
   "source": [
    "What is the proportion of people in the interval ($\\mu - 3\\sigma, \\mu + 3\\sigma)$?"
   ]
  },
  {
   "cell_type": "code",
   "execution_count": 147,
   "metadata": {},
   "outputs": [
    {
     "data": {
      "text/plain": [
       "170.0"
      ]
     },
     "execution_count": 147,
     "metadata": {},
     "output_type": "execute_result"
    }
   ],
   "source": [
    "my_normal.mean()"
   ]
  },
  {
   "cell_type": "code",
   "execution_count": 148,
   "metadata": {},
   "outputs": [
    {
     "data": {
      "text/plain": [
       "10.0"
      ]
     },
     "execution_count": 148,
     "metadata": {},
     "output_type": "execute_result"
    }
   ],
   "source": [
    "my_normal.std()"
   ]
  },
  {
   "cell_type": "markdown",
   "metadata": {},
   "source": [
    "<img src=\"https://miro.medium.com/max/700/1*IZ2II2HYKeoMrdLU5jW6Dw.png\" width=500>"
   ]
  },
  {
   "cell_type": "markdown",
   "metadata": {},
   "source": [
    "Lagartos   \n",
    "Media 6.2  \n",
    "Desv tipica 1"
   ]
  },
  {
   "cell_type": "markdown",
   "metadata": {},
   "source": [
    "Entre 5.2 y 7.2 están el 68% de los lagartos"
   ]
  },
  {
   "cell_type": "markdown",
   "metadata": {},
   "source": [
    "Entre 4.2 y 8.2 están el 95.45% de los lagartos"
   ]
  },
  {
   "cell_type": "markdown",
   "metadata": {},
   "source": [
    "Entre 3.2 y 9.2 están el 99.73% de los lagartos"
   ]
  },
  {
   "cell_type": "markdown",
   "metadata": {},
   "source": [
    "#### Percent point function"
   ]
  },
  {
   "cell_type": "code",
   "execution_count": 149,
   "metadata": {
    "scrolled": true
   },
   "outputs": [
    {
     "data": {
      "text/plain": [
       "[<matplotlib.lines.Line2D at 0x7f309638bd30>]"
      ]
     },
     "execution_count": 149,
     "metadata": {},
     "output_type": "execute_result"
    },
    {
     "data": {
      "image/png": "[encoded data removed]",
      "text/plain": [
       "<Figure size 432x288 with 1 Axes>"
      ]
     },
     "metadata": {
      "needs_background": "light"
     },
     "output_type": "display_data"
    }
   ],
   "source": [
    "x = np.linspace(120, 220, 100)\n",
    "y = my_normal.pdf(x)\n",
    "fig, ax = plt.subplots(1, 1)\n",
    "fill_x = np.linspace(140, 160, 100)\n",
    "plt.fill_between(fill_x, my_normal.pdf(fill_x),color='r')\n",
    "plt.text(150, 0.003, \"0.158\", size=15)\n",
    "ax.plot(x,y)"
   ]
  },
  {
   "cell_type": "markdown",
   "metadata": {},
   "source": [
    "Is the inverse of the Cumulative Distribution function"
   ]
  },
  {
   "cell_type": "markdown",
   "metadata": {},
   "source": [
    "cdf(height) = proba"
   ]
  },
  {
   "cell_type": "markdown",
   "metadata": {},
   "source": [
    "ppf(proba) = height"
   ]
  },
  {
   "cell_type": "markdown",
   "metadata": {},
   "source": [
    "What height is such that 80% of people are lower than it?"
   ]
  },
  {
   "cell_type": "code",
   "execution_count": 150,
   "metadata": {},
   "outputs": [
    {
     "data": {
      "text/plain": [
       "178.41621233572914"
      ]
     },
     "execution_count": 150,
     "metadata": {},
     "output_type": "execute_result"
    }
   ],
   "source": [
    "my_normal.ppf(0.8)"
   ]
  },
  {
   "cell_type": "code",
   "execution_count": 151,
   "metadata": {},
   "outputs": [
    {
     "data": {
      "text/plain": [
       "193.2634787404084"
      ]
     },
     "execution_count": 151,
     "metadata": {},
     "output_type": "execute_result"
    }
   ],
   "source": [
    "my_normal.ppf(0.99)"
   ]
  },
  {
   "cell_type": "code",
   "execution_count": 154,
   "metadata": {},
   "outputs": [
    {
     "data": {
      "text/plain": [
       "212.6489079392384"
      ]
     },
     "execution_count": 154,
     "metadata": {},
     "output_type": "execute_result"
    }
   ],
   "source": [
    "my_normal.ppf(0.99999)"
   ]
  },
  {
   "cell_type": "code",
   "execution_count": 155,
   "metadata": {
    "scrolled": true
   },
   "outputs": [
    {
     "data": {
      "text/plain": [
       "[<matplotlib.lines.Line2D at 0x7f309612fa60>]"
      ]
     },
     "execution_count": 155,
     "metadata": {},
     "output_type": "execute_result"
    },
    {
     "data": {
      "image/png": "[encoded data removed]",
      "text/plain": [
       "<Figure size 432x288 with 1 Axes>"
      ]
     },
     "metadata": {
      "needs_background": "light"
     },
     "output_type": "display_data"
    }
   ],
   "source": [
    "x = np.linspace(140, 200, 100)\n",
    "y = my_normal.pdf(x)\n",
    "fig, ax = plt.subplots(1, 1)\n",
    "fill_x = np.linspace(140, 178, 100)\n",
    "plt.fill_between(fill_x, my_normal.pdf(fill_x),color='r')\n",
    "plt.text(165, 0.02, \"0.80\", size=15)\n",
    "ax.plot(x,y)"
   ]
  },
  {
   "cell_type": "markdown",
   "metadata": {},
   "source": [
    "### Other continuous probability distributions"
   ]
  },
  {
   "cell_type": "markdown",
   "metadata": {},
   "source": [
    " * Student's $t$ distribution (Student is a person)\n",
    " * Snedecor's $F$ distribution\n",
    " * Chi squared distribution"
   ]
  },
  {
   "cell_type": "markdown",
   "metadata": {},
   "source": [
    "## Summary"
   ]
  },
  {
   "cell_type": "markdown",
   "metadata": {},
   "source": [
    " * Random variables model random experiments\n",
    " * We only need a sample space and probabilities to define a random experiment"
   ]
  },
  {
   "cell_type": "markdown",
   "metadata": {},
   "source": [
    " * Discrete random variables only have a finite (or countable) number of outcomes\n",
    " * Continuous random variables take an infinite number of outcomes"
   ]
  },
  {
   "cell_type": "markdown",
   "metadata": {},
   "source": [
    " * `.rvs` returns a sample\n",
    " * `.pmf` returns the point mass function (discrete distributions)\n",
    " * `.pdf` returns the point distribution function (continuous distributions)\n",
    " * `.cdf` returns the cumulative mass/distribution function (discrete/continuous)\n",
    " * `.ppf` return inverse cumulative distribution function (discrete/continuous). Aka percentile point function"
   ]
  }
 ],
 "metadata": {
  "colab": {
   "collapsed_sections": [],
   "name": "ProbabilityDistribution (1).ipynb",
   "provenance": []
  },
  "kernelspec": {
   "display_name": "Python 3",
   "language": "python",
   "name": "python3"
  },
  "language_info": {
   "codemirror_mode": {
    "name": "ipython",
    "version": 3
   },
   "file_extension": ".py",
   "mimetype": "text/x-python",
   "name": "python",
   "nbconvert_exporter": "python",
   "pygments_lexer": "ipython3",
   "version": "3.8.5"
  },
  "toc": {
   "base_numbering": 1,
   "nav_menu": {},
   "number_sections": true,
   "sideBar": true,
   "skip_h1_title": true,
   "title_cell": "Table of Contents",
   "title_sidebar": "Contents",
   "toc_cell": true,
   "toc_position": {},
   "toc_section_display": true,
   "toc_window_display": false
  },
  "varInspector": {
   "cols": {
    "lenName": 16,
    "lenType": 16,
    "lenVar": 40
   },
   "kernels_config": {
    "python": {
     "delete_cmd_postfix": "",
     "delete_cmd_prefix": "del ",
     "library": "var_list.py",
     "varRefreshCmd": "print(var_dic_list())"
    },
    "r": {
     "delete_cmd_postfix": ") ",
     "delete_cmd_prefix": "rm(",
     "library": "var_list.r",
     "varRefreshCmd": "cat(var_dic_list()) "
    }
   },
   "types_to_exclude": [
    "module",
    "function",
    "builtin_function_or_method",
    "instance",
    "_Feature"
   ],
   "window_display": false
  }
 },
 "nbformat": 4,
 "nbformat_minor": 1
}
