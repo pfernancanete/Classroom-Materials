{
 "cells": [
  {
   "cell_type": "markdown",
   "metadata": {},
   "source": [
    "# Jupyter notebook"
   ]
  },
  {
   "cell_type": "markdown",
   "metadata": {
    "toc": true
   },
   "source": [
    "<h1>Table of Contents<span class=\"tocSkip\"></span></h1>\n",
    "<div class=\"toc\"><ul class=\"toc-item\"><li><span><a href=\"#Edit-mode-vs-Command-mode\" data-toc-modified-id=\"Edit-mode-vs-Command-mode-1\"><span class=\"toc-item-num\">1&nbsp;&nbsp;</span>Edit mode vs Command mode</a></span></li><li><span><a href=\"#Code-vs-Markdown-cell\" data-toc-modified-id=\"Code-vs-Markdown-cell-2\"><span class=\"toc-item-num\">2&nbsp;&nbsp;</span>Code vs Markdown cell</a></span></li><li><span><a href=\"#Shortcuts\" data-toc-modified-id=\"Shortcuts-3\"><span class=\"toc-item-num\">3&nbsp;&nbsp;</span>Shortcuts</a></span></li><li><span><a href=\"#Sección-1\" data-toc-modified-id=\"Sección-1-4\"><span class=\"toc-item-num\">4&nbsp;&nbsp;</span>Sección 1</a></span></li><li><span><a href=\"#Sección-2\" data-toc-modified-id=\"Sección-2-5\"><span class=\"toc-item-num\">5&nbsp;&nbsp;</span>Sección 2</a></span><ul class=\"toc-item\"><li><span><a href=\"#Subseccion-2.1\" data-toc-modified-id=\"Subseccion-2.1-5.1\"><span class=\"toc-item-num\">5.1&nbsp;&nbsp;</span>Subseccion 2.1</a></span></li></ul></li><li><span><a href=\"#Links\" data-toc-modified-id=\"Links-6\"><span class=\"toc-item-num\">6&nbsp;&nbsp;</span>Links</a></span></li><li><span><a href=\"#Images\" data-toc-modified-id=\"Images-7\"><span class=\"toc-item-num\">7&nbsp;&nbsp;</span>Images</a></span></li><li><span><a href=\"#Magic-commands\" data-toc-modified-id=\"Magic-commands-8\"><span class=\"toc-item-num\">8&nbsp;&nbsp;</span>Magic commands</a></span></li><li><span><a href=\"#Console-commands-execution\" data-toc-modified-id=\"Console-commands-execution-9\"><span class=\"toc-item-num\">9&nbsp;&nbsp;</span>Console commands execution</a></span></li><li><span><a href=\"#Summary\" data-toc-modified-id=\"Summary-10\"><span class=\"toc-item-num\">10&nbsp;&nbsp;</span>Summary</a></span></li><li><span><a href=\"#Further-materials\" data-toc-modified-id=\"Further-materials-11\"><span class=\"toc-item-num\">11&nbsp;&nbsp;</span>Further materials</a></span><ul class=\"toc-item\"><li><span><a href=\"#References\" data-toc-modified-id=\"References-11.1\"><span class=\"toc-item-num\">11.1&nbsp;&nbsp;</span>References</a></span></li></ul></li></ul></div>"
   ]
  },
  {
   "cell_type": "markdown",
   "metadata": {},
   "source": [
    "Our objective: do NOT touch the mouse!!"
   ]
  },
  {
   "cell_type": "markdown",
   "metadata": {},
   "source": [
    "`Shift + Enter`: run cell, select below"
   ]
  },
  {
   "cell_type": "markdown",
   "metadata": {},
   "source": [
    "`Ctrl + Enter`: run cell(s)"
   ]
  },
  {
   "cell_type": "markdown",
   "metadata": {},
   "source": [
    "## Edit mode vs Command mode"
   ]
  },
  {
   "cell_type": "markdown",
   "metadata": {},
   "source": [
    "Edit mode: \n",
    " * to type text/code in cells \n",
    " * green hint\n",
    " * press `Intro` to trigger it"
   ]
  },
  {
   "cell_type": "markdown",
   "metadata": {},
   "source": [
    "Command mode: \n",
    " * to use shortcuts \n",
    " * blue hint\n",
    " * press `Esc` to trigger it"
   ]
  },
  {
   "cell_type": "markdown",
   "metadata": {},
   "source": [
    "## Code vs Markdown cell"
   ]
  },
  {
   "cell_type": "code",
   "execution_count": 4,
   "metadata": {},
   "outputs": [
    {
     "ename": "SyntaxError",
     "evalue": "invalid syntax (<ipython-input-4-ab61743b3826>, line 1)",
     "output_type": "error",
     "traceback": [
      "\u001b[0;36m  File \u001b[0;32m\"<ipython-input-4-ab61743b3826>\"\u001b[0;36m, line \u001b[0;32m1\u001b[0m\n\u001b[0;31m    This is a code cell\u001b[0m\n\u001b[0m              ^\u001b[0m\n\u001b[0;31mSyntaxError\u001b[0m\u001b[0;31m:\u001b[0m invalid syntax\n"
     ]
    }
   ],
   "source": [
    "This is a code cell"
   ]
  },
  {
   "cell_type": "code",
   "execution_count": 6,
   "metadata": {},
   "outputs": [
    {
     "name": "stdout",
     "output_type": "stream",
     "text": [
      "This is a code cell, a hint 'In[6]' or similar appears on the left]\n"
     ]
    },
    {
     "data": {
      "text/plain": [
       "5"
      ]
     },
     "execution_count": 6,
     "metadata": {},
     "output_type": "execute_result"
    }
   ],
   "source": [
    "print(\"This is a code cell, a hint 'In[6]' or similar appears on the left]\")\n",
    "3 + 2"
   ]
  },
  {
   "cell_type": "markdown",
   "metadata": {},
   "source": [
    "I am going to multiply"
   ]
  },
  {
   "cell_type": "code",
   "execution_count": 7,
   "metadata": {},
   "outputs": [
    {
     "data": {
      "text/plain": [
       "9"
      ]
     },
     "execution_count": 7,
     "metadata": {},
     "output_type": "execute_result"
    }
   ],
   "source": [
    "3 * 3"
   ]
  },
  {
   "cell_type": "markdown",
   "metadata": {},
   "source": [
    "Turn cell to **Markdown** Cell by pressing `M`"
   ]
  },
  {
   "cell_type": "markdown",
   "metadata": {},
   "source": [
    "Turn cell to **Code** Cell by pressing `Y`"
   ]
  },
  {
   "cell_type": "markdown",
   "metadata": {},
   "source": [
    "## Shortcuts"
   ]
  },
  {
   "cell_type": "markdown",
   "metadata": {},
   "source": [
    "You need to be in Command Mode (blue). No `<Ctrl>` needed."
   ]
  },
  {
   "cell_type": "markdown",
   "metadata": {},
   "source": [
    "Type `H` for shortcuts **help** cheatsheet"
   ]
  },
  {
   "cell_type": "markdown",
   "metadata": {},
   "source": [
    "`A`: insert cell above"
   ]
  },
  {
   "cell_type": "markdown",
   "metadata": {},
   "source": [
    "`B`: insert cell below"
   ]
  },
  {
   "cell_type": "markdown",
   "metadata": {},
   "source": [
    "`C`: copy cell"
   ]
  },
  {
   "cell_type": "markdown",
   "metadata": {},
   "source": [
    "`V`: paste cell"
   ]
  },
  {
   "cell_type": "markdown",
   "metadata": {},
   "source": [
    "`X`: cut cell"
   ]
  },
  {
   "cell_type": "markdown",
   "metadata": {},
   "source": [
    "`Z`: undo cell deletion"
   ]
  },
  {
   "cell_type": "markdown",
   "metadata": {},
   "source": [
    "`ii`: interrupt cell execution"
   ]
  },
  {
   "cell_type": "code",
   "execution_count": 13,
   "metadata": {},
   "outputs": [],
   "source": [
    "from time import sleep"
   ]
  },
  {
   "cell_type": "code",
   "execution_count": 16,
   "metadata": {},
   "outputs": [
    {
     "name": "stdout",
     "output_type": "stream",
     "text": [
      "hola\n",
      "hola\n",
      "hola\n",
      "hola\n",
      "hola\n"
     ]
    },
    {
     "ename": "KeyboardInterrupt",
     "evalue": "",
     "output_type": "error",
     "traceback": [
      "\u001b[0;31m---------------------------------------------------------------------------\u001b[0m",
      "\u001b[0;31mKeyboardInterrupt\u001b[0m                         Traceback (most recent call last)",
      "\u001b[0;32m<ipython-input-16-d208f5c3fc4a>\u001b[0m in \u001b[0;36m<module>\u001b[0;34m\u001b[0m\n\u001b[1;32m      1\u001b[0m \u001b[0;32mfor\u001b[0m \u001b[0mi\u001b[0m \u001b[0;32min\u001b[0m \u001b[0mrange\u001b[0m\u001b[0;34m(\u001b[0m\u001b[0;36m10\u001b[0m\u001b[0;34m)\u001b[0m\u001b[0;34m:\u001b[0m\u001b[0;34m\u001b[0m\u001b[0;34m\u001b[0m\u001b[0m\n\u001b[1;32m      2\u001b[0m     \u001b[0mprint\u001b[0m\u001b[0;34m(\u001b[0m\u001b[0;34m\"hola\"\u001b[0m\u001b[0;34m)\u001b[0m\u001b[0;34m\u001b[0m\u001b[0;34m\u001b[0m\u001b[0m\n\u001b[0;32m----> 3\u001b[0;31m     \u001b[0msleep\u001b[0m\u001b[0;34m(\u001b[0m\u001b[0;36m2\u001b[0m\u001b[0;34m)\u001b[0m\u001b[0;34m\u001b[0m\u001b[0;34m\u001b[0m\u001b[0m\n\u001b[0m",
      "\u001b[0;31mKeyboardInterrupt\u001b[0m: "
     ]
    }
   ],
   "source": [
    "for i in range(10):\n",
    "    print(\"hola\")\n",
    "    sleep(2)"
   ]
  },
  {
   "cell_type": "markdown",
   "metadata": {},
   "source": [
    "`00`: kill kernel"
   ]
  },
  {
   "cell_type": "markdown",
   "metadata": {},
   "source": [
    "`L`: toggle line numbers"
   ]
  },
  {
   "cell_type": "markdown",
   "metadata": {},
   "source": [
    "`Ctrl + Shift + -` divides current cell"
   ]
  },
  {
   "cell_type": "markdown",
   "metadata": {},
   "source": [
    "`Shift + M` merge cells"
   ]
  },
  {
   "cell_type": "code",
   "execution_count": null,
   "metadata": {},
   "outputs": [],
   "source": [
    "kdlfasldfj;a\n",
    "fdkjlas;fdsajkl\n",
    "jdfklsafdljsk\n",
    "jfdklasfjksl;\n",
    "\n",
    "jdfklasldks;a\n",
    "jkfdlasdslaj;\n",
    "jkdflasfjlska\n",
    "jdklfsdjfkal;"
   ]
  },
  {
   "cell_type": "markdown",
   "metadata": {},
   "source": [
    "# Proyecto"
   ]
  },
  {
   "cell_type": "markdown",
   "metadata": {},
   "source": [
    "## Sección 1"
   ]
  },
  {
   "cell_type": "markdown",
   "metadata": {},
   "source": [
    "## Sección 2"
   ]
  },
  {
   "cell_type": "markdown",
   "metadata": {},
   "source": [
    "### Subseccion 2.1"
   ]
  },
  {
   "cell_type": "code",
   "execution_count": 30,
   "metadata": {},
   "outputs": [],
   "source": [
    "name = \"jean\""
   ]
  },
  {
   "cell_type": "code",
   "execution_count": 35,
   "metadata": {},
   "outputs": [],
   "source": [
    "user = \"jeancha\""
   ]
  },
  {
   "cell_type": "code",
   "execution_count": 32,
   "metadata": {},
   "outputs": [
    {
     "data": {
      "text/plain": [
       "'hola me llamo {name} y me gusta el simbolo @'"
      ]
     },
     "execution_count": 32,
     "metadata": {},
     "output_type": "execute_result"
    }
   ],
   "source": [
    "\"hola me llamo {name} y me gusta el simbolo @\""
   ]
  },
  {
   "cell_type": "code",
   "execution_count": 39,
   "metadata": {},
   "outputs": [
    {
     "data": {
      "text/plain": [
       "'hola me llamo jean y me gusta el simbolo @jeancha'"
      ]
     },
     "execution_count": 39,
     "metadata": {},
     "output_type": "execute_result"
    }
   ],
   "source": [
    "f\"hola me llamo {name} y me gusta el simbolo @{user}\""
   ]
  },
  {
   "cell_type": "markdown",
   "metadata": {},
   "source": [
    "## Links"
   ]
  },
  {
   "cell_type": "markdown",
   "metadata": {},
   "source": [
    "[Google](https://www.google.com)"
   ]
  },
  {
   "cell_type": "markdown",
   "metadata": {},
   "source": [
    "La variable `a` representa los litros de agua"
   ]
  },
  {
   "cell_type": "markdown",
   "metadata": {},
   "source": [
    "## Images"
   ]
  },
  {
   "cell_type": "markdown",
   "metadata": {},
   "source": [
    "<img width=500 src=\"data:image/jpeg;base64,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\">"
   ]
  },
  {
   "cell_type": "markdown",
   "metadata": {},
   "source": [
    "## Magic commands"
   ]
  },
  {
   "cell_type": "markdown",
   "metadata": {},
   "source": [
    "To make your life easier"
   ]
  },
  {
   "cell_type": "code",
   "execution_count": 18,
   "metadata": {},
   "outputs": [
    {
     "name": "stdout",
     "output_type": "stream",
     "text": [
      "49999995000000\n",
      "CPU times: user 1.57 s, sys: 0 ns, total: 1.57 s\n",
      "Wall time: 1.56 s\n"
     ]
    }
   ],
   "source": [
    "%%time\n",
    "suma = 0\n",
    "for i in range(10_000_000):\n",
    "    suma = suma + i\n",
    "    \n",
    "print(suma)"
   ]
  },
  {
   "cell_type": "markdown",
   "metadata": {},
   "source": [
    "## Console commands execution"
   ]
  },
  {
   "cell_type": "code",
   "execution_count": 19,
   "metadata": {},
   "outputs": [
    {
     "name": "stdout",
     "output_type": "stream",
     "text": [
      "/home/sheriff/ironhack/2021_january/teaching/week_03\r\n"
     ]
    }
   ],
   "source": [
    "!pwd"
   ]
  },
  {
   "cell_type": "code",
   "execution_count": 20,
   "metadata": {},
   "outputs": [
    {
     "name": "stdout",
     "output_type": "stream",
     "text": [
      "01-apis.ipynb\t  04-scraping.ipynb  index_html.html\r\n",
      "02-queries.sql\t  data\t\t     lab-api-scavenger-game-master\r\n",
      "02-sql.md\t  html_intro.pdf     my_news_key.txt\r\n",
      "03-jupyter.ipynb  images\t     QA\r\n"
     ]
    }
   ],
   "source": [
    "!ls"
   ]
  },
  {
   "cell_type": "code",
   "execution_count": 26,
   "metadata": {},
   "outputs": [
    {
     "name": "stdout",
     "output_type": "stream",
     "text": [
      "jupyterlab-pygments               0.1.2\r\n",
      "seaborn                           0.11.0\r\n"
     ]
    }
   ],
   "source": [
    "!pip list | grep ab"
   ]
  },
  {
   "cell_type": "markdown",
   "metadata": {},
   "source": [
    "## Summary"
   ]
  },
  {
   "cell_type": "markdown",
   "metadata": {},
   "source": [
    "Los shortcuts son TOP"
   ]
  },
  {
   "cell_type": "markdown",
   "metadata": {},
   "source": [
    "## Further materials"
   ]
  },
  {
   "cell_type": "markdown",
   "metadata": {},
   "source": [
    "### References"
   ]
  },
  {
   "cell_type": "markdown",
   "metadata": {},
   "source": [
    "[Jupyter magic commands](https://ipython.readthedocs.io/en/stable/interactive/magics.html)"
   ]
  },
  {
   "cell_type": "markdown",
   "metadata": {},
   "source": [
    "[Jupyter nbextensions](https://jupyter-contrib-nbextensions.readthedocs.io/en/latest/install.html)"
   ]
  },
  {
   "cell_type": "markdown",
   "metadata": {},
   "source": [
    "Jupyter shortcuts: Press `H` in command mode!"
   ]
  }
 ],
 "metadata": {
  "kernelspec": {
   "display_name": "Python 3",
   "language": "python",
   "name": "python3"
  },
  "language_info": {
   "codemirror_mode": {
    "name": "ipython",
    "version": 3
   },
   "file_extension": ".py",
   "mimetype": "text/x-python",
   "name": "python",
   "nbconvert_exporter": "python",
   "pygments_lexer": "ipython3",
   "version": "3.8.5"
  },
  "toc": {
   "base_numbering": 1,
   "nav_menu": {},
   "number_sections": true,
   "sideBar": true,
   "skip_h1_title": true,
   "title_cell": "Table of Contents",
   "title_sidebar": "Contents",
   "toc_cell": true,
   "toc_position": {
    "height": "calc(100% - 180px)",
    "left": "10px",
    "top": "150px",
    "width": "241.475px"
   },
   "toc_section_display": true,
   "toc_window_display": true
  },
  "varInspector": {
   "cols": {
    "lenName": 16,
    "lenType": 16,
    "lenVar": 40
   },
   "kernels_config": {
    "python": {
     "delete_cmd_postfix": "",
     "delete_cmd_prefix": "del ",
     "library": "var_list.py",
     "varRefreshCmd": "print(var_dic_list())"
    },
    "r": {
     "delete_cmd_postfix": ") ",
     "delete_cmd_prefix": "rm(",
     "library": "var_list.r",
     "varRefreshCmd": "cat(var_dic_list()) "
    }
   },
   "types_to_exclude": [
    "module",
    "function",
    "builtin_function_or_method",
    "instance",
    "_Feature"
   ],
   "window_display": false
  }
 },
 "nbformat": 4,
 "nbformat_minor": 4
}
