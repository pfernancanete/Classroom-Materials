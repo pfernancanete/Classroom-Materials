{
 "cells": [
  {
   "cell_type": "markdown",
   "metadata": {},
   "source": [
    "# CREAMOS APIs CON PYTHON"
   ]
  },
  {
   "cell_type": "markdown",
   "metadata": {},
   "source": [
    "![cover](../images/cover.jpg)"
   ]
  },
  {
   "cell_type": "markdown",
   "metadata": {
    "toc": true
   },
   "source": [
    "<h1>Table of Contents<span class=\"tocSkip\"></span></h1>\n",
    "<div class=\"toc\"><ul class=\"toc-item\"><li><span><a href=\"#Llamadas-a-nuestra-API-para-OBTENER-datos\" data-toc-modified-id=\"Llamadas-a-nuestra-API-para-OBTENER-datos-1\"><span class=\"toc-item-num\">1&nbsp;&nbsp;</span>Llamadas a nuestra API para OBTENER datos</a></span><ul class=\"toc-item\"><li><span><a href=\"#Como-siempre,-importamos-los-módulos-necesarios\" data-toc-modified-id=\"Como-siempre,-importamos-los-módulos-necesarios-1.1\"><span class=\"toc-item-num\">1.1&nbsp;&nbsp;</span>Como siempre, importamos los módulos necesarios</a></span></li><li><span><a href=\"#Query-básica-conociendo-el-endpoint\" data-toc-modified-id=\"Query-básica-conociendo-el-endpoint-1.2\"><span class=\"toc-item-num\">1.2&nbsp;&nbsp;</span>Query básica conociendo el endpoint</a></span></li><li><span><a href=\"#Endpoint-y-parámetros-de-la-query\" data-toc-modified-id=\"Endpoint-y-parámetros-de-la-query-1.3\"><span class=\"toc-item-num\">1.3&nbsp;&nbsp;</span>Endpoint y parámetros de la query</a></span></li></ul></li><li><span><a href=\"#Llamada-a-la-API-para-INTRODUCIR-datos\" data-toc-modified-id=\"Llamada-a-la-API-para-INTRODUCIR-datos-2\"><span class=\"toc-item-num\">2&nbsp;&nbsp;</span>Llamada a la API para INTRODUCIR datos</a></span></li></ul></div>"
   ]
  },
  {
   "cell_type": "markdown",
   "metadata": {},
   "source": [
    "### Llamadas a nuestra API para OBTENER datos"
   ]
  },
  {
   "cell_type": "markdown",
   "metadata": {},
   "source": [
    "#### Como siempre, importamos los módulos necesarios"
   ]
  },
  {
   "cell_type": "code",
   "execution_count": 1,
   "metadata": {},
   "outputs": [],
   "source": [
    "from pymongo import MongoClient\n",
    "import requests"
   ]
  },
  {
   "cell_type": "markdown",
   "metadata": {},
   "source": [
    "#### Query básica conociendo el endpoint"
   ]
  },
  {
   "cell_type": "code",
   "execution_count": 29,
   "metadata": {},
   "outputs": [],
   "source": [
    "url = \"http://localhost:5000/frases\""
   ]
  },
  {
   "cell_type": "code",
   "execution_count": 52,
   "metadata": {},
   "outputs": [],
   "source": [
    "res = requests.get(url).headers"
   ]
  },
  {
   "cell_type": "code",
   "execution_count": 53,
   "metadata": {},
   "outputs": [
    {
     "data": {
      "text/plain": [
       "{'Content-Type': 'application/json', 'Content-Length': '6020', 'Server': 'Werkzeug/1.0.1 Python/3.8.5', 'Date': 'Fri, 30 Apr 2021 08:01:27 GMT'}"
      ]
     },
     "execution_count": 53,
     "metadata": {},
     "output_type": "execute_result"
    }
   ],
   "source": [
    "res"
   ]
  },
  {
   "cell_type": "code",
   "execution_count": 54,
   "metadata": {},
   "outputs": [],
   "source": [
    "url_prueba = \"http://localhost:5000/frases/Severus Snape\""
   ]
  },
  {
   "cell_type": "code",
   "execution_count": 55,
   "metadata": {},
   "outputs": [],
   "source": [
    "res = requests.get(url_prueba).json()"
   ]
  },
  {
   "cell_type": "code",
   "execution_count": 56,
   "metadata": {},
   "outputs": [
    {
     "data": {
      "text/plain": [
       "'[{\"character_name\":\"Severus Snape\",\"dialogue\":\"There will be no foolish wand waving or silly incantations in this class. As such, I don\\'t expect many of you to appreciate the subtle science and exact art that is potion making. However, for those select few\\\\u2026 who possess the predisposition, I can teach you how to bewitch the mind and ensnare the senses. I can tell you how to bottle fame, brew glory and even put a stopper... in death. Then again, maybe some of you have come to Hogwarts in possession of abilities so formidable that you feel confident enough to... not... pay... attention. Mr. Potter. Our... new... celebrity. Tell me, what would I get if I added powdered root of asphodel to an infusion of wormwood? You don\\'t know? Well, let\\'s try again. Where, Mr. Potter, would you look if I asked you to find me a bezoar?\"},{\"character_name\":\"Severus Snape\",\"dialogue\":\"And what is the difference between monkshood and wolfbane?\"},{\"character_name\":\"Severus Snape\",\"dialogue\":\"Pity. Clearly, fame isn\\'t everything\\\\u2026 is it, Mr. Potter?\"},{\"character_name\":\"Severus Snape\",\"dialogue\":\"Good luck today, Potter. Then again, now that you\\'ve proven yourself against a troll, a little game of Quidditch should be easy work for you, even if it is against Slytherin.\"},{\"character_name\":\"Severus Snape\",\"dialogue\":\"What? Oh!\"},{\"character_name\":\"Severus Snape\",\"dialogue\":\"You don\\'t want me as your enemy, Quirrell.\"},{\"character_name\":\"Severus Snape\",\"dialogue\":\"You know perfectly well what I mean. We\\'ll have another chat soon\\\\u2026when you\\'ve had time to decide where your loyalties lie.\"},{\"character_name\":\"Severus Snape\",\"dialogue\":\"Good afternoon. Now what would three young Gryffindors such as yourselves be doing inside on a day like this?\"},{\"character_name\":\"Severus Snape\",\"dialogue\":\"You ought to be careful. People will think you\\'re\\\\u2026up to something.\"}]'"
      ]
     },
     "execution_count": 56,
     "metadata": {},
     "output_type": "execute_result"
    }
   ],
   "source": [
    "res"
   ]
  },
  {
   "cell_type": "code",
   "execution_count": 20,
   "metadata": {},
   "outputs": [
    {
     "data": {
      "text/html": [
       "<div>\n",
       "<style scoped>\n",
       "    .dataframe tbody tr th:only-of-type {\n",
       "        vertical-align: middle;\n",
       "    }\n",
       "\n",
       "    .dataframe tbody tr th {\n",
       "        vertical-align: top;\n",
       "    }\n",
       "\n",
       "    .dataframe thead th {\n",
       "        text-align: right;\n",
       "    }\n",
       "</style>\n",
       "<table border=\"1\" class=\"dataframe\">\n",
       "  <thead>\n",
       "    <tr style=\"text-align: right;\">\n",
       "      <th></th>\n",
       "      <th>scene</th>\n",
       "      <th>character_name</th>\n",
       "      <th>dialogue</th>\n",
       "    </tr>\n",
       "  </thead>\n",
       "  <tbody>\n",
       "    <tr>\n",
       "      <th>0</th>\n",
       "      <td>1</td>\n",
       "      <td>Albus Dumbledore</td>\n",
       "      <td>I should have known that you would be here, Pr...</td>\n",
       "    </tr>\n",
       "    <tr>\n",
       "      <th>1</th>\n",
       "      <td>1</td>\n",
       "      <td>Albus Dumbledore</td>\n",
       "      <td>Hagrid is bringing him.</td>\n",
       "    </tr>\n",
       "    <tr>\n",
       "      <th>2</th>\n",
       "      <td>1</td>\n",
       "      <td>Albus Dumbledore</td>\n",
       "      <td>Ah, Professor, I would trust Hagrid with my life.</td>\n",
       "    </tr>\n",
       "    <tr>\n",
       "      <th>3</th>\n",
       "      <td>1</td>\n",
       "      <td>Albus Dumbledore</td>\n",
       "      <td>No problems, I trust, Hagrid?</td>\n",
       "    </tr>\n",
       "    <tr>\n",
       "      <th>4</th>\n",
       "      <td>1</td>\n",
       "      <td>Albus Dumbledore</td>\n",
       "      <td>The only family he has.</td>\n",
       "    </tr>\n",
       "  </tbody>\n",
       "</table>\n",
       "</div>"
      ],
      "text/plain": [
       "   scene    character_name                                           dialogue\n",
       "0      1  Albus Dumbledore  I should have known that you would be here, Pr...\n",
       "1      1  Albus Dumbledore                            Hagrid is bringing him.\n",
       "2      1  Albus Dumbledore  Ah, Professor, I would trust Hagrid with my life.\n",
       "3      1  Albus Dumbledore                      No problems, I trust, Hagrid?\n",
       "4      1  Albus Dumbledore                            The only family he has."
      ]
     },
     "execution_count": 20,
     "metadata": {},
     "output_type": "execute_result"
    }
   ],
   "source": [
    "import pandas as pd\n",
    "data = pd.DataFrame(res)\n",
    "data.head()"
   ]
  },
  {
   "cell_type": "code",
   "execution_count": null,
   "metadata": {},
   "outputs": [],
   "source": []
  },
  {
   "cell_type": "code",
   "execution_count": null,
   "metadata": {},
   "outputs": [],
   "source": []
  },
  {
   "cell_type": "code",
   "execution_count": null,
   "metadata": {},
   "outputs": [],
   "source": []
  },
  {
   "cell_type": "code",
   "execution_count": null,
   "metadata": {},
   "outputs": [],
   "source": []
  },
  {
   "cell_type": "code",
   "execution_count": null,
   "metadata": {},
   "outputs": [],
   "source": []
  },
  {
   "cell_type": "markdown",
   "metadata": {},
   "source": [
    "#### Endpoint y parámetros de la query"
   ]
  },
  {
   "cell_type": "code",
   "execution_count": 6,
   "metadata": {},
   "outputs": [],
   "source": [
    "url_frases = \"http://localhost:5000/frases/\"\n",
    "person = \"Albus Dumbledore\""
   ]
  },
  {
   "cell_type": "code",
   "execution_count": 7,
   "metadata": {},
   "outputs": [],
   "source": [
    "frases = requests.get(url_frases + person).json()"
   ]
  },
  {
   "cell_type": "code",
   "execution_count": 8,
   "metadata": {},
   "outputs": [
    {
     "data": {
      "text/plain": [
       "{'scene': 1,\n",
       " 'character_name': 'Albus Dumbledore',\n",
       " 'dialogue': 'I should have known that you would be here, Professor McGonagall.'}"
      ]
     },
     "execution_count": 8,
     "metadata": {},
     "output_type": "execute_result"
    }
   ],
   "source": [
    "frases[0]"
   ]
  },
  {
   "cell_type": "markdown",
   "metadata": {},
   "source": [
    "### Llamada a la API para INTRODUCIR datos"
   ]
  },
  {
   "cell_type": "code",
   "execution_count": 60,
   "metadata": {},
   "outputs": [],
   "source": [
    "datos = {'scene': 3,\n",
    " 'character_name': 'Dobby',\n",
    " 'dialogue': 'Dobby is a free elf'}"
   ]
  },
  {
   "cell_type": "code",
   "execution_count": 61,
   "metadata": {},
   "outputs": [],
   "source": [
    "url = \"http://localhost:5000/nuevafrase\""
   ]
  },
  {
   "cell_type": "code",
   "execution_count": 63,
   "metadata": {},
   "outputs": [
    {
     "data": {
      "text/plain": [
       "<Response [200]>"
      ]
     },
     "execution_count": 63,
     "metadata": {},
     "output_type": "execute_result"
    }
   ],
   "source": [
    "requests.post(url, data=datos)"
   ]
  },
  {
   "cell_type": "code",
   "execution_count": 24,
   "metadata": {},
   "outputs": [],
   "source": [
    "datos = {'scene': 3,\n",
    " 'character_name': 'Ras',\n",
    " 'dialogue': 'Gracias a todas por el súper día de ayer'}"
   ]
  },
  {
   "cell_type": "code",
   "execution_count": 26,
   "metadata": {},
   "outputs": [],
   "source": [
    "hola = requests.post(url, data=datos)"
   ]
  },
  {
   "cell_type": "code",
   "execution_count": 28,
   "metadata": {},
   "outputs": [
    {
     "data": {
      "text/plain": [
       "b'Se ha introducido el mensaje en la base de datos'"
      ]
     },
     "execution_count": 28,
     "metadata": {},
     "output_type": "execute_result"
    }
   ],
   "source": [
    "hola.content"
   ]
  },
  {
   "cell_type": "code",
   "execution_count": null,
   "metadata": {},
   "outputs": [],
   "source": []
  }
 ],
 "metadata": {
  "kernelspec": {
   "display_name": "Python 3",
   "language": "python",
   "name": "python3"
  },
  "language_info": {
   "codemirror_mode": {
    "name": "ipython",
    "version": 3
   },
   "file_extension": ".py",
   "mimetype": "text/x-python",
   "name": "python",
   "nbconvert_exporter": "python",
   "pygments_lexer": "ipython3",
   "version": "3.8.5"
  },
  "toc": {
   "base_numbering": 1,
   "nav_menu": {},
   "number_sections": true,
   "sideBar": true,
   "skip_h1_title": true,
   "title_cell": "Table of Contents",
   "title_sidebar": "Contents",
   "toc_cell": true,
   "toc_position": {
    "height": "calc(100% - 180px)",
    "left": "10px",
    "top": "150px",
    "width": "288px"
   },
   "toc_section_display": true,
   "toc_window_display": false
  }
 },
 "nbformat": 4,
 "nbformat_minor": 4
}
