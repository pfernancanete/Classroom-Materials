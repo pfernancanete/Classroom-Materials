{
 "cells": [
  {
   "cell_type": "markdown",
   "id": "rising-buyer",
   "metadata": {
    "toc": true
   },
   "source": [
    "<h1>Table of Contents<span class=\"tocSkip\"></span></h1>\n",
    "<div class=\"toc\"><ul class=\"toc-item\"><li><span><a href=\"#Funciones-lambda\" data-toc-modified-id=\"Funciones-lambda-1\"><span class=\"toc-item-num\">1&nbsp;&nbsp;</span>Funciones lambda</a></span><ul class=\"toc-item\"><li><span><a href=\"#Sintaxis-de-una-lambda\" data-toc-modified-id=\"Sintaxis-de-una-lambda-1.1\"><span class=\"toc-item-num\">1.1&nbsp;&nbsp;</span>Sintaxis de una lambda</a></span></li><li><span><a href=\"#Ejemplos-de-lambda\" data-toc-modified-id=\"Ejemplos-de-lambda-1.2\"><span class=\"toc-item-num\">1.2&nbsp;&nbsp;</span>Ejemplos de lambda</a></span></li></ul></li><li><span><a href=\"#map,-filter-and-reduce-----the-fun-way!\" data-toc-modified-id=\"map,-filter-and-reduce-----the-fun-way!-2\"><span class=\"toc-item-num\">2&nbsp;&nbsp;</span>map, filter and reduce --- the fun way!</a></span><ul class=\"toc-item\"><li><span><a href=\"#A-cada-estudiante-se-le-asigna-un-tema-al-azar\" data-toc-modified-id=\"A-cada-estudiante-se-le-asigna-un-tema-al-azar-2.1\"><span class=\"toc-item-num\">2.1&nbsp;&nbsp;</span>A cada estudiante se le asigna un tema al azar</a></span></li><li><span><a href=\"#Crear-grupos-con-otras-personas-que-hayan-estudiado-la-misma-función\" data-toc-modified-id=\"Crear-grupos-con-otras-personas-que-hayan-estudiado-la-misma-función-2.2\"><span class=\"toc-item-num\">2.2&nbsp;&nbsp;</span>Crear grupos con otras personas que hayan estudiado la misma función</a></span></li><li><span><a href=\"#Crea-grupos-con-otras-personas-que-hayan-estudiado-otras-funciones\" data-toc-modified-id=\"Crea-grupos-con-otras-personas-que-hayan-estudiado-otras-funciones-2.3\"><span class=\"toc-item-num\">2.3&nbsp;&nbsp;</span>Crea grupos con otras personas que hayan estudiado otras funciones</a></span></li></ul></li><li><span><a href=\"#Map,-Filter,-Reduce\" data-toc-modified-id=\"Map,-Filter,-Reduce-3\"><span class=\"toc-item-num\">3&nbsp;&nbsp;</span>Map, Filter, Reduce</a></span><ul class=\"toc-item\"><li><span><a href=\"#Map\" data-toc-modified-id=\"Map-3.1\"><span class=\"toc-item-num\">3.1&nbsp;&nbsp;</span>Map</a></span><ul class=\"toc-item\"><li><span><a href=\"#Primero-lo-hacemos-con-funciones\" data-toc-modified-id=\"Primero-lo-hacemos-con-funciones-3.1.1\"><span class=\"toc-item-num\">3.1.1&nbsp;&nbsp;</span>Primero lo hacemos con funciones</a></span></li><li><span><a href=\"#Extra:-¡Hazlo-con-lambda!\" data-toc-modified-id=\"Extra:-¡Hazlo-con-lambda!-3.1.2\"><span class=\"toc-item-num\">3.1.2&nbsp;&nbsp;</span>Extra: ¡Hazlo con lambda!</a></span></li></ul></li><li><span><a href=\"#Filter\" data-toc-modified-id=\"Filter-3.2\"><span class=\"toc-item-num\">3.2&nbsp;&nbsp;</span>Filter</a></span><ul class=\"toc-item\"><li><span><a href=\"#Primero-lo-hacemos-con-funciones\" data-toc-modified-id=\"Primero-lo-hacemos-con-funciones-3.2.1\"><span class=\"toc-item-num\">3.2.1&nbsp;&nbsp;</span>Primero lo hacemos con funciones</a></span></li><li><span><a href=\"#Extra:-¡Hazlo-con-lambda!\" data-toc-modified-id=\"Extra:-¡Hazlo-con-lambda!-3.2.2\"><span class=\"toc-item-num\">3.2.2&nbsp;&nbsp;</span>Extra: ¡Hazlo con lambda!</a></span></li></ul></li><li><span><a href=\"#Reduce\" data-toc-modified-id=\"Reduce-3.3\"><span class=\"toc-item-num\">3.3&nbsp;&nbsp;</span>Reduce</a></span><ul class=\"toc-item\"><li><span><a href=\"#¿Qué-ha-pasado?\" data-toc-modified-id=\"¿Qué-ha-pasado?-3.3.1\"><span class=\"toc-item-num\">3.3.1&nbsp;&nbsp;</span>¿Qué ha pasado?</a></span></li></ul></li><li><span><a href=\"#Primero-lo-hacemos-con-funciones\" data-toc-modified-id=\"Primero-lo-hacemos-con-funciones-3.4\"><span class=\"toc-item-num\">3.4&nbsp;&nbsp;</span>Primero lo hacemos con funciones</a></span></li><li><span><a href=\"#Extra:-¡Hazlo-con-lambda!\" data-toc-modified-id=\"Extra:-¡Hazlo-con-lambda!-3.5\"><span class=\"toc-item-num\">3.5&nbsp;&nbsp;</span>Extra: ¡Hazlo con lambda!</a></span></li></ul></li><li><span><a href=\"#Summary\" data-toc-modified-id=\"Summary-4\"><span class=\"toc-item-num\">4&nbsp;&nbsp;</span>Summary</a></span></li><li><span><a href=\"#Further-materials\" data-toc-modified-id=\"Further-materials-5\"><span class=\"toc-item-num\">5&nbsp;&nbsp;</span>Further materials</a></span></li></ul></div>"
   ]
  },
  {
   "cell_type": "markdown",
   "id": "bottom-commerce",
   "metadata": {},
   "source": [
    "# Lambda & Map, Filter, Reduce"
   ]
  },
  {
   "cell_type": "markdown",
   "id": "twelve-decrease",
   "metadata": {},
   "source": [
    "![gif](https://media.giphy.com/media/11lBqvULyT9C36/giphy.gif)"
   ]
  },
  {
   "cell_type": "markdown",
   "id": "solar-cross",
   "metadata": {},
   "source": [
    "## Funciones lambda"
   ]
  },
  {
   "cell_type": "markdown",
   "id": "biblical-niagara",
   "metadata": {},
   "source": [
    "Una función lambda es una función anónima, sin identificador, que puede declararse in situ. Dado que podemos usar funciones como argumentos y asignarlas a variables, la notación que posibilita la creación de funciones lambda es muy práctica en muchos casos."
   ]
  },
  {
   "cell_type": "markdown",
   "id": "julian-cologne",
   "metadata": {},
   "source": [
    "### Sintaxis de una lambda\n",
    "```python\n",
    "lambda <lista de parámetros>: <expresión de retorno>\n",
    "```"
   ]
  },
  {
   "cell_type": "markdown",
   "id": "balanced-perry",
   "metadata": {},
   "source": [
    "### Ejemplos de lambda"
   ]
  },
  {
   "cell_type": "code",
   "execution_count": 13,
   "id": "hungarian-methodology",
   "metadata": {},
   "outputs": [
    {
     "data": {
      "text/plain": [
       "<function __main__.<lambda>(x, y)>"
      ]
     },
     "execution_count": 13,
     "metadata": {},
     "output_type": "execute_result"
    }
   ],
   "source": [
    "lambda x: x **2 #Devuelve el cuadrado de un número\n",
    "lambda x, y: x + y #devuelve la suma de los dos argumentos\n",
    "lambda x: x[0] #devuelve es primer elemento del argumento\n",
    "lambda x,y : x if x > y else y #devuelve el mayor de los argumentos "
   ]
  },
  {
   "cell_type": "code",
   "execution_count": 1,
   "id": "juvenile-governor",
   "metadata": {},
   "outputs": [],
   "source": [
    "# Ejemplo de una función normal"
   ]
  },
  {
   "cell_type": "code",
   "execution_count": 14,
   "id": "otherwise-premium",
   "metadata": {},
   "outputs": [],
   "source": [
    "def suma (a,b):\n",
    "    return a + b"
   ]
  },
  {
   "cell_type": "code",
   "execution_count": 15,
   "id": "searching-advisory",
   "metadata": {},
   "outputs": [
    {
     "data": {
      "text/plain": [
       "5"
      ]
     },
     "execution_count": 15,
     "metadata": {},
     "output_type": "execute_result"
    }
   ],
   "source": [
    "suma (2,3)"
   ]
  },
  {
   "cell_type": "code",
   "execution_count": 2,
   "id": "viral-holiday",
   "metadata": {},
   "outputs": [],
   "source": [
    "# Esa misma función como lambda"
   ]
  },
  {
   "cell_type": "markdown",
   "id": "parallel-drove",
   "metadata": {},
   "source": [
    "Podemos asignar estas expresiones a variables, lo cual las convierte en identificadores válidos de función."
   ]
  },
  {
   "cell_type": "code",
   "execution_count": 16,
   "id": "hundred-shipping",
   "metadata": {},
   "outputs": [
    {
     "data": {
      "text/plain": [
       "5"
      ]
     },
     "execution_count": 16,
     "metadata": {},
     "output_type": "execute_result"
    }
   ],
   "source": [
    "suma_lambda = lambda a,b : a + b\n",
    "suma_lambda(2,3)"
   ]
  },
  {
   "cell_type": "code",
   "execution_count": 3,
   "id": "brilliant-editing",
   "metadata": {},
   "outputs": [],
   "source": [
    "# Lambda \"definida\" y ejecutada en una línea"
   ]
  },
  {
   "cell_type": "code",
   "execution_count": 17,
   "id": "atlantic-lloyd",
   "metadata": {},
   "outputs": [
    {
     "data": {
      "text/plain": [
       "30"
      ]
     },
     "execution_count": 17,
     "metadata": {},
     "output_type": "execute_result"
    }
   ],
   "source": [
    "(lambda a,b : a + b)(10,20)"
   ]
  },
  {
   "cell_type": "code",
   "execution_count": 4,
   "id": "chemical-avatar",
   "metadata": {},
   "outputs": [],
   "source": [
    "# Otro ejemplo de lambda guardada en una variable"
   ]
  },
  {
   "cell_type": "code",
   "execution_count": 18,
   "id": "ahead-height",
   "metadata": {},
   "outputs": [],
   "source": [
    "saluda = lambda a: \"Hola\" if a < 5 else \"Adiós\" if a > 10 else \"Nada\""
   ]
  },
  {
   "cell_type": "code",
   "execution_count": 20,
   "id": "billion-cooper",
   "metadata": {},
   "outputs": [
    {
     "data": {
      "text/plain": [
       "'Nada'"
      ]
     },
     "execution_count": 20,
     "metadata": {},
     "output_type": "execute_result"
    }
   ],
   "source": [
    "saluda(8)"
   ]
  },
  {
   "cell_type": "markdown",
   "id": "efficient-connectivity",
   "metadata": {},
   "source": [
    "También es posible usar estas funciones anónimas como argumentos en la llamada a otras funcoines. Por ejemplo, en una llamada a sorted() o list.sort() podemos usar una función lambda como argumento para el parámetro key:"
   ]
  },
  {
   "cell_type": "code",
   "execution_count": 21,
   "id": "affecting-study",
   "metadata": {},
   "outputs": [],
   "source": [
    "distancias = [(\"Madrid\", 331), (\"Córdoba\", 117), (\"Barcelona\",798)]"
   ]
  },
  {
   "cell_type": "code",
   "execution_count": 22,
   "id": "stone-spread",
   "metadata": {},
   "outputs": [
    {
     "data": {
      "text/plain": [
       "[('Córdoba', 117), ('Madrid', 331), ('Barcelona', 798)]"
      ]
     },
     "execution_count": 22,
     "metadata": {},
     "output_type": "execute_result"
    }
   ],
   "source": [
    "#Ordenamos por la distancia, de menor a mayor by default \n",
    "sorted(distancias, key= lambda x: x[1])"
   ]
  },
  {
   "cell_type": "code",
   "execution_count": 23,
   "id": "later-right",
   "metadata": {},
   "outputs": [
    {
     "data": {
      "text/plain": [
       "[('Barcelona', 798), ('Madrid', 331), ('Córdoba', 117)]"
      ]
     },
     "execution_count": 23,
     "metadata": {},
     "output_type": "execute_result"
    }
   ],
   "source": [
    "#Ordenamos por distancia pero de mayor a menor, con reverse = True\n",
    "sorted(distancias, key = lambda x: x[1], reverse= True)"
   ]
  },
  {
   "cell_type": "code",
   "execution_count": 24,
   "id": "resident-insulation",
   "metadata": {},
   "outputs": [
    {
     "data": {
      "text/plain": [
       "[('Barcelona', 798), ('Córdoba', 117), ('Madrid', 331)]"
      ]
     },
     "execution_count": 24,
     "metadata": {},
     "output_type": "execute_result"
    }
   ],
   "source": [
    "#Ordenamos alfabéticamente utilizando el primer elemento x[0]\n",
    "sorted(distancias, key= lambda x: x[0])"
   ]
  },
  {
   "cell_type": "code",
   "execution_count": 25,
   "id": "driving-closing",
   "metadata": {},
   "outputs": [
    {
     "data": {
      "text/plain": [
       "[('Madrid', 331), ('Córdoba', 117), ('Barcelona', 798)]"
      ]
     },
     "execution_count": 25,
     "metadata": {},
     "output_type": "execute_result"
    }
   ],
   "source": [
    "#Ordenamos alfabéticamente de final a principio utilizando reverse = True\n",
    "sorted(distancias, key= lambda x: x[0], reverse = True)"
   ]
  },
  {
   "cell_type": "markdown",
   "id": "endangered-billy",
   "metadata": {},
   "source": [
    "Por último, si queremos devolver como resultado de una función a otra función podemos usar cualquier función conocida en el ámbito de la función que realiza el retorno, o usar una función lambda:"
   ]
  },
  {
   "cell_type": "code",
   "execution_count": 26,
   "id": "informative-motor",
   "metadata": {},
   "outputs": [],
   "source": [
    "def comparaciones (tipo):\n",
    "    \n",
    "    def mayor (a,b):\n",
    "        if a > b:\n",
    "            return a\n",
    "        else:\n",
    "            return b\n",
    "        \n",
    "    if tipo == \"Mayor\":\n",
    "        return mayor\n",
    "    \n",
    "    if tipo == \"Menor\":\n",
    "        return lambda x,y: x if x < y else y"
   ]
  },
  {
   "cell_type": "code",
   "execution_count": 32,
   "id": "polar-desktop",
   "metadata": {},
   "outputs": [],
   "source": [
    "def comparaciones_2 (tipo):\n",
    "    \"\"\"\n",
    "    Esta función devuelve otra función.\n",
    "    Devuelve la función mayor si como argumento entra \"Mayor\" en forma de string\n",
    "    Devuelve menor cuando en el argumento entra \"Menor\" en forma de string\n",
    "    \"\"\"\n",
    "    def mayor (a,b):\n",
    "        if a > b:\n",
    "            return a\n",
    "        else:\n",
    "            return b\n",
    "    \n",
    "    def menor (a,b):\n",
    "        if a < b:\n",
    "            return a\n",
    "        else:\n",
    "            return b\n",
    "        \n",
    "    if tipo == \"Mayor\":\n",
    "        return mayor\n",
    "    \n",
    "    if tipo == \"Menor\":\n",
    "        return menor"
   ]
  },
  {
   "cell_type": "code",
   "execution_count": 43,
   "id": "quality-milwaukee",
   "metadata": {},
   "outputs": [],
   "source": [
    "def comparaciones_3 (tipo, a, b):\n",
    "    if tipo == \"Mayor\":\n",
    "        if a > b:\n",
    "            return a\n",
    "        else:\n",
    "            return b\n",
    "        \n",
    "    else:\n",
    "        if a < b:\n",
    "            return a\n",
    "        else:\n",
    "            return b"
   ]
  },
  {
   "cell_type": "code",
   "execution_count": 44,
   "id": "completed-growing",
   "metadata": {},
   "outputs": [
    {
     "name": "stdout",
     "output_type": "stream",
     "text": [
      "5\n"
     ]
    }
   ],
   "source": [
    "print(comparaciones_3(\"Mayor\",4,5))"
   ]
  },
  {
   "cell_type": "code",
   "execution_count": 35,
   "id": "extended-agreement",
   "metadata": {},
   "outputs": [
    {
     "data": {
      "text/plain": [
       "20"
      ]
     },
     "execution_count": 35,
     "metadata": {},
     "output_type": "execute_result"
    }
   ],
   "source": [
    "comparaciones_2(\"Mayor\")(19,20)"
   ]
  },
  {
   "cell_type": "code",
   "execution_count": 27,
   "id": "potential-phrase",
   "metadata": {},
   "outputs": [],
   "source": [
    "el_mayor = comparaciones(\"Mayor\")(19,20)\n",
    "el_menor = comparaciones(\"Menor\")"
   ]
  },
  {
   "cell_type": "code",
   "execution_count": 28,
   "id": "rocky-second",
   "metadata": {},
   "outputs": [
    {
     "data": {
      "text/plain": [
       "19"
      ]
     },
     "execution_count": 28,
     "metadata": {},
     "output_type": "execute_result"
    }
   ],
   "source": [
    "el_mayor(19,7)"
   ]
  },
  {
   "cell_type": "code",
   "execution_count": 29,
   "id": "fallen-album",
   "metadata": {},
   "outputs": [
    {
     "data": {
      "text/plain": [
       "3"
      ]
     },
     "execution_count": 29,
     "metadata": {},
     "output_type": "execute_result"
    }
   ],
   "source": [
    "el_menor(10,3)"
   ]
  },
  {
   "cell_type": "code",
   "execution_count": 30,
   "id": "toxic-jackson",
   "metadata": {},
   "outputs": [
    {
     "data": {
      "text/plain": [
       "20"
      ]
     },
     "execution_count": 30,
     "metadata": {},
     "output_type": "execute_result"
    }
   ],
   "source": [
    "comparaciones(\"Mayor\")(19,20)"
   ]
  },
  {
   "cell_type": "markdown",
   "id": "competitive-invalid",
   "metadata": {},
   "source": [
    "## map, filter and reduce --- the fun way!"
   ]
  },
  {
   "cell_type": "markdown",
   "id": "stunning-kansas",
   "metadata": {},
   "source": [
    "Vamos a jugar a un pequeño juego en el que vais a ser los protagonistas de la clase\n",
    "![otrogif](https://media.giphy.com/media/dM2xuxnJCg4H6/giphy.gif)"
   ]
  },
  {
   "cell_type": "markdown",
   "id": "corrected-liberal",
   "metadata": {},
   "source": [
    "### A cada estudiante se le asigna un tema al azar"
   ]
  },
  {
   "cell_type": "code",
   "execution_count": 45,
   "id": "blessed-scale",
   "metadata": {},
   "outputs": [],
   "source": [
    "estudiantes = [\"Unai\",\n",
    "\"Susana\",\n",
    "\"Pablo Fernandez\",\n",
    "\"Julieta\",\n",
    "\"Jacobo\",\n",
    "\"Manu\",\n",
    "\"Emilio\",\n",
    "\"Antonio\",\n",
    "\"Alejandro\",\n",
    "\"Alberto\",\n",
    "\"Pablo Fernández Romero\",\n",
    "\"Bertrán\",\n",
    "\"Luis\",\n",
    "\"Javier\",\n",
    "\"Francisco\",\n",
    "\"Eduardo\",\n",
    "\"Darío\",\n",
    "\"Cristina\",\n",
    "\"Carmen\",\n",
    "\"Alberto Pérez-Lescure\" ]"
   ]
  },
  {
   "cell_type": "code",
   "execution_count": 46,
   "id": "interpreted-weight",
   "metadata": {},
   "outputs": [
    {
     "data": {
      "text/plain": [
       "20"
      ]
     },
     "execution_count": 46,
     "metadata": {},
     "output_type": "execute_result"
    }
   ],
   "source": [
    "len(estudiantes)"
   ]
  },
  {
   "cell_type": "code",
   "execution_count": 50,
   "id": "downtown-holder",
   "metadata": {},
   "outputs": [],
   "source": [
    "topics = [\"map\"] *6 + [\"filter\"] *7 + [\"reduce\"]*7"
   ]
  },
  {
   "cell_type": "code",
   "execution_count": 52,
   "id": "atomic-headset",
   "metadata": {},
   "outputs": [],
   "source": [
    "import random\n",
    "random.shuffle(estudiantes)\n",
    "random.shuffle(topics)\n",
    "todojunto = list(zip(estudiantes,topics))"
   ]
  },
  {
   "cell_type": "code",
   "execution_count": 53,
   "id": "noticed-planner",
   "metadata": {
    "scrolled": true
   },
   "outputs": [
    {
     "data": {
      "text/plain": [
       "[('Carmen', 'filter'),\n",
       " ('Alberto', 'filter'),\n",
       " ('Bertrán', 'reduce'),\n",
       " ('Pablo Fernandez', 'reduce'),\n",
       " ('Alberto Pérez-Lescure', 'map'),\n",
       " ('Pablo Fernández Romero', 'map'),\n",
       " ('Antonio', 'filter'),\n",
       " ('Emilio', 'reduce'),\n",
       " ('Francisco', 'map'),\n",
       " ('Darío', 'reduce'),\n",
       " ('Alejandro', 'filter'),\n",
       " ('Jacobo', 'map'),\n",
       " ('Eduardo', 'filter'),\n",
       " ('Javier', 'reduce'),\n",
       " ('Cristina', 'map'),\n",
       " ('Manu', 'filter'),\n",
       " ('Julieta', 'filter'),\n",
       " ('Susana', 'reduce'),\n",
       " ('Luis', 'map'),\n",
       " ('Unai', 'reduce')]"
      ]
     },
     "execution_count": 53,
     "metadata": {},
     "output_type": "execute_result"
    }
   ],
   "source": [
    "todojunto"
   ]
  },
  {
   "cell_type": "markdown",
   "id": "meaning-count",
   "metadata": {},
   "source": [
    "Tienes 10 minutos para explorar y comprender la función que te han asignado por tu cuenta. Puede que estos enlaces te resulten útiles:\n",
    "\n",
    "* [enlace 1](https://medium.com/swlh/higher-order-functions-in-python-map-filter-and-reduce-34299fee1b21)\n",
    "* [enlace 2](https://www.learnpython.org/en/Map,_Filter,_Reduce)\n",
    "* [enlace 3](https://stackabuse.com/map-filter-and-reduce-in-python-with-examples)"
   ]
  },
  {
   "cell_type": "markdown",
   "id": "unknown-tomorrow",
   "metadata": {},
   "source": [
    "### Crear grupos con otras personas que hayan estudiado la misma función\n",
    "\n",
    "Tienes otros 10 minutos para compartir pensamientos y dudas con otros estudiantes que hayan leído sobre el mismo tema.\n",
    "\n",
    "¡Usemos las salas de Zoom!"
   ]
  },
  {
   "cell_type": "markdown",
   "id": "standing-missile",
   "metadata": {},
   "source": [
    "### Crea grupos con otras personas que hayan estudiado otras funciones\n",
    "\n",
    "En esta parte del juego se te asigna un grupo en el que eres el experto en tu función. \n",
    "\n",
    "Cada miembro del grupo tiene 5 minutos para explicar su función a los demás miembros del equipo."
   ]
  },
  {
   "cell_type": "code",
   "execution_count": 55,
   "id": "editorial-gender",
   "metadata": {},
   "outputs": [],
   "source": [
    "map_expertos = list(filter(lambda x: x[1] == \"map\",todojunto))\n",
    "filter_expertos = list(filter(lambda x : x[1] == \"filter\", todojunto))\n",
    "reduce_expertos = list(filter(lambda x: x [1] == \"reduce\", todojunto))"
   ]
  },
  {
   "cell_type": "code",
   "execution_count": 57,
   "id": "therapeutic-hollow",
   "metadata": {},
   "outputs": [
    {
     "name": "stdout",
     "output_type": "stream",
     "text": [
      "6\n",
      "7\n",
      "7\n"
     ]
    }
   ],
   "source": [
    "print(len(map_expertos))\n",
    "print(len(filter_expertos))\n",
    "print(len(reduce_expertos))"
   ]
  },
  {
   "cell_type": "code",
   "execution_count": 58,
   "id": "otherwise-moment",
   "metadata": {},
   "outputs": [],
   "source": [
    "map_expertos.append(\"HOLA\")"
   ]
  },
  {
   "cell_type": "code",
   "execution_count": 61,
   "id": "convertible-banking",
   "metadata": {},
   "outputs": [
    {
     "name": "stdout",
     "output_type": "stream",
     "text": [
      "Grupo 1: [('Alberto Pérez-Lescure', 'map'), ('Carmen', 'filter'), ('Bertrán', 'reduce')]\n",
      "Grupo 2: [('Pablo Fernández Romero', 'map'), ('Alberto', 'filter'), ('Pablo Fernandez', 'reduce')]\n",
      "Grupo 3: [('Francisco', 'map'), ('Antonio', 'filter'), ('Emilio', 'reduce')]\n",
      "Grupo 4: [('Jacobo', 'map'), ('Alejandro', 'filter'), ('Darío', 'reduce')]\n",
      "Grupo 5: [('Cristina', 'map'), ('Eduardo', 'filter'), ('Javier', 'reduce')]\n",
      "Grupo 6: [('Luis', 'map'), ('Manu', 'filter'), ('Susana', 'reduce')]\n",
      "Grupo 7: ['HOLA', ('Julieta', 'filter'), ('Unai', 'reduce')]\n"
     ]
    }
   ],
   "source": [
    "i = 1\n",
    "for gente in zip(map_expertos, filter_expertos, reduce_expertos):\n",
    "    print(f\"Grupo {i}: {[[y][0]  for y in gente]}\")\n",
    "    i += 1"
   ]
  },
  {
   "cell_type": "markdown",
   "id": "collectible-charter",
   "metadata": {},
   "source": [
    "## Map, Filter, Reduce"
   ]
  },
  {
   "cell_type": "markdown",
   "id": "cardiac-sentence",
   "metadata": {},
   "source": [
    "Existen tres funciones que nos resultarán muy prácticas cuando trabajemos con contenedores e iteradores. Estas funciones facilitan ciertas operaciones básicas y habituales sobre colecciones iterables de datos, como eliminar elementos que no cumplan cierta condición, calcular un resultado a partir de los datos contenidos o aplicar una transformación a cada elemento. Vamos a verlas con ejemplos de uso:"
   ]
  },
  {
   "cell_type": "markdown",
   "id": "distinct-translator",
   "metadata": {},
   "source": [
    "### Map"
   ]
  },
  {
   "cell_type": "markdown",
   "id": "ceramic-blend",
   "metadata": {},
   "source": [
    "La función map() toma una función y una lista y aplica esa función a cada elemento de esa lista, produciendo una nueva lista.\n",
    "```python\n",
    "map(function_to_apply, list_of_inputs)\n",
    "```"
   ]
  },
  {
   "cell_type": "code",
   "execution_count": 7,
   "id": "expensive-birthday",
   "metadata": {},
   "outputs": [],
   "source": [
    "# Manos a la obra"
   ]
  },
  {
   "cell_type": "markdown",
   "id": "capital-matrix",
   "metadata": {},
   "source": [
    "#### Primero lo hacemos con funciones"
   ]
  },
  {
   "cell_type": "code",
   "execution_count": 62,
   "id": "italic-contamination",
   "metadata": {},
   "outputs": [],
   "source": [
    "def cuadrados(x):\n",
    "    return x ** 2"
   ]
  },
  {
   "cell_type": "code",
   "execution_count": 63,
   "id": "occupied-defeat",
   "metadata": {},
   "outputs": [],
   "source": [
    "numeros = [1,2,3,4,5,6]"
   ]
  },
  {
   "cell_type": "code",
   "execution_count": 64,
   "id": "narrow-bradford",
   "metadata": {},
   "outputs": [
    {
     "data": {
      "text/plain": [
       "<map at 0x7fda30d36610>"
      ]
     },
     "execution_count": 64,
     "metadata": {},
     "output_type": "execute_result"
    }
   ],
   "source": [
    "map(cuadrados,numeros)"
   ]
  },
  {
   "cell_type": "markdown",
   "id": "removable-southeast",
   "metadata": {},
   "source": [
    "La función map devuelve un iterador, así que tenemos que utilizar el constructor list()"
   ]
  },
  {
   "cell_type": "code",
   "execution_count": 65,
   "id": "competitive-citizen",
   "metadata": {},
   "outputs": [
    {
     "data": {
      "text/plain": [
       "[1, 4, 9, 16, 25, 36]"
      ]
     },
     "execution_count": 65,
     "metadata": {},
     "output_type": "execute_result"
    }
   ],
   "source": [
    "list(map(cuadrados,numeros))"
   ]
  },
  {
   "cell_type": "code",
   "execution_count": 67,
   "id": "renewable-incident",
   "metadata": {},
   "outputs": [
    {
     "data": {
      "text/plain": [
       "<map at 0x7fda30d36d30>"
      ]
     },
     "execution_count": 67,
     "metadata": {},
     "output_type": "execute_result"
    }
   ],
   "source": [
    "variable = map(cuadrados,numeros)\n",
    "variable"
   ]
  },
  {
   "cell_type": "code",
   "execution_count": 68,
   "id": "british-flour",
   "metadata": {},
   "outputs": [],
   "source": [
    "def saluda(x):\n",
    "    return f\"Hola {x} 🚀\""
   ]
  },
  {
   "cell_type": "code",
   "execution_count": 69,
   "id": "unique-blind",
   "metadata": {},
   "outputs": [],
   "source": [
    "nombres = [\"Ana\", \"Fer\", \"Sheriff\", \"Ras\", \"Alumnado\"]"
   ]
  },
  {
   "cell_type": "code",
   "execution_count": 70,
   "id": "korean-snake",
   "metadata": {},
   "outputs": [
    {
     "data": {
      "text/plain": [
       "['Hola Ana 🚀', 'Hola Fer 🚀', 'Hola Sheriff 🚀', 'Hola Ras 🚀', 'Hola Alumnado 🚀']"
      ]
     },
     "execution_count": 70,
     "metadata": {},
     "output_type": "execute_result"
    }
   ],
   "source": [
    "list(map(saluda,nombres))"
   ]
  },
  {
   "cell_type": "markdown",
   "id": "trained-algeria",
   "metadata": {},
   "source": [
    "#### Extra: ¡Hazlo con lambda!"
   ]
  },
  {
   "cell_type": "code",
   "execution_count": 71,
   "id": "functioning-alpha",
   "metadata": {},
   "outputs": [
    {
     "data": {
      "text/plain": [
       "[1, 4, 9, 16, 25, 36]"
      ]
     },
     "execution_count": 71,
     "metadata": {},
     "output_type": "execute_result"
    }
   ],
   "source": [
    "cuadrados = list(map(lambda x: x **2, numeros))\n",
    "cuadrados"
   ]
  },
  {
   "cell_type": "code",
   "execution_count": 73,
   "id": "noticed-greek",
   "metadata": {},
   "outputs": [
    {
     "data": {
      "text/plain": [
       "['Hola Ana 🚀', 'Hola Fer 🚀', 'Hola Sheriff 🚀', 'Hola Ras 🚀', 'Hola Alumnado 🚀']"
      ]
     },
     "execution_count": 73,
     "metadata": {},
     "output_type": "execute_result"
    }
   ],
   "source": [
    "saludos = list(map(lambda x: f\"Hola {x} 🚀\", nombres))\n",
    "saludos"
   ]
  },
  {
   "cell_type": "markdown",
   "id": "connected-found",
   "metadata": {},
   "source": [
    "### Filter"
   ]
  },
  {
   "cell_type": "markdown",
   "id": "boring-aluminum",
   "metadata": {},
   "source": [
    "La función filter() filtra una lista de elementos para los que una función devuelve True.\n",
    "```python\n",
    "filter(una_funcion, una_lista)\n",
    "```"
   ]
  },
  {
   "cell_type": "markdown",
   "id": "alpine-shakespeare",
   "metadata": {},
   "source": [
    "Imagina que quieres filtrar una lista de números para obtener solo los valores pares."
   ]
  },
  {
   "cell_type": "code",
   "execution_count": 75,
   "id": "voluntary-clerk",
   "metadata": {},
   "outputs": [
    {
     "name": "stdout",
     "output_type": "stream",
     "text": [
      "[2, 4, 6, 8, 10]\n"
     ]
    }
   ],
   "source": [
    "valores = [1,2,3,4,5,6,7,8,9,10]\n",
    "pares = []\n",
    "for num in valores:\n",
    "    if num % 2 == 0:\n",
    "        pares.append(num)\n",
    "print(pares)"
   ]
  },
  {
   "cell_type": "code",
   "execution_count": null,
   "id": "fatal-brake",
   "metadata": {},
   "outputs": [],
   "source": [
    "# Mejor aplicamos el filter"
   ]
  },
  {
   "cell_type": "markdown",
   "id": "considered-database",
   "metadata": {},
   "source": [
    "#### Primero lo hacemos con funciones"
   ]
  },
  {
   "cell_type": "code",
   "execution_count": 76,
   "id": "proved-anniversary",
   "metadata": {},
   "outputs": [],
   "source": [
    "def pares(x):\n",
    "    return x % 2 == 0"
   ]
  },
  {
   "cell_type": "code",
   "execution_count": 78,
   "id": "proper-colleague",
   "metadata": {},
   "outputs": [
    {
     "data": {
      "text/plain": [
       "True"
      ]
     },
     "execution_count": 78,
     "metadata": {},
     "output_type": "execute_result"
    }
   ],
   "source": [
    "pares(2)"
   ]
  },
  {
   "cell_type": "code",
   "execution_count": 79,
   "id": "approved-inquiry",
   "metadata": {},
   "outputs": [
    {
     "data": {
      "text/plain": [
       "[2, 4, 6, 8, 10]"
      ]
     },
     "execution_count": 79,
     "metadata": {},
     "output_type": "execute_result"
    }
   ],
   "source": [
    "list(filter(pares,valores))"
   ]
  },
  {
   "cell_type": "markdown",
   "id": "gothic-limit",
   "metadata": {},
   "source": [
    "Imagina que quieres filtrar una lista y quedarte solo con los grupos que empiezan con la letra R"
   ]
  },
  {
   "cell_type": "code",
   "execution_count": 80,
   "id": "usual-contest",
   "metadata": {},
   "outputs": [],
   "source": [
    "grupos = [\"Rufus T. Firefly\", \"Standstill\", \"La M.O.D.A\", \"The Low Flying Panic Attack\", \"Rusos Blancos\"]"
   ]
  },
  {
   "cell_type": "code",
   "execution_count": 85,
   "id": "attractive-universe",
   "metadata": {},
   "outputs": [],
   "source": [
    "def empiezaconr(x):\n",
    "    return x[0] == \"R\""
   ]
  },
  {
   "cell_type": "code",
   "execution_count": 86,
   "id": "fatal-flexibility",
   "metadata": {},
   "outputs": [
    {
     "data": {
      "text/plain": [
       "['Rufus T. Firefly', 'Rusos Blancos']"
      ]
     },
     "execution_count": 86,
     "metadata": {},
     "output_type": "execute_result"
    }
   ],
   "source": [
    "list(filter(empiezaconr,grupos))"
   ]
  },
  {
   "cell_type": "code",
   "execution_count": 88,
   "id": "reasonable-senior",
   "metadata": {},
   "outputs": [],
   "source": [
    "def empiezaconr_daigual(x):\n",
    "    return x[0].lower() == \"r\""
   ]
  },
  {
   "cell_type": "code",
   "execution_count": 89,
   "id": "charitable-donna",
   "metadata": {},
   "outputs": [
    {
     "data": {
      "text/plain": [
       "['Rufus T. Firefly', 'Rusos Blancos']"
      ]
     },
     "execution_count": 89,
     "metadata": {},
     "output_type": "execute_result"
    }
   ],
   "source": [
    "list(filter(empiezaconr_daigual,grupos))"
   ]
  },
  {
   "cell_type": "markdown",
   "id": "younger-influence",
   "metadata": {},
   "source": [
    "#### Extra: ¡Hazlo con lambda!"
   ]
  },
  {
   "cell_type": "code",
   "execution_count": 90,
   "id": "direct-costs",
   "metadata": {},
   "outputs": [
    {
     "data": {
      "text/plain": [
       "[2, 4, 6, 8, 10]"
      ]
     },
     "execution_count": 90,
     "metadata": {},
     "output_type": "execute_result"
    }
   ],
   "source": [
    "list(filter(lambda x: x%2 == 0, valores))"
   ]
  },
  {
   "cell_type": "code",
   "execution_count": 91,
   "id": "broadband-caribbean",
   "metadata": {},
   "outputs": [
    {
     "data": {
      "text/plain": [
       "['Rufus T. Firefly', 'Rusos Blancos']"
      ]
     },
     "execution_count": 91,
     "metadata": {},
     "output_type": "execute_result"
    }
   ],
   "source": [
    "list(filter(lambda x: x[0].lower() == \"r\", grupos))"
   ]
  },
  {
   "cell_type": "markdown",
   "id": "informal-climb",
   "metadata": {},
   "source": [
    "### Reduce"
   ]
  },
  {
   "cell_type": "markdown",
   "id": "challenging-valve",
   "metadata": {},
   "source": [
    "Esta función no es una función predefinida, lo cual implica importar antes la biblioteca functools para su uso. La función reduce() aplica de forma acumulativa la función f() sobre los elementos del iterable. El acumulador puede inicializarse con un tercer argumento opcional. El resultado es el valor final del acumulador.\n",
    "```python\n",
    "reduce(función, iterable[, inicial])\n",
    "```"
   ]
  },
  {
   "cell_type": "code",
   "execution_count": 9,
   "id": "brilliant-barrier",
   "metadata": {},
   "outputs": [],
   "source": [
    "from functools import reduce"
   ]
  },
  {
   "cell_type": "markdown",
   "id": "korean-partnership",
   "metadata": {},
   "source": [
    "⚠️ Reduce es un poco más complicado de entender que map() y filter() así que veamos paso a paso el siguiente ejemplo ⚠️"
   ]
  },
  {
   "cell_type": "code",
   "execution_count": 92,
   "id": "wicked-investigator",
   "metadata": {},
   "outputs": [
    {
     "name": "stdout",
     "output_type": "stream",
     "text": [
      "16\n"
     ]
    }
   ],
   "source": [
    "def suma(x,y):\n",
    "    return x +y\n",
    "lista = [2,4,7,3]\n",
    "print(reduce(suma,lista))"
   ]
  },
  {
   "cell_type": "markdown",
   "id": "exceptional-auditor",
   "metadata": {},
   "source": [
    "#### ¿Qué ha pasado?\n",
    "- Empezamos con una lista [2, 4, 7, 3] y pasamos la función suma(x, y) a reduce() junto con esta lista, sin un valor inicial\n",
    "\n",
    "- reduce() llama a suma(2, 4), y suma() devuelve 6\n",
    "\n",
    "- reduce() llama a suma(6, 7) (resultado de la llamada anterior a suma() y el siguiente elemento de la lista como parámetros), y suma() devuelve 13\n",
    "\n",
    "- reduce() llama a suma(13, 3), y suma() devuelve 16\n",
    "\n",
    "Como no quedan más elementos en la secuencia, reduce() devuelve 16"
   ]
  },
  {
   "cell_type": "markdown",
   "id": "encouraging-modeling",
   "metadata": {},
   "source": [
    "Factorial:     \n",
    "Cantidad que resulta de la multiplicación de determinado número natural por todos los números naturales que le anteceden excluyendo el cero; se representa por n!"
   ]
  },
  {
   "cell_type": "code",
   "execution_count": 10,
   "id": "electrical-knitting",
   "metadata": {},
   "outputs": [],
   "source": [
    "def factorial(n):\n",
    "    \"\"\"Función que calcula el factorial de un número entero positivo.\n",
    "    Parámetros\n",
    "    n: Es un entero positivo.\n",
    "    Devuelve el factorial de n.\n",
    "    \"\"\"\n",
    "    tmp = 1\n",
    "    for i in range(n):\n",
    "        tmp *= i+1\n",
    "    return tmp"
   ]
  },
  {
   "cell_type": "code",
   "execution_count": 11,
   "id": "lesbian-theory",
   "metadata": {},
   "outputs": [
    {
     "data": {
      "text/plain": [
       "40320"
      ]
     },
     "execution_count": 11,
     "metadata": {},
     "output_type": "execute_result"
    }
   ],
   "source": [
    "factorial(8)"
   ]
  },
  {
   "cell_type": "code",
   "execution_count": 12,
   "id": "proof-hundred",
   "metadata": {},
   "outputs": [],
   "source": [
    "#Ahora Usemos Reduce"
   ]
  },
  {
   "cell_type": "markdown",
   "id": "northern-elephant",
   "metadata": {},
   "source": [
    "### Primero lo hacemos con funciones"
   ]
  },
  {
   "cell_type": "code",
   "execution_count": 94,
   "id": "metric-ranking",
   "metadata": {},
   "outputs": [
    {
     "data": {
      "text/plain": [
       "[1, 2, 3, 4, 5, 6, 7, 8]"
      ]
     },
     "execution_count": 94,
     "metadata": {},
     "output_type": "execute_result"
    }
   ],
   "source": [
    "nums = range(1,9)\n",
    "list(nums)"
   ]
  },
  {
   "cell_type": "code",
   "execution_count": 95,
   "id": "opponent-detector",
   "metadata": {},
   "outputs": [],
   "source": [
    "def mult(a,b):\n",
    "    return a * b"
   ]
  },
  {
   "cell_type": "code",
   "execution_count": 96,
   "id": "sapphire-official",
   "metadata": {},
   "outputs": [
    {
     "name": "stdout",
     "output_type": "stream",
     "text": [
      "40320\n"
     ]
    }
   ],
   "source": [
    "print(reduce(mult,nums))"
   ]
  },
  {
   "cell_type": "markdown",
   "id": "premier-familiar",
   "metadata": {},
   "source": [
    "### Extra: ¡Hazlo con lambda!"
   ]
  },
  {
   "cell_type": "code",
   "execution_count": 97,
   "id": "random-spring",
   "metadata": {},
   "outputs": [
    {
     "data": {
      "text/plain": [
       "40320"
      ]
     },
     "execution_count": 97,
     "metadata": {},
     "output_type": "execute_result"
    }
   ],
   "source": [
    "n = 8\n",
    "reduce(lambda x,y: x*y, range(1,n+1))"
   ]
  },
  {
   "cell_type": "markdown",
   "id": "innocent-alberta",
   "metadata": {},
   "source": [
    "## Summary\n",
    "- Filter es como if, sirve para filtrar si cumple una condición\n",
    "- Con Map tenemos la misma cantidad de elementos que al principio y el filter nos devuelve una lista reducida\n",
    "- Funciones lambda: anónimas, no las defino, son funciones simples y cortas que escribo en el momento y ejecuto en una línea.\n",
    "- Las podemos guardar en variables para \"llamarlas\" \n",
    "- Pueden ser el return de otra función"
   ]
  },
  {
   "cell_type": "markdown",
   "id": "jewish-configuration",
   "metadata": {},
   "source": [
    "## Further materials\n",
    "http://web.mit.edu/6.005/www/sp16/classes/25-map-filter-reduce/    \n",
    "https://docs.hektorprofe.net/python/funcionalidades-avanzadas/funciones-lambda/"
   ]
  }
 ],
 "metadata": {
  "kernelspec": {
   "display_name": "Python 3",
   "language": "python",
   "name": "python3"
  },
  "language_info": {
   "codemirror_mode": {
    "name": "ipython",
    "version": 3
   },
   "file_extension": ".py",
   "mimetype": "text/x-python",
   "name": "python",
   "nbconvert_exporter": "python",
   "pygments_lexer": "ipython3",
   "version": "3.8.5"
  },
  "toc": {
   "base_numbering": 1,
   "nav_menu": {},
   "number_sections": true,
   "sideBar": true,
   "skip_h1_title": true,
   "title_cell": "Table of Contents",
   "title_sidebar": "Contents",
   "toc_cell": true,
   "toc_position": {
    "height": "calc(100% - 180px)",
    "left": "10px",
    "top": "150px",
    "width": "211px"
   },
   "toc_section_display": true,
   "toc_window_display": true
  }
 },
 "nbformat": 4,
 "nbformat_minor": 5
}
