{
 "cells": [
  {
   "cell_type": "markdown",
   "id": "seeing-lexington",
   "metadata": {
    "toc": true
   },
   "source": [
    "<h1>Table of Contents<span class=\"tocSkip\"></span></h1>\n",
    "<div class=\"toc\"><ul class=\"toc-item\"><li><span><a href=\"#Assignment-operators\" data-toc-modified-id=\"Assignment-operators-1\"><span class=\"toc-item-num\">1&nbsp;&nbsp;</span>Assignment operators</a></span></li><li><span><a href=\"#Arithmetic-operators\" data-toc-modified-id=\"Arithmetic-operators-2\"><span class=\"toc-item-num\">2&nbsp;&nbsp;</span>Arithmetic operators</a></span></li><li><span><a href=\"#Relational-operators\" data-toc-modified-id=\"Relational-operators-3\"><span class=\"toc-item-num\">3&nbsp;&nbsp;</span>Relational operators</a></span></li><li><span><a href=\"#Logical/Boolean-operators\" data-toc-modified-id=\"Logical/Boolean-operators-4\"><span class=\"toc-item-num\">4&nbsp;&nbsp;</span>Logical/Boolean operators</a></span><ul class=\"toc-item\"><li><ul class=\"toc-item\"><li><span><a href=\"#For-Nerds-🤓\" data-toc-modified-id=\"For-Nerds-🤓-4.0.1\"><span class=\"toc-item-num\">4.0.1&nbsp;&nbsp;</span>For Nerds 🤓</a></span></li></ul></li></ul></li><li><span><a href=\"#Identity-operators\" data-toc-modified-id=\"Identity-operators-5\"><span class=\"toc-item-num\">5&nbsp;&nbsp;</span>Identity operators</a></span></li><li><span><a href=\"#Cast-in-Python\" data-toc-modified-id=\"Cast-in-Python-6\"><span class=\"toc-item-num\">6&nbsp;&nbsp;</span>Cast in Python</a></span><ul class=\"toc-item\"><li><span><a href=\"#Implicit-conversion\" data-toc-modified-id=\"Implicit-conversion-6.1\"><span class=\"toc-item-num\">6.1&nbsp;&nbsp;</span>Implicit conversion</a></span></li><li><span><a href=\"#Explicit-conversion\" data-toc-modified-id=\"Explicit-conversion-6.2\"><span class=\"toc-item-num\">6.2&nbsp;&nbsp;</span>Explicit conversion</a></span><ul class=\"toc-item\"><li><span><a href=\"#Converting-float-to-int\" data-toc-modified-id=\"Converting-float-to-int-6.2.1\"><span class=\"toc-item-num\">6.2.1&nbsp;&nbsp;</span>Converting float to int</a></span></li><li><span><a href=\"#Convert-float-to-string\" data-toc-modified-id=\"Convert-float-to-string-6.2.2\"><span class=\"toc-item-num\">6.2.2&nbsp;&nbsp;</span>Convert float to string</a></span></li><li><span><a href=\"#Convert-string-to-int\" data-toc-modified-id=\"Convert-string-to-int-6.2.3\"><span class=\"toc-item-num\">6.2.3&nbsp;&nbsp;</span>Convert string to int</a></span></li></ul></li></ul></li><li><span><a href=\"#Input\" data-toc-modified-id=\"Input-7\"><span class=\"toc-item-num\">7&nbsp;&nbsp;</span>Input</a></span></li><li><span><a href=\"#Pseudocode\" data-toc-modified-id=\"Pseudocode-8\"><span class=\"toc-item-num\">8&nbsp;&nbsp;</span>Pseudocode</a></span></li><li><span><a href=\"#The-&quot;If&quot;-statement\" data-toc-modified-id=\"The-&quot;If&quot;-statement-9\"><span class=\"toc-item-num\">9&nbsp;&nbsp;</span>The \"If\" statement</a></span><ul class=\"toc-item\"><li><span><a href=\"#else\" data-toc-modified-id=\"else-9.1\"><span class=\"toc-item-num\">9.1&nbsp;&nbsp;</span>else</a></span></li><li><span><a href=\"#elif\" data-toc-modified-id=\"elif-9.2\"><span class=\"toc-item-num\">9.2&nbsp;&nbsp;</span>elif</a></span></li></ul></li><li><span><a href=\"#Summary\" data-toc-modified-id=\"Summary-10\"><span class=\"toc-item-num\">10&nbsp;&nbsp;</span>Summary</a></span></li><li><span><a href=\"#Further-materials\" data-toc-modified-id=\"Further-materials-11\"><span class=\"toc-item-num\">11&nbsp;&nbsp;</span>Further materials</a></span></li></ul></div>"
   ]
  },
  {
   "cell_type": "markdown",
   "id": "comprehensive-discretion",
   "metadata": {},
   "source": [
    "# Control Flow    \n",
    "Let`s go with the flow"
   ]
  },
  {
   "cell_type": "markdown",
   "id": "vanilla-amateur",
   "metadata": {},
   "source": [
    "![the_flow](https://media.giphy.com/media/SA6RvPmPJVlJoqYo7U/giphy.gif)"
   ]
  },
  {
   "cell_type": "markdown",
   "id": "lonely-glucose",
   "metadata": {},
   "source": [
    "## Assignment operators"
   ]
  },
  {
   "cell_type": "markdown",
   "id": "specific-girlfriend",
   "metadata": {},
   "source": [
    "Assignment operators are those that allow you to give a value to a variable or modify it. Python has eight different assignment operators: one simple assignment operator and seven compound assignment operators."
   ]
  },
  {
   "cell_type": "markdown",
   "id": "adopted-beach",
   "metadata": {},
   "source": [
    "* `=` simple assignment `a=b`     \n",
    "* `+=` Addition assignment `a+=b`    Simple equivalent `a=a+b`   \n",
    "* `-=` Subtraction assignment `a-=b` Simple equivalent `a=a-b`       \n",
    "* `*=` Multiplication assignmentt `a*=b` Simple equivalent `a=a*b`\n",
    "* `/=` Division assignment `a/=b` Single equivalent `a=a/b`   \n",
    "* `%=` Module assignment `a/=b` Single equivalent `a=a%b`    \n",
    "* `//=` Integer division mapping `a//=b` Simple equivalent `a=a//b`  "
   ]
  },
  {
   "cell_type": "markdown",
   "id": "united-occasions",
   "metadata": {},
   "source": [
    "El operador de asignación simple es el símbolo igual (=) y las operaciones realizadas con él tienen siempre la sintaxis: `variable = expresión`. En este tipo de operaciones, en primer lugar, se resuelve la expresión de la derecha y el valor resultante se asigna a la variable de la izquierda."
   ]
  },
  {
   "cell_type": "code",
   "execution_count": 1,
   "id": "magnetic-speed",
   "metadata": {},
   "outputs": [],
   "source": [
    "# examples"
   ]
  },
  {
   "cell_type": "code",
   "execution_count": 19,
   "id": "published-calvin",
   "metadata": {},
   "outputs": [],
   "source": [
    "a = 4\n",
    "a = 2"
   ]
  },
  {
   "cell_type": "code",
   "execution_count": 20,
   "id": "creative-evans",
   "metadata": {},
   "outputs": [
    {
     "name": "stdout",
     "output_type": "stream",
     "text": [
      "2\n"
     ]
    }
   ],
   "source": [
    "print(a)"
   ]
  },
  {
   "cell_type": "code",
   "execution_count": null,
   "id": "revolutionary-idaho",
   "metadata": {},
   "outputs": [],
   "source": [
    "contador = 0\n",
    "contador = contador + variable1"
   ]
  },
  {
   "cell_type": "code",
   "execution_count": null,
   "id": "cosmetic-wesley",
   "metadata": {},
   "outputs": [],
   "source": [
    "contador = 0\n",
    "contador += variable1"
   ]
  },
  {
   "cell_type": "code",
   "execution_count": 21,
   "id": "incorporate-citation",
   "metadata": {},
   "outputs": [
    {
     "data": {
      "text/plain": [
       "7"
      ]
     },
     "execution_count": 21,
     "metadata": {},
     "output_type": "execute_result"
    }
   ],
   "source": [
    "b = 5\n",
    "b += 2\n",
    "b"
   ]
  },
  {
   "cell_type": "code",
   "execution_count": 22,
   "id": "bottom-roman",
   "metadata": {},
   "outputs": [
    {
     "data": {
      "text/plain": [
       "10"
      ]
     },
     "execution_count": 22,
     "metadata": {},
     "output_type": "execute_result"
    }
   ],
   "source": [
    "c = 5\n",
    "c*= 2\n",
    "c"
   ]
  },
  {
   "cell_type": "markdown",
   "id": "african-construction",
   "metadata": {},
   "source": [
    "## Arithmetic operators"
   ]
  },
  {
   "cell_type": "markdown",
   "id": "opened-charter",
   "metadata": {},
   "source": [
    "Arithmetic operators are used to perform arithmetic operations, i.e. to manipulate numerical data by means of mathematical operations such as addition, subtraction or multiplication....."
   ]
  },
  {
   "cell_type": "code",
   "execution_count": 23,
   "id": "cellular-values",
   "metadata": {},
   "outputs": [
    {
     "data": {
      "text/plain": [
       "12"
      ]
     },
     "execution_count": 23,
     "metadata": {},
     "output_type": "execute_result"
    }
   ],
   "source": [
    "a = 3\n",
    "b = 4\n",
    "a * b"
   ]
  },
  {
   "cell_type": "code",
   "execution_count": 24,
   "id": "preliminary-darkness",
   "metadata": {},
   "outputs": [],
   "source": [
    "# Operator // (entero de la división)"
   ]
  },
  {
   "cell_type": "code",
   "execution_count": 25,
   "id": "alone-reverse",
   "metadata": {},
   "outputs": [
    {
     "data": {
      "text/plain": [
       "3"
      ]
     },
     "execution_count": 25,
     "metadata": {},
     "output_type": "execute_result"
    }
   ],
   "source": [
    "10 // 3"
   ]
  },
  {
   "cell_type": "markdown",
   "id": "chubby-america",
   "metadata": {},
   "source": [
    "## Relational operators"
   ]
  },
  {
   "cell_type": "markdown",
   "id": "premium-bibliography",
   "metadata": {},
   "source": [
    "Relational operators are symbols used to compare two values or expressions. The result of the evaluation with these two operators can be True, if the comparison is true, or False, if the comparison is false."
   ]
  },
  {
   "cell_type": "markdown",
   "id": "floral-header",
   "metadata": {},
   "source": [
    "*      `==` Igual a `a==b` \n",
    "*      `!=` Distinto de `a!=b` \n",
    "*      `>` Mayor que `a>b` \n",
    "*      `<` Menor que `a<b` \n",
    "*      `>=` Mayor o igual que `a>=b` \n",
    "*      `<=` Menor o igual que `a<=b` "
   ]
  },
  {
   "cell_type": "markdown",
   "id": "caroline-security",
   "metadata": {},
   "source": [
    "Note the difference between a single equal sign (=), which is an assignment, and a double equal sign (==), which is a relational operator    \n",
    "**Tip:** Use parenthesis to keep your operations in order!"
   ]
  },
  {
   "cell_type": "code",
   "execution_count": 12,
   "id": "million-marketing",
   "metadata": {},
   "outputs": [],
   "source": [
    "# Let´s Play with them!"
   ]
  },
  {
   "cell_type": "code",
   "execution_count": 26,
   "id": "minor-suicide",
   "metadata": {},
   "outputs": [
    {
     "name": "stdout",
     "output_type": "stream",
     "text": [
      "False\n"
     ]
    }
   ],
   "source": [
    "x = 2\n",
    "y = 4\n",
    "print( y==x)"
   ]
  },
  {
   "cell_type": "code",
   "execution_count": 27,
   "id": "employed-reply",
   "metadata": {},
   "outputs": [
    {
     "name": "stdout",
     "output_type": "stream",
     "text": [
      "True\n"
     ]
    }
   ],
   "source": [
    "print (y != x)"
   ]
  },
  {
   "cell_type": "code",
   "execution_count": 28,
   "id": "julian-handling",
   "metadata": {},
   "outputs": [
    {
     "name": "stdout",
     "output_type": "stream",
     "text": [
      "True\n"
     ]
    }
   ],
   "source": [
    "print(y == (2 * x))"
   ]
  },
  {
   "cell_type": "code",
   "execution_count": 36,
   "id": "worldwide-weather",
   "metadata": {},
   "outputs": [
    {
     "name": "stdout",
     "output_type": "stream",
     "text": [
      "True\n"
     ]
    }
   ],
   "source": [
    "cadena1 = \"holaaa\"\n",
    "cadena2 = \"adios\"\n",
    "print(len(cadena1) > len(cadena2))"
   ]
  },
  {
   "cell_type": "code",
   "execution_count": 37,
   "id": "worst-percentage",
   "metadata": {},
   "outputs": [
    {
     "data": {
      "text/plain": [
       "True"
      ]
     },
     "execution_count": 37,
     "metadata": {},
     "output_type": "execute_result"
    }
   ],
   "source": [
    "x == 2"
   ]
  },
  {
   "cell_type": "markdown",
   "id": "amended-question",
   "metadata": {},
   "source": [
    "## Logical/Boolean operators"
   ]
  },
  {
   "cell_type": "markdown",
   "id": "private-category",
   "metadata": {},
   "source": [
    "Logical or boolean operators are those that allow you to connect two comparison expressions and evaluate them logically, except for the not operator, which inverts the logical value of the expression to which it is applied. In Python there are three logical operators: and(y), or(o) and not(not). The and and and or operators have the expression operator expression syntax, while the not operator has the expression operator syntax. Operations with these operators always return a boolean value: True or False."
   ]
  },
  {
   "cell_type": "markdown",
   "id": "convinced-round",
   "metadata": {},
   "source": [
    "With solely these two values `True`|`False` we can create an entire branch of mathematics called [Boolean Algebra](https://en.wikipedia.org/wiki/Boolean_algebra#Laws). Whereas in regular Algebra de basic operations are addition and multiplication, the main operations of Boolean algebra are the conjunction (and) denoted as ∧, the disjunction (or) denoted as ∨, and the negation (not) denoted as ¬. **It is the formalism used for describing logical operations**.\n",
    "\n",
    "In [Python we write this operations](https://www.geeksforgeeks.org/python-3-logical-operators/?ref=rp) as:\n",
    "\n",
    "* `x` and `y` \n",
    "* `x` or `y`\n",
    "* not `x`\n",
    "\n",
    "Although the meaning of these operations is clear, we can completely define them with the so called \"truth table\":"
   ]
  },
  {
   "cell_type": "markdown",
   "id": "precious-lobby",
   "metadata": {},
   "source": [
    "![tablas](http://elclubdelautodidacta.es/wp/wp-content/uploads/2012/11/python-logicos.png)"
   ]
  },
  {
   "cell_type": "markdown",
   "id": "specific-vinyl",
   "metadata": {},
   "source": [
    "The **and** operator evaluates whether the two expressions are true. If both expressions are true, it returns True. If either of the expressions is false, it returns False. These types of tables are formally known as \"truth tables\"."
   ]
  },
  {
   "cell_type": "code",
   "execution_count": 38,
   "id": "governmental-converter",
   "metadata": {},
   "outputs": [],
   "source": [
    "hola = True\n",
    "adios = False"
   ]
  },
  {
   "cell_type": "code",
   "execution_count": 39,
   "id": "fixed-might",
   "metadata": {},
   "outputs": [
    {
     "data": {
      "text/plain": [
       "False"
      ]
     },
     "execution_count": 39,
     "metadata": {},
     "output_type": "execute_result"
    }
   ],
   "source": [
    "hola and adios"
   ]
  },
  {
   "cell_type": "code",
   "execution_count": 40,
   "id": "handmade-junior",
   "metadata": {},
   "outputs": [
    {
     "data": {
      "text/plain": [
       "True"
      ]
     },
     "execution_count": 40,
     "metadata": {},
     "output_type": "execute_result"
    }
   ],
   "source": [
    "hola and hola "
   ]
  },
  {
   "cell_type": "code",
   "execution_count": 48,
   "id": "durable-confusion",
   "metadata": {},
   "outputs": [
    {
     "data": {
      "text/plain": [
       "True"
      ]
     },
     "execution_count": 48,
     "metadata": {},
     "output_type": "execute_result"
    }
   ],
   "source": [
    "4 > 2 and 1 < 5"
   ]
  },
  {
   "cell_type": "markdown",
   "id": "faced-thing",
   "metadata": {},
   "source": [
    "The **or** operator evaluates whether either expression is true, i.e. it returns True if either expression is true and False when both expressions are false."
   ]
  },
  {
   "cell_type": "code",
   "execution_count": 47,
   "id": "loved-train",
   "metadata": {},
   "outputs": [],
   "source": [
    "ras_es_rica = False\n",
    "ras_vive_en_lavapies = True"
   ]
  },
  {
   "cell_type": "code",
   "execution_count": 46,
   "id": "final-compatibility",
   "metadata": {},
   "outputs": [
    {
     "data": {
      "text/plain": [
       "True"
      ]
     },
     "execution_count": 46,
     "metadata": {},
     "output_type": "execute_result"
    }
   ],
   "source": [
    "ras_es_rica or ras_vive_en_lavapies"
   ]
  },
  {
   "cell_type": "markdown",
   "id": "emerging-stream",
   "metadata": {},
   "source": [
    "Finally, the **not** operator is an operator that returns the opposite value of the evaluated expression. If the expression has the value True, it returns False. Conversely, if the expression has the value False, it returns True."
   ]
  },
  {
   "cell_type": "code",
   "execution_count": 50,
   "id": "induced-myrtle",
   "metadata": {},
   "outputs": [],
   "source": [
    "verdad = True\n",
    "mentira = False"
   ]
  },
  {
   "cell_type": "code",
   "execution_count": 51,
   "id": "vietnamese-fiction",
   "metadata": {},
   "outputs": [
    {
     "data": {
      "text/plain": [
       "False"
      ]
     },
     "execution_count": 51,
     "metadata": {},
     "output_type": "execute_result"
    }
   ],
   "source": [
    "not verdad"
   ]
  },
  {
   "cell_type": "code",
   "execution_count": 54,
   "id": "residential-class",
   "metadata": {},
   "outputs": [
    {
     "data": {
      "text/plain": [
       "False"
      ]
     },
     "execution_count": 54,
     "metadata": {},
     "output_type": "execute_result"
    }
   ],
   "source": [
    "3 > 2 #True\n",
    "not 3 > 2"
   ]
  },
  {
   "cell_type": "markdown",
   "id": "adolescent-change",
   "metadata": {},
   "source": [
    "#### For Nerds 🤓"
   ]
  },
  {
   "cell_type": "markdown",
   "id": "adaptive-transcript",
   "metadata": {},
   "source": [
    "Things can get trickier when we combine several logical expressions... Consider for example the so-called [De Morgan´s laws](https://en.wikipedia.org/wiki/De_Morgan%27s_laws):\n",
    "\n",
    "* not (A or B) = not A and not B\n",
    "* not (A and B) = not A or not B\n",
    "\n",
    "[Boolean algebra](https://en.wikipedia.org/wiki/Boolean_algebra#Laws) satisfy many common rules such as commutativity, associativity, etc. But we rather try to keep it simple here and learn by doing!"
   ]
  },
  {
   "cell_type": "markdown",
   "id": "compact-result",
   "metadata": {},
   "source": [
    "## Identity operators"
   ]
  },
  {
   "cell_type": "markdown",
   "id": "becoming-partition",
   "metadata": {},
   "source": [
    "Los operadores de pertenencia, también conocidos como operadores miembro, permiten comprobar si un dato forma parte o no de una colección: una lista, una tupla, un string, etc.\n",
    "    El operador `in` tiene la sintaxis `elemento in contenedor`. Se trata de un operador booleano que comprueba si el elemento forma parte del contenedor. En caso afirmativo devuelve True y en caso negativo False"
   ]
  },
  {
   "cell_type": "code",
   "execution_count": 56,
   "id": "brilliant-designer",
   "metadata": {},
   "outputs": [],
   "source": [
    "nums  = [1,2,3,4,5,7]"
   ]
  },
  {
   "cell_type": "code",
   "execution_count": 57,
   "id": "coupled-worship",
   "metadata": {},
   "outputs": [
    {
     "data": {
      "text/plain": [
       "True"
      ]
     },
     "execution_count": 57,
     "metadata": {},
     "output_type": "execute_result"
    }
   ],
   "source": [
    "1 in nums"
   ]
  },
  {
   "cell_type": "code",
   "execution_count": 59,
   "id": "pleased-crystal",
   "metadata": {},
   "outputs": [],
   "source": [
    "cadena = \"Ana y Fer molan\""
   ]
  },
  {
   "cell_type": "code",
   "execution_count": 61,
   "id": "documented-emerald",
   "metadata": {},
   "outputs": [
    {
     "data": {
      "text/plain": [
       "False"
      ]
     },
     "execution_count": 61,
     "metadata": {},
     "output_type": "execute_result"
    }
   ],
   "source": [
    "\"z\" in cadena"
   ]
  },
  {
   "cell_type": "code",
   "execution_count": 64,
   "id": "handed-lover",
   "metadata": {},
   "outputs": [],
   "source": [
    "z = \"4\""
   ]
  },
  {
   "cell_type": "code",
   "execution_count": 65,
   "id": "broke-princeton",
   "metadata": {},
   "outputs": [
    {
     "data": {
      "text/plain": [
       "False"
      ]
     },
     "execution_count": 65,
     "metadata": {},
     "output_type": "execute_result"
    }
   ],
   "source": [
    "z in cadena"
   ]
  },
  {
   "cell_type": "markdown",
   "id": "black-lighting",
   "metadata": {},
   "source": [
    "## Cast in Python"
   ]
  },
  {
   "cell_type": "markdown",
   "id": "aggregate-addiction",
   "metadata": {},
   "source": [
    "Casting means converting one data type to another. Previously we have seen types such as int, string or float. Well, it is possible to convert from one type to another.\n",
    "But first of all, let's look at the different types of cast or type conversion that can be done. There are two:\n",
    "\n",
    "**Implicit conversion:** This is done automatically by Python. It happens when we perform certain operations with two different types.\n",
    "\n",
    "**Explicit conversion:** This is done explicitly by us, such as converting str to int with str()."
   ]
  },
  {
   "cell_type": "markdown",
   "id": "disturbed-alabama",
   "metadata": {},
   "source": [
    "### Implicit conversion\n",
    "This type conversion is done automatically by Python, practically without us noticing it. Even so, it is important to know what happens underneath to avoid future problems.\n",
    "\n",
    "The simplest example where we can see this behaviour is the following:"
   ]
  },
  {
   "cell_type": "code",
   "execution_count": 69,
   "id": "coated-masters",
   "metadata": {},
   "outputs": [
    {
     "name": "stdout",
     "output_type": "stream",
     "text": [
      "1\n",
      "<class 'int'>\n",
      "<class 'float'>\n"
     ]
    }
   ],
   "source": [
    "a = 1 # int\n",
    "b = 2.3 # float\n",
    "\n",
    "c = a + b \n",
    "print(a)\n",
    "print(type(a))\n",
    "print(type(c))"
   ]
  },
  {
   "cell_type": "markdown",
   "id": "public-instruction",
   "metadata": {},
   "source": [
    "a is an int   \n",
    "b is a float    \n",
    "But if we add a and b and store the result in a, we can see how internally Python has converted the int to float in order to perform the operation, and the resulting variable is float.\n",
    "\n",
    "However, there are other cases where Python is not so clever and is not able to perform the conversion. If we try to add an int to a string, we will get a TypeError."
   ]
  },
  {
   "cell_type": "code",
   "execution_count": 70,
   "id": "crude-layer",
   "metadata": {},
   "outputs": [
    {
     "ename": "TypeError",
     "evalue": "unsupported operand type(s) for +: 'int' and 'str'",
     "output_type": "error",
     "traceback": [
      "\u001b[0;31m---------------------------------------------------------------------------\u001b[0m",
      "\u001b[0;31mTypeError\u001b[0m                                 Traceback (most recent call last)",
      "\u001b[0;32m<ipython-input-70-0134a30df78d>\u001b[0m in \u001b[0;36m<module>\u001b[0;34m\u001b[0m\n\u001b[1;32m      1\u001b[0m \u001b[0ma\u001b[0m \u001b[0;34m=\u001b[0m \u001b[0;36m1\u001b[0m\u001b[0;34m\u001b[0m\u001b[0;34m\u001b[0m\u001b[0m\n\u001b[1;32m      2\u001b[0m \u001b[0mb\u001b[0m \u001b[0;34m=\u001b[0m \u001b[0;34m\"2.3\"\u001b[0m\u001b[0;34m\u001b[0m\u001b[0;34m\u001b[0m\u001b[0m\n\u001b[0;32m----> 3\u001b[0;31m \u001b[0mc\u001b[0m \u001b[0;34m=\u001b[0m \u001b[0ma\u001b[0m \u001b[0;34m+\u001b[0m \u001b[0mb\u001b[0m\u001b[0;34m\u001b[0m\u001b[0;34m\u001b[0m\u001b[0m\n\u001b[0m",
      "\u001b[0;31mTypeError\u001b[0m: unsupported operand type(s) for +: 'int' and 'str'"
     ]
    }
   ],
   "source": [
    "a = 1\n",
    "b = \"2.3\"\n",
    "c = a + b "
   ]
  },
  {
   "cell_type": "markdown",
   "id": "rural-majority",
   "metadata": {},
   "source": [
    "### Explicit conversion\n",
    "On the other hand, we can make conversions between types or casts explicitly using different functions provided by Python. The most commonly used are the following:\n",
    "\n",
    "float(), str(), int(), list(), set()     \n",
    "And some others like hex(), oct() and bin().      \n",
    "#### Converting float to int \n",
    "To convert from float to int we must use int(). But be careful, because the integer type cannot store decimals, so we will lose whatever is after the decimal point."
   ]
  },
  {
   "cell_type": "code",
   "execution_count": 72,
   "id": "modular-sullivan",
   "metadata": {},
   "outputs": [
    {
     "name": "stdout",
     "output_type": "stream",
     "text": [
      "3\n"
     ]
    }
   ],
   "source": [
    "a = 3.2\n",
    "b = int(a)\n",
    "print(b)"
   ]
  },
  {
   "cell_type": "markdown",
   "id": "demonstrated-genius",
   "metadata": {},
   "source": [
    "#### Convert float to string\n",
    "We can convert a float to a string with str(). We can see in the following code how the type of a changes after the cast."
   ]
  },
  {
   "cell_type": "code",
   "execution_count": 76,
   "id": "bigger-shadow",
   "metadata": {},
   "outputs": [
    {
     "name": "stdout",
     "output_type": "stream",
     "text": [
      "<class 'float'>\n",
      "3.4\n",
      "<class 'str'>\n"
     ]
    }
   ],
   "source": [
    "a = 3.4\n",
    "print(type(a))\n",
    "b = str(a)\n",
    "print(b)\n",
    "print(type(b))"
   ]
  },
  {
   "cell_type": "code",
   "execution_count": 82,
   "id": "general-broadcasting",
   "metadata": {},
   "outputs": [
    {
     "name": "stdout",
     "output_type": "stream",
     "text": [
      "<class 'str'>\n"
     ]
    }
   ],
   "source": [
    "print(type(b))"
   ]
  },
  {
   "cell_type": "markdown",
   "id": "unnecessary-princeton",
   "metadata": {},
   "source": [
    "#### Convert string to int\n",
    "Just like the conversion to float above, we can convert from string to int using int()."
   ]
  },
  {
   "cell_type": "code",
   "execution_count": 83,
   "id": "impressive-preference",
   "metadata": {},
   "outputs": [
    {
     "name": "stdout",
     "output_type": "stream",
     "text": [
      "<class 'str'>\n",
      "<class 'int'>\n"
     ]
    }
   ],
   "source": [
    "a = \"3\"\n",
    "print(type(a))\n",
    "b = int(a)\n",
    "print(type(b))"
   ]
  },
  {
   "cell_type": "markdown",
   "id": "regular-geometry",
   "metadata": {},
   "source": [
    "## Input\n",
    "To assign a variable to a value entered by the user at the console, use the instruction\n",
    "```python\n",
    "input(message) : Displays the string message by the terminal and returns a string with the input \n",
    "  ``` "
   ]
  },
  {
   "cell_type": "code",
   "execution_count": 84,
   "id": "matched-kentucky",
   "metadata": {},
   "outputs": [
    {
     "name": "stdout",
     "output_type": "stream",
     "text": [
      "Introduce un número 34756897\n"
     ]
    }
   ],
   "source": [
    "edad = input(\"Introduce un número \")"
   ]
  },
  {
   "cell_type": "code",
   "execution_count": 89,
   "id": "regional-count",
   "metadata": {},
   "outputs": [
    {
     "data": {
      "text/plain": [
       "str"
      ]
     },
     "execution_count": 89,
     "metadata": {},
     "output_type": "execute_result"
    }
   ],
   "source": [
    "type(edad)"
   ]
  },
  {
   "cell_type": "code",
   "execution_count": 92,
   "id": "residential-detective",
   "metadata": {},
   "outputs": [
    {
     "name": "stdout",
     "output_type": "stream",
     "text": [
      "Introduce un número ldkfjgldkj\n"
     ]
    },
    {
     "ename": "ValueError",
     "evalue": "invalid literal for int() with base 10: 'ldkfjgldkj'",
     "output_type": "error",
     "traceback": [
      "\u001b[0;31m---------------------------------------------------------------------------\u001b[0m",
      "\u001b[0;31mValueError\u001b[0m                                Traceback (most recent call last)",
      "\u001b[0;32m<ipython-input-92-c2c4f3359fd8>\u001b[0m in \u001b[0;36m<module>\u001b[0;34m\u001b[0m\n\u001b[0;32m----> 1\u001b[0;31m \u001b[0medad\u001b[0m \u001b[0;34m=\u001b[0m \u001b[0mint\u001b[0m\u001b[0;34m(\u001b[0m\u001b[0minput\u001b[0m\u001b[0;34m(\u001b[0m\u001b[0;34m\"Introduce un número \"\u001b[0m\u001b[0;34m)\u001b[0m\u001b[0;34m)\u001b[0m\u001b[0;34m\u001b[0m\u001b[0;34m\u001b[0m\u001b[0m\n\u001b[0m",
      "\u001b[0;31mValueError\u001b[0m: invalid literal for int() with base 10: 'ldkfjgldkj'"
     ]
    }
   ],
   "source": [
    "edad = int(input(\"Introduce un número \"))"
   ]
  },
  {
   "cell_type": "code",
   "execution_count": 90,
   "id": "rotary-ordinance",
   "metadata": {},
   "outputs": [
    {
     "name": "stdout",
     "output_type": "stream",
     "text": [
      "introduce un número 928475897\n"
     ]
    }
   ],
   "source": [
    "edad2 = int(input(\"introduce un número \"))"
   ]
  },
  {
   "cell_type": "code",
   "execution_count": 91,
   "id": "fluid-network",
   "metadata": {},
   "outputs": [
    {
     "data": {
      "text/plain": [
       "int"
      ]
     },
     "execution_count": 91,
     "metadata": {},
     "output_type": "execute_result"
    }
   ],
   "source": [
    "type(edad2)"
   ]
  },
  {
   "cell_type": "code",
   "execution_count": 85,
   "id": "israeli-brave",
   "metadata": {},
   "outputs": [
    {
     "name": "stdout",
     "output_type": "stream",
     "text": [
      "34756897\n"
     ]
    }
   ],
   "source": [
    "print(edad)"
   ]
  },
  {
   "cell_type": "code",
   "execution_count": 86,
   "id": "expanded-avenue",
   "metadata": {},
   "outputs": [
    {
     "name": "stdout",
     "output_type": "stream",
     "text": [
      "Escribe algo hola qué tal 5\n"
     ]
    }
   ],
   "source": [
    "cadena = str(input(\"Escribe algo \"))"
   ]
  },
  {
   "cell_type": "code",
   "execution_count": 87,
   "id": "fossil-return",
   "metadata": {},
   "outputs": [
    {
     "name": "stdout",
     "output_type": "stream",
     "text": [
      "hola qué tal 5\n"
     ]
    }
   ],
   "source": [
    "print(cadena)"
   ]
  },
  {
   "cell_type": "code",
   "execution_count": 88,
   "id": "detailed-interest",
   "metadata": {},
   "outputs": [
    {
     "name": "stdout",
     "output_type": "stream",
     "text": [
      "<class 'str'>\n"
     ]
    }
   ],
   "source": [
    "print(type(cadena))"
   ]
  },
  {
   "cell_type": "markdown",
   "id": "consistent-hamilton",
   "metadata": {},
   "source": [
    "# Control Flow"
   ]
  },
  {
   "cell_type": "markdown",
   "id": "sensitive-plain",
   "metadata": {},
   "source": [
    "En los lenguajes imperativos, como Python, el ordenador sigue la secuencia de instrucciones del código y lo ejecuta línea a línea. Denominamos \"flujo\" de un programa al orden en la ejecución del código. Este orden secuencial puede alterarse. La llamada a una función, por ejemplo, lleva la ejecución al código en su interior (el \"cuerpo\" de la función) para regresar inmediatamente después de dicha llamada y continuar.    \n",
    "La ejecución es similar a nuestra atención en un proceso de limpieza de la casa, por ejemplo, solo podemos hacer una tarea a la vez. Estamos barriendo, peral terminar de barrear golpeamos un jarrón (imagina que me lo regaló mi tía y qué ilusión) , entonces recogemos los trozos antes de ponernos a fregar. Fregando encontramos el chicle perdido de nuestro sobrino bajo el sofá, lo cual nos obliga a ir a buscar una espátula para quitarlo..... \n",
    "Pero solo podemos hacer una tarea a la vez. 🥲"
   ]
  },
  {
   "cell_type": "markdown",
   "id": "neither-optimization",
   "metadata": {},
   "source": [
    "## Pseudocode"
   ]
  },
  {
   "cell_type": "markdown",
   "id": "soviet-passion",
   "metadata": {},
   "source": [
    "Pseudocode is a planning method that allows the programmer to plan without worrying about syntax."
   ]
  },
  {
   "cell_type": "markdown",
   "id": "confidential-twist",
   "metadata": {},
   "source": [
    "--> https://es.wikipedia.org/wiki/Pseudoc%C3%B3digo"
   ]
  },
  {
   "cell_type": "markdown",
   "id": "finished-medication",
   "metadata": {},
   "source": [
    "## The \"If\" statement \n",
    "This is the best known option for controlling the flow of a program. conditions allow you to choose between different paths depending on the value of an expression.When you want to execute an action only when some condition is `True` you use an \"if\" statement:"
   ]
  },
  {
   "cell_type": "code",
   "execution_count": 93,
   "id": "amber-hometown",
   "metadata": {},
   "outputs": [
    {
     "name": "stdout",
     "output_type": "stream",
     "text": [
      "La condicion se cumple\n"
     ]
    }
   ],
   "source": [
    "condition = True\n",
    "if condition: \n",
    "    print(\"La condicion se cumple\")"
   ]
  },
  {
   "cell_type": "markdown",
   "id": "characteristic-reality",
   "metadata": {},
   "source": [
    "As we can see, the code block associated to the condition starts after the colon \":\", with an indentation that determines the code block. All instructions belonging to the same block must have the same indentation. The block ends when the indent returns to the starting position of the if statement. Recall that Python uses indentation to identify code blocks."
   ]
  },
  {
   "cell_type": "code",
   "execution_count": 95,
   "id": "acknowledged-witch",
   "metadata": {},
   "outputs": [
    {
     "name": "stdout",
     "output_type": "stream",
     "text": [
      "tienes fiebre\n",
      "vete al médico\n"
     ]
    }
   ],
   "source": [
    "temperatura = 38\n",
    "if temperatura >= 37.5:\n",
    "    print(\"tienes fiebre\")\n",
    "    print(\"vete al médico\")"
   ]
  },
  {
   "cell_type": "code",
   "execution_count": 100,
   "id": "juvenile-manner",
   "metadata": {},
   "outputs": [
    {
     "name": "stdout",
     "output_type": "stream",
     "text": [
      "Bob puede entrar a la discoteca\n"
     ]
    }
   ],
   "source": [
    "# write a simple program that prints wether bob can enter the disco\n",
    "# for any two values of the following variables:\n",
    "edad_bob = 19\n",
    "edad_min = 18\n",
    "\n",
    "if edad_bob >= edad_min:\n",
    "    print (\"Bob puede entrar a la discoteca\")"
   ]
  },
  {
   "cell_type": "markdown",
   "id": "limited-portfolio",
   "metadata": {},
   "source": [
    "### else\n",
    "Sometimes you want that if the condition is not satisfied (and only then) another action is executed.They are mutually exclusive actions. This is achieved by the `else` statement.\n"
   ]
  },
  {
   "cell_type": "markdown",
   "id": "federal-scout",
   "metadata": {},
   "source": [
    "![if](../images/if-else-statements.jpeg)"
   ]
  },
  {
   "cell_type": "code",
   "execution_count": 102,
   "id": "complicated-salmon",
   "metadata": {},
   "outputs": [
    {
     "name": "stdout",
     "output_type": "stream",
     "text": [
      "the condition is satisified\n"
     ]
    }
   ],
   "source": [
    "condition = True\n",
    "if condition:\n",
    "    print('the condition is satisified')\n",
    "else:\n",
    "    print('the condition is not satisified')"
   ]
  },
  {
   "cell_type": "code",
   "execution_count": 3,
   "id": "blocked-sociology",
   "metadata": {},
   "outputs": [],
   "source": [
    "# Modify yor program so that when Bob can not access the disco there is a different print message:"
   ]
  },
  {
   "cell_type": "code",
   "execution_count": 101,
   "id": "enhanced-future",
   "metadata": {},
   "outputs": [
    {
     "name": "stdout",
     "output_type": "stream",
     "text": [
      "Bob puede entrar a la discoteca\n"
     ]
    }
   ],
   "source": [
    "edad_bob = 19\n",
    "edad_min = 18\n",
    "\n",
    "if edad_bob >= edad_min:\n",
    "    print (\"Bob puede entrar a la discoteca\")\n",
    "else:\n",
    "    print (\"Bob no puede entrar en la discoteca\")"
   ]
  },
  {
   "cell_type": "markdown",
   "id": "sustainable-serum",
   "metadata": {},
   "source": [
    "### elif\n",
    "Sometimes there are more than two possibilities. Think of something like:\n",
    "\"If Bob is allow to enter the disco, let him in. Else, if he is above 16 recommend him the light disco nearby. Else, send him home\"\n",
    "\n",
    "We can achieve this with the `elif` clause and chained conditionals:"
   ]
  },
  {
   "cell_type": "code",
   "execution_count": 103,
   "id": "powered-membrane",
   "metadata": {},
   "outputs": [
    {
     "name": "stdout",
     "output_type": "stream",
     "text": [
      "No condition is satisfied\n"
     ]
    }
   ],
   "source": [
    "condition_1 = False\n",
    "condition_2 = False\n",
    "if condition_1: \n",
    "    print(\"The condition 1 is satisfied\")\n",
    "    \n",
    "elif condition_2: \n",
    "    print(\"Te condition 2 is satisfied\")\n",
    "else:\n",
    "    print(\"No condition is satisfied\")"
   ]
  },
  {
   "cell_type": "code",
   "execution_count": 106,
   "id": "distant-thumb",
   "metadata": {},
   "outputs": [
    {
     "name": "stdout",
     "output_type": "stream",
     "text": [
      "edad de bob es 10\n",
      "Vete de aqui!\n"
     ]
    }
   ],
   "source": [
    "# Modify yor program so that when Bob can not access the disco, but is above legal_age_for_light_disco \n",
    "# you send him to the light one \n",
    "edad_bob = int(input('edad de bob es '))\n",
    "edad_entrada = 18\n",
    "edad_light= 16\n",
    "\n",
    "if edad_bob >= edad_entrada :\n",
    "    print('Bienvenido bob')\n",
    "elif edad_bob >= edad_light:\n",
    "    print('vete a la disco light')\n",
    "else:\n",
    "    print('Vete de aqui!')"
   ]
  },
  {
   "cell_type": "code",
   "execution_count": 21,
   "id": "hundred-perspective",
   "metadata": {},
   "outputs": [],
   "source": [
    "#Lastly, things can get as wild as we want with nested conditionals!"
   ]
  },
  {
   "cell_type": "code",
   "execution_count": 107,
   "id": "cosmetic-school",
   "metadata": {},
   "outputs": [
    {
     "name": "stdout",
     "output_type": "stream",
     "text": [
      "Chau, pa casa\n"
     ]
    }
   ],
   "source": [
    "# A simple \"compare two numbers\" program. Can you wrap your mind around it?\n",
    "edad_bob=1\n",
    "edad_disco=18\n",
    "edad_light=16\n",
    "if edad_bob>=edad_disco:\n",
    "    print('Bob puede entrar')\n",
    "else:\n",
    "    if edad_bob>edad_light:\n",
    "        print('Entra a disco light')\n",
    "    else:\n",
    "        print('Chau, pa casa')"
   ]
  },
  {
   "cell_type": "code",
   "execution_count": 108,
   "id": "funded-hayes",
   "metadata": {},
   "outputs": [
    {
     "name": "stdout",
     "output_type": "stream",
     "text": [
      "Edad Bob20\n",
      "Bob puede entrar a la discoteca para mayores de edad porque tiene 20 años\n"
     ]
    }
   ],
   "source": [
    "edad_bob = int(input(\"Edad Bob\"))\n",
    "edad_min = 18\n",
    "edad_min_light = 14\n",
    "\n",
    "if edad_bob >= edad_min:\n",
    "    print (f\"Bob puede entrar a la discoteca para mayores de edad porque tiene {edad_bob} años\")\n",
    "elif edad_bob >= edad_min_light:\n",
    "    print (f\"Bob puede entrar a la discoteca light porque tiene {edad_bob} años\")\n",
    "else:\n",
    "    print (\"Bob no puede entrar a ninguna discoteca\")"
   ]
  },
  {
   "cell_type": "code",
   "execution_count": 111,
   "id": "meaning-promotion",
   "metadata": {},
   "outputs": [
    {
     "name": "stdout",
     "output_type": "stream",
     "text": [
      "<class 'str'>\n",
      "Ras tiene 33 años\n"
     ]
    }
   ],
   "source": [
    "edad = 33\n",
    "cadena = f\"Ras tiene {edad} años\"\n",
    "print(type(cadena))\n",
    "print(cadena)"
   ]
  },
  {
   "cell_type": "code",
   "execution_count": 6,
   "id": "liked-threshold",
   "metadata": {},
   "outputs": [],
   "source": [
    "#More examples!"
   ]
  },
  {
   "cell_type": "markdown",
   "id": "stuffed-explorer",
   "metadata": {},
   "source": [
    "Imaginemos que estamos construyendo el programa para un robot clasificador de huevos por tamaño. Nuestro brazo robot recibe la información de una balanza, la cual le indica, en gramos, el peso del huevo que debe clasificar. El brazo debe, a partir del peso, ubicar el huevo en una caja u otra como sigue:   \n",
    "**Caja S** (pequeños) : peso menor a 53 gramos.   \n",
    "**Caja M** (medianos) : peso mayor o igual a 53 gramos e inferior a 63 gramos.   \n",
    "**Caja L** (grandes): peso mayor o igual a 63 gramos e inferior a 73 gramos.   \n",
    "**Caja XL** (súper grandes): peso mayor o igual a 73 gramos.   "
   ]
  },
  {
   "cell_type": "markdown",
   "id": "peaceful-affairs",
   "metadata": {},
   "source": [
    "Con lo que hemos visto ya somos capaces de resolver el problema, gracias a la posibilidad de anidar estructuras:"
   ]
  },
  {
   "cell_type": "code",
   "execution_count": null,
   "id": "special-anniversary",
   "metadata": {},
   "outputs": [],
   "source": [
    "#Your turn!"
   ]
  },
  {
   "cell_type": "code",
   "execution_count": 113,
   "id": "present-communication",
   "metadata": {},
   "outputs": [],
   "source": [
    "peso = 64\n",
    "caja = \"\""
   ]
  },
  {
   "cell_type": "code",
   "execution_count": 114,
   "id": "defensive-philippines",
   "metadata": {},
   "outputs": [],
   "source": [
    "#Without elif:\n",
    "if peso < 53:\n",
    "    caja = \"S\"\n",
    "else:\n",
    "    if peso < 63:\n",
    "        caja = \"M\"\n",
    "    else:\n",
    "        if peso < 73:\n",
    "            caja = \"L\"\n",
    "        else:\n",
    "            caja = \"XL\"  "
   ]
  },
  {
   "cell_type": "code",
   "execution_count": 115,
   "id": "prescription-makeup",
   "metadata": {},
   "outputs": [
    {
     "name": "stdout",
     "output_type": "stream",
     "text": [
      "L\n"
     ]
    }
   ],
   "source": [
    "print(caja)"
   ]
  },
  {
   "cell_type": "code",
   "execution_count": 116,
   "id": "herbal-acting",
   "metadata": {},
   "outputs": [],
   "source": [
    "#With elif:\n",
    "if peso < 53:\n",
    "    caja = \"S\"\n",
    "elif peso < 63:\n",
    "    caja = \"M\"\n",
    "elif peso < 73:\n",
    "    caja = \"L\"\n",
    "else:\n",
    "    caja = \"XL\""
   ]
  },
  {
   "cell_type": "code",
   "execution_count": 117,
   "id": "cleared-valuable",
   "metadata": {},
   "outputs": [
    {
     "name": "stdout",
     "output_type": "stream",
     "text": [
      "L\n"
     ]
    }
   ],
   "source": [
    "print(caja)"
   ]
  },
  {
   "cell_type": "markdown",
   "id": "chubby-drama",
   "metadata": {},
   "source": [
    "## Summary \n",
    "Now it is your turn: What have we learnt?\n",
    "- If else elif : para controlar el flujo\n",
    "- Operadores de asignación += \n",
    "- Casteo (convierte tipo de datos en otro tipo de dato)\n",
    "- Lógica booleana"
   ]
  },
  {
   "cell_type": "markdown",
   "id": "downtown-peninsula",
   "metadata": {},
   "source": [
    "## Further materials\n",
    "\n",
    "* [Python docs](https://docs.python.org/3/tutorial/controlflow.html)\n",
    "* Short tutorial on [Python Booleans](https://realpython.com/python-boolean/\n",
    "* Just a nice [talk by Feynman](https://www.youtube.com/watch?v=EKWGGDXe5MA) on the principles of computation"
   ]
  }
 ],
 "metadata": {
  "kernelspec": {
   "display_name": "Python 3",
   "language": "python",
   "name": "python3"
  },
  "language_info": {
   "codemirror_mode": {
    "name": "ipython",
    "version": 3
   },
   "file_extension": ".py",
   "mimetype": "text/x-python",
   "name": "python",
   "nbconvert_exporter": "python",
   "pygments_lexer": "ipython3",
   "version": "3.8.5"
  },
  "toc": {
   "base_numbering": 1,
   "nav_menu": {},
   "number_sections": true,
   "sideBar": true,
   "skip_h1_title": true,
   "title_cell": "Table of Contents",
   "title_sidebar": "Contents",
   "toc_cell": true,
   "toc_position": {},
   "toc_section_display": true,
   "toc_window_display": false
  }
 },
 "nbformat": 4,
 "nbformat_minor": 5
}
