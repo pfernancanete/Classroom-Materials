{
 "cells": [
  {
   "cell_type": "markdown",
   "id": "hungry-creativity",
   "metadata": {
    "toc": true
   },
   "source": [
    "<h1>Table of Contents<span class=\"tocSkip\"></span></h1>\n",
    "<div class=\"toc\"><ul class=\"toc-item\"><li><span><a href=\"#The-&quot;while&quot;-statement\" data-toc-modified-id=\"The-&quot;while&quot;-statement-1\"><span class=\"toc-item-num\">1&nbsp;&nbsp;</span>The \"while\" statement</a></span><ul class=\"toc-item\"><li><ul class=\"toc-item\"><li><span><a href=\"#Your-turn\" data-toc-modified-id=\"Your-turn-1.0.1\"><span class=\"toc-item-num\">1.0.1&nbsp;&nbsp;</span>Your turn</a></span></li></ul></li></ul></li><li><span><a href=\"#Pass\" data-toc-modified-id=\"Pass-2\"><span class=\"toc-item-num\">2&nbsp;&nbsp;</span>Pass</a></span></li><li><span><a href=\"#For\" data-toc-modified-id=\"For-3\"><span class=\"toc-item-num\">3&nbsp;&nbsp;</span>For</a></span><ul class=\"toc-item\"><li><ul class=\"toc-item\"><li><span><a href=\"#Your-turn\" data-toc-modified-id=\"Your-turn-3.0.1\"><span class=\"toc-item-num\">3.0.1&nbsp;&nbsp;</span>Your turn</a></span></li></ul></li><li><span><a href=\"#Iterate-over-strings\" data-toc-modified-id=\"Iterate-over-strings-3.1\"><span class=\"toc-item-num\">3.1&nbsp;&nbsp;</span>Iterate over strings</a></span></li><li><span><a href=\"#Iterate-over-a-list\" data-toc-modified-id=\"Iterate-over-a-list-3.2\"><span class=\"toc-item-num\">3.2&nbsp;&nbsp;</span>Iterate over a list</a></span></li><li><span><a href=\"#Iterate-over-lists-with-their-index\" data-toc-modified-id=\"Iterate-over-lists-with-their-index-3.3\"><span class=\"toc-item-num\">3.3&nbsp;&nbsp;</span>Iterate over lists with their index</a></span></li><li><span><a href=\"#Iterate-over-two-lists-at-the-same-time\" data-toc-modified-id=\"Iterate-over-two-lists-at-the-same-time-3.4\"><span class=\"toc-item-num\">3.4&nbsp;&nbsp;</span>Iterate over two lists at the same time</a></span></li><li><span><a href=\"#Iterate-over-the-items-in-a-dictionary\" data-toc-modified-id=\"Iterate-over-the-items-in-a-dictionary-3.5\"><span class=\"toc-item-num\">3.5&nbsp;&nbsp;</span>Iterate over the items in a dictionary</a></span></li></ul></li><li><span><a href=\"#Break\" data-toc-modified-id=\"Break-4\"><span class=\"toc-item-num\">4&nbsp;&nbsp;</span>Break</a></span></li><li><span><a href=\"#Let`s-go\" data-toc-modified-id=\"Let`s-go-5\"><span class=\"toc-item-num\">5&nbsp;&nbsp;</span>Let`s go</a></span></li><li><span><a href=\"#Summary\" data-toc-modified-id=\"Summary-6\"><span class=\"toc-item-num\">6&nbsp;&nbsp;</span>Summary</a></span></li></ul></div>"
   ]
  },
  {
   "cell_type": "markdown",
   "id": "chemical-canadian",
   "metadata": {},
   "source": [
    "# Let's keep the flow going"
   ]
  },
  {
   "cell_type": "markdown",
   "id": "departmental-stress",
   "metadata": {},
   "source": [
    "![FLOW](https://media.giphy.com/media/h8y265b9iKtzKT0pDj/giphy.gif)"
   ]
  },
  {
   "cell_type": "markdown",
   "id": "contrary-editing",
   "metadata": {},
   "source": [
    "## The \"while\" statement\n",
    "\n",
    "Sometimes we want to run a program as far as a condition is satisfied. We can achieve this with the `while` clause.\n",
    "\n",
    "**Note:** Beware of infite recursions!!"
   ]
  },
  {
   "cell_type": "code",
   "execution_count": 1,
   "id": "eleven-postage",
   "metadata": {},
   "outputs": [],
   "source": [
    "# Infinite recursion is fun!!\n",
    "# What shortcut allows us to break this infinite recursion??\n",
    "condition = True\n",
    "while condition: \n",
    "    condition = False"
   ]
  },
  {
   "cell_type": "code",
   "execution_count": 3,
   "id": "nutritional-order",
   "metadata": {},
   "outputs": [
    {
     "name": "stdout",
     "output_type": "stream",
     "text": [
      "hola\n"
     ]
    },
    {
     "ename": "KeyboardInterrupt",
     "evalue": "",
     "output_type": "error",
     "traceback": [
      "\u001b[0;31m---------------------------------------------------------------------------\u001b[0m",
      "\u001b[0;31mKeyboardInterrupt\u001b[0m                         Traceback (most recent call last)",
      "\u001b[0;32m<ipython-input-3-f0977cbd5fe5>\u001b[0m in \u001b[0;36m<module>\u001b[0;34m\u001b[0m\n\u001b[1;32m      2\u001b[0m \u001b[0;32mwhile\u001b[0m \u001b[0;34m\"a\"\u001b[0m \u001b[0;34m!=\u001b[0m \u001b[0;34m\"b\"\u001b[0m\u001b[0;34m:\u001b[0m\u001b[0;34m\u001b[0m\u001b[0;34m\u001b[0m\u001b[0m\n\u001b[1;32m      3\u001b[0m     \u001b[0mprint\u001b[0m\u001b[0;34m(\u001b[0m\u001b[0;34m\"hola\"\u001b[0m\u001b[0;34m)\u001b[0m\u001b[0;34m\u001b[0m\u001b[0;34m\u001b[0m\u001b[0m\n\u001b[0;32m----> 4\u001b[0;31m     \u001b[0mtime\u001b[0m\u001b[0;34m.\u001b[0m\u001b[0msleep\u001b[0m\u001b[0;34m(\u001b[0m\u001b[0;36m2\u001b[0m\u001b[0;34m)\u001b[0m\u001b[0;34m\u001b[0m\u001b[0;34m\u001b[0m\u001b[0m\n\u001b[0m",
      "\u001b[0;31mKeyboardInterrupt\u001b[0m: "
     ]
    }
   ],
   "source": [
    "import time\n",
    "while \"a\" != \"b\":\n",
    "    print(\"hola\")\n",
    "    time.sleep(2)"
   ]
  },
  {
   "cell_type": "code",
   "execution_count": 4,
   "id": "random-blood",
   "metadata": {},
   "outputs": [
    {
     "name": "stdout",
     "output_type": "stream",
     "text": [
      "Introduce un número: \n"
     ]
    },
    {
     "ename": "ValueError",
     "evalue": "invalid literal for int() with base 10: ''",
     "output_type": "error",
     "traceback": [
      "\u001b[0;31m---------------------------------------------------------------------------\u001b[0m",
      "\u001b[0;31mValueError\u001b[0m                                Traceback (most recent call last)",
      "\u001b[0;32m<ipython-input-4-042a1bb27493>\u001b[0m in \u001b[0;36m<module>\u001b[0;34m\u001b[0m\n\u001b[1;32m      2\u001b[0m \u001b[0mnum\u001b[0m \u001b[0;34m=\u001b[0m \u001b[0;32mNone\u001b[0m\u001b[0;34m\u001b[0m\u001b[0;34m\u001b[0m\u001b[0m\n\u001b[1;32m      3\u001b[0m \u001b[0;32mwhile\u001b[0m \u001b[0mnum\u001b[0m\u001b[0;34m!=\u001b[0m \u001b[0;36m0\u001b[0m\u001b[0;34m:\u001b[0m \u001b[0;31m#aquí la condición\u001b[0m\u001b[0;34m\u001b[0m\u001b[0;34m\u001b[0m\u001b[0m\n\u001b[0;32m----> 4\u001b[0;31m     \u001b[0mnum\u001b[0m \u001b[0;34m=\u001b[0m \u001b[0mint\u001b[0m\u001b[0;34m(\u001b[0m\u001b[0minput\u001b[0m\u001b[0;34m(\u001b[0m\u001b[0;34m\"Introduce un número: \"\u001b[0m\u001b[0;34m)\u001b[0m\u001b[0;34m)\u001b[0m\u001b[0;34m\u001b[0m\u001b[0;34m\u001b[0m\u001b[0m\n\u001b[0m",
      "\u001b[0;31mValueError\u001b[0m: invalid literal for int() with base 10: ''"
     ]
    }
   ],
   "source": [
    "# Pregunta al usuario por un número hasta que introduce 0.\n",
    "num = None\n",
    "while num!= 0: #aquí la condición \n",
    "    num = int(input(\"Introduce un número: \"))"
   ]
  },
  {
   "cell_type": "markdown",
   "id": "collected-organic",
   "metadata": {},
   "source": [
    "[NoneType](https://www.educative.io/edpresso/what-is-the-none-keyword-in-python#:~:text=In%20Python%2C%20None%20keyword%20is,not%20create%20other%20NoneType%20objects.)"
   ]
  },
  {
   "cell_type": "code",
   "execution_count": null,
   "id": "respiratory-police",
   "metadata": {},
   "outputs": [],
   "source": [
    "num = None\n",
    "type(num)"
   ]
  },
  {
   "cell_type": "markdown",
   "id": "active-entrance",
   "metadata": {},
   "source": [
    "En el caso de while True la expresión siempre va a ser evaluada como verdadera por definición. \n",
    "Equivaldría a:\n",
    "\n",
    "```python\n",
    "mientras verdadero sea verdadero:    \n",
    "    hacer algo\n",
    "   ````"
   ]
  },
  {
   "cell_type": "code",
   "execution_count": null,
   "id": "certain-classroom",
   "metadata": {},
   "outputs": [],
   "source": [
    "while True: \n",
    "    data = input(\"Introduce una letra que esté entre A y D: \")\n",
    "    if data.lower() not in (\"a\", \"b\",\"c\",\"d\"):\n",
    "        print(\"Tiene que estar entre A y D .....\")\n",
    "    else:\n",
    "        break"
   ]
  },
  {
   "cell_type": "code",
   "execution_count": null,
   "id": "supported-rocket",
   "metadata": {},
   "outputs": [],
   "source": [
    "while not True:\n",
    "    data = input(\"Introduce una letra que esté entre A y D: \")\n",
    "    if data.lower() not in (\"a\", \"b\",\"c\",\"d\"):\n",
    "        print(\"Tiene que estar entre A y D .....\")\n",
    "    else:\n",
    "        break"
   ]
  },
  {
   "cell_type": "markdown",
   "id": "measured-signal",
   "metadata": {},
   "source": [
    "#### Your turn\n",
    "Read integers from the keyboard, until the user enters 0. Finally, display the sum of all positive numbers entered."
   ]
  },
  {
   "cell_type": "code",
   "execution_count": null,
   "id": "competitive-edward",
   "metadata": {},
   "outputs": [],
   "source": [
    "num = None\n",
    "suma_num = 0\n",
    "while num != 0: \n",
    "    num=int(input(\"Introduce un número (0 para parar ): \"))\n",
    "    if num > 0:\n",
    "        suma_num+=num\n",
    "print (f\"La suma es {suma_num} \")"
   ]
  },
  {
   "cell_type": "code",
   "execution_count": null,
   "id": "approximate-weapon",
   "metadata": {},
   "outputs": [],
   "source": [
    "nums = 0\n",
    "n = int(input(\"Número (0 para terminar): \"))\n",
    "while n!=0:\n",
    "    if n>0:\n",
    "        nums+=n\n",
    "    n=int(input(\"Número (0 para terminar): \"))\n",
    "print(f\"Suma total de nums es: {nums}\")"
   ]
  },
  {
   "cell_type": "markdown",
   "id": "civic-environment",
   "metadata": {},
   "source": [
    "Read positive integers from the keyboard, until the user enters 0. Report the largest number entered."
   ]
  },
  {
   "cell_type": "code",
   "execution_count": null,
   "id": "written-cemetery",
   "metadata": {},
   "outputs": [],
   "source": [
    "numeros = []\n",
    "n=int(input(\"Número positivo:\"))\n",
    "while n!=0:\n",
    "    numeros.append(n)\n",
    "    n=int(input(\"Número positivo:\"))\n",
    "print(f\"Mayor número ingresado: {max(numeros)}\")"
   ]
  },
  {
   "cell_type": "code",
   "execution_count": null,
   "id": "eastern-ambassador",
   "metadata": {},
   "outputs": [],
   "source": [
    "#Es más eficaz si comparamos y no vamos guardando cosas en memoria\n",
    "mayor=-1\n",
    "n=int(input(\"Número positivo:\"))\n",
    "while n!=0:\n",
    "    if n>mayor:\n",
    "        mayor=n\n",
    "    n=int(input(\"Número positivo:\"))\n",
    "print(f\"Mayor número ingresado: {mayor}\")"
   ]
  },
  {
   "cell_type": "markdown",
   "id": "three-dividend",
   "metadata": {},
   "source": [
    "## Pass\n",
    "The pass statement does nothing. It can be used when a statement is required syntactically  but the program requires no action (from the [docs](https://docs.python.org/3/tutorial/controlflow.html))         \n",
    "\n",
    "(Nuestra sentencia favorita de cara a nuestra jubilación)    \n",
    "Aunque pueda sorprendernos, resulta útil en varias situaciones. En Python no podemos tener sin definir un bloque de código (por ejemplo, el cuerpo de una función, el cuerpo de una condición o el de un bucle). Así que es habitual usar pass cuando estamos escribiendo la estructura de nuestro programa pero aún no hemos abordado la implementación de determinados bloques de código."
   ]
  },
  {
   "cell_type": "code",
   "execution_count": 5,
   "id": "hairy-consumer",
   "metadata": {},
   "outputs": [],
   "source": [
    "variable = \"hola\"\n",
    "if variable != \"0\":\n",
    "    pass #lo pienso luego que no estoy inspirada\n",
    "    \n",
    "hola = \"hola\""
   ]
  },
  {
   "cell_type": "code",
   "execution_count": 6,
   "id": "polish-priority",
   "metadata": {},
   "outputs": [
    {
     "data": {
      "text/plain": [
       "'hola'"
      ]
     },
     "execution_count": 6,
     "metadata": {},
     "output_type": "execute_result"
    }
   ],
   "source": [
    "hola"
   ]
  },
  {
   "cell_type": "markdown",
   "id": "concerned-hearts",
   "metadata": {},
   "source": [
    "## For"
   ]
  },
  {
   "cell_type": "markdown",
   "id": "express-jesus",
   "metadata": {},
   "source": [
    "Es muy habitual escribir un código con bucles dentro de estas dos posibles situaciones:    \n",
    "    - 1: Cuando utilizamos un contador en el seno de una repetición. El contador es una variable que va incrementándose o disminuyendo de forma constante en cada iteración del bucle hasta alcanzar un valor límite que marca el fin de las repeticiones.   \n",
    "    - 2: Cuando iteramos sobre los elementos de un contenedor, por ejemplo, una lista, para operar sobre cada uno de ellos. También en este caso conocemos de antemano el número de repeticiones que tendrán lugar."
   ]
  },
  {
   "cell_type": "markdown",
   "id": "loving-style",
   "metadata": {},
   "source": [
    "La sentencia For, en Python, permite iterar sobre secuencias de valores (listas o cadenas) según un orden establecido. A diferencia de otros lenguajes, con el for de Python no se definen contadores o expresiones que cambien a cada iteración sino una secuencia sobre la cual la variable contador tomará sus valores. En cualquier caso, es la opción más adecuada para resolver los dos casos anteriores....vamos a poner un ejemplo:"
   ]
  },
  {
   "cell_type": "code",
   "execution_count": 7,
   "id": "subjective-liechtenstein",
   "metadata": {},
   "outputs": [
    {
     "name": "stdout",
     "output_type": "stream",
     "text": [
      "2\n",
      "4\n",
      "6\n"
     ]
    }
   ],
   "source": [
    "for num in [1,2,3]:\n",
    "    print(num * 2)"
   ]
  },
  {
   "cell_type": "markdown",
   "id": "needed-billy",
   "metadata": {},
   "source": [
    "La sentencia for, en Python, itera sobre colecciones. Por tanto, si necesitamos un contador que se incremente en cada iteración, Python proporciona la función range(), que genera listas de enteros. Esta función permite generar secuencias y es bastante versátil y podemos invocarla de diferentes maneras:"
   ]
  },
  {
   "cell_type": "markdown",
   "id": "impaired-athletics",
   "metadata": {},
   "source": [
    "- Con un solo argumento: genera enteros que van desde 0 hasta el anterior indicado como parámetro:"
   ]
  },
  {
   "cell_type": "code",
   "execution_count": 8,
   "id": "threaded-houston",
   "metadata": {},
   "outputs": [
    {
     "name": "stdout",
     "output_type": "stream",
     "text": [
      "[0, 1, 2, 3, 4]\n"
     ]
    }
   ],
   "source": [
    "print(list(range(5)))"
   ]
  },
  {
   "cell_type": "code",
   "execution_count": 9,
   "id": "caroline-christopher",
   "metadata": {},
   "outputs": [],
   "source": [
    "n = 5"
   ]
  },
  {
   "cell_type": "code",
   "execution_count": 10,
   "id": "renewable-zealand",
   "metadata": {},
   "outputs": [
    {
     "name": "stdout",
     "output_type": "stream",
     "text": [
      "[0, 1, 2, 3, 4, 5]\n"
     ]
    }
   ],
   "source": [
    "print(list(range(n+1)))"
   ]
  },
  {
   "cell_type": "markdown",
   "id": "adaptive-journalism",
   "metadata": {},
   "source": [
    "- Con dos argumentos. El primer parámetro es el valor inicial y el segundo el valor por debajo del cual deben estar los elementos de la lista:"
   ]
  },
  {
   "cell_type": "code",
   "execution_count": 11,
   "id": "noted-louisiana",
   "metadata": {},
   "outputs": [
    {
     "name": "stdout",
     "output_type": "stream",
     "text": [
      "[5, 6, 7, 8, 9]\n"
     ]
    }
   ],
   "source": [
    "print(list(range(5,10)))"
   ]
  },
  {
   "cell_type": "markdown",
   "id": "polish-functionality",
   "metadata": {},
   "source": [
    "- Con tres argumentos. Igual que en el anterior, pero el tercer parámetro indica el incremento que se produce de un elemento al siguiente:"
   ]
  },
  {
   "cell_type": "code",
   "execution_count": 12,
   "id": "cheap-sherman",
   "metadata": {},
   "outputs": [
    {
     "name": "stdout",
     "output_type": "stream",
     "text": [
      "[0, 2, 4, 6, 8, 10]\n"
     ]
    }
   ],
   "source": [
    "print(list(range(0,11,2)))"
   ]
  },
  {
   "cell_type": "code",
   "execution_count": 13,
   "id": "christian-dealer",
   "metadata": {},
   "outputs": [
    {
     "name": "stdout",
     "output_type": "stream",
     "text": [
      "0\n",
      "5\n",
      "10\n",
      "15\n",
      "20\n",
      "25\n",
      "30\n",
      "35\n",
      "40\n",
      "45\n",
      "50\n"
     ]
    }
   ],
   "source": [
    "for num in range(11):\n",
    "    print(num*5)"
   ]
  },
  {
   "cell_type": "markdown",
   "id": "illegal-guard",
   "metadata": {},
   "source": [
    "#### Your turn\n",
    "Write a program that asks the user for his age and displays all the years he has reached (from 1 to his age)."
   ]
  },
  {
   "cell_type": "markdown",
   "id": "moral-atlantic",
   "metadata": {},
   "source": [
    "### Iterate over strings"
   ]
  },
  {
   "cell_type": "code",
   "execution_count": 14,
   "id": "subjective-arizona",
   "metadata": {},
   "outputs": [
    {
     "name": "stdout",
     "output_type": "stream",
     "text": [
      "P\n",
      "y\n",
      "t\n",
      "h\n",
      "o\n",
      "n\n"
     ]
    }
   ],
   "source": [
    "palabra = \"Python\"\n",
    "for letra in palabra:\n",
    "    print(letra)"
   ]
  },
  {
   "cell_type": "markdown",
   "id": "hourly-lewis",
   "metadata": {},
   "source": [
    "### Iterate over a list"
   ]
  },
  {
   "cell_type": "code",
   "execution_count": 15,
   "id": "little-vegetable",
   "metadata": {},
   "outputs": [
    {
     "name": "stdout",
     "output_type": "stream",
     "text": [
      "[3, 6, 9, 12]\n"
     ]
    }
   ],
   "source": [
    "nums = [1,2,3,4]\n",
    "nums_multiplicados = []\n",
    "for num in nums:\n",
    "    nums_multiplicados.append(num*3)\n",
    "print(nums_multiplicados)"
   ]
  },
  {
   "cell_type": "markdown",
   "id": "reduced-result",
   "metadata": {},
   "source": [
    "### Iterate over lists with their index"
   ]
  },
  {
   "cell_type": "code",
   "execution_count": 16,
   "id": "unsigned-parallel",
   "metadata": {},
   "outputs": [
    {
     "name": "stdout",
     "output_type": "stream",
     "text": [
      "El nombre es Fer y su posición es 0\n",
      "El nombre es Ana y su posición es 1\n",
      "El nombre es Sheriff y su posición es 2\n",
      "El nombre es Ras y su posición es 3\n"
     ]
    }
   ],
   "source": [
    "nombres = [\"Fer\", \"Ana\", \"Sheriff\", \"Ras\"]\n",
    "for indice,nombre in enumerate(nombres):\n",
    "    print(f\"El nombre es {nombre} y su posición es {indice}\")"
   ]
  },
  {
   "cell_type": "markdown",
   "id": "limiting-external",
   "metadata": {},
   "source": [
    "### Iterate over two lists at the same time"
   ]
  },
  {
   "cell_type": "code",
   "execution_count": 17,
   "id": "yellow-mouth",
   "metadata": {},
   "outputs": [],
   "source": [
    "nombres = [\"Fer\", \"Ana\", \"Sheriff\", \"Ras\",\"Fran\"]\n",
    "emojis = [\"🔥\", \"🌴\", \"👮\",\"🚀\"]\n",
    "lista_3 = [1,2,3,4,4,5,6,7,7,8]"
   ]
  },
  {
   "cell_type": "code",
   "execution_count": 18,
   "id": "familiar-roulette",
   "metadata": {},
   "outputs": [
    {
     "name": "stdout",
     "output_type": "stream",
     "text": [
      "Hola Fer ---> 🔥, 1\n",
      "Hola Ana ---> 🌴, 2\n",
      "Hola Sheriff ---> 👮, 3\n",
      "Hola Ras ---> 🚀, 4\n"
     ]
    }
   ],
   "source": [
    "for nombre,emoji,num in zip(nombres,emojis,lista_3):\n",
    "    print(f\"Hola {nombre} ---> {emoji}, {num}\")"
   ]
  },
  {
   "cell_type": "code",
   "execution_count": 31,
   "id": "historical-westminster",
   "metadata": {},
   "outputs": [],
   "source": [
    "#Enumerate + zip a mano"
   ]
  },
  {
   "cell_type": "code",
   "execution_count": 19,
   "id": "timely-template",
   "metadata": {},
   "outputs": [
    {
     "name": "stdout",
     "output_type": "stream",
     "text": [
      "[('Fer', '🔥'), ('Ana', '🌴'), ('Sheriff', '👮'), ('Ras', '🚀')]\n"
     ]
    }
   ],
   "source": [
    "tuplas = []\n",
    "for nombre,emoji in zip(nombres,emojis):\n",
    "    tuplas.append((nombre,emoji))\n",
    "print(tuplas)"
   ]
  },
  {
   "cell_type": "code",
   "execution_count": 20,
   "id": "mechanical-bronze",
   "metadata": {
    "scrolled": true
   },
   "outputs": [
    {
     "name": "stdout",
     "output_type": "stream",
     "text": [
      "El elemento es ('Fer', '🔥') y el índice es 0\n",
      "El elemento es ('Ana', '🌴') y el índice es 1\n",
      "El elemento es ('Sheriff', '👮') y el índice es 2\n",
      "El elemento es ('Ras', '🚀') y el índice es 3\n"
     ]
    }
   ],
   "source": [
    "for indice,elemento in enumerate(tuplas):\n",
    "    print(f\"El elemento es {elemento} y el índice es {indice}\")"
   ]
  },
  {
   "cell_type": "code",
   "execution_count": 32,
   "id": "brutal-polymer",
   "metadata": {},
   "outputs": [],
   "source": [
    "# Enumerate + zip en el bucle directamente"
   ]
  },
  {
   "cell_type": "code",
   "execution_count": 34,
   "id": "municipal-steel",
   "metadata": {},
   "outputs": [
    {
     "name": "stdout",
     "output_type": "stream",
     "text": [
      "El nombre es Fer su emoji es 🔥 y su índice en la lista es 0\n",
      "El nombre es Ana su emoji es 🌴 y su índice en la lista es 1\n",
      "El nombre es Sheriff su emoji es 👮 y su índice en la lista es 2\n",
      "El nombre es Ras su emoji es 🚀 y su índice en la lista es 3\n"
     ]
    }
   ],
   "source": [
    "for indice,(nombre,emoji) in enumerate(zip(nombres,emojis)):\n",
    "    print (f\"El nombre es {nombre} su emoji es {emoji} y su índice en la lista es {indice}\")"
   ]
  },
  {
   "cell_type": "markdown",
   "id": "virtual-exchange",
   "metadata": {},
   "source": [
    "### Iterate over the items in a dictionary"
   ]
  },
  {
   "cell_type": "code",
   "execution_count": 21,
   "id": "exposed-character",
   "metadata": {},
   "outputs": [],
   "source": [
    "diccionario = { \"Nombre\": \"Dobby\",\n",
    "               \"Raza\" : \"Galgo\",\n",
    "               \"Emoji\": \"🐶\"\n",
    "}"
   ]
  },
  {
   "cell_type": "code",
   "execution_count": 22,
   "id": "excellent-duncan",
   "metadata": {},
   "outputs": [
    {
     "data": {
      "text/plain": [
       "dict_items([('Nombre', 'Dobby'), ('Raza', 'Galgo'), ('Emoji', '🐶')])"
      ]
     },
     "execution_count": 22,
     "metadata": {},
     "output_type": "execute_result"
    }
   ],
   "source": [
    "diccionario.items()"
   ]
  },
  {
   "cell_type": "code",
   "execution_count": 23,
   "id": "historic-economics",
   "metadata": {},
   "outputs": [
    {
     "data": {
      "text/plain": [
       "dict_keys(['Nombre', 'Raza', 'Emoji'])"
      ]
     },
     "execution_count": 23,
     "metadata": {},
     "output_type": "execute_result"
    }
   ],
   "source": [
    "diccionario.keys()"
   ]
  },
  {
   "cell_type": "code",
   "execution_count": 24,
   "id": "dried-domestic",
   "metadata": {},
   "outputs": [
    {
     "data": {
      "text/plain": [
       "dict_values(['Dobby', 'Galgo', '🐶'])"
      ]
     },
     "execution_count": 24,
     "metadata": {},
     "output_type": "execute_result"
    }
   ],
   "source": [
    "diccionario.values()"
   ]
  },
  {
   "cell_type": "code",
   "execution_count": 25,
   "id": "equivalent-outline",
   "metadata": {},
   "outputs": [
    {
     "name": "stdout",
     "output_type": "stream",
     "text": [
      "La key es Nombre y el value es Dobby\n",
      "La key es Raza y el value es Galgo\n",
      "La key es Emoji y el value es 🐶\n"
     ]
    }
   ],
   "source": [
    "for key,value in diccionario.items():\n",
    "    print(f\"La key es {key} y el value es {value}\")"
   ]
  },
  {
   "cell_type": "code",
   "execution_count": 26,
   "id": "minor-scotland",
   "metadata": {},
   "outputs": [
    {
     "name": "stdout",
     "output_type": "stream",
     "text": [
      "Nombre\n",
      "Raza\n",
      "Emoji\n"
     ]
    }
   ],
   "source": [
    "for key in diccionario.keys():\n",
    "    print(key)"
   ]
  },
  {
   "cell_type": "code",
   "execution_count": 27,
   "id": "promotional-radio",
   "metadata": {},
   "outputs": [
    {
     "name": "stdout",
     "output_type": "stream",
     "text": [
      "Dobby\n",
      "Galgo\n",
      "🐶\n"
     ]
    }
   ],
   "source": [
    "for elemento in diccionario.values():\n",
    "    print(elemento)"
   ]
  },
  {
   "cell_type": "markdown",
   "id": "level-cardiff",
   "metadata": {},
   "source": [
    "## Break"
   ]
  },
  {
   "cell_type": "markdown",
   "id": "opponent-legislature",
   "metadata": {},
   "source": [
    "We can literally `break` a recursion when a condition is satisfied"
   ]
  },
  {
   "cell_type": "code",
   "execution_count": 28,
   "id": "african-authority",
   "metadata": {},
   "outputs": [],
   "source": [
    "musicians = [\"Rufus T. Firefly\", \"Viva Suecia\", \"Standstill\",\"Bowie\", \"Fuel Fandango\"]"
   ]
  },
  {
   "cell_type": "code",
   "execution_count": 30,
   "id": "prescribed-boxing",
   "metadata": {},
   "outputs": [
    {
     "name": "stdout",
     "output_type": "stream",
     "text": [
      "Rufus T. Firefly hace temazos\n",
      "Viva Suecia hace temazos\n",
      "Standstill hace temazos\n",
      "Bowie hace temazos\n"
     ]
    }
   ],
   "source": [
    "for group in musicians:\n",
    "    print(f\"{group} hace temazos\")\n",
    "    if len(group)<=5:\n",
    "        break"
   ]
  },
  {
   "cell_type": "markdown",
   "id": "published-independence",
   "metadata": {},
   "source": [
    "## Let`s go"
   ]
  },
  {
   "cell_type": "markdown",
   "id": "inclusive-headset",
   "metadata": {},
   "source": [
    "Escribir un programa que pregunte al usuario su edad y muestre por pantalla todos los años que ha cumplido (desde 1 hasta su edad)."
   ]
  },
  {
   "cell_type": "markdown",
   "id": "accomplished-messaging",
   "metadata": {},
   "source": [
    "Escribir un programa que pida al usuario un número entero positivo y muestre por pantalla todos los números impares desde 1 hasta ese número separados por comas."
   ]
  },
  {
   "cell_type": "markdown",
   "id": "sufficient-pontiac",
   "metadata": {},
   "source": [
    "## Summary\n",
    "Now it is your turn: What have we learnt\n",
    "- Los bucles whiles pueden ser infinitos\n",
    "- Se ejecutan hasta que la condición es verdadera\n",
    "- No sabemos cuántas veces tiene que ejecutarse \n",
    "- Pass no hace nada :) \n",
    "- RANGE --> te permite generar un rango incremental, también podemos hacer saltos (0,10,2)\n",
    "- zip itera en forma de cremallera en dos listas a la vez\n",
    "- for se utiliza cuando tenemos un principio y un fin (un iterable, por ejemplo lista...)\n",
    "- break para cuando se da una condición"
   ]
  }
 ],
 "metadata": {
  "kernelspec": {
   "display_name": "Python 3",
   "language": "python",
   "name": "python3"
  },
  "language_info": {
   "codemirror_mode": {
    "name": "ipython",
    "version": 3
   },
   "file_extension": ".py",
   "mimetype": "text/x-python",
   "name": "python",
   "nbconvert_exporter": "python",
   "pygments_lexer": "ipython3",
   "version": "3.8.5"
  },
  "toc": {
   "base_numbering": 1,
   "nav_menu": {},
   "number_sections": true,
   "sideBar": true,
   "skip_h1_title": true,
   "title_cell": "Table of Contents",
   "title_sidebar": "Contents",
   "toc_cell": true,
   "toc_position": {},
   "toc_section_display": true,
   "toc_window_display": false
  }
 },
 "nbformat": 4,
 "nbformat_minor": 5
}
