{
 "cells": [
  {
   "cell_type": "markdown",
   "id": "tribal-musician",
   "metadata": {},
   "source": [
    "## Timer"
   ]
  },
  {
   "cell_type": "code",
   "execution_count": 40,
   "id": "architectural-balloon",
   "metadata": {},
   "outputs": [],
   "source": [
    "import time\n",
    "import pygame\n",
    "pygame.mixer.init()"
   ]
  },
  {
   "cell_type": "code",
   "execution_count": 64,
   "id": "dated-version",
   "metadata": {},
   "outputs": [],
   "source": [
    "katas = 300"
   ]
  },
  {
   "cell_type": "code",
   "execution_count": 51,
   "id": "adopted-collective",
   "metadata": {},
   "outputs": [],
   "source": [
    "preguntas = 60"
   ]
  },
  {
   "cell_type": "code",
   "execution_count": 43,
   "id": "hazardous-stomach",
   "metadata": {},
   "outputs": [],
   "source": [
    "def contador(tipo):\n",
    "    for a in range (0,tipo+1):\n",
    "        time.sleep(1)\n",
    "    final = pygame.mixer.Sound('bocina.mp3')\n",
    "    final.play()"
   ]
  },
  {
   "cell_type": "code",
   "execution_count": 65,
   "id": "generous-semiconductor",
   "metadata": {},
   "outputs": [],
   "source": [
    "contador(katas)"
   ]
  },
  {
   "cell_type": "code",
   "execution_count": 50,
   "id": "placed-caution",
   "metadata": {},
   "outputs": [],
   "source": [
    "equipos = [\"IronMaidens\", \"Code Warriors\",\"Guerreras Data\", \"Controladores del Flow\",\"Héroes de Python\"]\n",
    "puntuaciones = [0,0,0,0,0]"
   ]
  },
  {
   "cell_type": "code",
   "execution_count": 48,
   "id": "pregnant-harvest",
   "metadata": {},
   "outputs": [],
   "source": [
    "import random\n",
    "random.shuffle(equipos)"
   ]
  },
  {
   "cell_type": "code",
   "execution_count": 49,
   "id": "comparative-perspective",
   "metadata": {},
   "outputs": [
    {
     "data": {
      "text/plain": [
       "'Code Warriors'"
      ]
     },
     "execution_count": 49,
     "metadata": {},
     "output_type": "execute_result"
    }
   ],
   "source": [
    "equipos[0]"
   ]
  },
  {
   "cell_type": "code",
   "execution_count": 44,
   "id": "distributed-sword",
   "metadata": {},
   "outputs": [],
   "source": [
    "contador(1)"
   ]
  },
  {
   "cell_type": "code",
   "execution_count": 56,
   "id": "neural-joyce",
   "metadata": {},
   "outputs": [],
   "source": [
    "puntuaciones_final = {}\n",
    "for equipo,puntos in zip(equipos,puntuaciones):\n",
    "    puntuaciones_final.update({f\"{equipo}\": puntos})\n"
   ]
  },
  {
   "cell_type": "code",
   "execution_count": 73,
   "id": "abandoned-piano",
   "metadata": {},
   "outputs": [
    {
     "data": {
      "text/plain": [
       "{'IronMaidens': -1,\n",
       " 'Code Warriors': 7,\n",
       " 'Guerreras Data': 3,\n",
       " 'Controladores del Flow': -4,\n",
       " 'Héroes de Python': 7}"
      ]
     },
     "execution_count": 73,
     "metadata": {},
     "output_type": "execute_result"
    }
   ],
   "source": [
    "puntuaciones_final"
   ]
  },
  {
   "cell_type": "markdown",
   "id": "substantial-reynolds",
   "metadata": {},
   "source": [
    "## Rondas de preguntas"
   ]
  },
  {
   "cell_type": "code",
   "execution_count": 63,
   "id": "demographic-friendly",
   "metadata": {},
   "outputs": [],
   "source": [
    "# PREGUNTA"
   ]
  },
  {
   "cell_type": "markdown",
   "id": "stock-jimmy",
   "metadata": {},
   "source": [
    "¿Es correcta esta sintaxis?\n",
    "```python\n",
    "newlist = [if condition in expression for item in iterable]\n",
    "```\n",
    "NO, la sintaxis correcta es \n",
    "```python\n",
    "newlist = [item for item in iterable if condition]\n",
    "````"
   ]
  },
  {
   "cell_type": "code",
   "execution_count": 53,
   "id": "scenic-deployment",
   "metadata": {},
   "outputs": [],
   "source": [
    "# Pregunta ¿cómo le das la vuelta a una lista sin usar reverse? ¿Se te ocurre alguna forma más?"
   ]
  },
  {
   "cell_type": "code",
   "execution_count": 54,
   "id": "focal-warrant",
   "metadata": {},
   "outputs": [],
   "source": [
    "lista = [1,2,3,4]"
   ]
  },
  {
   "cell_type": "code",
   "execution_count": 55,
   "id": "passive-jenny",
   "metadata": {},
   "outputs": [
    {
     "data": {
      "text/plain": [
       "[4, 3, 2, 1]"
      ]
     },
     "execution_count": 55,
     "metadata": {},
     "output_type": "execute_result"
    }
   ],
   "source": [
    "lista[::-1]"
   ]
  },
  {
   "cell_type": "markdown",
   "id": "subtle-palestinian",
   "metadata": {},
   "source": [
    "## Katas"
   ]
  },
  {
   "cell_type": "markdown",
   "id": "inclusive-international",
   "metadata": {},
   "source": [
    "[Kata 7 kyu Code Warriors VS Controladores de Python](https://www.codewars.com/kata/553e8b195b853c6db4000048)"
   ]
  },
  {
   "cell_type": "code",
   "execution_count": 74,
   "id": "special-disability",
   "metadata": {},
   "outputs": [],
   "source": [
    "# Solución a la kata"
   ]
  },
  {
   "cell_type": "code",
   "execution_count": 75,
   "id": "toxic-license",
   "metadata": {},
   "outputs": [],
   "source": [
    "def has_unique_chars(string):\n",
    "    \n",
    "    def crea_abc():\n",
    "            return {chr(elemento) for elemento in range(1,128)}\n",
    "    \n",
    "    ascii = crea_abc()\n",
    "    for c in string:\n",
    "        if c in ascii:\n",
    "            ascii.remove(c)\n",
    "        else:\n",
    "            return False\n",
    "    return True "
   ]
  },
  {
   "cell_type": "markdown",
   "id": "complex-august",
   "metadata": {},
   "source": [
    "[Kata 7 KYU Héroes de Python VS IronMaidens](https://www.codewars.com/kata/56606694ec01347ce800001b/train/python)"
   ]
  },
  {
   "cell_type": "code",
   "execution_count": 79,
   "id": "driven-screen",
   "metadata": {},
   "outputs": [],
   "source": [
    "# Soluciones a la kata"
   ]
  },
  {
   "cell_type": "code",
   "execution_count": 77,
   "id": "every-infection",
   "metadata": {},
   "outputs": [],
   "source": [
    "def is_triangle(a, b, c):\n",
    "    a, b, c = sorted([a, b, c])\n",
    "    return a + b > c"
   ]
  },
  {
   "cell_type": "code",
   "execution_count": 78,
   "id": "naked-centre",
   "metadata": {},
   "outputs": [],
   "source": [
    "def is_triangle(a, b, c):\n",
    "    \n",
    "    if(a <= 0 | b <= 0 | c <= 0):\n",
    "        return False\n",
    "    elif( a + b <= c or a + c <= b or b + c <= a): \n",
    "        return False\n",
    "    else:\n",
    "        return True"
   ]
  },
  {
   "cell_type": "markdown",
   "id": "civilian-digit",
   "metadata": {},
   "source": [
    "## Dudas de clase 26 de marzo"
   ]
  },
  {
   "cell_type": "code",
   "execution_count": 25,
   "id": "clean-industry",
   "metadata": {},
   "outputs": [],
   "source": [
    "# Sobre las tuplas: Usaremos las tuplas, por ejemplo, como return en una función que queremos que devuelva dos cosas"
   ]
  },
  {
   "cell_type": "code",
   "execution_count": 10,
   "id": "fitting-repository",
   "metadata": {},
   "outputs": [],
   "source": [
    "def suma (a,b):\n",
    "    return (a + b, b )"
   ]
  },
  {
   "cell_type": "code",
   "execution_count": 11,
   "id": "pediatric-tragedy",
   "metadata": {},
   "outputs": [
    {
     "data": {
      "text/plain": [
       "(7, 4)"
      ]
     },
     "execution_count": 11,
     "metadata": {},
     "output_type": "execute_result"
    }
   ],
   "source": [
    "suma(3,4)"
   ]
  },
  {
   "cell_type": "code",
   "execution_count": 27,
   "id": "south-field",
   "metadata": {},
   "outputs": [],
   "source": [
    "# Generamos dos listas para hacer los ejemplos\n",
    "lista1 = [\"hola\", \"qué tal\", \"dobby\"]\n",
    "lista2 = [1,2,3]"
   ]
  },
  {
   "cell_type": "code",
   "execution_count": null,
   "id": "interracial-semiconductor",
   "metadata": {},
   "outputs": [],
   "source": [
    "lista_de_tuplas = []"
   ]
  },
  {
   "cell_type": "code",
   "execution_count": 28,
   "id": "laden-filter",
   "metadata": {},
   "outputs": [
    {
     "name": "stdout",
     "output_type": "stream",
     "text": [
      "('hola', 1)\n",
      "('qué tal', 2)\n",
      "('dobby', 3)\n"
     ]
    }
   ],
   "source": [
    "# Hacemos un zip para iterar sobre las dos listas y tener una lista de tuplas con toda la información\n",
    "for x,y in zip(lista1,lista2):\n",
    "    lista_de_tuplas.append((x,y))\n",
    "    print((x,y))"
   ]
  },
  {
   "cell_type": "code",
   "execution_count": 29,
   "id": "duplicate-bronze",
   "metadata": {},
   "outputs": [
    {
     "data": {
      "text/plain": [
       "{'hola': 1, 'qué tal': 2, 'dobby': 3}"
      ]
     },
     "execution_count": 29,
     "metadata": {},
     "output_type": "execute_result"
    }
   ],
   "source": [
    "\"\"\"\n",
    "Esto es bastante útil, y podemos convertir esa lista de tuplas en un diccionario \n",
    "donde la key va a ser el primer elemento y el value el segundo elemento de la tupla\n",
    "\"\"\"\n",
    "dict(lista_de_tuplas)"
   ]
  },
  {
   "cell_type": "code",
   "execution_count": 30,
   "id": "confidential-hearts",
   "metadata": {},
   "outputs": [],
   "source": [
    "# Aunque también podemos hacer un zip y actualizar directamente un diccionario vacío\n",
    "diccionario = {}\n",
    "for x,y in zip(lista1,lista2):\n",
    "    diccionario.update({f\"{x}\": y})"
   ]
  },
  {
   "cell_type": "code",
   "execution_count": 16,
   "id": "individual-stake",
   "metadata": {},
   "outputs": [
    {
     "data": {
      "text/plain": [
       "{'hola': 1, 'qué tal': 2, 'dobby': 3}"
      ]
     },
     "execution_count": 16,
     "metadata": {},
     "output_type": "execute_result"
    }
   ],
   "source": [
    "diccionario"
   ]
  },
  {
   "cell_type": "code",
   "execution_count": 34,
   "id": "equivalent-party",
   "metadata": {},
   "outputs": [
    {
     "data": {
      "text/plain": [
       "['qué tal', 1, 3, 4, 5, 'dobby', 'hola']"
      ]
     },
     "execution_count": 34,
     "metadata": {},
     "output_type": "execute_result"
    }
   ],
   "source": [
    "# Utilizamos el set para quedarnos con una lista sin repetidos, aunque probablemente luego lo manejemos como una lista\n",
    "otra_lista = ['qué tal', 'dobby', 'hola', \"hola\", 1,3,4,5,5]\n",
    "# Ojo con que el set se ordena solo y perdemos el orden que teníamos en la lista\n",
    "list(set(otra_lista))"
   ]
  }
 ],
 "metadata": {
  "kernelspec": {
   "display_name": "Python 3",
   "language": "python",
   "name": "python3"
  },
  "language_info": {
   "codemirror_mode": {
    "name": "ipython",
    "version": 3
   },
   "file_extension": ".py",
   "mimetype": "text/x-python",
   "name": "python",
   "nbconvert_exporter": "python",
   "pygments_lexer": "ipython3",
   "version": "3.8.5"
  },
  "toc": {
   "base_numbering": 1,
   "nav_menu": {},
   "number_sections": true,
   "sideBar": true,
   "skip_h1_title": true,
   "title_cell": "Table of Contents",
   "title_sidebar": "Contents",
   "toc_cell": false,
   "toc_position": {},
   "toc_section_display": true,
   "toc_window_display": false
  }
 },
 "nbformat": 4,
 "nbformat_minor": 5
}
